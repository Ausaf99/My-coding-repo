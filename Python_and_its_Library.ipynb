{
  "cells": [
    {
      "cell_type": "markdown",
      "metadata": {
        "id": "view-in-github",
        "colab_type": "text"
      },
      "source": [
        "<a href=\"https://colab.research.google.com/github/Ausaf99/My-coding-repo/blob/main/Python_and_its_Library.ipynb\" target=\"_parent\"><img src=\"https://colab.research.google.com/assets/colab-badge.svg\" alt=\"Open In Colab\"/></a>"
      ]
    },
    {
      "cell_type": "markdown",
      "metadata": {
        "id": "dVS9YvGSTzPi"
      },
      "source": [
        "# Python and Its Library\n",
        "\n",
        "Use the \"Run\" button to execute the code.\n",
        "lets make changes\n"
      ]
    },
    {
      "cell_type": "code",
      "execution_count": null,
      "metadata": {
        "id": "Mq2e9UYuTzPn",
        "outputId": "7c6a50f7-a9b1-4617-9e28-a6ed861521d6",
        "colab": {
          "base_uri": "https://localhost:8080/"
        }
      },
      "outputs": [
        {
          "output_type": "stream",
          "name": "stdout",
          "text": [
            "We're inside an if block\n",
            "The given number 20 is even.\n"
          ]
        }
      ],
      "source": [
        "a_number=20\n",
        "if a_number % 2 == 0:\n",
        "    print(\"We're inside an if block\")\n",
        "    print('The given number {} is even.'.format(a_number))"
      ]
    },
    {
      "cell_type": "code",
      "execution_count": null,
      "metadata": {
        "id": "EDlh_EPZTzPp",
        "outputId": "bf1db9be-3da8-4dc6-bb86-8625e01c00d9"
      },
      "outputs": [
        {
          "name": "stdout",
          "output_type": "stream",
          "text": [
            "the given number 11 is odd.\n"
          ]
        }
      ],
      "source": [
        "another_number=11\n",
        "if another_number % 2 == 0:\n",
        "    print('The given number {} is even.'.format(another_number))\n",
        "else:\n",
        "    print('the given number {} is odd.'.format(another_number))"
      ]
    },
    {
      "cell_type": "code",
      "execution_count": null,
      "metadata": {
        "id": "FYpGEFGnTzPp",
        "outputId": "bbeaf1d6-39a1-4422-e36b-912baae1bdff"
      },
      "outputs": [
        {
          "name": "stdout",
          "output_type": "stream",
          "text": [
            "The number 13 is odd.\n"
          ]
        }
      ],
      "source": [
        "number=13\n",
        "p='even' if number % 2 == 0 else 'odd'\n",
        "print('The number {} is {}.'.format(number, p))"
      ]
    },
    {
      "cell_type": "code",
      "execution_count": null,
      "metadata": {
        "id": "fYLr40f9TzPq",
        "outputId": "1ee072e4-c4ed-4b98-d5b5-ed8abcf5ebc9"
      },
      "outputs": [
        {
          "name": "stdout",
          "output_type": "stream",
          "text": [
            "M\n",
            "o\n",
            "n\n",
            "d\n",
            "a\n",
            "y\n"
          ]
        }
      ],
      "source": [
        "for r in 'Monday':\n",
        "    print (r)"
      ]
    },
    {
      "cell_type": "code",
      "execution_count": null,
      "metadata": {
        "id": "q1LDkiI9TzPq",
        "outputId": "520d214b-8bb3-4221-fcae-6bd4c6fe9140"
      },
      "outputs": [
        {
          "name": "stdout",
          "output_type": "stream",
          "text": [
            "Key: name , Value: John Doe\n",
            "Key: sex , Value: Male\n",
            "Key: age , Value: 32\n",
            "Key: married , Value: True\n"
          ]
        }
      ],
      "source": [
        "person = {\n",
        "    'name': 'John Doe',\n",
        "    'sex': 'Male',\n",
        "    'age': 32,\n",
        "    'married': True\n",
        "}\n",
        "\n",
        "for a in person:\n",
        "    print(\"Key:\", a, \",\", \"Value:\", person[a])"
      ]
    },
    {
      "cell_type": "code",
      "execution_count": null,
      "metadata": {
        "id": "qkacb_vJTzPr",
        "outputId": "e978a249-6170-4f0c-aea6-480b85e7e8b6"
      },
      "outputs": [
        {
          "name": "stdout",
          "output_type": "stream",
          "text": [
            "John Doe\n",
            "Male\n",
            "32\n",
            "True\n"
          ]
        }
      ],
      "source": [
        "person = {\n",
        "    'name': 'John Doe',\n",
        "    'sex': 'Male',\n",
        "    'age': 32,\n",
        "    'married': True\n",
        "}\n",
        "for value in person.values():\n",
        "    print(value)"
      ]
    },
    {
      "cell_type": "code",
      "execution_count": null,
      "metadata": {
        "id": "NbKRFU4ITzPr",
        "outputId": "bb3c4f35-723e-47cb-9178-d6e28e4d7194"
      },
      "outputs": [
        {
          "name": "stdout",
          "output_type": "stream",
          "text": [
            "{'name': 'Karan', 'age': 19, 'eligible': True}\n"
          ]
        }
      ],
      "source": [
        "info = {'name':'Karan', 'age':19, 'eligible':True}\n",
        "print(info)"
      ]
    },
    {
      "cell_type": "code",
      "execution_count": null,
      "metadata": {
        "id": "vqdop2Z9TzPr",
        "outputId": "f54d0e79-9a97-49b0-f2ed-81b481cd7d2a"
      },
      "outputs": [
        {
          "name": "stdout",
          "output_type": "stream",
          "text": [
            "['name']\n",
            "['age']\n",
            "['eligible']\n",
            "['Karan']\n",
            "[19]\n",
            "[True]\n"
          ]
        }
      ],
      "source": [
        "info = {'name':'Karan', 'age':19, 'eligible':True}\n",
        "for a in info.keys():\n",
        "  print([a])                                          #you can access either key or values from dictionary\n",
        "for b in info.values():\n",
        "  print([b])"
      ]
    },
    {
      "cell_type": "code",
      "execution_count": null,
      "metadata": {
        "id": "m7g9WvX7TzPs",
        "outputId": "7cffba2d-9ee1-4510-cb3d-9b24104193b9"
      },
      "outputs": [
        {
          "name": "stdout",
          "output_type": "stream",
          "text": [
            "dict_items([('name', 'Karan'), ('age', 19), ('eligible', True)])\n"
          ]
        }
      ],
      "source": [
        "print(info.items())"
      ]
    },
    {
      "cell_type": "code",
      "execution_count": null,
      "metadata": {
        "id": "rwf5Kb8FTzPs",
        "outputId": "8b4af628-fe43-4b8e-9212-eacba91841c2"
      },
      "outputs": [
        {
          "name": "stdout",
          "output_type": "stream",
          "text": [
            "The value corresponding to key name is Karan\n",
            "The value corresponding to key age is 19\n",
            "The value corresponding to key eligible is True\n"
          ]
        }
      ],
      "source": [
        "for x,y in info.items():                                  # info.items has been a new container where every key and their Corresponding value is stored\n",
        "    print(f\"The value corresponding to key {x} is {y}\")"
      ]
    },
    {
      "cell_type": "code",
      "execution_count": null,
      "metadata": {
        "id": "dzHOAfd6TzPs",
        "outputId": "1da4279f-76ed-41d3-feb1-22a88256ba0f"
      },
      "outputs": [
        {
          "name": "stdout",
          "output_type": "stream",
          "text": [
            "(0, 'apple')\n",
            "(1, 'banana')\n",
            "(2, 'mango')\n"
          ]
        }
      ],
      "source": [
        "# Loop over a list and print the index and value of each element\n",
        "fruits = ['apple', 'banana', 'mango']\n",
        "for a in enumerate(fruits):           #enumerate the bulit in function\n",
        "    print(a)\n"
      ]
    },
    {
      "cell_type": "code",
      "execution_count": null,
      "metadata": {
        "id": "_GYyVOSmTzPt",
        "outputId": "c020c01e-bc21-43fb-f088-50b13fbef679"
      },
      "outputs": [
        {
          "name": "stdout",
          "output_type": "stream",
          "text": [
            "[2, 4, 6, 8]\n"
          ]
        }
      ],
      "source": [
        "# user defined function\n",
        "def filter_even(number_list):\n",
        "    result_list = []\n",
        "    for a in number_list:\n",
        "        if a % 2 == 0:\n",
        "            result_list.append(a)\n",
        "    print(result_list)\n",
        "filter_even([1,2,3,4,5,6,7,8,9])"
      ]
    },
    {
      "cell_type": "markdown",
      "metadata": {
        "id": "mqkcJIlUTzPt"
      },
      "source": [
        "# Module  \n",
        "Module are files containing Python code (variables, functions, classes, etc.). They provide a way of organizing the code for large Python projects into files and folders. The key benefit of using modules is namespaces: you must import the module to use its functions within a Python script or notebook. Namespaces provide encapsulation and avoid naming conflicts between your code and a module or across modules."
      ]
    },
    {
      "cell_type": "code",
      "execution_count": null,
      "metadata": {
        "id": "MSuz2UK-TzPt",
        "outputId": "8ee3990e-6a38-4189-ce22-da8e4552d9e3"
      },
      "outputs": [
        {
          "ename": "NameError",
          "evalue": "name 'ceil' is not defined",
          "output_type": "error",
          "traceback": [
            "\u001b[0;31m---------------------------------------------------------------------------\u001b[0m",
            "\u001b[0;31mNameError\u001b[0m                                 Traceback (most recent call last)",
            "\u001b[0;32m/tmp/ipykernel_78/2740869398.py\u001b[0m in \u001b[0;36m<module>\u001b[0;34m\u001b[0m\n\u001b[0;32m----> 1\u001b[0;31m \u001b[0mceil\u001b[0m\u001b[0;34m(\u001b[0m\u001b[0;36m1.2\u001b[0m\u001b[0;34m)\u001b[0m\u001b[0;34m\u001b[0m\u001b[0;34m\u001b[0m\u001b[0m\n\u001b[0m",
            "\u001b[0;31mNameError\u001b[0m: name 'ceil' is not defined"
          ]
        }
      ],
      "source": [
        "ceil(1.2) #not gonna work. cz you have to import file where this ceil function is available"
      ]
    },
    {
      "cell_type": "code",
      "execution_count": null,
      "metadata": {
        "id": "y849cixmTzPt"
      },
      "outputs": [],
      "source": [
        "import math"
      ]
    },
    {
      "cell_type": "code",
      "execution_count": null,
      "metadata": {
        "id": "hIiWqL4zTzPt",
        "outputId": "21812da0-224f-44de-8e1b-357bf9bf3609"
      },
      "outputs": [
        {
          "data": {
            "text/plain": [
              "2"
            ]
          },
          "execution_count": 4,
          "metadata": {},
          "output_type": "execute_result"
        }
      ],
      "source": [
        "math.ceil(1.2)"
      ]
    },
    {
      "cell_type": "code",
      "execution_count": null,
      "metadata": {
        "id": "AxHibgVTTzPt",
        "outputId": "ef051ac7-d5e1-4d65-aef5-f05a688f141f"
      },
      "outputs": [
        {
          "data": {
            "text/plain": [
              "2"
            ]
          },
          "execution_count": 6,
          "metadata": {},
          "output_type": "execute_result"
        }
      ],
      "source": [
        "from math import ceil\n",
        "ceil(1.2)              # importing just ceil function from math files"
      ]
    },
    {
      "cell_type": "code",
      "execution_count": null,
      "metadata": {
        "id": "5DYSdBS4TzPu",
        "outputId": "485db9f1-3958-4050-f038-d062e7d655d6"
      },
      "outputs": [
        {
          "name": "stdout",
          "output_type": "stream",
          "text": [
            "Object `zip()` not found.\n"
          ]
        }
      ],
      "source": [
        "?zip()\n"
      ]
    },
    {
      "cell_type": "code",
      "execution_count": null,
      "metadata": {
        "id": "QNk47nxqTzPu"
      },
      "outputs": [],
      "source": [
        "kanto = [73, 67, 43]\n",
        "johto = [91, 88, 64]\n",
        "hoenn = [87, 134, 58]\n",
        "sinnoh = [102, 43, 37]\n",
        "unova = [69, 96, 70]\n",
        "\n",
        "w1, w2, w3 = 0.3, 0.2, 0.5             #zip is a fuction that makes pair\n",
        "weights = [w1, w2, w3]\n",
        "\n",
        "def crop_yield(region, W):\n",
        "    result=0\n",
        "    for x, y in zip(region, W):\n",
        "        result+=x*y\n",
        "    return result\n"
      ]
    },
    {
      "cell_type": "code",
      "execution_count": null,
      "metadata": {
        "id": "2OoRmaPMTzPu",
        "outputId": "4bcc1824-217f-4036-f816-bb02821cf6b5"
      },
      "outputs": [
        {
          "data": {
            "text/plain": [
              "56.8"
            ]
          },
          "execution_count": 10,
          "metadata": {},
          "output_type": "execute_result"
        }
      ],
      "source": [
        "crop_yield(kanto, weights)"
      ]
    },
    {
      "cell_type": "markdown",
      "metadata": {
        "id": "kqw3e2wYTzPu"
      },
      "source": [
        "Going from Python lists to Numpy arrays\n",
        "The calculation performed by the crop_yield (element-wise multiplication of two vectors and taking a sum of the results) is also called the dot product. Learn more about dot product here: https://www.khanacademy.org/math/linear-algebra/vectors-and-spaces/dot-cross-products/v/vector-dot-product-and-vector-length .\n",
        "\n",
        "The Numpy library provides a built-in function to compute the dot product of two vectors. However, we must first convert the lists into Numpy arrays.\n",
        "\n",
        "Let's install the Numpy library using the pip package manager."
      ]
    },
    {
      "cell_type": "code",
      "execution_count": null,
      "metadata": {
        "id": "3mGU1BGgTzPu",
        "outputId": "2c4e8dc2-5de8-4d45-bf9b-cc0dd9d6b2e1"
      },
      "outputs": [
        {
          "name": "stdout",
          "output_type": "stream",
          "text": [
            "\u001b[31mERROR: pip's dependency resolver does not currently take into account all the packages that are installed. This behaviour is the source of the following dependency conflicts.\r\n",
            "scipy 1.7.2 requires numpy<1.23.0,>=1.16.5, but you have numpy 1.26.3 which is incompatible.\r\n",
            "numba 0.54.1 requires numpy<1.21,>=1.17, but you have numpy 1.26.3 which is incompatible.\u001b[0m\r\n"
          ]
        }
      ],
      "source": [
        "!pip install numpy --upgrade --quiet"
      ]
    },
    {
      "cell_type": "code",
      "execution_count": null,
      "metadata": {
        "id": "fFpEyhZ1TzPu"
      },
      "outputs": [],
      "source": [
        "import numpy as np"
      ]
    },
    {
      "cell_type": "code",
      "execution_count": null,
      "metadata": {
        "id": "5T03MGb2TzPu",
        "outputId": "e95ec122-ac2b-4c97-e35d-d6f41a5f346e"
      },
      "outputs": [
        {
          "name": "stdout",
          "output_type": "stream",
          "text": [
            "[73 67 43]\n"
          ]
        }
      ],
      "source": [
        "kanto = np.array([73, 67, 43])\n",
        "print(kanto)"
      ]
    },
    {
      "cell_type": "code",
      "execution_count": null,
      "metadata": {
        "id": "_b-fu1hoTzPv",
        "outputId": "1ff836ae-7810-4cf1-e33d-53848e0e28cb"
      },
      "outputs": [
        {
          "data": {
            "text/plain": [
              "array([73, 67, 43])"
            ]
          },
          "execution_count": 5,
          "metadata": {},
          "output_type": "execute_result"
        }
      ],
      "source": [
        "kanto"
      ]
    },
    {
      "cell_type": "code",
      "execution_count": null,
      "metadata": {
        "id": "NZJLyfSiTzPv",
        "outputId": "dcf856fb-321d-41b9-866f-0ee5e9d4c33e"
      },
      "outputs": [
        {
          "data": {
            "text/plain": [
              "numpy.ndarray"
            ]
          },
          "execution_count": 7,
          "metadata": {},
          "output_type": "execute_result"
        }
      ],
      "source": [
        "type (kanto)  #Numpy arrays have the type ndarray."
      ]
    },
    {
      "cell_type": "code",
      "execution_count": null,
      "metadata": {
        "id": "QuCLwilyTzPv",
        "outputId": "e9feb214-bf5a-4d65-f8e9-9ff995571f92"
      },
      "outputs": [
        {
          "data": {
            "text/plain": [
              "43"
            ]
          },
          "execution_count": 8,
          "metadata": {},
          "output_type": "execute_result"
        }
      ],
      "source": [
        "kanto[2]    #Just like lists, Numpy arrays support the indexing notation []"
      ]
    },
    {
      "cell_type": "code",
      "execution_count": null,
      "metadata": {
        "id": "pvYM__PNTzPv"
      },
      "outputs": [],
      "source": [
        "w1, w2, w3 = 0.3, 0.2, 0.5\n",
        "weights = np.array([w1, w2, w3])"
      ]
    },
    {
      "cell_type": "code",
      "execution_count": null,
      "metadata": {
        "id": "kgEP5fnuTzPv",
        "outputId": "2379f1ae-ec73-47f6-e32e-a0d42ca89774"
      },
      "outputs": [
        {
          "data": {
            "text/plain": [
              "56.8"
            ]
          },
          "execution_count": 10,
          "metadata": {},
          "output_type": "execute_result"
        }
      ],
      "source": [
        "np.dot(kanto, weights)  #We can now compute the dot product of the two vectors using the np.dot function."
      ]
    },
    {
      "cell_type": "code",
      "execution_count": null,
      "metadata": {
        "id": "I9iO01axTzPv",
        "outputId": "c0185787-c7d5-434b-ae26-029c7cbf215b"
      },
      "outputs": [
        {
          "data": {
            "text/plain": [
              "56.8"
            ]
          },
          "execution_count": 12,
          "metadata": {},
          "output_type": "execute_result"
        }
      ],
      "source": [
        "\"\"\"We can achieve the same result with low-level operations supported by Numpy arrays: performing an element-wise\n",
        "multiplication and calculating the resulting numbers' sum.\"\"\"\n",
        "(kanto * weights).sum()"
      ]
    },
    {
      "cell_type": "code",
      "execution_count": null,
      "metadata": {
        "id": "NBzjXog-TzPv",
        "outputId": "09d8de11-eb3e-4949-deab-45b66a1c9fe9"
      },
      "outputs": [
        {
          "name": "stdout",
          "output_type": "stream",
          "text": [
            "[ 4 10 18]\n",
            "15\n"
          ]
        }
      ],
      "source": [
        "#another example of numpy array\n",
        "arr1 = np.array([1, 2, 3])\n",
        "arr2 = np.array([4, 5, 6])\n",
        "print(arr1 * arr2)\n",
        "print(arr2.sum())"
      ]
    },
    {
      "cell_type": "markdown",
      "metadata": {
        "id": "OnciApmjTzPw"
      },
      "source": [
        "## Benefits of using Numpy arrays\n",
        "\n",
        "Numpy arrays offer the following benefits over Python lists for operating on numerical data:\n",
        "\n",
        "- **Ease of use**: You can write small, concise, and intuitive mathematical expressions like `(kanto * weights).sum()` rather than using loops & custom functions like `crop_yield`.\n",
        "- **Performance**: Numpy operations and functions are implemented internally in C++, which makes them much faster than using Python statements & loops that are interpreted at runtime\n",
        "\n",
        "Here's a comparison of dot products performed using Python loops vs. Numpy arrays on two vectors with a million elements each."
      ]
    },
    {
      "cell_type": "code",
      "execution_count": null,
      "metadata": {
        "id": "iFG_iE1RTzPw"
      },
      "outputs": [],
      "source": [
        "arr1 = list(range(1000000))            # you can convert the sequence generated by range into a list without using explicit square brackets by using the list() constructor. The square brackets are not strictly necessary, and the list() function can be used directly with the range function.\n",
        "arr2 = list(range(1000000, 2000000))\n",
        "\n",
        "# Numpy arrays\n",
        "arr1_np = np.array(arr1)\n",
        "arr2_np = np.array(arr2)"
      ]
    },
    {
      "cell_type": "code",
      "execution_count": null,
      "metadata": {
        "id": "xO0VWgVYTzPw",
        "outputId": "04b83a25-9bbc-4cee-8e6d-5f03827a92ae"
      },
      "outputs": [
        {
          "name": "stdout",
          "output_type": "stream",
          "text": [
            "CPU times: user 280 ms, sys: 0 ns, total: 280 ms\n",
            "Wall time: 379 ms\n"
          ]
        },
        {
          "data": {
            "text/plain": [
              "833332333333500000"
            ]
          },
          "execution_count": 16,
          "metadata": {},
          "output_type": "execute_result"
        }
      ],
      "source": [
        "%%time\n",
        "result = 0\n",
        "for x1, x2 in zip(arr1, arr2):\n",
        "    result += x1*x2\n",
        "result"
      ]
    },
    {
      "cell_type": "code",
      "execution_count": null,
      "metadata": {
        "id": "asB5sJkQTzPw",
        "outputId": "34734a44-5046-4f65-fe95-95f72795033d"
      },
      "outputs": [
        {
          "name": "stdout",
          "output_type": "stream",
          "text": [
            "CPU times: user 1.73 ms, sys: 1.33 ms, total: 3.06 ms\n",
            "Wall time: 6.74 ms\n"
          ]
        },
        {
          "data": {
            "text/plain": [
              "833332333333500000"
            ]
          },
          "execution_count": 17,
          "metadata": {},
          "output_type": "execute_result"
        }
      ],
      "source": [
        "%%time\n",
        "np.dot(arr1_np, arr2_np)"
      ]
    },
    {
      "cell_type": "markdown",
      "metadata": {
        "id": "wRPZDUfUTzPw"
      },
      "source": [
        "## Multi-dimensional Numpy arrays\n",
        "\n",
        "We can now go one step further and represent the climate data for all the regions using a single 2-dimensional Numpy array."
      ]
    },
    {
      "cell_type": "code",
      "execution_count": null,
      "metadata": {
        "id": "bO0s9fJvTzPw"
      },
      "outputs": [],
      "source": [
        "climate_data = np.array([[73, 67, 43],\n",
        "                         [91, 88, 64],\n",
        "                         [87, 134, 58],\n",
        "                         [102, 43, 37],\n",
        "                         [69, 96, 70]])\n",
        "w1, w2, w3 = 0.3, 0.2, 0.5\n",
        "weights = np.array([w1, w2, w3])"
      ]
    },
    {
      "cell_type": "code",
      "execution_count": null,
      "metadata": {
        "id": "pmI1zL4UTzPw",
        "outputId": "d57fe213-9317-46f2-9d4f-27de2f2efade"
      },
      "outputs": [
        {
          "data": {
            "text/plain": [
              "array([[ 73,  67,  43],\n",
              "       [ 91,  88,  64],\n",
              "       [ 87, 134,  58],\n",
              "       [102,  43,  37],\n",
              "       [ 69,  96,  70]])"
            ]
          },
          "execution_count": 19,
          "metadata": {},
          "output_type": "execute_result"
        }
      ],
      "source": [
        "climate_data"
      ]
    },
    {
      "cell_type": "code",
      "execution_count": null,
      "metadata": {
        "id": "rOvWTAokTzP1",
        "outputId": "d49e5f75-0250-4db9-f44d-8172780d331c"
      },
      "outputs": [
        {
          "data": {
            "text/plain": [
              "(5, 3)"
            ]
          },
          "execution_count": 20,
          "metadata": {},
          "output_type": "execute_result"
        }
      ],
      "source": [
        "climate_data.shape"
      ]
    },
    {
      "cell_type": "markdown",
      "metadata": {
        "id": "hgVENzX-TzP1"
      },
      "source": [
        "We can use the np.matmul function or the @ operator to perform matrix multiplication."
      ]
    },
    {
      "cell_type": "code",
      "execution_count": null,
      "metadata": {
        "id": "wg770KhvTzP1",
        "outputId": "cfab885b-d0db-4672-a5cf-664a640c1874"
      },
      "outputs": [
        {
          "data": {
            "text/plain": [
              "array([56.8, 76.9, 81.9, 57.7, 74.9])"
            ]
          },
          "execution_count": 22,
          "metadata": {},
          "output_type": "execute_result"
        }
      ],
      "source": [
        "np.matmul(climate_data, weights)  #matrix multiplication using matmul fuction of numpy"
      ]
    },
    {
      "cell_type": "code",
      "execution_count": null,
      "metadata": {
        "id": "kcSFC1AtTzP2",
        "outputId": "7d4cdfef-efa2-4210-a055-29bc923ff72d"
      },
      "outputs": [
        {
          "data": {
            "text/plain": [
              "array([56.8, 76.9, 81.9, 57.7, 74.9])"
            ]
          },
          "execution_count": 24,
          "metadata": {},
          "output_type": "execute_result"
        }
      ],
      "source": [
        "climate_data @ weights  #@ operator also does matrix multiplication"
      ]
    },
    {
      "cell_type": "code",
      "execution_count": null,
      "metadata": {
        "id": "yboXyyrZTzP2",
        "outputId": "c50199bb-9e7b-4628-9a84-961d1a1668cd"
      },
      "outputs": [
        {
          "data": {
            "text/plain": [
              "(2, 2, 3)"
            ]
          },
          "execution_count": 22,
          "metadata": {},
          "output_type": "execute_result"
        }
      ],
      "source": [
        "# 3D array\n",
        "arr3 = np.array([\n",
        "    [[11, 12, 13],\n",
        "     [13, 14, 15]],\n",
        "    [[15, 16, 17],\n",
        "     [17, 18, 19.5]]])\n",
        "arr3.shape"
      ]
    },
    {
      "cell_type": "code",
      "execution_count": null,
      "metadata": {
        "id": "rDX6t371TzP2",
        "outputId": "e8653fe3-c830-46fe-fcae-3c06c0f8b6c2"
      },
      "outputs": [
        {
          "data": {
            "text/plain": [
              "numpy.ndarray"
            ]
          },
          "execution_count": 23,
          "metadata": {},
          "output_type": "execute_result"
        }
      ],
      "source": [
        "type(arr3)"
      ]
    },
    {
      "cell_type": "markdown",
      "metadata": {
        "id": "agqp1jFgTzP2"
      },
      "source": [
        "### limited memory space for data type\n",
        "**Numpy** have their own data type, different from python primitive data type. the reason is that python primitive data type supports a wide range of values. But Numpy limits its data type to certain type of value. float64 means that only 64 bits in the space of memory will be used as floating data type"
      ]
    },
    {
      "cell_type": "code",
      "execution_count": null,
      "metadata": {
        "id": "zp9M-9rLTzP2",
        "outputId": "cdc10d6b-c86f-4081-b929-b544a5ce8939"
      },
      "outputs": [
        {
          "data": {
            "text/plain": [
              "dtype('float64')"
            ]
          },
          "execution_count": 24,
          "metadata": {},
          "output_type": "execute_result"
        }
      ],
      "source": [
        "arr3.dtype"
      ]
    },
    {
      "cell_type": "markdown",
      "metadata": {
        "id": "oP_f3YjQTzP2"
      },
      "source": [
        "NumPy also comes with several functions that allow us to create tensors quickly."
      ]
    },
    {
      "cell_type": "code",
      "execution_count": null,
      "metadata": {
        "id": "koDx4TUpTzP3",
        "outputId": "c4626709-36da-47ca-933b-e52bb3ecc409"
      },
      "outputs": [
        {
          "data": {
            "text/plain": [
              "array([[0., 0.],\n",
              "       [0., 0.]])"
            ]
          },
          "execution_count": 7,
          "metadata": {},
          "output_type": "execute_result"
        }
      ],
      "source": [
        "np.zeros((2,2))"
      ]
    },
    {
      "cell_type": "code",
      "execution_count": null,
      "metadata": {
        "id": "y6okfPpqTzP3",
        "outputId": "e92bf9c5-6962-4d2d-99c8-4867cb9516e5"
      },
      "outputs": [
        {
          "data": {
            "text/plain": [
              "array([[0., 0., 0., 0., 0.],\n",
              "       [0., 0., 0., 0., 0.],\n",
              "       [0., 0., 0., 0., 0.]])"
            ]
          },
          "execution_count": 22,
          "metadata": {},
          "output_type": "execute_result"
        }
      ],
      "source": [
        "np.zeros((3,5))"
      ]
    },
    {
      "cell_type": "code",
      "execution_count": null,
      "metadata": {
        "id": "ldzdP-UuTzP3",
        "outputId": "ffbf4b97-5fc0-4831-ec63-14334970f1ee"
      },
      "outputs": [
        {
          "data": {
            "text/plain": [
              "array([[42, 42, 42],\n",
              "       [42, 42, 42]])"
            ]
          },
          "execution_count": 12,
          "metadata": {},
          "output_type": "execute_result"
        }
      ],
      "source": [
        "np.full([2, 3], 42)"
      ]
    },
    {
      "cell_type": "code",
      "execution_count": null,
      "metadata": {
        "id": "9LjoIvFhTzP3",
        "outputId": "a955e706-aed9-4346-b20f-420bcfefb41a"
      },
      "outputs": [
        {
          "data": {
            "text/plain": [
              "array([10, 13, 16, 19, 22, 25, 28, 31, 34, 37, 40, 43, 46, 49, 52, 55, 58,\n",
              "       61, 64, 67, 70, 73, 76, 79, 82, 85, 88])"
            ]
          },
          "execution_count": 13,
          "metadata": {},
          "output_type": "execute_result"
        }
      ],
      "source": [
        "np.arange(10, 90, 3)"
      ]
    },
    {
      "cell_type": "code",
      "execution_count": null,
      "metadata": {
        "id": "vDhFdXcmTzP3",
        "outputId": "aef29c7d-8001-476f-8024-a2f761866e3b"
      },
      "outputs": [
        {
          "data": {
            "text/plain": [
              "array([[[10, 13, 16],\n",
              "        [19, 22, 25],\n",
              "        [28, 31, 34]],\n",
              "\n",
              "       [[37, 40, 43],\n",
              "        [46, 49, 52],\n",
              "        [55, 58, 61]],\n",
              "\n",
              "       [[64, 67, 70],\n",
              "        [73, 76, 79],\n",
              "        [82, 85, 88]]])"
            ]
          },
          "execution_count": 14,
          "metadata": {},
          "output_type": "execute_result"
        }
      ],
      "source": [
        "np.arange(10, 90, 3).reshape(3,3,3)"
      ]
    },
    {
      "cell_type": "code",
      "execution_count": null,
      "metadata": {
        "id": "jmB1L40qTzP3",
        "outputId": "c8a054f3-1563-4eb0-c461-d4d315605cba"
      },
      "outputs": [
        {
          "data": {
            "text/plain": [
              "array([ 3.        ,  4.26315789,  5.52631579,  6.78947368,  8.05263158,\n",
              "        9.31578947, 10.57894737, 11.84210526, 13.10526316, 14.36842105,\n",
              "       15.63157895, 16.89473684, 18.15789474, 19.42105263, 20.68421053,\n",
              "       21.94736842, 23.21052632, 24.47368421, 25.73684211, 27.        ])"
            ]
          },
          "execution_count": 15,
          "metadata": {},
          "output_type": "execute_result"
        }
      ],
      "source": [
        "# Equally spaced numbers in a range\n",
        "np.linspace(3, 27, 20)"
      ]
    },
    {
      "cell_type": "markdown",
      "metadata": {
        "id": "PGmETEKFTzP4"
      },
      "source": [
        "## Working with CSV data files\n",
        "\n",
        "Numpy also provides helper functions reading from & writing to files. Let's download a file `climate.txt`, which contains 10,000 climate measurements (temperature, rainfall & humidity) in the following format:\n",
        "\n",
        "\n",
        "```\n",
        "temperature,rainfall,humidity\n",
        "25.00,76.00,99.00\n",
        "39.00,65.00,70.00\n",
        "59.00,45.00,77.00\n",
        "84.00,63.00,38.00\n",
        "66.00,50.00,52.00\n",
        "41.00,94.00,77.00\n",
        "91.00,57.00,96.00\n",
        "49.00,96.00,99.00\n",
        "67.00,20.00,28.00\n",
        "...\n",
        "```\n",
        "\n",
        "This format of storing data is known as *comma-separated values* or CSV.\n",
        "\n",
        "> **CSVs**: A comma-separated values (CSV) file is a delimited text file that uses a comma to separate values. Each line of the file is a data record. Each record consists of one or more fields, separated by commas. A CSV file typically stores tabular data (numbers and text) in plain text, in which case each line will have the same number of fields. (Wikipedia)\n",
        "\n",
        "**import urllib.request**\n",
        "This imports the urllib.request module, which is part of Python's standard library and is used for opening and reading URLs.\n",
        "\n",
        "**urllib.request.urlretrieve(url, filename)**\n",
        "This function is used to retrieve a file from a given URL and save it locally.\n",
        "\n",
        "**genfromtxt**\n",
        "To read this file into a numpy array, we can use the `genfromtxt` function."
      ]
    },
    {
      "cell_type": "code",
      "execution_count": null,
      "metadata": {
        "id": "Bo6F73ZaTzP4",
        "outputId": "9e48c524-b73d-4138-fd9e-14e3a6f22402"
      },
      "outputs": [
        {
          "data": {
            "text/plain": [
              "('climate.txt', <http.client.HTTPMessage at 0x7fc66895d910>)"
            ]
          },
          "execution_count": 11,
          "metadata": {},
          "output_type": "execute_result"
        }
      ],
      "source": [
        "import numpy as np\n",
        "import urllib.request\n",
        "\n",
        "urllib.request.urlretrieve(\n",
        "    'https://gist.github.com/BirajCoder/a4ffcb76fd6fb221d76ac2ee2b8584e9/raw/4054f90adfd361b7aa4255e99c2e874664094cea/climate.csv',\n",
        "    'climate.txt')"
      ]
    },
    {
      "cell_type": "code",
      "execution_count": null,
      "metadata": {
        "id": "5T2ICjNHTzP4"
      },
      "outputs": [],
      "source": [
        "climate_data = np.genfromtxt('climate.txt', delimiter=',', skip_header=1)"
      ]
    },
    {
      "cell_type": "code",
      "execution_count": null,
      "metadata": {
        "id": "QcIH8dV3TzP4",
        "outputId": "da134211-8ebd-4150-efb9-58bf3a76e893"
      },
      "outputs": [
        {
          "data": {
            "text/plain": [
              "array([[25., 76., 99.],\n",
              "       [39., 65., 70.],\n",
              "       [59., 45., 77.],\n",
              "       ...,\n",
              "       [99., 62., 58.],\n",
              "       [70., 71., 91.],\n",
              "       [92., 39., 76.]])"
            ]
          },
          "execution_count": 13,
          "metadata": {},
          "output_type": "execute_result"
        }
      ],
      "source": [
        "climate_data"
      ]
    },
    {
      "cell_type": "code",
      "execution_count": null,
      "metadata": {
        "id": "jTKl4dHeTzP4",
        "outputId": "d245f843-d226-441f-b3b5-2f63ae704801"
      },
      "outputs": [
        {
          "name": "stdout",
          "output_type": "stream",
          "text": [
            "[72.2 59.7 65.2 ... 71.1 80.7 73.4]\n",
            "(10000,)\n"
          ]
        }
      ],
      "source": [
        "weights = np.array([0.3, 0.2, 0.5])\n",
        "yields = climate_data @ weights\n",
        "print(yields)\n",
        "print(yields.shape)"
      ]
    },
    {
      "cell_type": "markdown",
      "metadata": {
        "id": "Zdj4WEIuTzP4"
      },
      "source": [
        "Let's add the yields to climate_data as a fourth column using the np.concatenate function."
      ]
    },
    {
      "cell_type": "code",
      "execution_count": null,
      "metadata": {
        "id": "1xXByYnaTzP5",
        "outputId": "12837c32-7d31-40b0-d3bb-3a444eadfe81"
      },
      "outputs": [
        {
          "name": "stdout",
          "output_type": "stream",
          "text": [
            "[[25.  76.  99.  72.2]\n",
            " [39.  65.  70.  59.7]\n",
            " [59.  45.  77.  65.2]\n",
            " ...\n",
            " [99.  62.  58.  71.1]\n",
            " [70.  71.  91.  80.7]\n",
            " [92.  39.  76.  73.4]]\n",
            "(10000, 4)\n"
          ]
        }
      ],
      "source": [
        "climate_results = np.concatenate((climate_data, yields.reshape(10000, 1)), axis=1)\n",
        "print(climate_results)\n",
        "print(climate_results.shape)"
      ]
    },
    {
      "cell_type": "code",
      "execution_count": null,
      "metadata": {
        "id": "Zo4L_NGHTzP5"
      },
      "outputs": [],
      "source": [
        "np.savetxt('climate_results.txt',\n",
        "           climate_results,\n",
        "           fmt='%.2f',\n",
        "           delimiter=',',\n",
        "           header='temperature,rainfall,humidity,yeild_apples',\n",
        "           comments='')"
      ]
    },
    {
      "cell_type": "markdown",
      "metadata": {
        "id": "jyJEHLY8TzP5"
      },
      "source": [
        "Numpy provides hundreds of functions for performing operations on arrays. Here are some commonly used functions:\n",
        "\n",
        "\n",
        "* Mathematics: `np.sum`, `np.exp`, `np.round`, arithemtic operators\n",
        "* Array manipulation: `np.reshape`, `np.stack`, `np.concatenate`, `np.split`\n",
        "* Linear Algebra: `np.matmul`, `np.dot`, `np.transpose`, `np.eigvals`\n",
        "* Statistics: `np.mean`, `np.median`, `np.std`, `np.max`\n",
        "\n",
        "> **How to find the function you need?** The easiest way to find the right function for a specific operation or use-case is to do a web search. For instance, searching for \"How to join numpy arrays\" leads to [this tutorial on array concatenation](https://cmdlinetips.com/2018/04/how-to-concatenate-arrays-in-numpy/).\n",
        "\n",
        "You can find a full list of array functions here: https://numpy.org/doc/stable/reference/routines.html"
      ]
    },
    {
      "cell_type": "markdown",
      "metadata": {
        "id": "hMExw7lKTzP5"
      },
      "source": [
        "**Arithmetic operations, broadcasting and comparison**\n",
        "\n",
        "Numpy arrays support arithmetic operators like +, -, *, etc. You can perform an arithmetic operation with a single number (also called scalar) or with another array of the same shape. Operators make it easy to write mathematical expressions with multi-dimensional arrays."
      ]
    },
    {
      "cell_type": "code",
      "execution_count": null,
      "metadata": {
        "id": "5_RS8chQTzP5",
        "outputId": "39d7c862-ea81-41e0-97cc-6bc375eac207"
      },
      "outputs": [
        {
          "name": "stdout",
          "output_type": "stream",
          "text": [
            "[[ 4  5  6  7]\n",
            " [ 8  9 10 11]\n",
            " [12  4  5  6]]\n",
            "substraction\n",
            "[[10 10 10 10]\n",
            " [10 10 10 10]\n",
            " [10 10 10 10]]\n"
          ]
        }
      ],
      "source": [
        "arr2 = np.array([[1, 2, 3, 4],\n",
        "                 [5, 6, 7, 8],\n",
        "                 [9, 1, 2, 3]])\n",
        "arr3 = np.array([[11, 12, 13, 14],\n",
        "                 [15, 16, 17, 18],\n",
        "                 [19, 11, 12, 13]])\n",
        "\n",
        "# Adding a scalar\n",
        "print(arr2+3)\n",
        "print(\"substraction\")\n",
        "\n",
        "# Element-wise subtraction\n",
        "print(arr3 - arr2)"
      ]
    },
    {
      "cell_type": "markdown",
      "metadata": {
        "id": "NKlZs7oOTzP5"
      },
      "source": [
        "### Array Broadcasting\n",
        "\n",
        "Numpy arrays also support *broadcasting*, allowing arithmetic operations between two arrays with different numbers of dimensions but compatible shapes. Let's look at an example to see how it works."
      ]
    },
    {
      "cell_type": "code",
      "execution_count": null,
      "metadata": {
        "id": "WX8ZFYiCTzP5",
        "outputId": "eee9a5f1-caea-4d4e-929e-c69ff5429b2c"
      },
      "outputs": [
        {
          "name": "stdout",
          "output_type": "stream",
          "text": [
            "(3, 4)\n",
            "(4,)\n",
            "[[ 5  7  9 11]\n",
            " [ 9 11 13 15]\n",
            " [13  6  8 10]]\n"
          ]
        }
      ],
      "source": [
        "arr2 = np.array([[1, 2, 3, 4],\n",
        "                 [5, 6, 7, 8],\n",
        "                 [9, 1, 2, 3]])\n",
        "\n",
        "arr4 = np.array([4, 5, 6, 7])\n",
        "\n",
        "print(arr2.shape)\n",
        "print(arr4.shape)\n",
        "\n",
        "print(arr2+arr4)"
      ]
    },
    {
      "cell_type": "markdown",
      "metadata": {
        "id": "bC56llkBTzP6"
      },
      "source": [
        "When the expression `arr2 + arr4` is evaluated, `arr4` (which has the shape `(4,)`) is replicated three times to match the shape `(3, 4)` of `arr2`. Numpy performs the replication without actually creating three copies of the smaller dimension array, thus improving performance and using lower memory.\n",
        "\n",
        "<img src=\"https://jakevdp.github.io/PythonDataScienceHandbook/figures/02.05-broadcasting.png\" width=\"360\">\n",
        "\n",
        "Broadcasting only works if one of the arrays can be replicated to match the other array's shape."
      ]
    },
    {
      "cell_type": "markdown",
      "metadata": {
        "id": "Y1ZISR5hTzP6"
      },
      "source": [
        "### Array Comparison\n",
        "Numpy arrays also support comparison operations like ==, !=, > etc. The result is an array of booleans."
      ]
    },
    {
      "cell_type": "code",
      "execution_count": null,
      "metadata": {
        "id": "THdXIw1_TzP6",
        "outputId": "d68f70e7-4d84-45ba-af2d-6f7215e41394"
      },
      "outputs": [
        {
          "name": "stdout",
          "output_type": "stream",
          "text": [
            "[[False  True  True]\n",
            " [False False  True]]\n"
          ]
        }
      ],
      "source": [
        "arr1 = np.array([[1, 2, 3], [3, 4, 5]])\n",
        "arr2 = np.array([[2, 2, 3], [1, 2, 5]])\n",
        "\n",
        "print(arr1 == arr2)"
      ]
    },
    {
      "cell_type": "markdown",
      "metadata": {
        "id": "Rc3yBXjeTzP6"
      },
      "source": [
        "Array comparison is frequently used to count the number of equal elements in two arrays using the sum method. Remember that True evaluates to 1 and False evaluates to 0 when booleans are used in arithmetic operations."
      ]
    },
    {
      "cell_type": "code",
      "execution_count": null,
      "metadata": {
        "id": "8SvV66mpTzP6",
        "outputId": "efaee2ed-2a19-493f-a7be-8ffb637d7c66"
      },
      "outputs": [
        {
          "data": {
            "text/plain": [
              "3"
            ]
          },
          "execution_count": 50,
          "metadata": {},
          "output_type": "execute_result"
        }
      ],
      "source": [
        "(arr1 == arr2).sum()"
      ]
    },
    {
      "cell_type": "markdown",
      "metadata": {
        "id": "PkDBOnPuTzP6"
      },
      "source": [
        "## Array indexing and slicing\n",
        "\n",
        "Numpy extends Python's list indexing notation using `[]` to multiple dimensions in an intuitive fashion. You can provide a comma-separated list of indices or ranges to select a specific element or a subarray (also called a slice) from a Numpy array."
      ]
    },
    {
      "cell_type": "code",
      "execution_count": null,
      "metadata": {
        "id": "ApYnMWwmTzP7",
        "outputId": "3cf8f6e4-aebd-4e6d-93d0-67e39e2622b8"
      },
      "outputs": [
        {
          "name": "stdout",
          "output_type": "stream",
          "text": [
            "(3, 2, 4)\n",
            "[[15. 16. 17. 21.]\n",
            " [63. 92. 36. 18.]]\n",
            "[63. 92. 36. 18.]\n",
            "36.0\n"
          ]
        }
      ],
      "source": [
        "import numpy as np\n",
        "arr3 = np.array([\n",
        "    [[11, 12, 13, 14],\n",
        "     [13, 14, 15, 19]],\n",
        "\n",
        "    [[15, 16, 17, 21],\n",
        "     [63, 92, 36, 18]],\n",
        "\n",
        "    [[98, 32, 81, 23],\n",
        "     [17, 18, 19.5, 43]]])\n",
        "print(arr3.shape)\n",
        "print(arr3[1])\n",
        "print(arr3[1,1])\n",
        "print(arr3[1,1,2])\n"
      ]
    },
    {
      "cell_type": "code",
      "execution_count": null,
      "metadata": {
        "id": "cs4IjBgwTzP7",
        "outputId": "0cccf238-ecbf-4530-fbfe-57969cf8028f"
      },
      "outputs": [
        {
          "data": {
            "text/plain": [
              "array([[[15., 16.]],\n",
              "\n",
              "       [[98., 32.]]])"
            ]
          },
          "execution_count": 10,
          "metadata": {},
          "output_type": "execute_result"
        }
      ],
      "source": [
        "arr3[1:, :1, :2]"
      ]
    },
    {
      "cell_type": "code",
      "execution_count": null,
      "metadata": {
        "id": "f2YUgXlwTzP7",
        "outputId": "ac06c955-4c41-4f5b-91d5-7a8e156611f8"
      },
      "outputs": [
        {
          "data": {
            "text/plain": [
              "array([[63. , 92. , 36. ],\n",
              "       [17. , 18. , 19.5]])"
            ]
          },
          "execution_count": 11,
          "metadata": {},
          "output_type": "execute_result"
        }
      ],
      "source": [
        "arr3[1:, 1, :3]"
      ]
    },
    {
      "cell_type": "markdown",
      "metadata": {
        "id": "AESbJ6W-TzP7"
      },
      "source": [
        "## Interacting with the OS and filesystem\n",
        "\n",
        "The `os` module in Python provides many functions for interacting with the OS and the filesystem. Let's import it and try out some examples."
      ]
    },
    {
      "cell_type": "code",
      "execution_count": null,
      "metadata": {
        "id": "7QkFSGsmTzP7"
      },
      "outputs": [],
      "source": [
        "import os"
      ]
    },
    {
      "cell_type": "markdown",
      "metadata": {
        "id": "fykR3pzDTzP7"
      },
      "source": [
        "We can check the present working directory using the os.getcwd function."
      ]
    },
    {
      "cell_type": "code",
      "execution_count": null,
      "metadata": {
        "id": "EL428Bg_TzP7",
        "outputId": "95a8eec8-1e5e-438f-aa63-8a9b909904c6"
      },
      "outputs": [
        {
          "data": {
            "text/plain": [
              "'/home/jovyan/work/0fe6b89a46e6486194d526d92a772aa7_92'"
            ]
          },
          "execution_count": 35,
          "metadata": {},
          "output_type": "execute_result"
        }
      ],
      "source": [
        "os.getcwd()"
      ]
    },
    {
      "cell_type": "markdown",
      "metadata": {
        "id": "WHTejWB0TzP7"
      },
      "source": [
        "To get the list of files in a directory, use `os.listdir`. You pass an absolute or relative path of a directory as the argument to the function."
      ]
    },
    {
      "cell_type": "code",
      "execution_count": null,
      "metadata": {
        "id": "hYZ3Ido1TzP8",
        "outputId": "f52dfcbe-a1c3-47b3-f569-2b366b6bd1e5"
      },
      "outputs": [
        {
          "data": {
            "text/plain": [
              "<function posix.listdir(path=None)>"
            ]
          },
          "execution_count": 36,
          "metadata": {},
          "output_type": "execute_result"
        }
      ],
      "source": [
        "os.listdir"
      ]
    },
    {
      "cell_type": "code",
      "execution_count": null,
      "metadata": {
        "id": "Ew4SjFAiTzP8",
        "outputId": "87ba0dee-1a64-4f22-db4e-db7f12b16c75"
      },
      "outputs": [
        {
          "data": {
            "text/plain": [
              "['.git', '.jovianrc', 'practice-note-book.ipynb', '.ipynb_checkpoints']"
            ]
          },
          "execution_count": 8,
          "metadata": {},
          "output_type": "execute_result"
        }
      ],
      "source": [
        "os.listdir('.') # relative path"
      ]
    },
    {
      "cell_type": "code",
      "execution_count": null,
      "metadata": {
        "id": "b7veWfmfTzP8",
        "outputId": "8b10ebfd-fae2-494a-8d2b-986d87fe7a11"
      },
      "outputs": [
        {
          "data": {
            "text/plain": [
              "['bin',\n",
              " 'games',\n",
              " 'include',\n",
              " 'lib',\n",
              " 'lib32',\n",
              " 'lib64',\n",
              " 'libx32',\n",
              " 'local',\n",
              " 'sbin',\n",
              " 'share',\n",
              " 'src']"
            ]
          },
          "execution_count": 9,
          "metadata": {},
          "output_type": "execute_result"
        }
      ],
      "source": [
        "os.listdir('/usr') # absolute path"
      ]
    },
    {
      "cell_type": "markdown",
      "metadata": {
        "id": "O_OzUNDtTzP8"
      },
      "source": [
        "You can create a new directory using `os.makedirs`. Let's create a new directory called `data`, where we'll later download some files."
      ]
    },
    {
      "cell_type": "code",
      "execution_count": null,
      "metadata": {
        "id": "ODGmpARBTzP8"
      },
      "outputs": [],
      "source": [
        "os.makedirs('./data', exist_ok=True)"
      ]
    },
    {
      "cell_type": "markdown",
      "metadata": {
        "id": "g6qNNUy-TzP8"
      },
      "source": [
        "The os.makedirs('./data', exist_ok=True) command is used to create a directory (folder) named 'data' in the current working directory. Here's a breakdown:\n",
        "\n",
        "os.makedirs: This is a function from the os module in Python. It is used to create a directory and its parent directories (if they don't exist).\n",
        "\n",
        "('./data'): This is the argument passed to os.makedirs. It represents the path of the directory to be created. Here, './data' is a relative path, indicating that the directory named 'data' will be created as a subdirectory of the current working directory.\n",
        "\n",
        "exist_ok=True: This parameter is optional and, when set to True, ensures that the function doesn't raise an error if the directory already exists. If exist_ok is set to False or not provided, and the directory already exists, FileExistsError would be raised."
      ]
    },
    {
      "cell_type": "markdown",
      "metadata": {
        "id": "6_cz4-tkTzP8"
      },
      "source": [
        "Can you figure out what the argument `exist_ok` does? Try using the `help` function or [read the documentation](https://docs.python.org/3/library/os.html#os.makedirs).\n",
        "\n",
        "Let's verify that the directory was created and is currently empty."
      ]
    },
    {
      "cell_type": "code",
      "execution_count": null,
      "metadata": {
        "id": "QSbYggpUTzP9",
        "outputId": "4c95259a-2d97-4f98-8d0b-fb3ec2bfe97b"
      },
      "outputs": [
        {
          "data": {
            "text/plain": [
              "True"
            ]
          },
          "execution_count": 15,
          "metadata": {},
          "output_type": "execute_result"
        }
      ],
      "source": [
        "'data' in os.listdir('.')"
      ]
    },
    {
      "cell_type": "code",
      "execution_count": null,
      "metadata": {
        "id": "p1aboDVmTzP9",
        "outputId": "255c688b-0963-4359-c789-70efc68ec00a"
      },
      "outputs": [
        {
          "data": {
            "text/plain": [
              "[]"
            ]
          },
          "execution_count": 16,
          "metadata": {},
          "output_type": "execute_result"
        }
      ],
      "source": [
        "os.listdir('./data')"
      ]
    },
    {
      "cell_type": "markdown",
      "metadata": {
        "id": "5YWBe3Z9TzP9"
      },
      "source": [
        "Let us download some files into the data directory using the urllib module."
      ]
    },
    {
      "cell_type": "code",
      "execution_count": null,
      "metadata": {
        "id": "-gd6NiyvTzP9"
      },
      "outputs": [],
      "source": [
        "url1 = 'https://gist.githubusercontent.com/aakashns/257f6e6c8719c17d0e498ea287d1a386/raw/7def9ef4234ddf0bc82f855ad67dac8b971852ef/loans1.txt'\n",
        "url2 = 'https://gist.githubusercontent.com/aakashns/257f6e6c8719c17d0e498ea287d1a386/raw/7def9ef4234ddf0bc82f855ad67dac8b971852ef/loans2.txt'\n",
        "url3 = 'https://gist.githubusercontent.com/aakashns/257f6e6c8719c17d0e498ea287d1a386/raw/7def9ef4234ddf0bc82f855ad67dac8b971852ef/loans3.txt'"
      ]
    },
    {
      "cell_type": "markdown",
      "metadata": {
        "id": "Ddq7_1mfTzP9"
      },
      "source": [
        "from `urllib.request` import `urlretrieve`: This statement imports only the urlretrieve function from the urllib.request module. The urllib.request module is part of the Python standard library and provides functionalities for opening and reading URLs.\n",
        "The `urlretrieve` function, in particular, is used for retrieving remote files and saving them locally."
      ]
    },
    {
      "cell_type": "code",
      "execution_count": null,
      "metadata": {
        "id": "hm5r59kzTzP9",
        "outputId": "c0b61220-be44-4a6c-e15f-5580573699f6"
      },
      "outputs": [
        {
          "data": {
            "text/plain": [
              "('./data/loans3.txt', <http.client.HTTPMessage at 0x7fc6908c2ee0>)"
            ]
          },
          "execution_count": 19,
          "metadata": {},
          "output_type": "execute_result"
        }
      ],
      "source": [
        "from urllib.request import urlretrieve\n",
        "urlretrieve(url1, './data/loans1.txt')\n",
        "urlretrieve(url2, './data/loans2.txt')\n",
        "urlretrieve(url3, './data/loans3.txt')"
      ]
    },
    {
      "cell_type": "markdown",
      "metadata": {
        "id": "VABOzx3VTzP9"
      },
      "source": [
        "Let's verify that the files were downloaded."
      ]
    },
    {
      "cell_type": "code",
      "execution_count": null,
      "metadata": {
        "id": "CcY2S2jWTzP9",
        "outputId": "03abc659-d100-477a-b5ad-ae94d77110c3"
      },
      "outputs": [
        {
          "data": {
            "text/plain": [
              "['loans1.txt', 'loans2.txt', 'loans3.txt']"
            ]
          },
          "execution_count": 21,
          "metadata": {},
          "output_type": "execute_result"
        }
      ],
      "source": [
        "os.listdir('./data')"
      ]
    },
    {
      "cell_type": "markdown",
      "metadata": {
        "id": "F9X9m946TzP9"
      },
      "source": [
        "You can also use the [`requests`](https://docs.python-requests.org/en/master/) library to dowload URLs, although you'll need to [write some additional code](https://stackoverflow.com/questions/44699682/how-to-save-a-file-downloaded-from-requests-to-another-directory) to save the contents of the page to a file."
      ]
    },
    {
      "cell_type": "markdown",
      "metadata": {
        "id": "fLIO4puDTzP9"
      },
      "source": [
        "## Reading from a file\n",
        "\n",
        "To read the contents of a file, we first need to open the file using the built-in `open` function. The `open` function returns a file object and provides several methods for interacting with the file's contents."
      ]
    },
    {
      "cell_type": "code",
      "execution_count": null,
      "metadata": {
        "id": "0o_7nuR0TzP-"
      },
      "outputs": [],
      "source": [
        "file1 = open('./data/loans1.txt', mode='r')"
      ]
    },
    {
      "cell_type": "markdown",
      "metadata": {
        "id": "gbNOOLiKTzP-"
      },
      "source": [
        "The `open` function also accepts a `mode` argument to specifies how we can interact with the file. The following options are supported:\n",
        "\n",
        "```\n",
        "    ========= ===============================================================\n",
        "    Character Meaning\n",
        "    --------- ---------------------------------------------------------------\n",
        "    'r'       open for reading (default)\n",
        "    'w'       open for writing, truncating the file first\n",
        "    'x'       create a new file and open it for writing\n",
        "    'a'       open for writing, appending to the end of the file if it exists\n",
        "    'b'       binary mode\n",
        "    't'       text mode (default)\n",
        "    '+'       open a disk file for updating (reading and writing)\n",
        "    'U'       universal newline mode (deprecated)\n",
        "    ========= ===============================================================\n",
        "```\n",
        "\n",
        "To view the contents of the file, we can use the `read` method of the file object."
      ]
    },
    {
      "cell_type": "code",
      "execution_count": null,
      "metadata": {
        "id": "SuHq6DmoTzP-"
      },
      "outputs": [],
      "source": [
        "file1_contents = file1.read()"
      ]
    },
    {
      "cell_type": "code",
      "execution_count": null,
      "metadata": {
        "id": "VKp4VqZpTzP-",
        "outputId": "c121b9e6-1454-4550-f486-8facee9539fb"
      },
      "outputs": [
        {
          "data": {
            "text/plain": [
              "'amount,duration,rate,down_payment\\n100000,36,0.08,20000\\n200000,12,0.1,\\n628400,120,0.12,100000\\n4637400,240,0.06,\\n42900,90,0.07,8900\\n916000,16,0.13,\\n45230,48,0.08,4300\\n991360,99,0.08,\\n423000,27,0.09,47200'"
            ]
          },
          "execution_count": 31,
          "metadata": {},
          "output_type": "execute_result"
        }
      ],
      "source": [
        "file1_contents"
      ]
    },
    {
      "cell_type": "code",
      "execution_count": null,
      "metadata": {
        "id": "J263ifHgTzP-",
        "outputId": "158490ac-fbc4-4168-f8a8-11d3aea1b166"
      },
      "outputs": [
        {
          "name": "stdout",
          "output_type": "stream",
          "text": [
            "amount,duration,rate,down_payment\n",
            "100000,36,0.08,20000\n",
            "200000,12,0.1,\n",
            "628400,120,0.12,100000\n",
            "4637400,240,0.06,\n",
            "42900,90,0.07,8900\n",
            "916000,16,0.13,\n",
            "45230,48,0.08,4300\n",
            "991360,99,0.08,\n",
            "423000,27,0.09,47200\n"
          ]
        }
      ],
      "source": [
        "print(file1_contents)"
      ]
    },
    {
      "cell_type": "markdown",
      "metadata": {
        "id": "6JeL5CSgTzP-"
      },
      "source": [
        "The file contains information about loans. It is a set of comma-separated values (CSV).\n",
        "> **CSVs**: A comma-separated values (CSV) file is a delimited text file that uses a comma to separate values. Each line of the file is a data record. Each record consists of one or more fields, separated by commas. A CSV file typically stores tabular data (numbers and text) in plain text, in which case each line will have the same number of fields. (Wikipedia)\n",
        "\n",
        "The CSV is a standard file format used for sharing data for analysis and visualization. Over the course of this tutorial, we will read the data from these CSV files, process it, and write the results back to files. Before we continue, let's close the file using the `close` method (otherwise, Python will continue to hold the entire file in the RAM)\n"
      ]
    },
    {
      "cell_type": "code",
      "execution_count": null,
      "metadata": {
        "id": "LCKW-sRiTzP-"
      },
      "outputs": [],
      "source": [
        "file1.close()"
      ]
    },
    {
      "cell_type": "markdown",
      "metadata": {
        "id": "LirjzPcKTzP_"
      },
      "source": [
        "## Closing files automatically using `with`\n",
        "\n",
        "To close a file automatically after you've processed it, you can open it using the `with` statement."
      ]
    },
    {
      "cell_type": "code",
      "execution_count": null,
      "metadata": {
        "id": "IS6zfI97TzP_",
        "outputId": "53096260-1ab3-4c06-c5e8-ccdbe7aaa76c"
      },
      "outputs": [
        {
          "name": "stdout",
          "output_type": "stream",
          "text": [
            "amount,duration,rate,down_payment\n",
            "828400,120,0.11,100000\n",
            "4633400,240,0.06,\n",
            "42900,90,0.08,8900\n",
            "983000,16,0.14,\n",
            "15230,48,0.07,4300\n"
          ]
        }
      ],
      "source": [
        "with open('./data/loans2.txt') as file2:\n",
        "    file2_contents = file2.read()\n",
        "    print(file2_contents)"
      ]
    },
    {
      "cell_type": "markdown",
      "metadata": {
        "id": "48BWhMx2TzP_"
      },
      "source": [
        "Once the statements within the `with` block are executed, the `.close` method on `file2` is automatically invoked. Let's verify this by trying to read from the file object again."
      ]
    },
    {
      "cell_type": "markdown",
      "metadata": {
        "id": "I0SHNSgvTzP_"
      },
      "source": [
        "## Reading a file line by line\n",
        "\n",
        "\n",
        "File objects provide a `readlines` method to read a file line-by-line."
      ]
    },
    {
      "cell_type": "code",
      "execution_count": null,
      "metadata": {
        "id": "KyX7CDSLTzP_"
      },
      "outputs": [],
      "source": [
        "with open('./data/loans3.txt', 'r') as file3:\n",
        "    file3_lines = file3.readlines() #instead of file3.read() we wrote file3.readlins()"
      ]
    },
    {
      "cell_type": "code",
      "execution_count": null,
      "metadata": {
        "id": "c_jvkbIrTzP_",
        "outputId": "bdc9b621-050a-4e08-947f-f347caa99f2f"
      },
      "outputs": [
        {
          "name": "stdout",
          "output_type": "stream",
          "text": [
            "2\n",
            "[0. 0.]\n"
          ]
        }
      ],
      "source": [
        "import numpy as np\n",
        "x = np.array([[1,2,5], [3,4,6]])\n",
        "m = x.shape[0]\n",
        "print(m)\n",
        "predicted = np.zeros(m)\n",
        "print(predicted)"
      ]
    },
    {
      "cell_type": "markdown",
      "source": [
        "# Analyzing Tabular Data using Python and Pandas\n",
        "\n",
        "![](https://i.imgur.com/zfxLzEv.png)\n",
        "\n",
        "\n",
        "This tutorial series is a beginner-friendly introduction to programming and data analysis using the Python programming language. These tutorials take a practical and coding-focused approach. The best way to learn the material is to execute the code and experiment with it yourself."
      ],
      "metadata": {
        "id": "-73Oj0SAmaJ_"
      }
    },
    {
      "cell_type": "markdown",
      "source": [
        "## Reading a CSV file using Pandas\n",
        "\n",
        "[Pandas](https://pandas.pydata.org/) is a popular Python library used for working in tabular data (similar to the data stored in a spreadsheet). Pandas provides helper functions to read data from various file formats like CSV, Excel spreadsheets, HTML tables, JSON, SQL, and more. Let's download a file `italy-covid-daywise.txt` which contains day-wise Covid-19 data for Italy in the following format:\n",
        "\n",
        "```\n",
        "date,new_cases,new_deaths,new_tests\n",
        "2020-04-21,2256.0,454.0,28095.0\n",
        "2020-04-22,2729.0,534.0,44248.0\n",
        "2020-04-23,3370.0,437.0,37083.0\n",
        "2020-04-24,2646.0,464.0,95273.0\n",
        "2020-04-25,3021.0,420.0,38676.0\n",
        "2020-04-26,2357.0,415.0,24113.0\n",
        "2020-04-27,2324.0,260.0,26678.0\n",
        "2020-04-28,1739.0,333.0,37554.0\n",
        "...\n",
        "```\n",
        "\n",
        "This format of storing data is known as *comma-separated values* or CSV.\n",
        "\n",
        "> **CSVs**: A comma-separated values (CSV) file is a delimited text file that uses a comma to separate values. Each line of the file is a data record. Each record consists of one or more fields, separated by commas. A CSV file typically stores tabular data (numbers and text) in plain text, in which case each line will have the same number of fields. (Wikipedia)\n",
        "\n",
        "\n",
        "We'll download this file using the `urlretrieve` function from the `urllib.request` module."
      ],
      "metadata": {
        "id": "kibEM2wYtnMM"
      }
    },
    {
      "cell_type": "code",
      "source": [
        "from urllib.request import urlretrieve"
      ],
      "metadata": {
        "id": "ESe2kMPYuBH2"
      },
      "execution_count": null,
      "outputs": []
    },
    {
      "cell_type": "code",
      "source": [
        "italy_covid_url = 'https://gist.githubusercontent.com/aakashns/f6a004fa20c84fec53262f9a8bfee775/raw/f309558b1cf5103424cef58e2ecb8704dcd4d74c/italy-covid-daywise.csv'\n",
        "\n",
        "urlretrieve(italy_covid_url, 'italy-covid-daywise.csv')"
      ],
      "metadata": {
        "colab": {
          "base_uri": "https://localhost:8080/"
        },
        "id": "kq0TotWEuHaU",
        "outputId": "0cf8b630-cc42-4025-8ebe-f4caec847d75"
      },
      "execution_count": null,
      "outputs": [
        {
          "output_type": "execute_result",
          "data": {
            "text/plain": [
              "('italy-covid-daywise.csv', <http.client.HTTPMessage at 0x7adb4a521630>)"
            ]
          },
          "metadata": {},
          "execution_count": 6
        }
      ]
    },
    {
      "cell_type": "markdown",
      "source": [
        "To read the file, we can use the `read_csv` method from Pandas. First, let's install the Pandas library."
      ],
      "metadata": {
        "id": "BhVIcT-iuLyn"
      }
    },
    {
      "cell_type": "code",
      "source": [
        "import pandas as pd"
      ],
      "metadata": {
        "id": "a07cmEmvuMtz"
      },
      "execution_count": null,
      "outputs": []
    },
    {
      "cell_type": "code",
      "source": [
        "covid_df = pd.read_csv('italy-covid-daywise.csv')"
      ],
      "metadata": {
        "id": "MaUz2qx9uYXy"
      },
      "execution_count": null,
      "outputs": []
    },
    {
      "cell_type": "markdown",
      "source": [
        "Data from the file is read and stored in a `DataFrame` object - one of the core data structures in Pandas for storing and working with tabular data. We typically use the `_df` suffix in the variable names for dataframes."
      ],
      "metadata": {
        "id": "CmII3u-Vudhv"
      }
    },
    {
      "cell_type": "code",
      "source": [
        "type(covid_df)\n",
        "print(covid_df)"
      ],
      "metadata": {
        "colab": {
          "base_uri": "https://localhost:8080/"
        },
        "id": "68DcPoYUue2t",
        "outputId": "f56b86e7-f82f-436b-ade9-eb7845325384"
      },
      "execution_count": null,
      "outputs": [
        {
          "output_type": "stream",
          "name": "stdout",
          "text": [
            "           date  new_cases  new_deaths  new_tests\n",
            "0    2019-12-31        0.0         0.0        NaN\n",
            "1    2020-01-01        0.0         0.0        NaN\n",
            "2    2020-01-02        0.0         0.0        NaN\n",
            "3    2020-01-03        0.0         0.0        NaN\n",
            "4    2020-01-04        0.0         0.0        NaN\n",
            "..          ...        ...         ...        ...\n",
            "243  2020-08-30     1444.0         1.0    53541.0\n",
            "244  2020-08-31     1365.0         4.0    42583.0\n",
            "245  2020-09-01      996.0         6.0    54395.0\n",
            "246  2020-09-02      975.0         8.0        NaN\n",
            "247  2020-09-03     1326.0         6.0        NaN\n",
            "\n",
            "[248 rows x 4 columns]\n"
          ]
        }
      ]
    },
    {
      "cell_type": "markdown",
      "source": [
        "Here's what we can tell by looking at the dataframe:\n",
        "\n",
        "- The file provides four day-wise counts for COVID-19 in Italy\n",
        "- The metrics reported are new cases, deaths, and tests\n",
        "- Data is provided for 248 days: from Dec 12, 2019, to Sep 3, 2020\n",
        "\n",
        "Keep in mind that these are officially reported numbers. The actual number of cases & deaths may be higher, as not all cases are diagnosed.\n",
        "\n",
        "We can view some basic information about the data frame using the `.info` method."
      ],
      "metadata": {
        "id": "qF3FuglLusgD"
      }
    },
    {
      "cell_type": "code",
      "source": [
        "covid_df.info()"
      ],
      "metadata": {
        "colab": {
          "base_uri": "https://localhost:8080/"
        },
        "id": "dvza7qaXuuGm",
        "outputId": "a883b3cf-b5d1-48e1-a6c5-c9d932e6e52a"
      },
      "execution_count": null,
      "outputs": [
        {
          "output_type": "stream",
          "name": "stdout",
          "text": [
            "<class 'pandas.core.frame.DataFrame'>\n",
            "RangeIndex: 248 entries, 0 to 247\n",
            "Data columns (total 4 columns):\n",
            " #   Column      Non-Null Count  Dtype  \n",
            "---  ------      --------------  -----  \n",
            " 0   date        248 non-null    object \n",
            " 1   new_cases   248 non-null    float64\n",
            " 2   new_deaths  248 non-null    float64\n",
            " 3   new_tests   135 non-null    float64\n",
            "dtypes: float64(3), object(1)\n",
            "memory usage: 7.9+ KB\n"
          ]
        }
      ]
    },
    {
      "cell_type": "markdown",
      "source": [
        "It appears that each column contains values of a specific data type. You can view statistical information for numerical columns (mean, standard deviation, minimum/maximum values, and the number of non-empty values) using the `.describe` method."
      ],
      "metadata": {
        "id": "cHfzmAtvu-Fu"
      }
    },
    {
      "cell_type": "code",
      "source": [
        "covid_df.describe()"
      ],
      "metadata": {
        "colab": {
          "base_uri": "https://localhost:8080/",
          "height": 300
        },
        "id": "zg3TCPXHu_SR",
        "outputId": "14f486fa-5d70-48c6-dab8-b0e2dd4d73f3"
      },
      "execution_count": null,
      "outputs": [
        {
          "output_type": "execute_result",
          "data": {
            "text/plain": [
              "         new_cases  new_deaths     new_tests\n",
              "count   248.000000  248.000000    135.000000\n",
              "mean   1094.818548  143.133065  31699.674074\n",
              "std    1554.508002  227.105538  11622.209757\n",
              "min    -148.000000  -31.000000   7841.000000\n",
              "25%     123.000000    3.000000  25259.000000\n",
              "50%     342.000000   17.000000  29545.000000\n",
              "75%    1371.750000  175.250000  37711.000000\n",
              "max    6557.000000  971.000000  95273.000000"
            ],
            "text/html": [
              "\n",
              "  <div id=\"df-cf1c8967-92c7-47ea-832e-97bfcb18f6b9\" class=\"colab-df-container\">\n",
              "    <div>\n",
              "<style scoped>\n",
              "    .dataframe tbody tr th:only-of-type {\n",
              "        vertical-align: middle;\n",
              "    }\n",
              "\n",
              "    .dataframe tbody tr th {\n",
              "        vertical-align: top;\n",
              "    }\n",
              "\n",
              "    .dataframe thead th {\n",
              "        text-align: right;\n",
              "    }\n",
              "</style>\n",
              "<table border=\"1\" class=\"dataframe\">\n",
              "  <thead>\n",
              "    <tr style=\"text-align: right;\">\n",
              "      <th></th>\n",
              "      <th>new_cases</th>\n",
              "      <th>new_deaths</th>\n",
              "      <th>new_tests</th>\n",
              "    </tr>\n",
              "  </thead>\n",
              "  <tbody>\n",
              "    <tr>\n",
              "      <th>count</th>\n",
              "      <td>248.000000</td>\n",
              "      <td>248.000000</td>\n",
              "      <td>135.000000</td>\n",
              "    </tr>\n",
              "    <tr>\n",
              "      <th>mean</th>\n",
              "      <td>1094.818548</td>\n",
              "      <td>143.133065</td>\n",
              "      <td>31699.674074</td>\n",
              "    </tr>\n",
              "    <tr>\n",
              "      <th>std</th>\n",
              "      <td>1554.508002</td>\n",
              "      <td>227.105538</td>\n",
              "      <td>11622.209757</td>\n",
              "    </tr>\n",
              "    <tr>\n",
              "      <th>min</th>\n",
              "      <td>-148.000000</td>\n",
              "      <td>-31.000000</td>\n",
              "      <td>7841.000000</td>\n",
              "    </tr>\n",
              "    <tr>\n",
              "      <th>25%</th>\n",
              "      <td>123.000000</td>\n",
              "      <td>3.000000</td>\n",
              "      <td>25259.000000</td>\n",
              "    </tr>\n",
              "    <tr>\n",
              "      <th>50%</th>\n",
              "      <td>342.000000</td>\n",
              "      <td>17.000000</td>\n",
              "      <td>29545.000000</td>\n",
              "    </tr>\n",
              "    <tr>\n",
              "      <th>75%</th>\n",
              "      <td>1371.750000</td>\n",
              "      <td>175.250000</td>\n",
              "      <td>37711.000000</td>\n",
              "    </tr>\n",
              "    <tr>\n",
              "      <th>max</th>\n",
              "      <td>6557.000000</td>\n",
              "      <td>971.000000</td>\n",
              "      <td>95273.000000</td>\n",
              "    </tr>\n",
              "  </tbody>\n",
              "</table>\n",
              "</div>\n",
              "    <div class=\"colab-df-buttons\">\n",
              "\n",
              "  <div class=\"colab-df-container\">\n",
              "    <button class=\"colab-df-convert\" onclick=\"convertToInteractive('df-cf1c8967-92c7-47ea-832e-97bfcb18f6b9')\"\n",
              "            title=\"Convert this dataframe to an interactive table.\"\n",
              "            style=\"display:none;\">\n",
              "\n",
              "  <svg xmlns=\"http://www.w3.org/2000/svg\" height=\"24px\" viewBox=\"0 -960 960 960\">\n",
              "    <path d=\"M120-120v-720h720v720H120Zm60-500h600v-160H180v160Zm220 220h160v-160H400v160Zm0 220h160v-160H400v160ZM180-400h160v-160H180v160Zm440 0h160v-160H620v160ZM180-180h160v-160H180v160Zm440 0h160v-160H620v160Z\"/>\n",
              "  </svg>\n",
              "    </button>\n",
              "\n",
              "  <style>\n",
              "    .colab-df-container {\n",
              "      display:flex;\n",
              "      gap: 12px;\n",
              "    }\n",
              "\n",
              "    .colab-df-convert {\n",
              "      background-color: #E8F0FE;\n",
              "      border: none;\n",
              "      border-radius: 50%;\n",
              "      cursor: pointer;\n",
              "      display: none;\n",
              "      fill: #1967D2;\n",
              "      height: 32px;\n",
              "      padding: 0 0 0 0;\n",
              "      width: 32px;\n",
              "    }\n",
              "\n",
              "    .colab-df-convert:hover {\n",
              "      background-color: #E2EBFA;\n",
              "      box-shadow: 0px 1px 2px rgba(60, 64, 67, 0.3), 0px 1px 3px 1px rgba(60, 64, 67, 0.15);\n",
              "      fill: #174EA6;\n",
              "    }\n",
              "\n",
              "    .colab-df-buttons div {\n",
              "      margin-bottom: 4px;\n",
              "    }\n",
              "\n",
              "    [theme=dark] .colab-df-convert {\n",
              "      background-color: #3B4455;\n",
              "      fill: #D2E3FC;\n",
              "    }\n",
              "\n",
              "    [theme=dark] .colab-df-convert:hover {\n",
              "      background-color: #434B5C;\n",
              "      box-shadow: 0px 1px 3px 1px rgba(0, 0, 0, 0.15);\n",
              "      filter: drop-shadow(0px 1px 2px rgba(0, 0, 0, 0.3));\n",
              "      fill: #FFFFFF;\n",
              "    }\n",
              "  </style>\n",
              "\n",
              "    <script>\n",
              "      const buttonEl =\n",
              "        document.querySelector('#df-cf1c8967-92c7-47ea-832e-97bfcb18f6b9 button.colab-df-convert');\n",
              "      buttonEl.style.display =\n",
              "        google.colab.kernel.accessAllowed ? 'block' : 'none';\n",
              "\n",
              "      async function convertToInteractive(key) {\n",
              "        const element = document.querySelector('#df-cf1c8967-92c7-47ea-832e-97bfcb18f6b9');\n",
              "        const dataTable =\n",
              "          await google.colab.kernel.invokeFunction('convertToInteractive',\n",
              "                                                    [key], {});\n",
              "        if (!dataTable) return;\n",
              "\n",
              "        const docLinkHtml = 'Like what you see? Visit the ' +\n",
              "          '<a target=\"_blank\" href=https://colab.research.google.com/notebooks/data_table.ipynb>data table notebook</a>'\n",
              "          + ' to learn more about interactive tables.';\n",
              "        element.innerHTML = '';\n",
              "        dataTable['output_type'] = 'display_data';\n",
              "        await google.colab.output.renderOutput(dataTable, element);\n",
              "        const docLink = document.createElement('div');\n",
              "        docLink.innerHTML = docLinkHtml;\n",
              "        element.appendChild(docLink);\n",
              "      }\n",
              "    </script>\n",
              "  </div>\n",
              "\n",
              "\n",
              "<div id=\"df-487341e8-4a82-4993-ac39-ffaa2981db0b\">\n",
              "  <button class=\"colab-df-quickchart\" onclick=\"quickchart('df-487341e8-4a82-4993-ac39-ffaa2981db0b')\"\n",
              "            title=\"Suggest charts\"\n",
              "            style=\"display:none;\">\n",
              "\n",
              "<svg xmlns=\"http://www.w3.org/2000/svg\" height=\"24px\"viewBox=\"0 0 24 24\"\n",
              "     width=\"24px\">\n",
              "    <g>\n",
              "        <path d=\"M19 3H5c-1.1 0-2 .9-2 2v14c0 1.1.9 2 2 2h14c1.1 0 2-.9 2-2V5c0-1.1-.9-2-2-2zM9 17H7v-7h2v7zm4 0h-2V7h2v10zm4 0h-2v-4h2v4z\"/>\n",
              "    </g>\n",
              "</svg>\n",
              "  </button>\n",
              "\n",
              "<style>\n",
              "  .colab-df-quickchart {\n",
              "      --bg-color: #E8F0FE;\n",
              "      --fill-color: #1967D2;\n",
              "      --hover-bg-color: #E2EBFA;\n",
              "      --hover-fill-color: #174EA6;\n",
              "      --disabled-fill-color: #AAA;\n",
              "      --disabled-bg-color: #DDD;\n",
              "  }\n",
              "\n",
              "  [theme=dark] .colab-df-quickchart {\n",
              "      --bg-color: #3B4455;\n",
              "      --fill-color: #D2E3FC;\n",
              "      --hover-bg-color: #434B5C;\n",
              "      --hover-fill-color: #FFFFFF;\n",
              "      --disabled-bg-color: #3B4455;\n",
              "      --disabled-fill-color: #666;\n",
              "  }\n",
              "\n",
              "  .colab-df-quickchart {\n",
              "    background-color: var(--bg-color);\n",
              "    border: none;\n",
              "    border-radius: 50%;\n",
              "    cursor: pointer;\n",
              "    display: none;\n",
              "    fill: var(--fill-color);\n",
              "    height: 32px;\n",
              "    padding: 0;\n",
              "    width: 32px;\n",
              "  }\n",
              "\n",
              "  .colab-df-quickchart:hover {\n",
              "    background-color: var(--hover-bg-color);\n",
              "    box-shadow: 0 1px 2px rgba(60, 64, 67, 0.3), 0 1px 3px 1px rgba(60, 64, 67, 0.15);\n",
              "    fill: var(--button-hover-fill-color);\n",
              "  }\n",
              "\n",
              "  .colab-df-quickchart-complete:disabled,\n",
              "  .colab-df-quickchart-complete:disabled:hover {\n",
              "    background-color: var(--disabled-bg-color);\n",
              "    fill: var(--disabled-fill-color);\n",
              "    box-shadow: none;\n",
              "  }\n",
              "\n",
              "  .colab-df-spinner {\n",
              "    border: 2px solid var(--fill-color);\n",
              "    border-color: transparent;\n",
              "    border-bottom-color: var(--fill-color);\n",
              "    animation:\n",
              "      spin 1s steps(1) infinite;\n",
              "  }\n",
              "\n",
              "  @keyframes spin {\n",
              "    0% {\n",
              "      border-color: transparent;\n",
              "      border-bottom-color: var(--fill-color);\n",
              "      border-left-color: var(--fill-color);\n",
              "    }\n",
              "    20% {\n",
              "      border-color: transparent;\n",
              "      border-left-color: var(--fill-color);\n",
              "      border-top-color: var(--fill-color);\n",
              "    }\n",
              "    30% {\n",
              "      border-color: transparent;\n",
              "      border-left-color: var(--fill-color);\n",
              "      border-top-color: var(--fill-color);\n",
              "      border-right-color: var(--fill-color);\n",
              "    }\n",
              "    40% {\n",
              "      border-color: transparent;\n",
              "      border-right-color: var(--fill-color);\n",
              "      border-top-color: var(--fill-color);\n",
              "    }\n",
              "    60% {\n",
              "      border-color: transparent;\n",
              "      border-right-color: var(--fill-color);\n",
              "    }\n",
              "    80% {\n",
              "      border-color: transparent;\n",
              "      border-right-color: var(--fill-color);\n",
              "      border-bottom-color: var(--fill-color);\n",
              "    }\n",
              "    90% {\n",
              "      border-color: transparent;\n",
              "      border-bottom-color: var(--fill-color);\n",
              "    }\n",
              "  }\n",
              "</style>\n",
              "\n",
              "  <script>\n",
              "    async function quickchart(key) {\n",
              "      const quickchartButtonEl =\n",
              "        document.querySelector('#' + key + ' button');\n",
              "      quickchartButtonEl.disabled = true;  // To prevent multiple clicks.\n",
              "      quickchartButtonEl.classList.add('colab-df-spinner');\n",
              "      try {\n",
              "        const charts = await google.colab.kernel.invokeFunction(\n",
              "            'suggestCharts', [key], {});\n",
              "      } catch (error) {\n",
              "        console.error('Error during call to suggestCharts:', error);\n",
              "      }\n",
              "      quickchartButtonEl.classList.remove('colab-df-spinner');\n",
              "      quickchartButtonEl.classList.add('colab-df-quickchart-complete');\n",
              "    }\n",
              "    (() => {\n",
              "      let quickchartButtonEl =\n",
              "        document.querySelector('#df-487341e8-4a82-4993-ac39-ffaa2981db0b button');\n",
              "      quickchartButtonEl.style.display =\n",
              "        google.colab.kernel.accessAllowed ? 'block' : 'none';\n",
              "    })();\n",
              "  </script>\n",
              "</div>\n",
              "\n",
              "    </div>\n",
              "  </div>\n"
            ],
            "application/vnd.google.colaboratory.intrinsic+json": {
              "type": "dataframe",
              "summary": "{\n  \"name\": \"covid_df\",\n  \"rows\": 8,\n  \"fields\": [\n    {\n      \"column\": \"new_cases\",\n      \"properties\": {\n        \"dtype\": \"number\",\n        \"std\": 2177.3362319509274,\n        \"min\": -148.0,\n        \"max\": 6557.0,\n        \"num_unique_values\": 8,\n        \"samples\": [\n          1094.8185483870968,\n          342.0,\n          248.0\n        ],\n        \"semantic_type\": \"\",\n        \"description\": \"\"\n      }\n    },\n    {\n      \"column\": \"new_deaths\",\n      \"properties\": {\n        \"dtype\": \"number\",\n        \"std\": 321.6120727031897,\n        \"min\": -31.0,\n        \"max\": 971.0,\n        \"num_unique_values\": 8,\n        \"samples\": [\n          143.13306451612902,\n          17.0,\n          248.0\n        ],\n        \"semantic_type\": \"\",\n        \"description\": \"\"\n      }\n    },\n    {\n      \"column\": \"new_tests\",\n      \"properties\": {\n        \"dtype\": \"number\",\n        \"std\": 29438.010601323364,\n        \"min\": 135.0,\n        \"max\": 95273.0,\n        \"num_unique_values\": 8,\n        \"samples\": [\n          31699.674074074075,\n          29545.0,\n          135.0\n        ],\n        \"semantic_type\": \"\",\n        \"description\": \"\"\n      }\n    }\n  ]\n}"
            }
          },
          "metadata": {},
          "execution_count": 11
        }
      ]
    },
    {
      "cell_type": "markdown",
      "source": [
        "The `columns` property contains the list of columns within the data frame."
      ],
      "metadata": {
        "id": "raLTqesJyWYs"
      }
    },
    {
      "cell_type": "code",
      "source": [
        "covid_df.columns"
      ],
      "metadata": {
        "colab": {
          "base_uri": "https://localhost:8080/"
        },
        "id": "hsBZ4nKdyXjh",
        "outputId": "7ace7b6e-e3a8-4dd5-ca23-6ffc23255129"
      },
      "execution_count": null,
      "outputs": [
        {
          "output_type": "execute_result",
          "data": {
            "text/plain": [
              "Index(['date', 'new_cases', 'new_deaths', 'new_tests'], dtype='object')"
            ]
          },
          "metadata": {},
          "execution_count": 12
        }
      ]
    },
    {
      "cell_type": "markdown",
      "source": [
        "You can also retrieve the number of rows and columns in the data frame using the `.shape` property"
      ],
      "metadata": {
        "id": "j7emKSuYyt-Q"
      }
    },
    {
      "cell_type": "code",
      "source": [
        "covid_df.shape"
      ],
      "metadata": {
        "colab": {
          "base_uri": "https://localhost:8080/"
        },
        "id": "PxmAtVHyyuuF",
        "outputId": "287a8f85-b88d-4b9e-aec2-a9553a7bd05f"
      },
      "execution_count": null,
      "outputs": [
        {
          "output_type": "execute_result",
          "data": {
            "text/plain": [
              "(248, 4)"
            ]
          },
          "metadata": {},
          "execution_count": 13
        }
      ]
    },
    {
      "cell_type": "markdown",
      "source": [
        "Here's a summary of the functions & methods we've looked at so far:\n",
        "\n",
        "* `pd.read_csv` - Read data from a CSV file into a Pandas `DataFrame` object\n",
        "* `.info()` - View basic infomation about rows, columns & data types\n",
        "* `.describe()` - View statistical information about numeric columns\n",
        "* `.columns` - Get the list of column names\n",
        "* `.shape` - Get the number of rows & columns as a tuple"
      ],
      "metadata": {
        "id": "DZ6uYPOBy4We"
      }
    },
    {
      "cell_type": "markdown",
      "source": [
        "### Retrieving data from a data frame\n",
        "\n",
        "The first thing you might want to do is retrieve data from this data frame, e.g., the counts of a specific day or the list of values in a particular column. To do this, it might help to understand the internal representation of data in a data frame. Conceptually, you can think of a dataframe as a dictionary of lists: keys are column names, and values are lists/arrays containing data for the respective columns."
      ],
      "metadata": {
        "id": "WI1Ex0-gy7q-"
      }
    },
    {
      "cell_type": "code",
      "source": [
        "# Pandas format is simliar to this\n",
        "covid_data_dict = {\n",
        "    'date':       ['2020-08-30', '2020-08-31', '2020-09-01', '2020-09-02', '2020-09-03'],\n",
        "    'new_cases':  [1444, 1365, 996, 975, 1326],\n",
        "    'new_deaths': [1, 4, 6, 8, 6],\n",
        "    'new_tests': [53541, 42583, 54395, None, None]\n",
        "}"
      ],
      "metadata": {
        "id": "fk4uhj5lzNkD"
      },
      "execution_count": null,
      "outputs": []
    },
    {
      "cell_type": "markdown",
      "source": [
        "Representing data in the above format has a few benefits:\n",
        "\n",
        "* All values in a column typically have the same type of value, so it's more efficient to store them in a single array.\n",
        "* Retrieving the values for a particular row simply requires extracting the elements at a given index from each column array.\n",
        "* The representation is more compact (column names are recorded only once) compared to other formats that use a dictionary for each row of data (see the example below)."
      ],
      "metadata": {
        "id": "D8-XM5hxzYUf"
      }
    },
    {
      "cell_type": "code",
      "source": [
        "# Pandas format is not similar to this\n",
        "covid_data_list = [\n",
        "    {'date': '2020-08-30', 'new_cases': 1444, 'new_deaths': 1, 'new_tests': 53541},\n",
        "    {'date': '2020-08-31', 'new_cases': 1365, 'new_deaths': 4, 'new_tests': 42583},\n",
        "    {'date': '2020-09-01', 'new_cases': 996, 'new_deaths': 6, 'new_tests': 54395},\n",
        "    {'date': '2020-09-02', 'new_cases': 975, 'new_deaths': 8 },\n",
        "    {'date': '2020-09-03', 'new_cases': 1326, 'new_deaths': 6},\n",
        "]"
      ],
      "metadata": {
        "id": "BN7vPCuAzbZu"
      },
      "execution_count": null,
      "outputs": []
    },
    {
      "cell_type": "markdown",
      "source": [
        "With the dictionary of lists analogy in mind, you can now guess how to retrieve data from a data frame. For example, we can get a list of values from a specific column using the `[]` indexing notation."
      ],
      "metadata": {
        "id": "5HpPTf_BG7ou"
      }
    },
    {
      "cell_type": "code",
      "source": [
        "covid_data_dict['new_cases']"
      ],
      "metadata": {
        "colab": {
          "base_uri": "https://localhost:8080/"
        },
        "id": "JKm-VhsGG8kg",
        "outputId": "231f717b-d6ba-4147-8e02-dcadaafeaf95"
      },
      "execution_count": null,
      "outputs": [
        {
          "output_type": "execute_result",
          "data": {
            "text/plain": [
              "[1444, 1365, 996, 975, 1326]"
            ]
          },
          "metadata": {},
          "execution_count": 16
        }
      ]
    },
    {
      "cell_type": "code",
      "source": [
        "covid_df['new_cases']\n",
        "#covid_df.new_cases"
      ],
      "metadata": {
        "colab": {
          "base_uri": "https://localhost:8080/"
        },
        "id": "nHNph3qMHPvA",
        "outputId": "a012ee2e-58c5-47bc-ddcb-a1c2c36064f7"
      },
      "execution_count": null,
      "outputs": [
        {
          "output_type": "execute_result",
          "data": {
            "text/plain": [
              "0         0.0\n",
              "1         0.0\n",
              "2         0.0\n",
              "3         0.0\n",
              "4         0.0\n",
              "        ...  \n",
              "243    1444.0\n",
              "244    1365.0\n",
              "245     996.0\n",
              "246     975.0\n",
              "247    1326.0\n",
              "Name: new_cases, Length: 248, dtype: float64"
            ]
          },
          "metadata": {},
          "execution_count": 38
        }
      ]
    },
    {
      "cell_type": "markdown",
      "source": [
        "Each column is represented using a data structure called `Series`, which is essentially a numpy array with some extra methods and properties."
      ],
      "metadata": {
        "id": "cJ6GuSDYHvwY"
      }
    },
    {
      "cell_type": "code",
      "source": [
        "type(covid_df['new_cases'])"
      ],
      "metadata": {
        "colab": {
          "base_uri": "https://localhost:8080/",
          "height": 203
        },
        "id": "qZfuWkEAHwys",
        "outputId": "3894636d-fae6-4338-9ada-cc3ecdb3fc74"
      },
      "execution_count": null,
      "outputs": [
        {
          "output_type": "execute_result",
          "data": {
            "text/plain": [
              "pandas.core.series.Series"
            ],
            "text/html": [
              "<div style=\"max-width:800px; border: 1px solid var(--colab-border-color);\"><style>\n",
              "      pre.function-repr-contents {\n",
              "        overflow-x: auto;\n",
              "        padding: 8px 12px;\n",
              "        max-height: 500px;\n",
              "      }\n",
              "\n",
              "      pre.function-repr-contents.function-repr-contents-collapsed {\n",
              "        cursor: pointer;\n",
              "        max-height: 100px;\n",
              "      }\n",
              "    </style>\n",
              "    <pre style=\"white-space: initial; background:\n",
              "         var(--colab-secondary-surface-color); padding: 8px 12px;\n",
              "         border-bottom: 1px solid var(--colab-border-color);\"><b>pandas.core.series.Series</b><br/>def __init__(data=None, index=None, dtype: Dtype | None=None, name=None, copy: bool | None=None, fastpath: bool=False) -&gt; None</pre><pre class=\"function-repr-contents function-repr-contents-collapsed\" style=\"\"><a class=\"filepath\" style=\"display:none\" href=\"#\">/usr/local/lib/python3.10/dist-packages/pandas/core/series.py</a>One-dimensional ndarray with axis labels (including time series).\n",
              "\n",
              "Labels need not be unique but must be a hashable type. The object\n",
              "supports both integer- and label-based indexing and provides a host of\n",
              "methods for performing operations involving the index. Statistical\n",
              "methods from ndarray have been overridden to automatically exclude\n",
              "missing data (currently represented as NaN).\n",
              "\n",
              "Operations between Series (+, -, /, \\*, \\*\\*) align values based on their\n",
              "associated index values-- they need not be the same length. The result\n",
              "index will be the sorted union of the two indexes.\n",
              "\n",
              "Parameters\n",
              "----------\n",
              "data : array-like, Iterable, dict, or scalar value\n",
              "    Contains data stored in Series. If data is a dict, argument order is\n",
              "    maintained.\n",
              "index : array-like or Index (1d)\n",
              "    Values must be hashable and have the same length as `data`.\n",
              "    Non-unique index values are allowed. Will default to\n",
              "    RangeIndex (0, 1, 2, ..., n) if not provided. If data is dict-like\n",
              "    and index is None, then the keys in the data are used as the index. If the\n",
              "    index is not None, the resulting Series is reindexed with the index values.\n",
              "dtype : str, numpy.dtype, or ExtensionDtype, optional\n",
              "    Data type for the output Series. If not specified, this will be\n",
              "    inferred from `data`.\n",
              "    See the :ref:`user guide &lt;basics.dtypes&gt;` for more usages.\n",
              "name : Hashable, default None\n",
              "    The name to give to the Series.\n",
              "copy : bool, default False\n",
              "    Copy input data. Only affects Series or 1d ndarray input. See examples.\n",
              "\n",
              "Notes\n",
              "-----\n",
              "Please reference the :ref:`User Guide &lt;basics.series&gt;` for more information.\n",
              "\n",
              "Examples\n",
              "--------\n",
              "Constructing Series from a dictionary with an Index specified\n",
              "\n",
              "&gt;&gt;&gt; d = {&#x27;a&#x27;: 1, &#x27;b&#x27;: 2, &#x27;c&#x27;: 3}\n",
              "&gt;&gt;&gt; ser = pd.Series(data=d, index=[&#x27;a&#x27;, &#x27;b&#x27;, &#x27;c&#x27;])\n",
              "&gt;&gt;&gt; ser\n",
              "a   1\n",
              "b   2\n",
              "c   3\n",
              "dtype: int64\n",
              "\n",
              "The keys of the dictionary match with the Index values, hence the Index\n",
              "values have no effect.\n",
              "\n",
              "&gt;&gt;&gt; d = {&#x27;a&#x27;: 1, &#x27;b&#x27;: 2, &#x27;c&#x27;: 3}\n",
              "&gt;&gt;&gt; ser = pd.Series(data=d, index=[&#x27;x&#x27;, &#x27;y&#x27;, &#x27;z&#x27;])\n",
              "&gt;&gt;&gt; ser\n",
              "x   NaN\n",
              "y   NaN\n",
              "z   NaN\n",
              "dtype: float64\n",
              "\n",
              "Note that the Index is first build with the keys from the dictionary.\n",
              "After this the Series is reindexed with the given Index values, hence we\n",
              "get all NaN as a result.\n",
              "\n",
              "Constructing Series from a list with `copy=False`.\n",
              "\n",
              "&gt;&gt;&gt; r = [1, 2]\n",
              "&gt;&gt;&gt; ser = pd.Series(r, copy=False)\n",
              "&gt;&gt;&gt; ser.iloc[0] = 999\n",
              "&gt;&gt;&gt; r\n",
              "[1, 2]\n",
              "&gt;&gt;&gt; ser\n",
              "0    999\n",
              "1      2\n",
              "dtype: int64\n",
              "\n",
              "Due to input data type the Series has a `copy` of\n",
              "the original data even though `copy=False`, so\n",
              "the data is unchanged.\n",
              "\n",
              "Constructing Series from a 1d ndarray with `copy=False`.\n",
              "\n",
              "&gt;&gt;&gt; r = np.array([1, 2])\n",
              "&gt;&gt;&gt; ser = pd.Series(r, copy=False)\n",
              "&gt;&gt;&gt; ser.iloc[0] = 999\n",
              "&gt;&gt;&gt; r\n",
              "array([999,   2])\n",
              "&gt;&gt;&gt; ser\n",
              "0    999\n",
              "1      2\n",
              "dtype: int64\n",
              "\n",
              "Due to input data type the Series has a `view` on\n",
              "the original data, so\n",
              "the data is changed as well.</pre>\n",
              "      <script>\n",
              "      if (google.colab.kernel.accessAllowed && google.colab.files && google.colab.files.view) {\n",
              "        for (const element of document.querySelectorAll('.filepath')) {\n",
              "          element.style.display = 'block'\n",
              "          element.onclick = (event) => {\n",
              "            event.preventDefault();\n",
              "            event.stopPropagation();\n",
              "            google.colab.files.view(element.textContent, 244);\n",
              "          };\n",
              "        }\n",
              "      }\n",
              "      for (const element of document.querySelectorAll('.function-repr-contents')) {\n",
              "        element.onclick = (event) => {\n",
              "          event.preventDefault();\n",
              "          event.stopPropagation();\n",
              "          element.classList.toggle('function-repr-contents-collapsed');\n",
              "        };\n",
              "      }\n",
              "      </script>\n",
              "      </div>"
            ]
          },
          "metadata": {},
          "execution_count": 18
        }
      ]
    },
    {
      "cell_type": "markdown",
      "source": [
        "Like arrays, you can retrieve a specific value with a series using the indexing notation `[]`."
      ],
      "metadata": {
        "id": "TLbbXzO7H-jf"
      }
    },
    {
      "cell_type": "code",
      "source": [
        "covid_df['new_cases'][246]"
      ],
      "metadata": {
        "colab": {
          "base_uri": "https://localhost:8080/"
        },
        "id": "gtuux5yFH_WG",
        "outputId": "23467709-4e79-417b-8d8e-d3ca83f8f9e0"
      },
      "execution_count": null,
      "outputs": [
        {
          "output_type": "execute_result",
          "data": {
            "text/plain": [
              "975.0"
            ]
          },
          "metadata": {},
          "execution_count": 19
        }
      ]
    },
    {
      "cell_type": "markdown",
      "source": [
        "Pandas also provides the `.at` method to retrieve the element at a specific row & column directly."
      ],
      "metadata": {
        "id": "HoAyMoJwII58"
      }
    },
    {
      "cell_type": "code",
      "source": [
        "covid_df.at[246, 'new_cases']"
      ],
      "metadata": {
        "colab": {
          "base_uri": "https://localhost:8080/"
        },
        "id": "PVxBDZtfIKaS",
        "outputId": "68889b9f-98f3-49bf-cf94-f49bce272100"
      },
      "execution_count": null,
      "outputs": [
        {
          "output_type": "execute_result",
          "data": {
            "text/plain": [
              "975.0"
            ]
          },
          "metadata": {},
          "execution_count": 20
        }
      ]
    },
    {
      "cell_type": "markdown",
      "source": [
        "Instead of using the indexing notation `[]`, Pandas also allows accessing columns as properties of the dataframe using the `.` notation. However, this method only works for columns whose names do not contain spaces or special characters."
      ],
      "metadata": {
        "id": "N989_2XRIZa-"
      }
    },
    {
      "cell_type": "code",
      "source": [
        "# Same as covid_df['new_cases']\n",
        "covid_df.new_cases"
      ],
      "metadata": {
        "colab": {
          "base_uri": "https://localhost:8080/"
        },
        "id": "lxMxgi_JIamt",
        "outputId": "568afc2c-aed4-4fc5-f874-bffd136e351e"
      },
      "execution_count": null,
      "outputs": [
        {
          "output_type": "execute_result",
          "data": {
            "text/plain": [
              "0         0.0\n",
              "1         0.0\n",
              "2         0.0\n",
              "3         0.0\n",
              "4         0.0\n",
              "        ...  \n",
              "243    1444.0\n",
              "244    1365.0\n",
              "245     996.0\n",
              "246     975.0\n",
              "247    1326.0\n",
              "Name: new_cases, Length: 248, dtype: float64"
            ]
          },
          "metadata": {},
          "execution_count": 21
        }
      ]
    },
    {
      "cell_type": "markdown",
      "source": [
        "Further, you can also pass a list of columns within the indexing notation `[]` to access a subset of the data frame with just the given columns."
      ],
      "metadata": {
        "id": "496LYh57I0v7"
      }
    },
    {
      "cell_type": "code",
      "source": [
        "cases_df = covid_df[['date', 'new_cases']]\n",
        "cases_df"
      ],
      "metadata": {
        "colab": {
          "base_uri": "https://localhost:8080/",
          "height": 423
        },
        "id": "P0jfwKUPI1pY",
        "outputId": "ae323846-da63-4c29-d623-d9c0781958f6"
      },
      "execution_count": null,
      "outputs": [
        {
          "output_type": "execute_result",
          "data": {
            "text/plain": [
              "           date  new_cases\n",
              "0    2019-12-31        0.0\n",
              "1    2020-01-01        0.0\n",
              "2    2020-01-02        0.0\n",
              "3    2020-01-03        0.0\n",
              "4    2020-01-04        0.0\n",
              "..          ...        ...\n",
              "243  2020-08-30     1444.0\n",
              "244  2020-08-31     1365.0\n",
              "245  2020-09-01      996.0\n",
              "246  2020-09-02      975.0\n",
              "247  2020-09-03     1326.0\n",
              "\n",
              "[248 rows x 2 columns]"
            ],
            "text/html": [
              "\n",
              "  <div id=\"df-58afea80-8414-47e7-972c-9cbbf3d3e418\" class=\"colab-df-container\">\n",
              "    <div>\n",
              "<style scoped>\n",
              "    .dataframe tbody tr th:only-of-type {\n",
              "        vertical-align: middle;\n",
              "    }\n",
              "\n",
              "    .dataframe tbody tr th {\n",
              "        vertical-align: top;\n",
              "    }\n",
              "\n",
              "    .dataframe thead th {\n",
              "        text-align: right;\n",
              "    }\n",
              "</style>\n",
              "<table border=\"1\" class=\"dataframe\">\n",
              "  <thead>\n",
              "    <tr style=\"text-align: right;\">\n",
              "      <th></th>\n",
              "      <th>date</th>\n",
              "      <th>new_cases</th>\n",
              "    </tr>\n",
              "  </thead>\n",
              "  <tbody>\n",
              "    <tr>\n",
              "      <th>0</th>\n",
              "      <td>2019-12-31</td>\n",
              "      <td>0.0</td>\n",
              "    </tr>\n",
              "    <tr>\n",
              "      <th>1</th>\n",
              "      <td>2020-01-01</td>\n",
              "      <td>0.0</td>\n",
              "    </tr>\n",
              "    <tr>\n",
              "      <th>2</th>\n",
              "      <td>2020-01-02</td>\n",
              "      <td>0.0</td>\n",
              "    </tr>\n",
              "    <tr>\n",
              "      <th>3</th>\n",
              "      <td>2020-01-03</td>\n",
              "      <td>0.0</td>\n",
              "    </tr>\n",
              "    <tr>\n",
              "      <th>4</th>\n",
              "      <td>2020-01-04</td>\n",
              "      <td>0.0</td>\n",
              "    </tr>\n",
              "    <tr>\n",
              "      <th>...</th>\n",
              "      <td>...</td>\n",
              "      <td>...</td>\n",
              "    </tr>\n",
              "    <tr>\n",
              "      <th>243</th>\n",
              "      <td>2020-08-30</td>\n",
              "      <td>1444.0</td>\n",
              "    </tr>\n",
              "    <tr>\n",
              "      <th>244</th>\n",
              "      <td>2020-08-31</td>\n",
              "      <td>1365.0</td>\n",
              "    </tr>\n",
              "    <tr>\n",
              "      <th>245</th>\n",
              "      <td>2020-09-01</td>\n",
              "      <td>996.0</td>\n",
              "    </tr>\n",
              "    <tr>\n",
              "      <th>246</th>\n",
              "      <td>2020-09-02</td>\n",
              "      <td>975.0</td>\n",
              "    </tr>\n",
              "    <tr>\n",
              "      <th>247</th>\n",
              "      <td>2020-09-03</td>\n",
              "      <td>1326.0</td>\n",
              "    </tr>\n",
              "  </tbody>\n",
              "</table>\n",
              "<p>248 rows × 2 columns</p>\n",
              "</div>\n",
              "    <div class=\"colab-df-buttons\">\n",
              "\n",
              "  <div class=\"colab-df-container\">\n",
              "    <button class=\"colab-df-convert\" onclick=\"convertToInteractive('df-58afea80-8414-47e7-972c-9cbbf3d3e418')\"\n",
              "            title=\"Convert this dataframe to an interactive table.\"\n",
              "            style=\"display:none;\">\n",
              "\n",
              "  <svg xmlns=\"http://www.w3.org/2000/svg\" height=\"24px\" viewBox=\"0 -960 960 960\">\n",
              "    <path d=\"M120-120v-720h720v720H120Zm60-500h600v-160H180v160Zm220 220h160v-160H400v160Zm0 220h160v-160H400v160ZM180-400h160v-160H180v160Zm440 0h160v-160H620v160ZM180-180h160v-160H180v160Zm440 0h160v-160H620v160Z\"/>\n",
              "  </svg>\n",
              "    </button>\n",
              "\n",
              "  <style>\n",
              "    .colab-df-container {\n",
              "      display:flex;\n",
              "      gap: 12px;\n",
              "    }\n",
              "\n",
              "    .colab-df-convert {\n",
              "      background-color: #E8F0FE;\n",
              "      border: none;\n",
              "      border-radius: 50%;\n",
              "      cursor: pointer;\n",
              "      display: none;\n",
              "      fill: #1967D2;\n",
              "      height: 32px;\n",
              "      padding: 0 0 0 0;\n",
              "      width: 32px;\n",
              "    }\n",
              "\n",
              "    .colab-df-convert:hover {\n",
              "      background-color: #E2EBFA;\n",
              "      box-shadow: 0px 1px 2px rgba(60, 64, 67, 0.3), 0px 1px 3px 1px rgba(60, 64, 67, 0.15);\n",
              "      fill: #174EA6;\n",
              "    }\n",
              "\n",
              "    .colab-df-buttons div {\n",
              "      margin-bottom: 4px;\n",
              "    }\n",
              "\n",
              "    [theme=dark] .colab-df-convert {\n",
              "      background-color: #3B4455;\n",
              "      fill: #D2E3FC;\n",
              "    }\n",
              "\n",
              "    [theme=dark] .colab-df-convert:hover {\n",
              "      background-color: #434B5C;\n",
              "      box-shadow: 0px 1px 3px 1px rgba(0, 0, 0, 0.15);\n",
              "      filter: drop-shadow(0px 1px 2px rgba(0, 0, 0, 0.3));\n",
              "      fill: #FFFFFF;\n",
              "    }\n",
              "  </style>\n",
              "\n",
              "    <script>\n",
              "      const buttonEl =\n",
              "        document.querySelector('#df-58afea80-8414-47e7-972c-9cbbf3d3e418 button.colab-df-convert');\n",
              "      buttonEl.style.display =\n",
              "        google.colab.kernel.accessAllowed ? 'block' : 'none';\n",
              "\n",
              "      async function convertToInteractive(key) {\n",
              "        const element = document.querySelector('#df-58afea80-8414-47e7-972c-9cbbf3d3e418');\n",
              "        const dataTable =\n",
              "          await google.colab.kernel.invokeFunction('convertToInteractive',\n",
              "                                                    [key], {});\n",
              "        if (!dataTable) return;\n",
              "\n",
              "        const docLinkHtml = 'Like what you see? Visit the ' +\n",
              "          '<a target=\"_blank\" href=https://colab.research.google.com/notebooks/data_table.ipynb>data table notebook</a>'\n",
              "          + ' to learn more about interactive tables.';\n",
              "        element.innerHTML = '';\n",
              "        dataTable['output_type'] = 'display_data';\n",
              "        await google.colab.output.renderOutput(dataTable, element);\n",
              "        const docLink = document.createElement('div');\n",
              "        docLink.innerHTML = docLinkHtml;\n",
              "        element.appendChild(docLink);\n",
              "      }\n",
              "    </script>\n",
              "  </div>\n",
              "\n",
              "\n",
              "<div id=\"df-248eca23-dae9-4deb-b1e6-2653fb9a44bd\">\n",
              "  <button class=\"colab-df-quickchart\" onclick=\"quickchart('df-248eca23-dae9-4deb-b1e6-2653fb9a44bd')\"\n",
              "            title=\"Suggest charts\"\n",
              "            style=\"display:none;\">\n",
              "\n",
              "<svg xmlns=\"http://www.w3.org/2000/svg\" height=\"24px\"viewBox=\"0 0 24 24\"\n",
              "     width=\"24px\">\n",
              "    <g>\n",
              "        <path d=\"M19 3H5c-1.1 0-2 .9-2 2v14c0 1.1.9 2 2 2h14c1.1 0 2-.9 2-2V5c0-1.1-.9-2-2-2zM9 17H7v-7h2v7zm4 0h-2V7h2v10zm4 0h-2v-4h2v4z\"/>\n",
              "    </g>\n",
              "</svg>\n",
              "  </button>\n",
              "\n",
              "<style>\n",
              "  .colab-df-quickchart {\n",
              "      --bg-color: #E8F0FE;\n",
              "      --fill-color: #1967D2;\n",
              "      --hover-bg-color: #E2EBFA;\n",
              "      --hover-fill-color: #174EA6;\n",
              "      --disabled-fill-color: #AAA;\n",
              "      --disabled-bg-color: #DDD;\n",
              "  }\n",
              "\n",
              "  [theme=dark] .colab-df-quickchart {\n",
              "      --bg-color: #3B4455;\n",
              "      --fill-color: #D2E3FC;\n",
              "      --hover-bg-color: #434B5C;\n",
              "      --hover-fill-color: #FFFFFF;\n",
              "      --disabled-bg-color: #3B4455;\n",
              "      --disabled-fill-color: #666;\n",
              "  }\n",
              "\n",
              "  .colab-df-quickchart {\n",
              "    background-color: var(--bg-color);\n",
              "    border: none;\n",
              "    border-radius: 50%;\n",
              "    cursor: pointer;\n",
              "    display: none;\n",
              "    fill: var(--fill-color);\n",
              "    height: 32px;\n",
              "    padding: 0;\n",
              "    width: 32px;\n",
              "  }\n",
              "\n",
              "  .colab-df-quickchart:hover {\n",
              "    background-color: var(--hover-bg-color);\n",
              "    box-shadow: 0 1px 2px rgba(60, 64, 67, 0.3), 0 1px 3px 1px rgba(60, 64, 67, 0.15);\n",
              "    fill: var(--button-hover-fill-color);\n",
              "  }\n",
              "\n",
              "  .colab-df-quickchart-complete:disabled,\n",
              "  .colab-df-quickchart-complete:disabled:hover {\n",
              "    background-color: var(--disabled-bg-color);\n",
              "    fill: var(--disabled-fill-color);\n",
              "    box-shadow: none;\n",
              "  }\n",
              "\n",
              "  .colab-df-spinner {\n",
              "    border: 2px solid var(--fill-color);\n",
              "    border-color: transparent;\n",
              "    border-bottom-color: var(--fill-color);\n",
              "    animation:\n",
              "      spin 1s steps(1) infinite;\n",
              "  }\n",
              "\n",
              "  @keyframes spin {\n",
              "    0% {\n",
              "      border-color: transparent;\n",
              "      border-bottom-color: var(--fill-color);\n",
              "      border-left-color: var(--fill-color);\n",
              "    }\n",
              "    20% {\n",
              "      border-color: transparent;\n",
              "      border-left-color: var(--fill-color);\n",
              "      border-top-color: var(--fill-color);\n",
              "    }\n",
              "    30% {\n",
              "      border-color: transparent;\n",
              "      border-left-color: var(--fill-color);\n",
              "      border-top-color: var(--fill-color);\n",
              "      border-right-color: var(--fill-color);\n",
              "    }\n",
              "    40% {\n",
              "      border-color: transparent;\n",
              "      border-right-color: var(--fill-color);\n",
              "      border-top-color: var(--fill-color);\n",
              "    }\n",
              "    60% {\n",
              "      border-color: transparent;\n",
              "      border-right-color: var(--fill-color);\n",
              "    }\n",
              "    80% {\n",
              "      border-color: transparent;\n",
              "      border-right-color: var(--fill-color);\n",
              "      border-bottom-color: var(--fill-color);\n",
              "    }\n",
              "    90% {\n",
              "      border-color: transparent;\n",
              "      border-bottom-color: var(--fill-color);\n",
              "    }\n",
              "  }\n",
              "</style>\n",
              "\n",
              "  <script>\n",
              "    async function quickchart(key) {\n",
              "      const quickchartButtonEl =\n",
              "        document.querySelector('#' + key + ' button');\n",
              "      quickchartButtonEl.disabled = true;  // To prevent multiple clicks.\n",
              "      quickchartButtonEl.classList.add('colab-df-spinner');\n",
              "      try {\n",
              "        const charts = await google.colab.kernel.invokeFunction(\n",
              "            'suggestCharts', [key], {});\n",
              "      } catch (error) {\n",
              "        console.error('Error during call to suggestCharts:', error);\n",
              "      }\n",
              "      quickchartButtonEl.classList.remove('colab-df-spinner');\n",
              "      quickchartButtonEl.classList.add('colab-df-quickchart-complete');\n",
              "    }\n",
              "    (() => {\n",
              "      let quickchartButtonEl =\n",
              "        document.querySelector('#df-248eca23-dae9-4deb-b1e6-2653fb9a44bd button');\n",
              "      quickchartButtonEl.style.display =\n",
              "        google.colab.kernel.accessAllowed ? 'block' : 'none';\n",
              "    })();\n",
              "  </script>\n",
              "</div>\n",
              "\n",
              "  <div id=\"id_6bc54423-31d2-4799-8435-012e01a408df\">\n",
              "    <style>\n",
              "      .colab-df-generate {\n",
              "        background-color: #E8F0FE;\n",
              "        border: none;\n",
              "        border-radius: 50%;\n",
              "        cursor: pointer;\n",
              "        display: none;\n",
              "        fill: #1967D2;\n",
              "        height: 32px;\n",
              "        padding: 0 0 0 0;\n",
              "        width: 32px;\n",
              "      }\n",
              "\n",
              "      .colab-df-generate:hover {\n",
              "        background-color: #E2EBFA;\n",
              "        box-shadow: 0px 1px 2px rgba(60, 64, 67, 0.3), 0px 1px 3px 1px rgba(60, 64, 67, 0.15);\n",
              "        fill: #174EA6;\n",
              "      }\n",
              "\n",
              "      [theme=dark] .colab-df-generate {\n",
              "        background-color: #3B4455;\n",
              "        fill: #D2E3FC;\n",
              "      }\n",
              "\n",
              "      [theme=dark] .colab-df-generate:hover {\n",
              "        background-color: #434B5C;\n",
              "        box-shadow: 0px 1px 3px 1px rgba(0, 0, 0, 0.15);\n",
              "        filter: drop-shadow(0px 1px 2px rgba(0, 0, 0, 0.3));\n",
              "        fill: #FFFFFF;\n",
              "      }\n",
              "    </style>\n",
              "    <button class=\"colab-df-generate\" onclick=\"generateWithVariable('cases_df')\"\n",
              "            title=\"Generate code using this dataframe.\"\n",
              "            style=\"display:none;\">\n",
              "\n",
              "  <svg xmlns=\"http://www.w3.org/2000/svg\" height=\"24px\"viewBox=\"0 0 24 24\"\n",
              "       width=\"24px\">\n",
              "    <path d=\"M7,19H8.4L18.45,9,17,7.55,7,17.6ZM5,21V16.75L18.45,3.32a2,2,0,0,1,2.83,0l1.4,1.43a1.91,1.91,0,0,1,.58,1.4,1.91,1.91,0,0,1-.58,1.4L9.25,21ZM18.45,9,17,7.55Zm-12,3A5.31,5.31,0,0,0,4.9,8.1,5.31,5.31,0,0,0,1,6.5,5.31,5.31,0,0,0,4.9,4.9,5.31,5.31,0,0,0,6.5,1,5.31,5.31,0,0,0,8.1,4.9,5.31,5.31,0,0,0,12,6.5,5.46,5.46,0,0,0,6.5,12Z\"/>\n",
              "  </svg>\n",
              "    </button>\n",
              "    <script>\n",
              "      (() => {\n",
              "      const buttonEl =\n",
              "        document.querySelector('#id_6bc54423-31d2-4799-8435-012e01a408df button.colab-df-generate');\n",
              "      buttonEl.style.display =\n",
              "        google.colab.kernel.accessAllowed ? 'block' : 'none';\n",
              "\n",
              "      buttonEl.onclick = () => {\n",
              "        google.colab.notebook.generateWithVariable('cases_df');\n",
              "      }\n",
              "      })();\n",
              "    </script>\n",
              "  </div>\n",
              "\n",
              "    </div>\n",
              "  </div>\n"
            ],
            "application/vnd.google.colaboratory.intrinsic+json": {
              "type": "dataframe",
              "variable_name": "cases_df",
              "summary": "{\n  \"name\": \"cases_df\",\n  \"rows\": 248,\n  \"fields\": [\n    {\n      \"column\": \"date\",\n      \"properties\": {\n        \"dtype\": \"object\",\n        \"num_unique_values\": 248,\n        \"samples\": [\n          \"2020-02-02\",\n          \"2020-01-06\",\n          \"2020-06-30\"\n        ],\n        \"semantic_type\": \"\",\n        \"description\": \"\"\n      }\n    },\n    {\n      \"column\": \"new_cases\",\n      \"properties\": {\n        \"dtype\": \"number\",\n        \"std\": 1554.5080021940491,\n        \"min\": -148.0,\n        \"max\": 6557.0,\n        \"num_unique_values\": 188,\n        \"samples\": [\n          1460.0,\n          159.0,\n          1492.0\n        ],\n        \"semantic_type\": \"\",\n        \"description\": \"\"\n      }\n    }\n  ]\n}"
            }
          },
          "metadata": {},
          "execution_count": 22
        }
      ]
    },
    {
      "cell_type": "markdown",
      "source": [
        "The new data frame `cases_df` is simply a \"view\" of the original data frame `covid_df`. Both point to the same data in the computer's memory. **Changing any values inside one of them will also change the respective values in the other.** Sharing data between data frames makes data manipulation in Pandas blazing fast. You needn't worry about the overhead of copying thousands or millions of rows every time you want to create a new data frame by operating on an existing one.\n",
        "\n",
        "Sometimes you might need a full copy of the data frame, in which case you can use the `copy` method."
      ],
      "metadata": {
        "id": "Kxz67tlwI_te"
      }
    },
    {
      "cell_type": "code",
      "source": [
        "covid_df_copy = covid_df.copy()"
      ],
      "metadata": {
        "id": "VnJ8vi0yJHOT"
      },
      "execution_count": null,
      "outputs": []
    },
    {
      "cell_type": "markdown",
      "source": [
        "The data within `covid_df_copy` is completely separate from `covid_df`, and changing values inside one of them will not affect the other."
      ],
      "metadata": {
        "id": "VBvpTCMpJJ6p"
      }
    },
    {
      "cell_type": "markdown",
      "source": [
        "To access a ***specific row*** of data, Pandas provides the `.loc` method."
      ],
      "metadata": {
        "id": "3XTT1wTiJOF1"
      }
    },
    {
      "cell_type": "code",
      "source": [
        "covid_df"
      ],
      "metadata": {
        "colab": {
          "base_uri": "https://localhost:8080/",
          "height": 423
        },
        "id": "N-qoKS09JZv_",
        "outputId": "19c76b00-fd44-4cc3-90ae-8de22c083dde"
      },
      "execution_count": null,
      "outputs": [
        {
          "output_type": "execute_result",
          "data": {
            "text/plain": [
              "           date  new_cases  new_deaths  new_tests\n",
              "0    2019-12-31        0.0         0.0        NaN\n",
              "1    2020-01-01        0.0         0.0        NaN\n",
              "2    2020-01-02        0.0         0.0        NaN\n",
              "3    2020-01-03        0.0         0.0        NaN\n",
              "4    2020-01-04        0.0         0.0        NaN\n",
              "..          ...        ...         ...        ...\n",
              "243  2020-08-30     1444.0         1.0    53541.0\n",
              "244  2020-08-31     1365.0         4.0    42583.0\n",
              "245  2020-09-01      996.0         6.0    54395.0\n",
              "246  2020-09-02      975.0         8.0        NaN\n",
              "247  2020-09-03     1326.0         6.0        NaN\n",
              "\n",
              "[248 rows x 4 columns]"
            ],
            "text/html": [
              "\n",
              "  <div id=\"df-08707159-190b-46f7-a57e-42cd1cb024a3\" class=\"colab-df-container\">\n",
              "    <div>\n",
              "<style scoped>\n",
              "    .dataframe tbody tr th:only-of-type {\n",
              "        vertical-align: middle;\n",
              "    }\n",
              "\n",
              "    .dataframe tbody tr th {\n",
              "        vertical-align: top;\n",
              "    }\n",
              "\n",
              "    .dataframe thead th {\n",
              "        text-align: right;\n",
              "    }\n",
              "</style>\n",
              "<table border=\"1\" class=\"dataframe\">\n",
              "  <thead>\n",
              "    <tr style=\"text-align: right;\">\n",
              "      <th></th>\n",
              "      <th>date</th>\n",
              "      <th>new_cases</th>\n",
              "      <th>new_deaths</th>\n",
              "      <th>new_tests</th>\n",
              "    </tr>\n",
              "  </thead>\n",
              "  <tbody>\n",
              "    <tr>\n",
              "      <th>0</th>\n",
              "      <td>2019-12-31</td>\n",
              "      <td>0.0</td>\n",
              "      <td>0.0</td>\n",
              "      <td>NaN</td>\n",
              "    </tr>\n",
              "    <tr>\n",
              "      <th>1</th>\n",
              "      <td>2020-01-01</td>\n",
              "      <td>0.0</td>\n",
              "      <td>0.0</td>\n",
              "      <td>NaN</td>\n",
              "    </tr>\n",
              "    <tr>\n",
              "      <th>2</th>\n",
              "      <td>2020-01-02</td>\n",
              "      <td>0.0</td>\n",
              "      <td>0.0</td>\n",
              "      <td>NaN</td>\n",
              "    </tr>\n",
              "    <tr>\n",
              "      <th>3</th>\n",
              "      <td>2020-01-03</td>\n",
              "      <td>0.0</td>\n",
              "      <td>0.0</td>\n",
              "      <td>NaN</td>\n",
              "    </tr>\n",
              "    <tr>\n",
              "      <th>4</th>\n",
              "      <td>2020-01-04</td>\n",
              "      <td>0.0</td>\n",
              "      <td>0.0</td>\n",
              "      <td>NaN</td>\n",
              "    </tr>\n",
              "    <tr>\n",
              "      <th>...</th>\n",
              "      <td>...</td>\n",
              "      <td>...</td>\n",
              "      <td>...</td>\n",
              "      <td>...</td>\n",
              "    </tr>\n",
              "    <tr>\n",
              "      <th>243</th>\n",
              "      <td>2020-08-30</td>\n",
              "      <td>1444.0</td>\n",
              "      <td>1.0</td>\n",
              "      <td>53541.0</td>\n",
              "    </tr>\n",
              "    <tr>\n",
              "      <th>244</th>\n",
              "      <td>2020-08-31</td>\n",
              "      <td>1365.0</td>\n",
              "      <td>4.0</td>\n",
              "      <td>42583.0</td>\n",
              "    </tr>\n",
              "    <tr>\n",
              "      <th>245</th>\n",
              "      <td>2020-09-01</td>\n",
              "      <td>996.0</td>\n",
              "      <td>6.0</td>\n",
              "      <td>54395.0</td>\n",
              "    </tr>\n",
              "    <tr>\n",
              "      <th>246</th>\n",
              "      <td>2020-09-02</td>\n",
              "      <td>975.0</td>\n",
              "      <td>8.0</td>\n",
              "      <td>NaN</td>\n",
              "    </tr>\n",
              "    <tr>\n",
              "      <th>247</th>\n",
              "      <td>2020-09-03</td>\n",
              "      <td>1326.0</td>\n",
              "      <td>6.0</td>\n",
              "      <td>NaN</td>\n",
              "    </tr>\n",
              "  </tbody>\n",
              "</table>\n",
              "<p>248 rows × 4 columns</p>\n",
              "</div>\n",
              "    <div class=\"colab-df-buttons\">\n",
              "\n",
              "  <div class=\"colab-df-container\">\n",
              "    <button class=\"colab-df-convert\" onclick=\"convertToInteractive('df-08707159-190b-46f7-a57e-42cd1cb024a3')\"\n",
              "            title=\"Convert this dataframe to an interactive table.\"\n",
              "            style=\"display:none;\">\n",
              "\n",
              "  <svg xmlns=\"http://www.w3.org/2000/svg\" height=\"24px\" viewBox=\"0 -960 960 960\">\n",
              "    <path d=\"M120-120v-720h720v720H120Zm60-500h600v-160H180v160Zm220 220h160v-160H400v160Zm0 220h160v-160H400v160ZM180-400h160v-160H180v160Zm440 0h160v-160H620v160ZM180-180h160v-160H180v160Zm440 0h160v-160H620v160Z\"/>\n",
              "  </svg>\n",
              "    </button>\n",
              "\n",
              "  <style>\n",
              "    .colab-df-container {\n",
              "      display:flex;\n",
              "      gap: 12px;\n",
              "    }\n",
              "\n",
              "    .colab-df-convert {\n",
              "      background-color: #E8F0FE;\n",
              "      border: none;\n",
              "      border-radius: 50%;\n",
              "      cursor: pointer;\n",
              "      display: none;\n",
              "      fill: #1967D2;\n",
              "      height: 32px;\n",
              "      padding: 0 0 0 0;\n",
              "      width: 32px;\n",
              "    }\n",
              "\n",
              "    .colab-df-convert:hover {\n",
              "      background-color: #E2EBFA;\n",
              "      box-shadow: 0px 1px 2px rgba(60, 64, 67, 0.3), 0px 1px 3px 1px rgba(60, 64, 67, 0.15);\n",
              "      fill: #174EA6;\n",
              "    }\n",
              "\n",
              "    .colab-df-buttons div {\n",
              "      margin-bottom: 4px;\n",
              "    }\n",
              "\n",
              "    [theme=dark] .colab-df-convert {\n",
              "      background-color: #3B4455;\n",
              "      fill: #D2E3FC;\n",
              "    }\n",
              "\n",
              "    [theme=dark] .colab-df-convert:hover {\n",
              "      background-color: #434B5C;\n",
              "      box-shadow: 0px 1px 3px 1px rgba(0, 0, 0, 0.15);\n",
              "      filter: drop-shadow(0px 1px 2px rgba(0, 0, 0, 0.3));\n",
              "      fill: #FFFFFF;\n",
              "    }\n",
              "  </style>\n",
              "\n",
              "    <script>\n",
              "      const buttonEl =\n",
              "        document.querySelector('#df-08707159-190b-46f7-a57e-42cd1cb024a3 button.colab-df-convert');\n",
              "      buttonEl.style.display =\n",
              "        google.colab.kernel.accessAllowed ? 'block' : 'none';\n",
              "\n",
              "      async function convertToInteractive(key) {\n",
              "        const element = document.querySelector('#df-08707159-190b-46f7-a57e-42cd1cb024a3');\n",
              "        const dataTable =\n",
              "          await google.colab.kernel.invokeFunction('convertToInteractive',\n",
              "                                                    [key], {});\n",
              "        if (!dataTable) return;\n",
              "\n",
              "        const docLinkHtml = 'Like what you see? Visit the ' +\n",
              "          '<a target=\"_blank\" href=https://colab.research.google.com/notebooks/data_table.ipynb>data table notebook</a>'\n",
              "          + ' to learn more about interactive tables.';\n",
              "        element.innerHTML = '';\n",
              "        dataTable['output_type'] = 'display_data';\n",
              "        await google.colab.output.renderOutput(dataTable, element);\n",
              "        const docLink = document.createElement('div');\n",
              "        docLink.innerHTML = docLinkHtml;\n",
              "        element.appendChild(docLink);\n",
              "      }\n",
              "    </script>\n",
              "  </div>\n",
              "\n",
              "\n",
              "<div id=\"df-6c44189b-ba71-452f-8d75-8d055353f5ef\">\n",
              "  <button class=\"colab-df-quickchart\" onclick=\"quickchart('df-6c44189b-ba71-452f-8d75-8d055353f5ef')\"\n",
              "            title=\"Suggest charts\"\n",
              "            style=\"display:none;\">\n",
              "\n",
              "<svg xmlns=\"http://www.w3.org/2000/svg\" height=\"24px\"viewBox=\"0 0 24 24\"\n",
              "     width=\"24px\">\n",
              "    <g>\n",
              "        <path d=\"M19 3H5c-1.1 0-2 .9-2 2v14c0 1.1.9 2 2 2h14c1.1 0 2-.9 2-2V5c0-1.1-.9-2-2-2zM9 17H7v-7h2v7zm4 0h-2V7h2v10zm4 0h-2v-4h2v4z\"/>\n",
              "    </g>\n",
              "</svg>\n",
              "  </button>\n",
              "\n",
              "<style>\n",
              "  .colab-df-quickchart {\n",
              "      --bg-color: #E8F0FE;\n",
              "      --fill-color: #1967D2;\n",
              "      --hover-bg-color: #E2EBFA;\n",
              "      --hover-fill-color: #174EA6;\n",
              "      --disabled-fill-color: #AAA;\n",
              "      --disabled-bg-color: #DDD;\n",
              "  }\n",
              "\n",
              "  [theme=dark] .colab-df-quickchart {\n",
              "      --bg-color: #3B4455;\n",
              "      --fill-color: #D2E3FC;\n",
              "      --hover-bg-color: #434B5C;\n",
              "      --hover-fill-color: #FFFFFF;\n",
              "      --disabled-bg-color: #3B4455;\n",
              "      --disabled-fill-color: #666;\n",
              "  }\n",
              "\n",
              "  .colab-df-quickchart {\n",
              "    background-color: var(--bg-color);\n",
              "    border: none;\n",
              "    border-radius: 50%;\n",
              "    cursor: pointer;\n",
              "    display: none;\n",
              "    fill: var(--fill-color);\n",
              "    height: 32px;\n",
              "    padding: 0;\n",
              "    width: 32px;\n",
              "  }\n",
              "\n",
              "  .colab-df-quickchart:hover {\n",
              "    background-color: var(--hover-bg-color);\n",
              "    box-shadow: 0 1px 2px rgba(60, 64, 67, 0.3), 0 1px 3px 1px rgba(60, 64, 67, 0.15);\n",
              "    fill: var(--button-hover-fill-color);\n",
              "  }\n",
              "\n",
              "  .colab-df-quickchart-complete:disabled,\n",
              "  .colab-df-quickchart-complete:disabled:hover {\n",
              "    background-color: var(--disabled-bg-color);\n",
              "    fill: var(--disabled-fill-color);\n",
              "    box-shadow: none;\n",
              "  }\n",
              "\n",
              "  .colab-df-spinner {\n",
              "    border: 2px solid var(--fill-color);\n",
              "    border-color: transparent;\n",
              "    border-bottom-color: var(--fill-color);\n",
              "    animation:\n",
              "      spin 1s steps(1) infinite;\n",
              "  }\n",
              "\n",
              "  @keyframes spin {\n",
              "    0% {\n",
              "      border-color: transparent;\n",
              "      border-bottom-color: var(--fill-color);\n",
              "      border-left-color: var(--fill-color);\n",
              "    }\n",
              "    20% {\n",
              "      border-color: transparent;\n",
              "      border-left-color: var(--fill-color);\n",
              "      border-top-color: var(--fill-color);\n",
              "    }\n",
              "    30% {\n",
              "      border-color: transparent;\n",
              "      border-left-color: var(--fill-color);\n",
              "      border-top-color: var(--fill-color);\n",
              "      border-right-color: var(--fill-color);\n",
              "    }\n",
              "    40% {\n",
              "      border-color: transparent;\n",
              "      border-right-color: var(--fill-color);\n",
              "      border-top-color: var(--fill-color);\n",
              "    }\n",
              "    60% {\n",
              "      border-color: transparent;\n",
              "      border-right-color: var(--fill-color);\n",
              "    }\n",
              "    80% {\n",
              "      border-color: transparent;\n",
              "      border-right-color: var(--fill-color);\n",
              "      border-bottom-color: var(--fill-color);\n",
              "    }\n",
              "    90% {\n",
              "      border-color: transparent;\n",
              "      border-bottom-color: var(--fill-color);\n",
              "    }\n",
              "  }\n",
              "</style>\n",
              "\n",
              "  <script>\n",
              "    async function quickchart(key) {\n",
              "      const quickchartButtonEl =\n",
              "        document.querySelector('#' + key + ' button');\n",
              "      quickchartButtonEl.disabled = true;  // To prevent multiple clicks.\n",
              "      quickchartButtonEl.classList.add('colab-df-spinner');\n",
              "      try {\n",
              "        const charts = await google.colab.kernel.invokeFunction(\n",
              "            'suggestCharts', [key], {});\n",
              "      } catch (error) {\n",
              "        console.error('Error during call to suggestCharts:', error);\n",
              "      }\n",
              "      quickchartButtonEl.classList.remove('colab-df-spinner');\n",
              "      quickchartButtonEl.classList.add('colab-df-quickchart-complete');\n",
              "    }\n",
              "    (() => {\n",
              "      let quickchartButtonEl =\n",
              "        document.querySelector('#df-6c44189b-ba71-452f-8d75-8d055353f5ef button');\n",
              "      quickchartButtonEl.style.display =\n",
              "        google.colab.kernel.accessAllowed ? 'block' : 'none';\n",
              "    })();\n",
              "  </script>\n",
              "</div>\n",
              "\n",
              "  <div id=\"id_293ce6b6-220e-4169-8b3a-bb701d3a3cf0\">\n",
              "    <style>\n",
              "      .colab-df-generate {\n",
              "        background-color: #E8F0FE;\n",
              "        border: none;\n",
              "        border-radius: 50%;\n",
              "        cursor: pointer;\n",
              "        display: none;\n",
              "        fill: #1967D2;\n",
              "        height: 32px;\n",
              "        padding: 0 0 0 0;\n",
              "        width: 32px;\n",
              "      }\n",
              "\n",
              "      .colab-df-generate:hover {\n",
              "        background-color: #E2EBFA;\n",
              "        box-shadow: 0px 1px 2px rgba(60, 64, 67, 0.3), 0px 1px 3px 1px rgba(60, 64, 67, 0.15);\n",
              "        fill: #174EA6;\n",
              "      }\n",
              "\n",
              "      [theme=dark] .colab-df-generate {\n",
              "        background-color: #3B4455;\n",
              "        fill: #D2E3FC;\n",
              "      }\n",
              "\n",
              "      [theme=dark] .colab-df-generate:hover {\n",
              "        background-color: #434B5C;\n",
              "        box-shadow: 0px 1px 3px 1px rgba(0, 0, 0, 0.15);\n",
              "        filter: drop-shadow(0px 1px 2px rgba(0, 0, 0, 0.3));\n",
              "        fill: #FFFFFF;\n",
              "      }\n",
              "    </style>\n",
              "    <button class=\"colab-df-generate\" onclick=\"generateWithVariable('covid_df')\"\n",
              "            title=\"Generate code using this dataframe.\"\n",
              "            style=\"display:none;\">\n",
              "\n",
              "  <svg xmlns=\"http://www.w3.org/2000/svg\" height=\"24px\"viewBox=\"0 0 24 24\"\n",
              "       width=\"24px\">\n",
              "    <path d=\"M7,19H8.4L18.45,9,17,7.55,7,17.6ZM5,21V16.75L18.45,3.32a2,2,0,0,1,2.83,0l1.4,1.43a1.91,1.91,0,0,1,.58,1.4,1.91,1.91,0,0,1-.58,1.4L9.25,21ZM18.45,9,17,7.55Zm-12,3A5.31,5.31,0,0,0,4.9,8.1,5.31,5.31,0,0,0,1,6.5,5.31,5.31,0,0,0,4.9,4.9,5.31,5.31,0,0,0,6.5,1,5.31,5.31,0,0,0,8.1,4.9,5.31,5.31,0,0,0,12,6.5,5.46,5.46,0,0,0,6.5,12Z\"/>\n",
              "  </svg>\n",
              "    </button>\n",
              "    <script>\n",
              "      (() => {\n",
              "      const buttonEl =\n",
              "        document.querySelector('#id_293ce6b6-220e-4169-8b3a-bb701d3a3cf0 button.colab-df-generate');\n",
              "      buttonEl.style.display =\n",
              "        google.colab.kernel.accessAllowed ? 'block' : 'none';\n",
              "\n",
              "      buttonEl.onclick = () => {\n",
              "        google.colab.notebook.generateWithVariable('covid_df');\n",
              "      }\n",
              "      })();\n",
              "    </script>\n",
              "  </div>\n",
              "\n",
              "    </div>\n",
              "  </div>\n"
            ],
            "application/vnd.google.colaboratory.intrinsic+json": {
              "type": "dataframe",
              "variable_name": "covid_df",
              "summary": "{\n  \"name\": \"covid_df\",\n  \"rows\": 248,\n  \"fields\": [\n    {\n      \"column\": \"date\",\n      \"properties\": {\n        \"dtype\": \"object\",\n        \"num_unique_values\": 248,\n        \"samples\": [\n          \"2020-02-02\",\n          \"2020-01-06\",\n          \"2020-06-30\"\n        ],\n        \"semantic_type\": \"\",\n        \"description\": \"\"\n      }\n    },\n    {\n      \"column\": \"new_cases\",\n      \"properties\": {\n        \"dtype\": \"number\",\n        \"std\": 1554.5080021940491,\n        \"min\": -148.0,\n        \"max\": 6557.0,\n        \"num_unique_values\": 188,\n        \"samples\": [\n          1460.0,\n          159.0,\n          1492.0\n        ],\n        \"semantic_type\": \"\",\n        \"description\": \"\"\n      }\n    },\n    {\n      \"column\": \"new_deaths\",\n      \"properties\": {\n        \"dtype\": \"number\",\n        \"std\": 227.10553833402594,\n        \"min\": -31.0,\n        \"max\": 971.0,\n        \"num_unique_values\": 129,\n        \"samples\": [\n          534.0,\n          527.0,\n          173.0\n        ],\n        \"semantic_type\": \"\",\n        \"description\": \"\"\n      }\n    },\n    {\n      \"column\": \"new_tests\",\n      \"properties\": {\n        \"dtype\": \"number\",\n        \"std\": 11622.209756510283,\n        \"min\": 7841.0,\n        \"max\": 95273.0,\n        \"num_unique_values\": 135,\n        \"samples\": [\n          19374.0,\n          28331.0,\n          13467.0\n        ],\n        \"semantic_type\": \"\",\n        \"description\": \"\"\n      }\n    }\n  ]\n}"
            }
          },
          "metadata": {},
          "execution_count": 24
        }
      ]
    },
    {
      "cell_type": "code",
      "source": [
        "covid_df.loc[243]"
      ],
      "metadata": {
        "colab": {
          "base_uri": "https://localhost:8080/"
        },
        "id": "2k5iQh3JJikR",
        "outputId": "7c6eb0a5-2e04-49d0-eeaf-f7f5c1400200"
      },
      "execution_count": null,
      "outputs": [
        {
          "output_type": "execute_result",
          "data": {
            "text/plain": [
              "date          2020-08-30\n",
              "new_cases         1444.0\n",
              "new_deaths           1.0\n",
              "new_tests        53541.0\n",
              "Name: 243, dtype: object"
            ]
          },
          "metadata": {},
          "execution_count": 25
        }
      ]
    },
    {
      "cell_type": "code",
      "source": [
        "# Each retrived row is also a series object\n",
        "type(covid_df.loc[243])"
      ],
      "metadata": {
        "colab": {
          "base_uri": "https://localhost:8080/",
          "height": 203
        },
        "id": "GC3qALArJ8yK",
        "outputId": "9f2b2ce8-0665-4628-f5cf-adcf6e520556"
      },
      "execution_count": null,
      "outputs": [
        {
          "output_type": "execute_result",
          "data": {
            "text/plain": [
              "pandas.core.series.Series"
            ],
            "text/html": [
              "<div style=\"max-width:800px; border: 1px solid var(--colab-border-color);\"><style>\n",
              "      pre.function-repr-contents {\n",
              "        overflow-x: auto;\n",
              "        padding: 8px 12px;\n",
              "        max-height: 500px;\n",
              "      }\n",
              "\n",
              "      pre.function-repr-contents.function-repr-contents-collapsed {\n",
              "        cursor: pointer;\n",
              "        max-height: 100px;\n",
              "      }\n",
              "    </style>\n",
              "    <pre style=\"white-space: initial; background:\n",
              "         var(--colab-secondary-surface-color); padding: 8px 12px;\n",
              "         border-bottom: 1px solid var(--colab-border-color);\"><b>pandas.core.series.Series</b><br/>def __init__(data=None, index=None, dtype: Dtype | None=None, name=None, copy: bool | None=None, fastpath: bool=False) -&gt; None</pre><pre class=\"function-repr-contents function-repr-contents-collapsed\" style=\"\"><a class=\"filepath\" style=\"display:none\" href=\"#\">/usr/local/lib/python3.10/dist-packages/pandas/core/series.py</a>One-dimensional ndarray with axis labels (including time series).\n",
              "\n",
              "Labels need not be unique but must be a hashable type. The object\n",
              "supports both integer- and label-based indexing and provides a host of\n",
              "methods for performing operations involving the index. Statistical\n",
              "methods from ndarray have been overridden to automatically exclude\n",
              "missing data (currently represented as NaN).\n",
              "\n",
              "Operations between Series (+, -, /, \\*, \\*\\*) align values based on their\n",
              "associated index values-- they need not be the same length. The result\n",
              "index will be the sorted union of the two indexes.\n",
              "\n",
              "Parameters\n",
              "----------\n",
              "data : array-like, Iterable, dict, or scalar value\n",
              "    Contains data stored in Series. If data is a dict, argument order is\n",
              "    maintained.\n",
              "index : array-like or Index (1d)\n",
              "    Values must be hashable and have the same length as `data`.\n",
              "    Non-unique index values are allowed. Will default to\n",
              "    RangeIndex (0, 1, 2, ..., n) if not provided. If data is dict-like\n",
              "    and index is None, then the keys in the data are used as the index. If the\n",
              "    index is not None, the resulting Series is reindexed with the index values.\n",
              "dtype : str, numpy.dtype, or ExtensionDtype, optional\n",
              "    Data type for the output Series. If not specified, this will be\n",
              "    inferred from `data`.\n",
              "    See the :ref:`user guide &lt;basics.dtypes&gt;` for more usages.\n",
              "name : Hashable, default None\n",
              "    The name to give to the Series.\n",
              "copy : bool, default False\n",
              "    Copy input data. Only affects Series or 1d ndarray input. See examples.\n",
              "\n",
              "Notes\n",
              "-----\n",
              "Please reference the :ref:`User Guide &lt;basics.series&gt;` for more information.\n",
              "\n",
              "Examples\n",
              "--------\n",
              "Constructing Series from a dictionary with an Index specified\n",
              "\n",
              "&gt;&gt;&gt; d = {&#x27;a&#x27;: 1, &#x27;b&#x27;: 2, &#x27;c&#x27;: 3}\n",
              "&gt;&gt;&gt; ser = pd.Series(data=d, index=[&#x27;a&#x27;, &#x27;b&#x27;, &#x27;c&#x27;])\n",
              "&gt;&gt;&gt; ser\n",
              "a   1\n",
              "b   2\n",
              "c   3\n",
              "dtype: int64\n",
              "\n",
              "The keys of the dictionary match with the Index values, hence the Index\n",
              "values have no effect.\n",
              "\n",
              "&gt;&gt;&gt; d = {&#x27;a&#x27;: 1, &#x27;b&#x27;: 2, &#x27;c&#x27;: 3}\n",
              "&gt;&gt;&gt; ser = pd.Series(data=d, index=[&#x27;x&#x27;, &#x27;y&#x27;, &#x27;z&#x27;])\n",
              "&gt;&gt;&gt; ser\n",
              "x   NaN\n",
              "y   NaN\n",
              "z   NaN\n",
              "dtype: float64\n",
              "\n",
              "Note that the Index is first build with the keys from the dictionary.\n",
              "After this the Series is reindexed with the given Index values, hence we\n",
              "get all NaN as a result.\n",
              "\n",
              "Constructing Series from a list with `copy=False`.\n",
              "\n",
              "&gt;&gt;&gt; r = [1, 2]\n",
              "&gt;&gt;&gt; ser = pd.Series(r, copy=False)\n",
              "&gt;&gt;&gt; ser.iloc[0] = 999\n",
              "&gt;&gt;&gt; r\n",
              "[1, 2]\n",
              "&gt;&gt;&gt; ser\n",
              "0    999\n",
              "1      2\n",
              "dtype: int64\n",
              "\n",
              "Due to input data type the Series has a `copy` of\n",
              "the original data even though `copy=False`, so\n",
              "the data is unchanged.\n",
              "\n",
              "Constructing Series from a 1d ndarray with `copy=False`.\n",
              "\n",
              "&gt;&gt;&gt; r = np.array([1, 2])\n",
              "&gt;&gt;&gt; ser = pd.Series(r, copy=False)\n",
              "&gt;&gt;&gt; ser.iloc[0] = 999\n",
              "&gt;&gt;&gt; r\n",
              "array([999,   2])\n",
              "&gt;&gt;&gt; ser\n",
              "0    999\n",
              "1      2\n",
              "dtype: int64\n",
              "\n",
              "Due to input data type the Series has a `view` on\n",
              "the original data, so\n",
              "the data is changed as well.</pre>\n",
              "      <script>\n",
              "      if (google.colab.kernel.accessAllowed && google.colab.files && google.colab.files.view) {\n",
              "        for (const element of document.querySelectorAll('.filepath')) {\n",
              "          element.style.display = 'block'\n",
              "          element.onclick = (event) => {\n",
              "            event.preventDefault();\n",
              "            event.stopPropagation();\n",
              "            google.colab.files.view(element.textContent, 244);\n",
              "          };\n",
              "        }\n",
              "      }\n",
              "      for (const element of document.querySelectorAll('.function-repr-contents')) {\n",
              "        element.onclick = (event) => {\n",
              "          event.preventDefault();\n",
              "          event.stopPropagation();\n",
              "          element.classList.toggle('function-repr-contents-collapsed');\n",
              "        };\n",
              "      }\n",
              "      </script>\n",
              "      </div>"
            ]
          },
          "metadata": {},
          "execution_count": 26
        }
      ]
    },
    {
      "cell_type": "markdown",
      "source": [
        "We can use the `.head` and `.tail` methods to view the first or last few rows of data."
      ],
      "metadata": {
        "id": "_3rCajBqKGOq"
      }
    },
    {
      "cell_type": "code",
      "source": [
        "covid_df.head(5) # shwoing first 5 rows"
      ],
      "metadata": {
        "colab": {
          "base_uri": "https://localhost:8080/",
          "height": 206
        },
        "id": "UMi03e_iKKaN",
        "outputId": "7ff85d70-e5d3-4063-90ad-7408d6eb8750"
      },
      "execution_count": null,
      "outputs": [
        {
          "output_type": "execute_result",
          "data": {
            "text/plain": [
              "         date  new_cases  new_deaths  new_tests\n",
              "0  2019-12-31        0.0         0.0        NaN\n",
              "1  2020-01-01        0.0         0.0        NaN\n",
              "2  2020-01-02        0.0         0.0        NaN\n",
              "3  2020-01-03        0.0         0.0        NaN\n",
              "4  2020-01-04        0.0         0.0        NaN"
            ],
            "text/html": [
              "\n",
              "  <div id=\"df-801a868c-f6be-42f3-bfcb-2f985981a88d\" class=\"colab-df-container\">\n",
              "    <div>\n",
              "<style scoped>\n",
              "    .dataframe tbody tr th:only-of-type {\n",
              "        vertical-align: middle;\n",
              "    }\n",
              "\n",
              "    .dataframe tbody tr th {\n",
              "        vertical-align: top;\n",
              "    }\n",
              "\n",
              "    .dataframe thead th {\n",
              "        text-align: right;\n",
              "    }\n",
              "</style>\n",
              "<table border=\"1\" class=\"dataframe\">\n",
              "  <thead>\n",
              "    <tr style=\"text-align: right;\">\n",
              "      <th></th>\n",
              "      <th>date</th>\n",
              "      <th>new_cases</th>\n",
              "      <th>new_deaths</th>\n",
              "      <th>new_tests</th>\n",
              "    </tr>\n",
              "  </thead>\n",
              "  <tbody>\n",
              "    <tr>\n",
              "      <th>0</th>\n",
              "      <td>2019-12-31</td>\n",
              "      <td>0.0</td>\n",
              "      <td>0.0</td>\n",
              "      <td>NaN</td>\n",
              "    </tr>\n",
              "    <tr>\n",
              "      <th>1</th>\n",
              "      <td>2020-01-01</td>\n",
              "      <td>0.0</td>\n",
              "      <td>0.0</td>\n",
              "      <td>NaN</td>\n",
              "    </tr>\n",
              "    <tr>\n",
              "      <th>2</th>\n",
              "      <td>2020-01-02</td>\n",
              "      <td>0.0</td>\n",
              "      <td>0.0</td>\n",
              "      <td>NaN</td>\n",
              "    </tr>\n",
              "    <tr>\n",
              "      <th>3</th>\n",
              "      <td>2020-01-03</td>\n",
              "      <td>0.0</td>\n",
              "      <td>0.0</td>\n",
              "      <td>NaN</td>\n",
              "    </tr>\n",
              "    <tr>\n",
              "      <th>4</th>\n",
              "      <td>2020-01-04</td>\n",
              "      <td>0.0</td>\n",
              "      <td>0.0</td>\n",
              "      <td>NaN</td>\n",
              "    </tr>\n",
              "  </tbody>\n",
              "</table>\n",
              "</div>\n",
              "    <div class=\"colab-df-buttons\">\n",
              "\n",
              "  <div class=\"colab-df-container\">\n",
              "    <button class=\"colab-df-convert\" onclick=\"convertToInteractive('df-801a868c-f6be-42f3-bfcb-2f985981a88d')\"\n",
              "            title=\"Convert this dataframe to an interactive table.\"\n",
              "            style=\"display:none;\">\n",
              "\n",
              "  <svg xmlns=\"http://www.w3.org/2000/svg\" height=\"24px\" viewBox=\"0 -960 960 960\">\n",
              "    <path d=\"M120-120v-720h720v720H120Zm60-500h600v-160H180v160Zm220 220h160v-160H400v160Zm0 220h160v-160H400v160ZM180-400h160v-160H180v160Zm440 0h160v-160H620v160ZM180-180h160v-160H180v160Zm440 0h160v-160H620v160Z\"/>\n",
              "  </svg>\n",
              "    </button>\n",
              "\n",
              "  <style>\n",
              "    .colab-df-container {\n",
              "      display:flex;\n",
              "      gap: 12px;\n",
              "    }\n",
              "\n",
              "    .colab-df-convert {\n",
              "      background-color: #E8F0FE;\n",
              "      border: none;\n",
              "      border-radius: 50%;\n",
              "      cursor: pointer;\n",
              "      display: none;\n",
              "      fill: #1967D2;\n",
              "      height: 32px;\n",
              "      padding: 0 0 0 0;\n",
              "      width: 32px;\n",
              "    }\n",
              "\n",
              "    .colab-df-convert:hover {\n",
              "      background-color: #E2EBFA;\n",
              "      box-shadow: 0px 1px 2px rgba(60, 64, 67, 0.3), 0px 1px 3px 1px rgba(60, 64, 67, 0.15);\n",
              "      fill: #174EA6;\n",
              "    }\n",
              "\n",
              "    .colab-df-buttons div {\n",
              "      margin-bottom: 4px;\n",
              "    }\n",
              "\n",
              "    [theme=dark] .colab-df-convert {\n",
              "      background-color: #3B4455;\n",
              "      fill: #D2E3FC;\n",
              "    }\n",
              "\n",
              "    [theme=dark] .colab-df-convert:hover {\n",
              "      background-color: #434B5C;\n",
              "      box-shadow: 0px 1px 3px 1px rgba(0, 0, 0, 0.15);\n",
              "      filter: drop-shadow(0px 1px 2px rgba(0, 0, 0, 0.3));\n",
              "      fill: #FFFFFF;\n",
              "    }\n",
              "  </style>\n",
              "\n",
              "    <script>\n",
              "      const buttonEl =\n",
              "        document.querySelector('#df-801a868c-f6be-42f3-bfcb-2f985981a88d button.colab-df-convert');\n",
              "      buttonEl.style.display =\n",
              "        google.colab.kernel.accessAllowed ? 'block' : 'none';\n",
              "\n",
              "      async function convertToInteractive(key) {\n",
              "        const element = document.querySelector('#df-801a868c-f6be-42f3-bfcb-2f985981a88d');\n",
              "        const dataTable =\n",
              "          await google.colab.kernel.invokeFunction('convertToInteractive',\n",
              "                                                    [key], {});\n",
              "        if (!dataTable) return;\n",
              "\n",
              "        const docLinkHtml = 'Like what you see? Visit the ' +\n",
              "          '<a target=\"_blank\" href=https://colab.research.google.com/notebooks/data_table.ipynb>data table notebook</a>'\n",
              "          + ' to learn more about interactive tables.';\n",
              "        element.innerHTML = '';\n",
              "        dataTable['output_type'] = 'display_data';\n",
              "        await google.colab.output.renderOutput(dataTable, element);\n",
              "        const docLink = document.createElement('div');\n",
              "        docLink.innerHTML = docLinkHtml;\n",
              "        element.appendChild(docLink);\n",
              "      }\n",
              "    </script>\n",
              "  </div>\n",
              "\n",
              "\n",
              "<div id=\"df-c58afe3e-7c6e-4a9e-9da5-7343eb16b5a7\">\n",
              "  <button class=\"colab-df-quickchart\" onclick=\"quickchart('df-c58afe3e-7c6e-4a9e-9da5-7343eb16b5a7')\"\n",
              "            title=\"Suggest charts\"\n",
              "            style=\"display:none;\">\n",
              "\n",
              "<svg xmlns=\"http://www.w3.org/2000/svg\" height=\"24px\"viewBox=\"0 0 24 24\"\n",
              "     width=\"24px\">\n",
              "    <g>\n",
              "        <path d=\"M19 3H5c-1.1 0-2 .9-2 2v14c0 1.1.9 2 2 2h14c1.1 0 2-.9 2-2V5c0-1.1-.9-2-2-2zM9 17H7v-7h2v7zm4 0h-2V7h2v10zm4 0h-2v-4h2v4z\"/>\n",
              "    </g>\n",
              "</svg>\n",
              "  </button>\n",
              "\n",
              "<style>\n",
              "  .colab-df-quickchart {\n",
              "      --bg-color: #E8F0FE;\n",
              "      --fill-color: #1967D2;\n",
              "      --hover-bg-color: #E2EBFA;\n",
              "      --hover-fill-color: #174EA6;\n",
              "      --disabled-fill-color: #AAA;\n",
              "      --disabled-bg-color: #DDD;\n",
              "  }\n",
              "\n",
              "  [theme=dark] .colab-df-quickchart {\n",
              "      --bg-color: #3B4455;\n",
              "      --fill-color: #D2E3FC;\n",
              "      --hover-bg-color: #434B5C;\n",
              "      --hover-fill-color: #FFFFFF;\n",
              "      --disabled-bg-color: #3B4455;\n",
              "      --disabled-fill-color: #666;\n",
              "  }\n",
              "\n",
              "  .colab-df-quickchart {\n",
              "    background-color: var(--bg-color);\n",
              "    border: none;\n",
              "    border-radius: 50%;\n",
              "    cursor: pointer;\n",
              "    display: none;\n",
              "    fill: var(--fill-color);\n",
              "    height: 32px;\n",
              "    padding: 0;\n",
              "    width: 32px;\n",
              "  }\n",
              "\n",
              "  .colab-df-quickchart:hover {\n",
              "    background-color: var(--hover-bg-color);\n",
              "    box-shadow: 0 1px 2px rgba(60, 64, 67, 0.3), 0 1px 3px 1px rgba(60, 64, 67, 0.15);\n",
              "    fill: var(--button-hover-fill-color);\n",
              "  }\n",
              "\n",
              "  .colab-df-quickchart-complete:disabled,\n",
              "  .colab-df-quickchart-complete:disabled:hover {\n",
              "    background-color: var(--disabled-bg-color);\n",
              "    fill: var(--disabled-fill-color);\n",
              "    box-shadow: none;\n",
              "  }\n",
              "\n",
              "  .colab-df-spinner {\n",
              "    border: 2px solid var(--fill-color);\n",
              "    border-color: transparent;\n",
              "    border-bottom-color: var(--fill-color);\n",
              "    animation:\n",
              "      spin 1s steps(1) infinite;\n",
              "  }\n",
              "\n",
              "  @keyframes spin {\n",
              "    0% {\n",
              "      border-color: transparent;\n",
              "      border-bottom-color: var(--fill-color);\n",
              "      border-left-color: var(--fill-color);\n",
              "    }\n",
              "    20% {\n",
              "      border-color: transparent;\n",
              "      border-left-color: var(--fill-color);\n",
              "      border-top-color: var(--fill-color);\n",
              "    }\n",
              "    30% {\n",
              "      border-color: transparent;\n",
              "      border-left-color: var(--fill-color);\n",
              "      border-top-color: var(--fill-color);\n",
              "      border-right-color: var(--fill-color);\n",
              "    }\n",
              "    40% {\n",
              "      border-color: transparent;\n",
              "      border-right-color: var(--fill-color);\n",
              "      border-top-color: var(--fill-color);\n",
              "    }\n",
              "    60% {\n",
              "      border-color: transparent;\n",
              "      border-right-color: var(--fill-color);\n",
              "    }\n",
              "    80% {\n",
              "      border-color: transparent;\n",
              "      border-right-color: var(--fill-color);\n",
              "      border-bottom-color: var(--fill-color);\n",
              "    }\n",
              "    90% {\n",
              "      border-color: transparent;\n",
              "      border-bottom-color: var(--fill-color);\n",
              "    }\n",
              "  }\n",
              "</style>\n",
              "\n",
              "  <script>\n",
              "    async function quickchart(key) {\n",
              "      const quickchartButtonEl =\n",
              "        document.querySelector('#' + key + ' button');\n",
              "      quickchartButtonEl.disabled = true;  // To prevent multiple clicks.\n",
              "      quickchartButtonEl.classList.add('colab-df-spinner');\n",
              "      try {\n",
              "        const charts = await google.colab.kernel.invokeFunction(\n",
              "            'suggestCharts', [key], {});\n",
              "      } catch (error) {\n",
              "        console.error('Error during call to suggestCharts:', error);\n",
              "      }\n",
              "      quickchartButtonEl.classList.remove('colab-df-spinner');\n",
              "      quickchartButtonEl.classList.add('colab-df-quickchart-complete');\n",
              "    }\n",
              "    (() => {\n",
              "      let quickchartButtonEl =\n",
              "        document.querySelector('#df-c58afe3e-7c6e-4a9e-9da5-7343eb16b5a7 button');\n",
              "      quickchartButtonEl.style.display =\n",
              "        google.colab.kernel.accessAllowed ? 'block' : 'none';\n",
              "    })();\n",
              "  </script>\n",
              "</div>\n",
              "\n",
              "    </div>\n",
              "  </div>\n"
            ],
            "application/vnd.google.colaboratory.intrinsic+json": {
              "type": "dataframe",
              "variable_name": "covid_df",
              "summary": "{\n  \"name\": \"covid_df\",\n  \"rows\": 248,\n  \"fields\": [\n    {\n      \"column\": \"date\",\n      \"properties\": {\n        \"dtype\": \"object\",\n        \"num_unique_values\": 248,\n        \"samples\": [\n          \"2020-02-02\",\n          \"2020-01-06\",\n          \"2020-06-30\"\n        ],\n        \"semantic_type\": \"\",\n        \"description\": \"\"\n      }\n    },\n    {\n      \"column\": \"new_cases\",\n      \"properties\": {\n        \"dtype\": \"number\",\n        \"std\": 1554.5080021940491,\n        \"min\": -148.0,\n        \"max\": 6557.0,\n        \"num_unique_values\": 188,\n        \"samples\": [\n          1460.0,\n          159.0,\n          1492.0\n        ],\n        \"semantic_type\": \"\",\n        \"description\": \"\"\n      }\n    },\n    {\n      \"column\": \"new_deaths\",\n      \"properties\": {\n        \"dtype\": \"number\",\n        \"std\": 227.10553833402594,\n        \"min\": -31.0,\n        \"max\": 971.0,\n        \"num_unique_values\": 129,\n        \"samples\": [\n          534.0,\n          527.0,\n          173.0\n        ],\n        \"semantic_type\": \"\",\n        \"description\": \"\"\n      }\n    },\n    {\n      \"column\": \"new_tests\",\n      \"properties\": {\n        \"dtype\": \"number\",\n        \"std\": 11622.209756510283,\n        \"min\": 7841.0,\n        \"max\": 95273.0,\n        \"num_unique_values\": 135,\n        \"samples\": [\n          19374.0,\n          28331.0,\n          13467.0\n        ],\n        \"semantic_type\": \"\",\n        \"description\": \"\"\n      }\n    }\n  ]\n}"
            }
          },
          "metadata": {},
          "execution_count": 27
        }
      ]
    },
    {
      "cell_type": "code",
      "source": [
        "covid_df.tail(4) # showing last 4 rows"
      ],
      "metadata": {
        "colab": {
          "base_uri": "https://localhost:8080/",
          "height": 175
        },
        "id": "aE_yoZLLKSD9",
        "outputId": "430e50fb-bd2c-4dc2-c905-3e8341aa5650"
      },
      "execution_count": null,
      "outputs": [
        {
          "output_type": "execute_result",
          "data": {
            "text/plain": [
              "           date  new_cases  new_deaths  new_tests\n",
              "244  2020-08-31     1365.0         4.0    42583.0\n",
              "245  2020-09-01      996.0         6.0    54395.0\n",
              "246  2020-09-02      975.0         8.0        NaN\n",
              "247  2020-09-03     1326.0         6.0        NaN"
            ],
            "text/html": [
              "\n",
              "  <div id=\"df-4f44b1d0-4212-42f4-b692-a6501eb0cbc5\" class=\"colab-df-container\">\n",
              "    <div>\n",
              "<style scoped>\n",
              "    .dataframe tbody tr th:only-of-type {\n",
              "        vertical-align: middle;\n",
              "    }\n",
              "\n",
              "    .dataframe tbody tr th {\n",
              "        vertical-align: top;\n",
              "    }\n",
              "\n",
              "    .dataframe thead th {\n",
              "        text-align: right;\n",
              "    }\n",
              "</style>\n",
              "<table border=\"1\" class=\"dataframe\">\n",
              "  <thead>\n",
              "    <tr style=\"text-align: right;\">\n",
              "      <th></th>\n",
              "      <th>date</th>\n",
              "      <th>new_cases</th>\n",
              "      <th>new_deaths</th>\n",
              "      <th>new_tests</th>\n",
              "    </tr>\n",
              "  </thead>\n",
              "  <tbody>\n",
              "    <tr>\n",
              "      <th>244</th>\n",
              "      <td>2020-08-31</td>\n",
              "      <td>1365.0</td>\n",
              "      <td>4.0</td>\n",
              "      <td>42583.0</td>\n",
              "    </tr>\n",
              "    <tr>\n",
              "      <th>245</th>\n",
              "      <td>2020-09-01</td>\n",
              "      <td>996.0</td>\n",
              "      <td>6.0</td>\n",
              "      <td>54395.0</td>\n",
              "    </tr>\n",
              "    <tr>\n",
              "      <th>246</th>\n",
              "      <td>2020-09-02</td>\n",
              "      <td>975.0</td>\n",
              "      <td>8.0</td>\n",
              "      <td>NaN</td>\n",
              "    </tr>\n",
              "    <tr>\n",
              "      <th>247</th>\n",
              "      <td>2020-09-03</td>\n",
              "      <td>1326.0</td>\n",
              "      <td>6.0</td>\n",
              "      <td>NaN</td>\n",
              "    </tr>\n",
              "  </tbody>\n",
              "</table>\n",
              "</div>\n",
              "    <div class=\"colab-df-buttons\">\n",
              "\n",
              "  <div class=\"colab-df-container\">\n",
              "    <button class=\"colab-df-convert\" onclick=\"convertToInteractive('df-4f44b1d0-4212-42f4-b692-a6501eb0cbc5')\"\n",
              "            title=\"Convert this dataframe to an interactive table.\"\n",
              "            style=\"display:none;\">\n",
              "\n",
              "  <svg xmlns=\"http://www.w3.org/2000/svg\" height=\"24px\" viewBox=\"0 -960 960 960\">\n",
              "    <path d=\"M120-120v-720h720v720H120Zm60-500h600v-160H180v160Zm220 220h160v-160H400v160Zm0 220h160v-160H400v160ZM180-400h160v-160H180v160Zm440 0h160v-160H620v160ZM180-180h160v-160H180v160Zm440 0h160v-160H620v160Z\"/>\n",
              "  </svg>\n",
              "    </button>\n",
              "\n",
              "  <style>\n",
              "    .colab-df-container {\n",
              "      display:flex;\n",
              "      gap: 12px;\n",
              "    }\n",
              "\n",
              "    .colab-df-convert {\n",
              "      background-color: #E8F0FE;\n",
              "      border: none;\n",
              "      border-radius: 50%;\n",
              "      cursor: pointer;\n",
              "      display: none;\n",
              "      fill: #1967D2;\n",
              "      height: 32px;\n",
              "      padding: 0 0 0 0;\n",
              "      width: 32px;\n",
              "    }\n",
              "\n",
              "    .colab-df-convert:hover {\n",
              "      background-color: #E2EBFA;\n",
              "      box-shadow: 0px 1px 2px rgba(60, 64, 67, 0.3), 0px 1px 3px 1px rgba(60, 64, 67, 0.15);\n",
              "      fill: #174EA6;\n",
              "    }\n",
              "\n",
              "    .colab-df-buttons div {\n",
              "      margin-bottom: 4px;\n",
              "    }\n",
              "\n",
              "    [theme=dark] .colab-df-convert {\n",
              "      background-color: #3B4455;\n",
              "      fill: #D2E3FC;\n",
              "    }\n",
              "\n",
              "    [theme=dark] .colab-df-convert:hover {\n",
              "      background-color: #434B5C;\n",
              "      box-shadow: 0px 1px 3px 1px rgba(0, 0, 0, 0.15);\n",
              "      filter: drop-shadow(0px 1px 2px rgba(0, 0, 0, 0.3));\n",
              "      fill: #FFFFFF;\n",
              "    }\n",
              "  </style>\n",
              "\n",
              "    <script>\n",
              "      const buttonEl =\n",
              "        document.querySelector('#df-4f44b1d0-4212-42f4-b692-a6501eb0cbc5 button.colab-df-convert');\n",
              "      buttonEl.style.display =\n",
              "        google.colab.kernel.accessAllowed ? 'block' : 'none';\n",
              "\n",
              "      async function convertToInteractive(key) {\n",
              "        const element = document.querySelector('#df-4f44b1d0-4212-42f4-b692-a6501eb0cbc5');\n",
              "        const dataTable =\n",
              "          await google.colab.kernel.invokeFunction('convertToInteractive',\n",
              "                                                    [key], {});\n",
              "        if (!dataTable) return;\n",
              "\n",
              "        const docLinkHtml = 'Like what you see? Visit the ' +\n",
              "          '<a target=\"_blank\" href=https://colab.research.google.com/notebooks/data_table.ipynb>data table notebook</a>'\n",
              "          + ' to learn more about interactive tables.';\n",
              "        element.innerHTML = '';\n",
              "        dataTable['output_type'] = 'display_data';\n",
              "        await google.colab.output.renderOutput(dataTable, element);\n",
              "        const docLink = document.createElement('div');\n",
              "        docLink.innerHTML = docLinkHtml;\n",
              "        element.appendChild(docLink);\n",
              "      }\n",
              "    </script>\n",
              "  </div>\n",
              "\n",
              "\n",
              "<div id=\"df-cf33dff3-d49a-49a7-9dc3-4ec80dda981e\">\n",
              "  <button class=\"colab-df-quickchart\" onclick=\"quickchart('df-cf33dff3-d49a-49a7-9dc3-4ec80dda981e')\"\n",
              "            title=\"Suggest charts\"\n",
              "            style=\"display:none;\">\n",
              "\n",
              "<svg xmlns=\"http://www.w3.org/2000/svg\" height=\"24px\"viewBox=\"0 0 24 24\"\n",
              "     width=\"24px\">\n",
              "    <g>\n",
              "        <path d=\"M19 3H5c-1.1 0-2 .9-2 2v14c0 1.1.9 2 2 2h14c1.1 0 2-.9 2-2V5c0-1.1-.9-2-2-2zM9 17H7v-7h2v7zm4 0h-2V7h2v10zm4 0h-2v-4h2v4z\"/>\n",
              "    </g>\n",
              "</svg>\n",
              "  </button>\n",
              "\n",
              "<style>\n",
              "  .colab-df-quickchart {\n",
              "      --bg-color: #E8F0FE;\n",
              "      --fill-color: #1967D2;\n",
              "      --hover-bg-color: #E2EBFA;\n",
              "      --hover-fill-color: #174EA6;\n",
              "      --disabled-fill-color: #AAA;\n",
              "      --disabled-bg-color: #DDD;\n",
              "  }\n",
              "\n",
              "  [theme=dark] .colab-df-quickchart {\n",
              "      --bg-color: #3B4455;\n",
              "      --fill-color: #D2E3FC;\n",
              "      --hover-bg-color: #434B5C;\n",
              "      --hover-fill-color: #FFFFFF;\n",
              "      --disabled-bg-color: #3B4455;\n",
              "      --disabled-fill-color: #666;\n",
              "  }\n",
              "\n",
              "  .colab-df-quickchart {\n",
              "    background-color: var(--bg-color);\n",
              "    border: none;\n",
              "    border-radius: 50%;\n",
              "    cursor: pointer;\n",
              "    display: none;\n",
              "    fill: var(--fill-color);\n",
              "    height: 32px;\n",
              "    padding: 0;\n",
              "    width: 32px;\n",
              "  }\n",
              "\n",
              "  .colab-df-quickchart:hover {\n",
              "    background-color: var(--hover-bg-color);\n",
              "    box-shadow: 0 1px 2px rgba(60, 64, 67, 0.3), 0 1px 3px 1px rgba(60, 64, 67, 0.15);\n",
              "    fill: var(--button-hover-fill-color);\n",
              "  }\n",
              "\n",
              "  .colab-df-quickchart-complete:disabled,\n",
              "  .colab-df-quickchart-complete:disabled:hover {\n",
              "    background-color: var(--disabled-bg-color);\n",
              "    fill: var(--disabled-fill-color);\n",
              "    box-shadow: none;\n",
              "  }\n",
              "\n",
              "  .colab-df-spinner {\n",
              "    border: 2px solid var(--fill-color);\n",
              "    border-color: transparent;\n",
              "    border-bottom-color: var(--fill-color);\n",
              "    animation:\n",
              "      spin 1s steps(1) infinite;\n",
              "  }\n",
              "\n",
              "  @keyframes spin {\n",
              "    0% {\n",
              "      border-color: transparent;\n",
              "      border-bottom-color: var(--fill-color);\n",
              "      border-left-color: var(--fill-color);\n",
              "    }\n",
              "    20% {\n",
              "      border-color: transparent;\n",
              "      border-left-color: var(--fill-color);\n",
              "      border-top-color: var(--fill-color);\n",
              "    }\n",
              "    30% {\n",
              "      border-color: transparent;\n",
              "      border-left-color: var(--fill-color);\n",
              "      border-top-color: var(--fill-color);\n",
              "      border-right-color: var(--fill-color);\n",
              "    }\n",
              "    40% {\n",
              "      border-color: transparent;\n",
              "      border-right-color: var(--fill-color);\n",
              "      border-top-color: var(--fill-color);\n",
              "    }\n",
              "    60% {\n",
              "      border-color: transparent;\n",
              "      border-right-color: var(--fill-color);\n",
              "    }\n",
              "    80% {\n",
              "      border-color: transparent;\n",
              "      border-right-color: var(--fill-color);\n",
              "      border-bottom-color: var(--fill-color);\n",
              "    }\n",
              "    90% {\n",
              "      border-color: transparent;\n",
              "      border-bottom-color: var(--fill-color);\n",
              "    }\n",
              "  }\n",
              "</style>\n",
              "\n",
              "  <script>\n",
              "    async function quickchart(key) {\n",
              "      const quickchartButtonEl =\n",
              "        document.querySelector('#' + key + ' button');\n",
              "      quickchartButtonEl.disabled = true;  // To prevent multiple clicks.\n",
              "      quickchartButtonEl.classList.add('colab-df-spinner');\n",
              "      try {\n",
              "        const charts = await google.colab.kernel.invokeFunction(\n",
              "            'suggestCharts', [key], {});\n",
              "      } catch (error) {\n",
              "        console.error('Error during call to suggestCharts:', error);\n",
              "      }\n",
              "      quickchartButtonEl.classList.remove('colab-df-spinner');\n",
              "      quickchartButtonEl.classList.add('colab-df-quickchart-complete');\n",
              "    }\n",
              "    (() => {\n",
              "      let quickchartButtonEl =\n",
              "        document.querySelector('#df-cf33dff3-d49a-49a7-9dc3-4ec80dda981e button');\n",
              "      quickchartButtonEl.style.display =\n",
              "        google.colab.kernel.accessAllowed ? 'block' : 'none';\n",
              "    })();\n",
              "  </script>\n",
              "</div>\n",
              "\n",
              "    </div>\n",
              "  </div>\n"
            ],
            "application/vnd.google.colaboratory.intrinsic+json": {
              "type": "dataframe",
              "repr_error": "0"
            }
          },
          "metadata": {},
          "execution_count": 28
        }
      ]
    },
    {
      "cell_type": "code",
      "source": [
        "covid_df.loc[108:113]"
      ],
      "metadata": {
        "colab": {
          "base_uri": "https://localhost:8080/",
          "height": 237
        },
        "id": "oUJBtXWLK3Kc",
        "outputId": "75492bdc-4d39-4cb3-8262-b908227a1656"
      },
      "execution_count": null,
      "outputs": [
        {
          "output_type": "execute_result",
          "data": {
            "text/plain": [
              "           date  new_cases  new_deaths  new_tests\n",
              "108  2020-04-17     3786.0       525.0        NaN\n",
              "109  2020-04-18     3493.0       575.0        NaN\n",
              "110  2020-04-19     3491.0       480.0        NaN\n",
              "111  2020-04-20     3047.0       433.0     7841.0\n",
              "112  2020-04-21     2256.0       454.0    28095.0\n",
              "113  2020-04-22     2729.0       534.0    44248.0"
            ],
            "text/html": [
              "\n",
              "  <div id=\"df-ba14e5fd-a6d8-4c96-a33e-8cd681220580\" class=\"colab-df-container\">\n",
              "    <div>\n",
              "<style scoped>\n",
              "    .dataframe tbody tr th:only-of-type {\n",
              "        vertical-align: middle;\n",
              "    }\n",
              "\n",
              "    .dataframe tbody tr th {\n",
              "        vertical-align: top;\n",
              "    }\n",
              "\n",
              "    .dataframe thead th {\n",
              "        text-align: right;\n",
              "    }\n",
              "</style>\n",
              "<table border=\"1\" class=\"dataframe\">\n",
              "  <thead>\n",
              "    <tr style=\"text-align: right;\">\n",
              "      <th></th>\n",
              "      <th>date</th>\n",
              "      <th>new_cases</th>\n",
              "      <th>new_deaths</th>\n",
              "      <th>new_tests</th>\n",
              "    </tr>\n",
              "  </thead>\n",
              "  <tbody>\n",
              "    <tr>\n",
              "      <th>108</th>\n",
              "      <td>2020-04-17</td>\n",
              "      <td>3786.0</td>\n",
              "      <td>525.0</td>\n",
              "      <td>NaN</td>\n",
              "    </tr>\n",
              "    <tr>\n",
              "      <th>109</th>\n",
              "      <td>2020-04-18</td>\n",
              "      <td>3493.0</td>\n",
              "      <td>575.0</td>\n",
              "      <td>NaN</td>\n",
              "    </tr>\n",
              "    <tr>\n",
              "      <th>110</th>\n",
              "      <td>2020-04-19</td>\n",
              "      <td>3491.0</td>\n",
              "      <td>480.0</td>\n",
              "      <td>NaN</td>\n",
              "    </tr>\n",
              "    <tr>\n",
              "      <th>111</th>\n",
              "      <td>2020-04-20</td>\n",
              "      <td>3047.0</td>\n",
              "      <td>433.0</td>\n",
              "      <td>7841.0</td>\n",
              "    </tr>\n",
              "    <tr>\n",
              "      <th>112</th>\n",
              "      <td>2020-04-21</td>\n",
              "      <td>2256.0</td>\n",
              "      <td>454.0</td>\n",
              "      <td>28095.0</td>\n",
              "    </tr>\n",
              "    <tr>\n",
              "      <th>113</th>\n",
              "      <td>2020-04-22</td>\n",
              "      <td>2729.0</td>\n",
              "      <td>534.0</td>\n",
              "      <td>44248.0</td>\n",
              "    </tr>\n",
              "  </tbody>\n",
              "</table>\n",
              "</div>\n",
              "    <div class=\"colab-df-buttons\">\n",
              "\n",
              "  <div class=\"colab-df-container\">\n",
              "    <button class=\"colab-df-convert\" onclick=\"convertToInteractive('df-ba14e5fd-a6d8-4c96-a33e-8cd681220580')\"\n",
              "            title=\"Convert this dataframe to an interactive table.\"\n",
              "            style=\"display:none;\">\n",
              "\n",
              "  <svg xmlns=\"http://www.w3.org/2000/svg\" height=\"24px\" viewBox=\"0 -960 960 960\">\n",
              "    <path d=\"M120-120v-720h720v720H120Zm60-500h600v-160H180v160Zm220 220h160v-160H400v160Zm0 220h160v-160H400v160ZM180-400h160v-160H180v160Zm440 0h160v-160H620v160ZM180-180h160v-160H180v160Zm440 0h160v-160H620v160Z\"/>\n",
              "  </svg>\n",
              "    </button>\n",
              "\n",
              "  <style>\n",
              "    .colab-df-container {\n",
              "      display:flex;\n",
              "      gap: 12px;\n",
              "    }\n",
              "\n",
              "    .colab-df-convert {\n",
              "      background-color: #E8F0FE;\n",
              "      border: none;\n",
              "      border-radius: 50%;\n",
              "      cursor: pointer;\n",
              "      display: none;\n",
              "      fill: #1967D2;\n",
              "      height: 32px;\n",
              "      padding: 0 0 0 0;\n",
              "      width: 32px;\n",
              "    }\n",
              "\n",
              "    .colab-df-convert:hover {\n",
              "      background-color: #E2EBFA;\n",
              "      box-shadow: 0px 1px 2px rgba(60, 64, 67, 0.3), 0px 1px 3px 1px rgba(60, 64, 67, 0.15);\n",
              "      fill: #174EA6;\n",
              "    }\n",
              "\n",
              "    .colab-df-buttons div {\n",
              "      margin-bottom: 4px;\n",
              "    }\n",
              "\n",
              "    [theme=dark] .colab-df-convert {\n",
              "      background-color: #3B4455;\n",
              "      fill: #D2E3FC;\n",
              "    }\n",
              "\n",
              "    [theme=dark] .colab-df-convert:hover {\n",
              "      background-color: #434B5C;\n",
              "      box-shadow: 0px 1px 3px 1px rgba(0, 0, 0, 0.15);\n",
              "      filter: drop-shadow(0px 1px 2px rgba(0, 0, 0, 0.3));\n",
              "      fill: #FFFFFF;\n",
              "    }\n",
              "  </style>\n",
              "\n",
              "    <script>\n",
              "      const buttonEl =\n",
              "        document.querySelector('#df-ba14e5fd-a6d8-4c96-a33e-8cd681220580 button.colab-df-convert');\n",
              "      buttonEl.style.display =\n",
              "        google.colab.kernel.accessAllowed ? 'block' : 'none';\n",
              "\n",
              "      async function convertToInteractive(key) {\n",
              "        const element = document.querySelector('#df-ba14e5fd-a6d8-4c96-a33e-8cd681220580');\n",
              "        const dataTable =\n",
              "          await google.colab.kernel.invokeFunction('convertToInteractive',\n",
              "                                                    [key], {});\n",
              "        if (!dataTable) return;\n",
              "\n",
              "        const docLinkHtml = 'Like what you see? Visit the ' +\n",
              "          '<a target=\"_blank\" href=https://colab.research.google.com/notebooks/data_table.ipynb>data table notebook</a>'\n",
              "          + ' to learn more about interactive tables.';\n",
              "        element.innerHTML = '';\n",
              "        dataTable['output_type'] = 'display_data';\n",
              "        await google.colab.output.renderOutput(dataTable, element);\n",
              "        const docLink = document.createElement('div');\n",
              "        docLink.innerHTML = docLinkHtml;\n",
              "        element.appendChild(docLink);\n",
              "      }\n",
              "    </script>\n",
              "  </div>\n",
              "\n",
              "\n",
              "<div id=\"df-f02c67cd-bf45-4d59-86db-c9f4cc7ad20c\">\n",
              "  <button class=\"colab-df-quickchart\" onclick=\"quickchart('df-f02c67cd-bf45-4d59-86db-c9f4cc7ad20c')\"\n",
              "            title=\"Suggest charts\"\n",
              "            style=\"display:none;\">\n",
              "\n",
              "<svg xmlns=\"http://www.w3.org/2000/svg\" height=\"24px\"viewBox=\"0 0 24 24\"\n",
              "     width=\"24px\">\n",
              "    <g>\n",
              "        <path d=\"M19 3H5c-1.1 0-2 .9-2 2v14c0 1.1.9 2 2 2h14c1.1 0 2-.9 2-2V5c0-1.1-.9-2-2-2zM9 17H7v-7h2v7zm4 0h-2V7h2v10zm4 0h-2v-4h2v4z\"/>\n",
              "    </g>\n",
              "</svg>\n",
              "  </button>\n",
              "\n",
              "<style>\n",
              "  .colab-df-quickchart {\n",
              "      --bg-color: #E8F0FE;\n",
              "      --fill-color: #1967D2;\n",
              "      --hover-bg-color: #E2EBFA;\n",
              "      --hover-fill-color: #174EA6;\n",
              "      --disabled-fill-color: #AAA;\n",
              "      --disabled-bg-color: #DDD;\n",
              "  }\n",
              "\n",
              "  [theme=dark] .colab-df-quickchart {\n",
              "      --bg-color: #3B4455;\n",
              "      --fill-color: #D2E3FC;\n",
              "      --hover-bg-color: #434B5C;\n",
              "      --hover-fill-color: #FFFFFF;\n",
              "      --disabled-bg-color: #3B4455;\n",
              "      --disabled-fill-color: #666;\n",
              "  }\n",
              "\n",
              "  .colab-df-quickchart {\n",
              "    background-color: var(--bg-color);\n",
              "    border: none;\n",
              "    border-radius: 50%;\n",
              "    cursor: pointer;\n",
              "    display: none;\n",
              "    fill: var(--fill-color);\n",
              "    height: 32px;\n",
              "    padding: 0;\n",
              "    width: 32px;\n",
              "  }\n",
              "\n",
              "  .colab-df-quickchart:hover {\n",
              "    background-color: var(--hover-bg-color);\n",
              "    box-shadow: 0 1px 2px rgba(60, 64, 67, 0.3), 0 1px 3px 1px rgba(60, 64, 67, 0.15);\n",
              "    fill: var(--button-hover-fill-color);\n",
              "  }\n",
              "\n",
              "  .colab-df-quickchart-complete:disabled,\n",
              "  .colab-df-quickchart-complete:disabled:hover {\n",
              "    background-color: var(--disabled-bg-color);\n",
              "    fill: var(--disabled-fill-color);\n",
              "    box-shadow: none;\n",
              "  }\n",
              "\n",
              "  .colab-df-spinner {\n",
              "    border: 2px solid var(--fill-color);\n",
              "    border-color: transparent;\n",
              "    border-bottom-color: var(--fill-color);\n",
              "    animation:\n",
              "      spin 1s steps(1) infinite;\n",
              "  }\n",
              "\n",
              "  @keyframes spin {\n",
              "    0% {\n",
              "      border-color: transparent;\n",
              "      border-bottom-color: var(--fill-color);\n",
              "      border-left-color: var(--fill-color);\n",
              "    }\n",
              "    20% {\n",
              "      border-color: transparent;\n",
              "      border-left-color: var(--fill-color);\n",
              "      border-top-color: var(--fill-color);\n",
              "    }\n",
              "    30% {\n",
              "      border-color: transparent;\n",
              "      border-left-color: var(--fill-color);\n",
              "      border-top-color: var(--fill-color);\n",
              "      border-right-color: var(--fill-color);\n",
              "    }\n",
              "    40% {\n",
              "      border-color: transparent;\n",
              "      border-right-color: var(--fill-color);\n",
              "      border-top-color: var(--fill-color);\n",
              "    }\n",
              "    60% {\n",
              "      border-color: transparent;\n",
              "      border-right-color: var(--fill-color);\n",
              "    }\n",
              "    80% {\n",
              "      border-color: transparent;\n",
              "      border-right-color: var(--fill-color);\n",
              "      border-bottom-color: var(--fill-color);\n",
              "    }\n",
              "    90% {\n",
              "      border-color: transparent;\n",
              "      border-bottom-color: var(--fill-color);\n",
              "    }\n",
              "  }\n",
              "</style>\n",
              "\n",
              "  <script>\n",
              "    async function quickchart(key) {\n",
              "      const quickchartButtonEl =\n",
              "        document.querySelector('#' + key + ' button');\n",
              "      quickchartButtonEl.disabled = true;  // To prevent multiple clicks.\n",
              "      quickchartButtonEl.classList.add('colab-df-spinner');\n",
              "      try {\n",
              "        const charts = await google.colab.kernel.invokeFunction(\n",
              "            'suggestCharts', [key], {});\n",
              "      } catch (error) {\n",
              "        console.error('Error during call to suggestCharts:', error);\n",
              "      }\n",
              "      quickchartButtonEl.classList.remove('colab-df-spinner');\n",
              "      quickchartButtonEl.classList.add('colab-df-quickchart-complete');\n",
              "    }\n",
              "    (() => {\n",
              "      let quickchartButtonEl =\n",
              "        document.querySelector('#df-f02c67cd-bf45-4d59-86db-c9f4cc7ad20c button');\n",
              "      quickchartButtonEl.style.display =\n",
              "        google.colab.kernel.accessAllowed ? 'block' : 'none';\n",
              "    })();\n",
              "  </script>\n",
              "</div>\n",
              "\n",
              "    </div>\n",
              "  </div>\n"
            ],
            "application/vnd.google.colaboratory.intrinsic+json": {
              "type": "dataframe",
              "repr_error": "0"
            }
          },
          "metadata": {},
          "execution_count": 32
        }
      ]
    },
    {
      "cell_type": "markdown",
      "source": [
        "Notice above that while the first few values in the `new_cases` and `new_deaths` columns are `0`, the corresponding values within the `new_tests` column are `NaN`. That is because the CSV file does not contain any data for the `new_tests` column for specific dates (you can verify this by looking into the file). These values may be missing or unknown."
      ],
      "metadata": {
        "id": "U-OQPHk5KeGn"
      }
    },
    {
      "cell_type": "code",
      "source": [
        "covid_df.at[0, 'new_tests']"
      ],
      "metadata": {
        "colab": {
          "base_uri": "https://localhost:8080/"
        },
        "id": "k7f126CpKfBn",
        "outputId": "7fc500df-7ae7-4284-94af-88c84f84d69d"
      },
      "execution_count": null,
      "outputs": [
        {
          "output_type": "execute_result",
          "data": {
            "text/plain": [
              "nan"
            ]
          },
          "metadata": {},
          "execution_count": 29
        }
      ]
    },
    {
      "cell_type": "code",
      "source": [
        "type(covid_df.at[0, 'new_tests'])"
      ],
      "metadata": {
        "colab": {
          "base_uri": "https://localhost:8080/"
        },
        "id": "DOeVZ83xKkUA",
        "outputId": "6637f40a-ca95-4ac0-e6fe-ec208a21b891"
      },
      "execution_count": null,
      "outputs": [
        {
          "output_type": "execute_result",
          "data": {
            "text/plain": [
              "numpy.float64"
            ]
          },
          "metadata": {},
          "execution_count": 30
        }
      ]
    },
    {
      "cell_type": "markdown",
      "source": [
        "The distinction between `0` and `NaN` is subtle but important. In this dataset, it represents that daily test numbers were not reported on specific dates. Italy started reporting daily tests on Apr 19, 2020. 93,5310 tests had already been conducted before Apr 19.\n",
        "\n",
        "We can find the first index that doesn't contain a `NaN` value using a column's `first_valid_index` method."
      ],
      "metadata": {
        "id": "2qLQpdnhKp1E"
      }
    },
    {
      "cell_type": "code",
      "source": [
        "covid_df.new_tests.first_valid_index()"
      ],
      "metadata": {
        "colab": {
          "base_uri": "https://localhost:8080/"
        },
        "id": "Dz3RWEYkKqpq",
        "outputId": "1a682663-b440-4128-cf98-c7dc86414a9d"
      },
      "execution_count": null,
      "outputs": [
        {
          "output_type": "execute_result",
          "data": {
            "text/plain": [
              "111"
            ]
          },
          "metadata": {},
          "execution_count": 31
        }
      ]
    },
    {
      "cell_type": "code",
      "source": [
        "# We can use the `.sample` method to retrieve a random sample of rows from the data frame.\n",
        "covid_df.sample(10)"
      ],
      "metadata": {
        "colab": {
          "base_uri": "https://localhost:8080/",
          "height": 363
        },
        "id": "CrJHMp62MdH8",
        "outputId": "07b12d08-60b0-414d-9193-d1afad958e2a"
      },
      "execution_count": null,
      "outputs": [
        {
          "output_type": "execute_result",
          "data": {
            "text/plain": [
              "           date  new_cases  new_deaths  new_tests\n",
              "140  2020-05-19      451.0        99.0    40226.0\n",
              "195  2020-07-13      234.0         9.0    14006.0\n",
              "93   2020-04-02     4782.0       727.0        NaN\n",
              "240  2020-08-27     1366.0        13.0    57640.0\n",
              "232  2020-08-19      401.0         5.0    41290.0\n",
              "114  2020-04-23     3370.0       437.0    37083.0\n",
              "158  2020-06-06      518.0        85.0    34036.0\n",
              "59   2020-02-28      250.0         5.0        NaN\n",
              "216  2020-08-03      238.0         8.0    13467.0\n",
              "137  2020-05-16      789.0       242.0    40657.0"
            ],
            "text/html": [
              "\n",
              "  <div id=\"df-0694f70e-6b9a-4a4f-94f1-c767def34a81\" class=\"colab-df-container\">\n",
              "    <div>\n",
              "<style scoped>\n",
              "    .dataframe tbody tr th:only-of-type {\n",
              "        vertical-align: middle;\n",
              "    }\n",
              "\n",
              "    .dataframe tbody tr th {\n",
              "        vertical-align: top;\n",
              "    }\n",
              "\n",
              "    .dataframe thead th {\n",
              "        text-align: right;\n",
              "    }\n",
              "</style>\n",
              "<table border=\"1\" class=\"dataframe\">\n",
              "  <thead>\n",
              "    <tr style=\"text-align: right;\">\n",
              "      <th></th>\n",
              "      <th>date</th>\n",
              "      <th>new_cases</th>\n",
              "      <th>new_deaths</th>\n",
              "      <th>new_tests</th>\n",
              "    </tr>\n",
              "  </thead>\n",
              "  <tbody>\n",
              "    <tr>\n",
              "      <th>140</th>\n",
              "      <td>2020-05-19</td>\n",
              "      <td>451.0</td>\n",
              "      <td>99.0</td>\n",
              "      <td>40226.0</td>\n",
              "    </tr>\n",
              "    <tr>\n",
              "      <th>195</th>\n",
              "      <td>2020-07-13</td>\n",
              "      <td>234.0</td>\n",
              "      <td>9.0</td>\n",
              "      <td>14006.0</td>\n",
              "    </tr>\n",
              "    <tr>\n",
              "      <th>93</th>\n",
              "      <td>2020-04-02</td>\n",
              "      <td>4782.0</td>\n",
              "      <td>727.0</td>\n",
              "      <td>NaN</td>\n",
              "    </tr>\n",
              "    <tr>\n",
              "      <th>240</th>\n",
              "      <td>2020-08-27</td>\n",
              "      <td>1366.0</td>\n",
              "      <td>13.0</td>\n",
              "      <td>57640.0</td>\n",
              "    </tr>\n",
              "    <tr>\n",
              "      <th>232</th>\n",
              "      <td>2020-08-19</td>\n",
              "      <td>401.0</td>\n",
              "      <td>5.0</td>\n",
              "      <td>41290.0</td>\n",
              "    </tr>\n",
              "    <tr>\n",
              "      <th>114</th>\n",
              "      <td>2020-04-23</td>\n",
              "      <td>3370.0</td>\n",
              "      <td>437.0</td>\n",
              "      <td>37083.0</td>\n",
              "    </tr>\n",
              "    <tr>\n",
              "      <th>158</th>\n",
              "      <td>2020-06-06</td>\n",
              "      <td>518.0</td>\n",
              "      <td>85.0</td>\n",
              "      <td>34036.0</td>\n",
              "    </tr>\n",
              "    <tr>\n",
              "      <th>59</th>\n",
              "      <td>2020-02-28</td>\n",
              "      <td>250.0</td>\n",
              "      <td>5.0</td>\n",
              "      <td>NaN</td>\n",
              "    </tr>\n",
              "    <tr>\n",
              "      <th>216</th>\n",
              "      <td>2020-08-03</td>\n",
              "      <td>238.0</td>\n",
              "      <td>8.0</td>\n",
              "      <td>13467.0</td>\n",
              "    </tr>\n",
              "    <tr>\n",
              "      <th>137</th>\n",
              "      <td>2020-05-16</td>\n",
              "      <td>789.0</td>\n",
              "      <td>242.0</td>\n",
              "      <td>40657.0</td>\n",
              "    </tr>\n",
              "  </tbody>\n",
              "</table>\n",
              "</div>\n",
              "    <div class=\"colab-df-buttons\">\n",
              "\n",
              "  <div class=\"colab-df-container\">\n",
              "    <button class=\"colab-df-convert\" onclick=\"convertToInteractive('df-0694f70e-6b9a-4a4f-94f1-c767def34a81')\"\n",
              "            title=\"Convert this dataframe to an interactive table.\"\n",
              "            style=\"display:none;\">\n",
              "\n",
              "  <svg xmlns=\"http://www.w3.org/2000/svg\" height=\"24px\" viewBox=\"0 -960 960 960\">\n",
              "    <path d=\"M120-120v-720h720v720H120Zm60-500h600v-160H180v160Zm220 220h160v-160H400v160Zm0 220h160v-160H400v160ZM180-400h160v-160H180v160Zm440 0h160v-160H620v160ZM180-180h160v-160H180v160Zm440 0h160v-160H620v160Z\"/>\n",
              "  </svg>\n",
              "    </button>\n",
              "\n",
              "  <style>\n",
              "    .colab-df-container {\n",
              "      display:flex;\n",
              "      gap: 12px;\n",
              "    }\n",
              "\n",
              "    .colab-df-convert {\n",
              "      background-color: #E8F0FE;\n",
              "      border: none;\n",
              "      border-radius: 50%;\n",
              "      cursor: pointer;\n",
              "      display: none;\n",
              "      fill: #1967D2;\n",
              "      height: 32px;\n",
              "      padding: 0 0 0 0;\n",
              "      width: 32px;\n",
              "    }\n",
              "\n",
              "    .colab-df-convert:hover {\n",
              "      background-color: #E2EBFA;\n",
              "      box-shadow: 0px 1px 2px rgba(60, 64, 67, 0.3), 0px 1px 3px 1px rgba(60, 64, 67, 0.15);\n",
              "      fill: #174EA6;\n",
              "    }\n",
              "\n",
              "    .colab-df-buttons div {\n",
              "      margin-bottom: 4px;\n",
              "    }\n",
              "\n",
              "    [theme=dark] .colab-df-convert {\n",
              "      background-color: #3B4455;\n",
              "      fill: #D2E3FC;\n",
              "    }\n",
              "\n",
              "    [theme=dark] .colab-df-convert:hover {\n",
              "      background-color: #434B5C;\n",
              "      box-shadow: 0px 1px 3px 1px rgba(0, 0, 0, 0.15);\n",
              "      filter: drop-shadow(0px 1px 2px rgba(0, 0, 0, 0.3));\n",
              "      fill: #FFFFFF;\n",
              "    }\n",
              "  </style>\n",
              "\n",
              "    <script>\n",
              "      const buttonEl =\n",
              "        document.querySelector('#df-0694f70e-6b9a-4a4f-94f1-c767def34a81 button.colab-df-convert');\n",
              "      buttonEl.style.display =\n",
              "        google.colab.kernel.accessAllowed ? 'block' : 'none';\n",
              "\n",
              "      async function convertToInteractive(key) {\n",
              "        const element = document.querySelector('#df-0694f70e-6b9a-4a4f-94f1-c767def34a81');\n",
              "        const dataTable =\n",
              "          await google.colab.kernel.invokeFunction('convertToInteractive',\n",
              "                                                    [key], {});\n",
              "        if (!dataTable) return;\n",
              "\n",
              "        const docLinkHtml = 'Like what you see? Visit the ' +\n",
              "          '<a target=\"_blank\" href=https://colab.research.google.com/notebooks/data_table.ipynb>data table notebook</a>'\n",
              "          + ' to learn more about interactive tables.';\n",
              "        element.innerHTML = '';\n",
              "        dataTable['output_type'] = 'display_data';\n",
              "        await google.colab.output.renderOutput(dataTable, element);\n",
              "        const docLink = document.createElement('div');\n",
              "        docLink.innerHTML = docLinkHtml;\n",
              "        element.appendChild(docLink);\n",
              "      }\n",
              "    </script>\n",
              "  </div>\n",
              "\n",
              "\n",
              "<div id=\"df-12ee8b5f-11e7-4eef-aaee-14dc11f187fb\">\n",
              "  <button class=\"colab-df-quickchart\" onclick=\"quickchart('df-12ee8b5f-11e7-4eef-aaee-14dc11f187fb')\"\n",
              "            title=\"Suggest charts\"\n",
              "            style=\"display:none;\">\n",
              "\n",
              "<svg xmlns=\"http://www.w3.org/2000/svg\" height=\"24px\"viewBox=\"0 0 24 24\"\n",
              "     width=\"24px\">\n",
              "    <g>\n",
              "        <path d=\"M19 3H5c-1.1 0-2 .9-2 2v14c0 1.1.9 2 2 2h14c1.1 0 2-.9 2-2V5c0-1.1-.9-2-2-2zM9 17H7v-7h2v7zm4 0h-2V7h2v10zm4 0h-2v-4h2v4z\"/>\n",
              "    </g>\n",
              "</svg>\n",
              "  </button>\n",
              "\n",
              "<style>\n",
              "  .colab-df-quickchart {\n",
              "      --bg-color: #E8F0FE;\n",
              "      --fill-color: #1967D2;\n",
              "      --hover-bg-color: #E2EBFA;\n",
              "      --hover-fill-color: #174EA6;\n",
              "      --disabled-fill-color: #AAA;\n",
              "      --disabled-bg-color: #DDD;\n",
              "  }\n",
              "\n",
              "  [theme=dark] .colab-df-quickchart {\n",
              "      --bg-color: #3B4455;\n",
              "      --fill-color: #D2E3FC;\n",
              "      --hover-bg-color: #434B5C;\n",
              "      --hover-fill-color: #FFFFFF;\n",
              "      --disabled-bg-color: #3B4455;\n",
              "      --disabled-fill-color: #666;\n",
              "  }\n",
              "\n",
              "  .colab-df-quickchart {\n",
              "    background-color: var(--bg-color);\n",
              "    border: none;\n",
              "    border-radius: 50%;\n",
              "    cursor: pointer;\n",
              "    display: none;\n",
              "    fill: var(--fill-color);\n",
              "    height: 32px;\n",
              "    padding: 0;\n",
              "    width: 32px;\n",
              "  }\n",
              "\n",
              "  .colab-df-quickchart:hover {\n",
              "    background-color: var(--hover-bg-color);\n",
              "    box-shadow: 0 1px 2px rgba(60, 64, 67, 0.3), 0 1px 3px 1px rgba(60, 64, 67, 0.15);\n",
              "    fill: var(--button-hover-fill-color);\n",
              "  }\n",
              "\n",
              "  .colab-df-quickchart-complete:disabled,\n",
              "  .colab-df-quickchart-complete:disabled:hover {\n",
              "    background-color: var(--disabled-bg-color);\n",
              "    fill: var(--disabled-fill-color);\n",
              "    box-shadow: none;\n",
              "  }\n",
              "\n",
              "  .colab-df-spinner {\n",
              "    border: 2px solid var(--fill-color);\n",
              "    border-color: transparent;\n",
              "    border-bottom-color: var(--fill-color);\n",
              "    animation:\n",
              "      spin 1s steps(1) infinite;\n",
              "  }\n",
              "\n",
              "  @keyframes spin {\n",
              "    0% {\n",
              "      border-color: transparent;\n",
              "      border-bottom-color: var(--fill-color);\n",
              "      border-left-color: var(--fill-color);\n",
              "    }\n",
              "    20% {\n",
              "      border-color: transparent;\n",
              "      border-left-color: var(--fill-color);\n",
              "      border-top-color: var(--fill-color);\n",
              "    }\n",
              "    30% {\n",
              "      border-color: transparent;\n",
              "      border-left-color: var(--fill-color);\n",
              "      border-top-color: var(--fill-color);\n",
              "      border-right-color: var(--fill-color);\n",
              "    }\n",
              "    40% {\n",
              "      border-color: transparent;\n",
              "      border-right-color: var(--fill-color);\n",
              "      border-top-color: var(--fill-color);\n",
              "    }\n",
              "    60% {\n",
              "      border-color: transparent;\n",
              "      border-right-color: var(--fill-color);\n",
              "    }\n",
              "    80% {\n",
              "      border-color: transparent;\n",
              "      border-right-color: var(--fill-color);\n",
              "      border-bottom-color: var(--fill-color);\n",
              "    }\n",
              "    90% {\n",
              "      border-color: transparent;\n",
              "      border-bottom-color: var(--fill-color);\n",
              "    }\n",
              "  }\n",
              "</style>\n",
              "\n",
              "  <script>\n",
              "    async function quickchart(key) {\n",
              "      const quickchartButtonEl =\n",
              "        document.querySelector('#' + key + ' button');\n",
              "      quickchartButtonEl.disabled = true;  // To prevent multiple clicks.\n",
              "      quickchartButtonEl.classList.add('colab-df-spinner');\n",
              "      try {\n",
              "        const charts = await google.colab.kernel.invokeFunction(\n",
              "            'suggestCharts', [key], {});\n",
              "      } catch (error) {\n",
              "        console.error('Error during call to suggestCharts:', error);\n",
              "      }\n",
              "      quickchartButtonEl.classList.remove('colab-df-spinner');\n",
              "      quickchartButtonEl.classList.add('colab-df-quickchart-complete');\n",
              "    }\n",
              "    (() => {\n",
              "      let quickchartButtonEl =\n",
              "        document.querySelector('#df-12ee8b5f-11e7-4eef-aaee-14dc11f187fb button');\n",
              "      quickchartButtonEl.style.display =\n",
              "        google.colab.kernel.accessAllowed ? 'block' : 'none';\n",
              "    })();\n",
              "  </script>\n",
              "</div>\n",
              "\n",
              "    </div>\n",
              "  </div>\n"
            ],
            "application/vnd.google.colaboratory.intrinsic+json": {
              "type": "dataframe",
              "repr_error": "0"
            }
          },
          "metadata": {},
          "execution_count": 33
        }
      ]
    },
    {
      "cell_type": "markdown",
      "source": [
        "Notice that even though we have taken a random sample, each row's original index is preserved - this is a useful property of data frames.\n"
      ],
      "metadata": {
        "id": "sj7eYkqnMcoL"
      }
    },
    {
      "cell_type": "markdown",
      "source": [
        "Here's a summary of the functions & methods we looked at in this section:\n",
        "\n",
        "- `covid_df['new_cases']` - Retrieving columns as a `Series` using the column name\n",
        "- `new_cases[243]` - Retrieving values from a `Series` using an index\n",
        "- `covid_df.at[243, 'new_cases']` - Retrieving a single value from a data frame\n",
        "- `covid_df.copy()` - Creating a deep copy of a data frame\n",
        "- `covid_df.loc[243]` - Retrieving a row or range of rows of data from the data frame\n",
        "- `head`, `tail`, and `sample` - Retrieving multiple rows of data from the data frame\n",
        "- `covid_df.new_tests.first_valid_index` - Finding the first non-empty index in a series\n"
      ],
      "metadata": {
        "id": "jW-bHT8lMocD"
      }
    },
    {
      "cell_type": "markdown",
      "source": [
        "## Analyzing data from data frames\n",
        "\n",
        "Let's try to answer some questions about our data.\n",
        "\n",
        "**Q: What are the total number of reported cases and deaths related to Covid-19 in Italy?**\n",
        "\n",
        "Similar to Numpy arrays, a Pandas series supports the `sum` method to answer these questions."
      ],
      "metadata": {
        "id": "8N--IYySMscX"
      }
    },
    {
      "cell_type": "code",
      "source": [
        "total_cases = covid_df.new_cases.sum()\n",
        "total_deaths = covid_df.new_deaths.sum()"
      ],
      "metadata": {
        "id": "LZDDcmndMwEE"
      },
      "execution_count": null,
      "outputs": []
    },
    {
      "cell_type": "code",
      "source": [
        "print('The number of reported cases is {} and the number of reported deaths is {}.'.format(int(total_cases), int(total_deaths)))"
      ],
      "metadata": {
        "colab": {
          "base_uri": "https://localhost:8080/"
        },
        "id": "n_wbdKRZNX63",
        "outputId": "a7d9b7aa-964a-44d7-ad4e-a5ce5ead2798"
      },
      "execution_count": null,
      "outputs": [
        {
          "output_type": "stream",
          "name": "stdout",
          "text": [
            "The number of reported cases is 271515 and the number of reported deaths is 35497.\n"
          ]
        }
      ]
    },
    {
      "cell_type": "markdown",
      "source": [
        "**Q: What is the overall death rate (ratio of reported deaths to reported cases)?**"
      ],
      "metadata": {
        "id": "FDN5iBS9N9ql"
      }
    },
    {
      "cell_type": "code",
      "source": [
        "death_rate = covid_df.new_deaths.sum() / covid_df.new_cases.sum()\n",
        "print(\"The overall reported death rate in Italy is {:.2f} %.\".format(death_rate*100))"
      ],
      "metadata": {
        "colab": {
          "base_uri": "https://localhost:8080/"
        },
        "id": "NJk-Bv7-OCCI",
        "outputId": "5f6722b0-23c3-4ad7-eb96-8cdc12deac71"
      },
      "execution_count": null,
      "outputs": [
        {
          "output_type": "stream",
          "name": "stdout",
          "text": [
            "The overall reported death rate in Italy is 13.07 %.\n"
          ]
        }
      ]
    },
    {
      "cell_type": "markdown",
      "source": [
        "**Q: What is the overall number of tests conducted? A total of 935310 tests were conducted before daily test numbers were reported.**"
      ],
      "metadata": {
        "id": "Yxm1sY6nOkR3"
      }
    },
    {
      "cell_type": "code",
      "source": [
        "initial_tests = 935310\n",
        "total_tests = initial_tests + covid_df.new_tests.sum()\n",
        "total_tests"
      ],
      "metadata": {
        "colab": {
          "base_uri": "https://localhost:8080/"
        },
        "id": "ewV0mPJyOlHu",
        "outputId": "efa53f31-b392-4acc-9b17-07cbc1e91823"
      },
      "execution_count": null,
      "outputs": [
        {
          "output_type": "execute_result",
          "data": {
            "text/plain": [
              "5214766.0"
            ]
          },
          "metadata": {},
          "execution_count": 41
        }
      ]
    },
    {
      "cell_type": "markdown",
      "source": [
        "**Q: What fraction of tests returned a positive result?**"
      ],
      "metadata": {
        "id": "HnmifXSEPR1e"
      }
    },
    {
      "cell_type": "code",
      "source": [
        "positive_rate = total_cases / total_tests\n",
        "print('{:.2f}% of tests in Italy led to a positive diagnosis.'.format(positive_rate*100))"
      ],
      "metadata": {
        "colab": {
          "base_uri": "https://localhost:8080/"
        },
        "id": "lRSdf79yPS02",
        "outputId": "b703e8c1-41ae-46dd-cb05-7f4f9708b0c6"
      },
      "execution_count": null,
      "outputs": [
        {
          "output_type": "stream",
          "name": "stdout",
          "text": [
            "5.21% of tests in Italy led to a positive diagnosis.\n"
          ]
        }
      ]
    },
    {
      "cell_type": "markdown",
      "source": [
        "## Querying and sorting rows\n",
        "\n",
        "Let's say we want only want to look at the days which had more than 1000 reported cases. We can use a boolean expression to check which rows satisfy this criterion."
      ],
      "metadata": {
        "id": "zF_kchcpPwRB"
      }
    },
    {
      "cell_type": "code",
      "source": [
        "high_new_cases = covid_df.new_cases > 1000 #Bulean expression\n",
        "high_new_cases"
      ],
      "metadata": {
        "colab": {
          "base_uri": "https://localhost:8080/"
        },
        "id": "vrxpngwkP4iO",
        "outputId": "6049078c-3a8b-47b7-9701-18a1091d76f8"
      },
      "execution_count": null,
      "outputs": [
        {
          "output_type": "execute_result",
          "data": {
            "text/plain": [
              "0      False\n",
              "1      False\n",
              "2      False\n",
              "3      False\n",
              "4      False\n",
              "       ...  \n",
              "243     True\n",
              "244     True\n",
              "245    False\n",
              "246    False\n",
              "247     True\n",
              "Name: new_cases, Length: 248, dtype: bool"
            ]
          },
          "metadata": {},
          "execution_count": 44
        }
      ]
    },
    {
      "cell_type": "markdown",
      "source": [
        "The boolean expression returns a series containing `True` and `False` boolean values. You can use this series to select a subset of rows from the original dataframe, corresponding to the `True` values in the series."
      ],
      "metadata": {
        "id": "JBd6EREzb5EG"
      }
    },
    {
      "cell_type": "code",
      "source": [
        "#covid_df['high_new_cases'] # If the column exists, it will return a Series object containing the values from that column. If the column does not exist, it will raise a KeyError.\n",
        "covid_df[high_new_cases]"
      ],
      "metadata": {
        "colab": {
          "base_uri": "https://localhost:8080/",
          "height": 423
        },
        "id": "8XCAnBaXb53-",
        "outputId": "0d527e5d-b47c-405a-cf55-2b79d819aa57"
      },
      "execution_count": null,
      "outputs": [
        {
          "output_type": "execute_result",
          "data": {
            "text/plain": [
              "           date  new_cases  new_deaths  new_tests\n",
              "68   2020-03-08     1247.0        36.0        NaN\n",
              "69   2020-03-09     1492.0       133.0        NaN\n",
              "70   2020-03-10     1797.0        98.0        NaN\n",
              "72   2020-03-12     2313.0       196.0        NaN\n",
              "73   2020-03-13     2651.0       189.0        NaN\n",
              "..          ...        ...         ...        ...\n",
              "241  2020-08-28     1409.0         5.0    65135.0\n",
              "242  2020-08-29     1460.0         9.0    64294.0\n",
              "243  2020-08-30     1444.0         1.0    53541.0\n",
              "244  2020-08-31     1365.0         4.0    42583.0\n",
              "247  2020-09-03     1326.0         6.0        NaN\n",
              "\n",
              "[72 rows x 4 columns]"
            ],
            "text/html": [
              "\n",
              "  <div id=\"df-924de459-bebc-461f-899f-a9d2a1d1f8cf\" class=\"colab-df-container\">\n",
              "    <div>\n",
              "<style scoped>\n",
              "    .dataframe tbody tr th:only-of-type {\n",
              "        vertical-align: middle;\n",
              "    }\n",
              "\n",
              "    .dataframe tbody tr th {\n",
              "        vertical-align: top;\n",
              "    }\n",
              "\n",
              "    .dataframe thead th {\n",
              "        text-align: right;\n",
              "    }\n",
              "</style>\n",
              "<table border=\"1\" class=\"dataframe\">\n",
              "  <thead>\n",
              "    <tr style=\"text-align: right;\">\n",
              "      <th></th>\n",
              "      <th>date</th>\n",
              "      <th>new_cases</th>\n",
              "      <th>new_deaths</th>\n",
              "      <th>new_tests</th>\n",
              "    </tr>\n",
              "  </thead>\n",
              "  <tbody>\n",
              "    <tr>\n",
              "      <th>68</th>\n",
              "      <td>2020-03-08</td>\n",
              "      <td>1247.0</td>\n",
              "      <td>36.0</td>\n",
              "      <td>NaN</td>\n",
              "    </tr>\n",
              "    <tr>\n",
              "      <th>69</th>\n",
              "      <td>2020-03-09</td>\n",
              "      <td>1492.0</td>\n",
              "      <td>133.0</td>\n",
              "      <td>NaN</td>\n",
              "    </tr>\n",
              "    <tr>\n",
              "      <th>70</th>\n",
              "      <td>2020-03-10</td>\n",
              "      <td>1797.0</td>\n",
              "      <td>98.0</td>\n",
              "      <td>NaN</td>\n",
              "    </tr>\n",
              "    <tr>\n",
              "      <th>72</th>\n",
              "      <td>2020-03-12</td>\n",
              "      <td>2313.0</td>\n",
              "      <td>196.0</td>\n",
              "      <td>NaN</td>\n",
              "    </tr>\n",
              "    <tr>\n",
              "      <th>73</th>\n",
              "      <td>2020-03-13</td>\n",
              "      <td>2651.0</td>\n",
              "      <td>189.0</td>\n",
              "      <td>NaN</td>\n",
              "    </tr>\n",
              "    <tr>\n",
              "      <th>...</th>\n",
              "      <td>...</td>\n",
              "      <td>...</td>\n",
              "      <td>...</td>\n",
              "      <td>...</td>\n",
              "    </tr>\n",
              "    <tr>\n",
              "      <th>241</th>\n",
              "      <td>2020-08-28</td>\n",
              "      <td>1409.0</td>\n",
              "      <td>5.0</td>\n",
              "      <td>65135.0</td>\n",
              "    </tr>\n",
              "    <tr>\n",
              "      <th>242</th>\n",
              "      <td>2020-08-29</td>\n",
              "      <td>1460.0</td>\n",
              "      <td>9.0</td>\n",
              "      <td>64294.0</td>\n",
              "    </tr>\n",
              "    <tr>\n",
              "      <th>243</th>\n",
              "      <td>2020-08-30</td>\n",
              "      <td>1444.0</td>\n",
              "      <td>1.0</td>\n",
              "      <td>53541.0</td>\n",
              "    </tr>\n",
              "    <tr>\n",
              "      <th>244</th>\n",
              "      <td>2020-08-31</td>\n",
              "      <td>1365.0</td>\n",
              "      <td>4.0</td>\n",
              "      <td>42583.0</td>\n",
              "    </tr>\n",
              "    <tr>\n",
              "      <th>247</th>\n",
              "      <td>2020-09-03</td>\n",
              "      <td>1326.0</td>\n",
              "      <td>6.0</td>\n",
              "      <td>NaN</td>\n",
              "    </tr>\n",
              "  </tbody>\n",
              "</table>\n",
              "<p>72 rows × 4 columns</p>\n",
              "</div>\n",
              "    <div class=\"colab-df-buttons\">\n",
              "\n",
              "  <div class=\"colab-df-container\">\n",
              "    <button class=\"colab-df-convert\" onclick=\"convertToInteractive('df-924de459-bebc-461f-899f-a9d2a1d1f8cf')\"\n",
              "            title=\"Convert this dataframe to an interactive table.\"\n",
              "            style=\"display:none;\">\n",
              "\n",
              "  <svg xmlns=\"http://www.w3.org/2000/svg\" height=\"24px\" viewBox=\"0 -960 960 960\">\n",
              "    <path d=\"M120-120v-720h720v720H120Zm60-500h600v-160H180v160Zm220 220h160v-160H400v160Zm0 220h160v-160H400v160ZM180-400h160v-160H180v160Zm440 0h160v-160H620v160ZM180-180h160v-160H180v160Zm440 0h160v-160H620v160Z\"/>\n",
              "  </svg>\n",
              "    </button>\n",
              "\n",
              "  <style>\n",
              "    .colab-df-container {\n",
              "      display:flex;\n",
              "      gap: 12px;\n",
              "    }\n",
              "\n",
              "    .colab-df-convert {\n",
              "      background-color: #E8F0FE;\n",
              "      border: none;\n",
              "      border-radius: 50%;\n",
              "      cursor: pointer;\n",
              "      display: none;\n",
              "      fill: #1967D2;\n",
              "      height: 32px;\n",
              "      padding: 0 0 0 0;\n",
              "      width: 32px;\n",
              "    }\n",
              "\n",
              "    .colab-df-convert:hover {\n",
              "      background-color: #E2EBFA;\n",
              "      box-shadow: 0px 1px 2px rgba(60, 64, 67, 0.3), 0px 1px 3px 1px rgba(60, 64, 67, 0.15);\n",
              "      fill: #174EA6;\n",
              "    }\n",
              "\n",
              "    .colab-df-buttons div {\n",
              "      margin-bottom: 4px;\n",
              "    }\n",
              "\n",
              "    [theme=dark] .colab-df-convert {\n",
              "      background-color: #3B4455;\n",
              "      fill: #D2E3FC;\n",
              "    }\n",
              "\n",
              "    [theme=dark] .colab-df-convert:hover {\n",
              "      background-color: #434B5C;\n",
              "      box-shadow: 0px 1px 3px 1px rgba(0, 0, 0, 0.15);\n",
              "      filter: drop-shadow(0px 1px 2px rgba(0, 0, 0, 0.3));\n",
              "      fill: #FFFFFF;\n",
              "    }\n",
              "  </style>\n",
              "\n",
              "    <script>\n",
              "      const buttonEl =\n",
              "        document.querySelector('#df-924de459-bebc-461f-899f-a9d2a1d1f8cf button.colab-df-convert');\n",
              "      buttonEl.style.display =\n",
              "        google.colab.kernel.accessAllowed ? 'block' : 'none';\n",
              "\n",
              "      async function convertToInteractive(key) {\n",
              "        const element = document.querySelector('#df-924de459-bebc-461f-899f-a9d2a1d1f8cf');\n",
              "        const dataTable =\n",
              "          await google.colab.kernel.invokeFunction('convertToInteractive',\n",
              "                                                    [key], {});\n",
              "        if (!dataTable) return;\n",
              "\n",
              "        const docLinkHtml = 'Like what you see? Visit the ' +\n",
              "          '<a target=\"_blank\" href=https://colab.research.google.com/notebooks/data_table.ipynb>data table notebook</a>'\n",
              "          + ' to learn more about interactive tables.';\n",
              "        element.innerHTML = '';\n",
              "        dataTable['output_type'] = 'display_data';\n",
              "        await google.colab.output.renderOutput(dataTable, element);\n",
              "        const docLink = document.createElement('div');\n",
              "        docLink.innerHTML = docLinkHtml;\n",
              "        element.appendChild(docLink);\n",
              "      }\n",
              "    </script>\n",
              "  </div>\n",
              "\n",
              "\n",
              "<div id=\"df-784aa54e-ac89-4f2f-9dd6-0fe5305679c2\">\n",
              "  <button class=\"colab-df-quickchart\" onclick=\"quickchart('df-784aa54e-ac89-4f2f-9dd6-0fe5305679c2')\"\n",
              "            title=\"Suggest charts\"\n",
              "            style=\"display:none;\">\n",
              "\n",
              "<svg xmlns=\"http://www.w3.org/2000/svg\" height=\"24px\"viewBox=\"0 0 24 24\"\n",
              "     width=\"24px\">\n",
              "    <g>\n",
              "        <path d=\"M19 3H5c-1.1 0-2 .9-2 2v14c0 1.1.9 2 2 2h14c1.1 0 2-.9 2-2V5c0-1.1-.9-2-2-2zM9 17H7v-7h2v7zm4 0h-2V7h2v10zm4 0h-2v-4h2v4z\"/>\n",
              "    </g>\n",
              "</svg>\n",
              "  </button>\n",
              "\n",
              "<style>\n",
              "  .colab-df-quickchart {\n",
              "      --bg-color: #E8F0FE;\n",
              "      --fill-color: #1967D2;\n",
              "      --hover-bg-color: #E2EBFA;\n",
              "      --hover-fill-color: #174EA6;\n",
              "      --disabled-fill-color: #AAA;\n",
              "      --disabled-bg-color: #DDD;\n",
              "  }\n",
              "\n",
              "  [theme=dark] .colab-df-quickchart {\n",
              "      --bg-color: #3B4455;\n",
              "      --fill-color: #D2E3FC;\n",
              "      --hover-bg-color: #434B5C;\n",
              "      --hover-fill-color: #FFFFFF;\n",
              "      --disabled-bg-color: #3B4455;\n",
              "      --disabled-fill-color: #666;\n",
              "  }\n",
              "\n",
              "  .colab-df-quickchart {\n",
              "    background-color: var(--bg-color);\n",
              "    border: none;\n",
              "    border-radius: 50%;\n",
              "    cursor: pointer;\n",
              "    display: none;\n",
              "    fill: var(--fill-color);\n",
              "    height: 32px;\n",
              "    padding: 0;\n",
              "    width: 32px;\n",
              "  }\n",
              "\n",
              "  .colab-df-quickchart:hover {\n",
              "    background-color: var(--hover-bg-color);\n",
              "    box-shadow: 0 1px 2px rgba(60, 64, 67, 0.3), 0 1px 3px 1px rgba(60, 64, 67, 0.15);\n",
              "    fill: var(--button-hover-fill-color);\n",
              "  }\n",
              "\n",
              "  .colab-df-quickchart-complete:disabled,\n",
              "  .colab-df-quickchart-complete:disabled:hover {\n",
              "    background-color: var(--disabled-bg-color);\n",
              "    fill: var(--disabled-fill-color);\n",
              "    box-shadow: none;\n",
              "  }\n",
              "\n",
              "  .colab-df-spinner {\n",
              "    border: 2px solid var(--fill-color);\n",
              "    border-color: transparent;\n",
              "    border-bottom-color: var(--fill-color);\n",
              "    animation:\n",
              "      spin 1s steps(1) infinite;\n",
              "  }\n",
              "\n",
              "  @keyframes spin {\n",
              "    0% {\n",
              "      border-color: transparent;\n",
              "      border-bottom-color: var(--fill-color);\n",
              "      border-left-color: var(--fill-color);\n",
              "    }\n",
              "    20% {\n",
              "      border-color: transparent;\n",
              "      border-left-color: var(--fill-color);\n",
              "      border-top-color: var(--fill-color);\n",
              "    }\n",
              "    30% {\n",
              "      border-color: transparent;\n",
              "      border-left-color: var(--fill-color);\n",
              "      border-top-color: var(--fill-color);\n",
              "      border-right-color: var(--fill-color);\n",
              "    }\n",
              "    40% {\n",
              "      border-color: transparent;\n",
              "      border-right-color: var(--fill-color);\n",
              "      border-top-color: var(--fill-color);\n",
              "    }\n",
              "    60% {\n",
              "      border-color: transparent;\n",
              "      border-right-color: var(--fill-color);\n",
              "    }\n",
              "    80% {\n",
              "      border-color: transparent;\n",
              "      border-right-color: var(--fill-color);\n",
              "      border-bottom-color: var(--fill-color);\n",
              "    }\n",
              "    90% {\n",
              "      border-color: transparent;\n",
              "      border-bottom-color: var(--fill-color);\n",
              "    }\n",
              "  }\n",
              "</style>\n",
              "\n",
              "  <script>\n",
              "    async function quickchart(key) {\n",
              "      const quickchartButtonEl =\n",
              "        document.querySelector('#' + key + ' button');\n",
              "      quickchartButtonEl.disabled = true;  // To prevent multiple clicks.\n",
              "      quickchartButtonEl.classList.add('colab-df-spinner');\n",
              "      try {\n",
              "        const charts = await google.colab.kernel.invokeFunction(\n",
              "            'suggestCharts', [key], {});\n",
              "      } catch (error) {\n",
              "        console.error('Error during call to suggestCharts:', error);\n",
              "      }\n",
              "      quickchartButtonEl.classList.remove('colab-df-spinner');\n",
              "      quickchartButtonEl.classList.add('colab-df-quickchart-complete');\n",
              "    }\n",
              "    (() => {\n",
              "      let quickchartButtonEl =\n",
              "        document.querySelector('#df-784aa54e-ac89-4f2f-9dd6-0fe5305679c2 button');\n",
              "      quickchartButtonEl.style.display =\n",
              "        google.colab.kernel.accessAllowed ? 'block' : 'none';\n",
              "    })();\n",
              "  </script>\n",
              "</div>\n",
              "\n",
              "    </div>\n",
              "  </div>\n"
            ],
            "application/vnd.google.colaboratory.intrinsic+json": {
              "type": "dataframe",
              "repr_error": "0"
            }
          },
          "metadata": {},
          "execution_count": 48
        }
      ]
    },
    {
      "cell_type": "markdown",
      "source": [
        "We can also formulate more complex queries that involve multiple columns. As an example, let's try to determine the days when the ratio of cases reported to tests conducted is higher than the overall `positive_rate`."
      ],
      "metadata": {
        "id": "WEWyPyHxfaEa"
      }
    },
    {
      "cell_type": "code",
      "source": [
        "positive_rate"
      ],
      "metadata": {
        "colab": {
          "base_uri": "https://localhost:8080/"
        },
        "id": "a7C-rIDjfbQs",
        "outputId": "458857b5-b56f-423e-b3a1-56a994a935c0"
      },
      "execution_count": null,
      "outputs": [
        {
          "output_type": "execute_result",
          "data": {
            "text/plain": [
              "0.05206657403227681"
            ]
          },
          "metadata": {},
          "execution_count": 49
        }
      ]
    },
    {
      "cell_type": "code",
      "source": [
        "high_ratio_df = covid_df[covid_df.new_cases / covid_df.new_tests > positive_rate]\n",
        "high_ratio_df"
      ],
      "metadata": {
        "colab": {
          "base_uri": "https://localhost:8080/",
          "height": 425
        },
        "id": "dF8TYtrwfgSD",
        "outputId": "10494c41-3b7b-491a-dba6-077b93c14be0"
      },
      "execution_count": null,
      "outputs": [
        {
          "output_type": "execute_result",
          "data": {
            "text/plain": [
              "           date  new_cases  new_deaths  new_tests\n",
              "111  2020-04-20     3047.0       433.0     7841.0\n",
              "112  2020-04-21     2256.0       454.0    28095.0\n",
              "113  2020-04-22     2729.0       534.0    44248.0\n",
              "114  2020-04-23     3370.0       437.0    37083.0\n",
              "116  2020-04-25     3021.0       420.0    38676.0\n",
              "117  2020-04-26     2357.0       415.0    24113.0\n",
              "118  2020-04-27     2324.0       260.0    26678.0\n",
              "120  2020-04-29     2091.0       382.0    38589.0\n",
              "123  2020-05-02     1965.0       269.0    31231.0\n",
              "124  2020-05-03     1900.0       474.0    27047.0\n",
              "125  2020-05-04     1389.0       174.0    22999.0\n",
              "128  2020-05-07     1444.0       369.0    13665.0"
            ],
            "text/html": [
              "\n",
              "  <div id=\"df-17bfd164-6c94-4b84-a0cd-e86f45f82dbd\" class=\"colab-df-container\">\n",
              "    <div>\n",
              "<style scoped>\n",
              "    .dataframe tbody tr th:only-of-type {\n",
              "        vertical-align: middle;\n",
              "    }\n",
              "\n",
              "    .dataframe tbody tr th {\n",
              "        vertical-align: top;\n",
              "    }\n",
              "\n",
              "    .dataframe thead th {\n",
              "        text-align: right;\n",
              "    }\n",
              "</style>\n",
              "<table border=\"1\" class=\"dataframe\">\n",
              "  <thead>\n",
              "    <tr style=\"text-align: right;\">\n",
              "      <th></th>\n",
              "      <th>date</th>\n",
              "      <th>new_cases</th>\n",
              "      <th>new_deaths</th>\n",
              "      <th>new_tests</th>\n",
              "    </tr>\n",
              "  </thead>\n",
              "  <tbody>\n",
              "    <tr>\n",
              "      <th>111</th>\n",
              "      <td>2020-04-20</td>\n",
              "      <td>3047.0</td>\n",
              "      <td>433.0</td>\n",
              "      <td>7841.0</td>\n",
              "    </tr>\n",
              "    <tr>\n",
              "      <th>112</th>\n",
              "      <td>2020-04-21</td>\n",
              "      <td>2256.0</td>\n",
              "      <td>454.0</td>\n",
              "      <td>28095.0</td>\n",
              "    </tr>\n",
              "    <tr>\n",
              "      <th>113</th>\n",
              "      <td>2020-04-22</td>\n",
              "      <td>2729.0</td>\n",
              "      <td>534.0</td>\n",
              "      <td>44248.0</td>\n",
              "    </tr>\n",
              "    <tr>\n",
              "      <th>114</th>\n",
              "      <td>2020-04-23</td>\n",
              "      <td>3370.0</td>\n",
              "      <td>437.0</td>\n",
              "      <td>37083.0</td>\n",
              "    </tr>\n",
              "    <tr>\n",
              "      <th>116</th>\n",
              "      <td>2020-04-25</td>\n",
              "      <td>3021.0</td>\n",
              "      <td>420.0</td>\n",
              "      <td>38676.0</td>\n",
              "    </tr>\n",
              "    <tr>\n",
              "      <th>117</th>\n",
              "      <td>2020-04-26</td>\n",
              "      <td>2357.0</td>\n",
              "      <td>415.0</td>\n",
              "      <td>24113.0</td>\n",
              "    </tr>\n",
              "    <tr>\n",
              "      <th>118</th>\n",
              "      <td>2020-04-27</td>\n",
              "      <td>2324.0</td>\n",
              "      <td>260.0</td>\n",
              "      <td>26678.0</td>\n",
              "    </tr>\n",
              "    <tr>\n",
              "      <th>120</th>\n",
              "      <td>2020-04-29</td>\n",
              "      <td>2091.0</td>\n",
              "      <td>382.0</td>\n",
              "      <td>38589.0</td>\n",
              "    </tr>\n",
              "    <tr>\n",
              "      <th>123</th>\n",
              "      <td>2020-05-02</td>\n",
              "      <td>1965.0</td>\n",
              "      <td>269.0</td>\n",
              "      <td>31231.0</td>\n",
              "    </tr>\n",
              "    <tr>\n",
              "      <th>124</th>\n",
              "      <td>2020-05-03</td>\n",
              "      <td>1900.0</td>\n",
              "      <td>474.0</td>\n",
              "      <td>27047.0</td>\n",
              "    </tr>\n",
              "    <tr>\n",
              "      <th>125</th>\n",
              "      <td>2020-05-04</td>\n",
              "      <td>1389.0</td>\n",
              "      <td>174.0</td>\n",
              "      <td>22999.0</td>\n",
              "    </tr>\n",
              "    <tr>\n",
              "      <th>128</th>\n",
              "      <td>2020-05-07</td>\n",
              "      <td>1444.0</td>\n",
              "      <td>369.0</td>\n",
              "      <td>13665.0</td>\n",
              "    </tr>\n",
              "  </tbody>\n",
              "</table>\n",
              "</div>\n",
              "    <div class=\"colab-df-buttons\">\n",
              "\n",
              "  <div class=\"colab-df-container\">\n",
              "    <button class=\"colab-df-convert\" onclick=\"convertToInteractive('df-17bfd164-6c94-4b84-a0cd-e86f45f82dbd')\"\n",
              "            title=\"Convert this dataframe to an interactive table.\"\n",
              "            style=\"display:none;\">\n",
              "\n",
              "  <svg xmlns=\"http://www.w3.org/2000/svg\" height=\"24px\" viewBox=\"0 -960 960 960\">\n",
              "    <path d=\"M120-120v-720h720v720H120Zm60-500h600v-160H180v160Zm220 220h160v-160H400v160Zm0 220h160v-160H400v160ZM180-400h160v-160H180v160Zm440 0h160v-160H620v160ZM180-180h160v-160H180v160Zm440 0h160v-160H620v160Z\"/>\n",
              "  </svg>\n",
              "    </button>\n",
              "\n",
              "  <style>\n",
              "    .colab-df-container {\n",
              "      display:flex;\n",
              "      gap: 12px;\n",
              "    }\n",
              "\n",
              "    .colab-df-convert {\n",
              "      background-color: #E8F0FE;\n",
              "      border: none;\n",
              "      border-radius: 50%;\n",
              "      cursor: pointer;\n",
              "      display: none;\n",
              "      fill: #1967D2;\n",
              "      height: 32px;\n",
              "      padding: 0 0 0 0;\n",
              "      width: 32px;\n",
              "    }\n",
              "\n",
              "    .colab-df-convert:hover {\n",
              "      background-color: #E2EBFA;\n",
              "      box-shadow: 0px 1px 2px rgba(60, 64, 67, 0.3), 0px 1px 3px 1px rgba(60, 64, 67, 0.15);\n",
              "      fill: #174EA6;\n",
              "    }\n",
              "\n",
              "    .colab-df-buttons div {\n",
              "      margin-bottom: 4px;\n",
              "    }\n",
              "\n",
              "    [theme=dark] .colab-df-convert {\n",
              "      background-color: #3B4455;\n",
              "      fill: #D2E3FC;\n",
              "    }\n",
              "\n",
              "    [theme=dark] .colab-df-convert:hover {\n",
              "      background-color: #434B5C;\n",
              "      box-shadow: 0px 1px 3px 1px rgba(0, 0, 0, 0.15);\n",
              "      filter: drop-shadow(0px 1px 2px rgba(0, 0, 0, 0.3));\n",
              "      fill: #FFFFFF;\n",
              "    }\n",
              "  </style>\n",
              "\n",
              "    <script>\n",
              "      const buttonEl =\n",
              "        document.querySelector('#df-17bfd164-6c94-4b84-a0cd-e86f45f82dbd button.colab-df-convert');\n",
              "      buttonEl.style.display =\n",
              "        google.colab.kernel.accessAllowed ? 'block' : 'none';\n",
              "\n",
              "      async function convertToInteractive(key) {\n",
              "        const element = document.querySelector('#df-17bfd164-6c94-4b84-a0cd-e86f45f82dbd');\n",
              "        const dataTable =\n",
              "          await google.colab.kernel.invokeFunction('convertToInteractive',\n",
              "                                                    [key], {});\n",
              "        if (!dataTable) return;\n",
              "\n",
              "        const docLinkHtml = 'Like what you see? Visit the ' +\n",
              "          '<a target=\"_blank\" href=https://colab.research.google.com/notebooks/data_table.ipynb>data table notebook</a>'\n",
              "          + ' to learn more about interactive tables.';\n",
              "        element.innerHTML = '';\n",
              "        dataTable['output_type'] = 'display_data';\n",
              "        await google.colab.output.renderOutput(dataTable, element);\n",
              "        const docLink = document.createElement('div');\n",
              "        docLink.innerHTML = docLinkHtml;\n",
              "        element.appendChild(docLink);\n",
              "      }\n",
              "    </script>\n",
              "  </div>\n",
              "\n",
              "\n",
              "<div id=\"df-fc956444-aa70-45de-af41-e2520a45ab63\">\n",
              "  <button class=\"colab-df-quickchart\" onclick=\"quickchart('df-fc956444-aa70-45de-af41-e2520a45ab63')\"\n",
              "            title=\"Suggest charts\"\n",
              "            style=\"display:none;\">\n",
              "\n",
              "<svg xmlns=\"http://www.w3.org/2000/svg\" height=\"24px\"viewBox=\"0 0 24 24\"\n",
              "     width=\"24px\">\n",
              "    <g>\n",
              "        <path d=\"M19 3H5c-1.1 0-2 .9-2 2v14c0 1.1.9 2 2 2h14c1.1 0 2-.9 2-2V5c0-1.1-.9-2-2-2zM9 17H7v-7h2v7zm4 0h-2V7h2v10zm4 0h-2v-4h2v4z\"/>\n",
              "    </g>\n",
              "</svg>\n",
              "  </button>\n",
              "\n",
              "<style>\n",
              "  .colab-df-quickchart {\n",
              "      --bg-color: #E8F0FE;\n",
              "      --fill-color: #1967D2;\n",
              "      --hover-bg-color: #E2EBFA;\n",
              "      --hover-fill-color: #174EA6;\n",
              "      --disabled-fill-color: #AAA;\n",
              "      --disabled-bg-color: #DDD;\n",
              "  }\n",
              "\n",
              "  [theme=dark] .colab-df-quickchart {\n",
              "      --bg-color: #3B4455;\n",
              "      --fill-color: #D2E3FC;\n",
              "      --hover-bg-color: #434B5C;\n",
              "      --hover-fill-color: #FFFFFF;\n",
              "      --disabled-bg-color: #3B4455;\n",
              "      --disabled-fill-color: #666;\n",
              "  }\n",
              "\n",
              "  .colab-df-quickchart {\n",
              "    background-color: var(--bg-color);\n",
              "    border: none;\n",
              "    border-radius: 50%;\n",
              "    cursor: pointer;\n",
              "    display: none;\n",
              "    fill: var(--fill-color);\n",
              "    height: 32px;\n",
              "    padding: 0;\n",
              "    width: 32px;\n",
              "  }\n",
              "\n",
              "  .colab-df-quickchart:hover {\n",
              "    background-color: var(--hover-bg-color);\n",
              "    box-shadow: 0 1px 2px rgba(60, 64, 67, 0.3), 0 1px 3px 1px rgba(60, 64, 67, 0.15);\n",
              "    fill: var(--button-hover-fill-color);\n",
              "  }\n",
              "\n",
              "  .colab-df-quickchart-complete:disabled,\n",
              "  .colab-df-quickchart-complete:disabled:hover {\n",
              "    background-color: var(--disabled-bg-color);\n",
              "    fill: var(--disabled-fill-color);\n",
              "    box-shadow: none;\n",
              "  }\n",
              "\n",
              "  .colab-df-spinner {\n",
              "    border: 2px solid var(--fill-color);\n",
              "    border-color: transparent;\n",
              "    border-bottom-color: var(--fill-color);\n",
              "    animation:\n",
              "      spin 1s steps(1) infinite;\n",
              "  }\n",
              "\n",
              "  @keyframes spin {\n",
              "    0% {\n",
              "      border-color: transparent;\n",
              "      border-bottom-color: var(--fill-color);\n",
              "      border-left-color: var(--fill-color);\n",
              "    }\n",
              "    20% {\n",
              "      border-color: transparent;\n",
              "      border-left-color: var(--fill-color);\n",
              "      border-top-color: var(--fill-color);\n",
              "    }\n",
              "    30% {\n",
              "      border-color: transparent;\n",
              "      border-left-color: var(--fill-color);\n",
              "      border-top-color: var(--fill-color);\n",
              "      border-right-color: var(--fill-color);\n",
              "    }\n",
              "    40% {\n",
              "      border-color: transparent;\n",
              "      border-right-color: var(--fill-color);\n",
              "      border-top-color: var(--fill-color);\n",
              "    }\n",
              "    60% {\n",
              "      border-color: transparent;\n",
              "      border-right-color: var(--fill-color);\n",
              "    }\n",
              "    80% {\n",
              "      border-color: transparent;\n",
              "      border-right-color: var(--fill-color);\n",
              "      border-bottom-color: var(--fill-color);\n",
              "    }\n",
              "    90% {\n",
              "      border-color: transparent;\n",
              "      border-bottom-color: var(--fill-color);\n",
              "    }\n",
              "  }\n",
              "</style>\n",
              "\n",
              "  <script>\n",
              "    async function quickchart(key) {\n",
              "      const quickchartButtonEl =\n",
              "        document.querySelector('#' + key + ' button');\n",
              "      quickchartButtonEl.disabled = true;  // To prevent multiple clicks.\n",
              "      quickchartButtonEl.classList.add('colab-df-spinner');\n",
              "      try {\n",
              "        const charts = await google.colab.kernel.invokeFunction(\n",
              "            'suggestCharts', [key], {});\n",
              "      } catch (error) {\n",
              "        console.error('Error during call to suggestCharts:', error);\n",
              "      }\n",
              "      quickchartButtonEl.classList.remove('colab-df-spinner');\n",
              "      quickchartButtonEl.classList.add('colab-df-quickchart-complete');\n",
              "    }\n",
              "    (() => {\n",
              "      let quickchartButtonEl =\n",
              "        document.querySelector('#df-fc956444-aa70-45de-af41-e2520a45ab63 button');\n",
              "      quickchartButtonEl.style.display =\n",
              "        google.colab.kernel.accessAllowed ? 'block' : 'none';\n",
              "    })();\n",
              "  </script>\n",
              "</div>\n",
              "\n",
              "  <div id=\"id_ec270f63-97a4-447f-b38e-080c750dded6\">\n",
              "    <style>\n",
              "      .colab-df-generate {\n",
              "        background-color: #E8F0FE;\n",
              "        border: none;\n",
              "        border-radius: 50%;\n",
              "        cursor: pointer;\n",
              "        display: none;\n",
              "        fill: #1967D2;\n",
              "        height: 32px;\n",
              "        padding: 0 0 0 0;\n",
              "        width: 32px;\n",
              "      }\n",
              "\n",
              "      .colab-df-generate:hover {\n",
              "        background-color: #E2EBFA;\n",
              "        box-shadow: 0px 1px 2px rgba(60, 64, 67, 0.3), 0px 1px 3px 1px rgba(60, 64, 67, 0.15);\n",
              "        fill: #174EA6;\n",
              "      }\n",
              "\n",
              "      [theme=dark] .colab-df-generate {\n",
              "        background-color: #3B4455;\n",
              "        fill: #D2E3FC;\n",
              "      }\n",
              "\n",
              "      [theme=dark] .colab-df-generate:hover {\n",
              "        background-color: #434B5C;\n",
              "        box-shadow: 0px 1px 3px 1px rgba(0, 0, 0, 0.15);\n",
              "        filter: drop-shadow(0px 1px 2px rgba(0, 0, 0, 0.3));\n",
              "        fill: #FFFFFF;\n",
              "      }\n",
              "    </style>\n",
              "    <button class=\"colab-df-generate\" onclick=\"generateWithVariable('high_ratio_df')\"\n",
              "            title=\"Generate code using this dataframe.\"\n",
              "            style=\"display:none;\">\n",
              "\n",
              "  <svg xmlns=\"http://www.w3.org/2000/svg\" height=\"24px\"viewBox=\"0 0 24 24\"\n",
              "       width=\"24px\">\n",
              "    <path d=\"M7,19H8.4L18.45,9,17,7.55,7,17.6ZM5,21V16.75L18.45,3.32a2,2,0,0,1,2.83,0l1.4,1.43a1.91,1.91,0,0,1,.58,1.4,1.91,1.91,0,0,1-.58,1.4L9.25,21ZM18.45,9,17,7.55Zm-12,3A5.31,5.31,0,0,0,4.9,8.1,5.31,5.31,0,0,0,1,6.5,5.31,5.31,0,0,0,4.9,4.9,5.31,5.31,0,0,0,6.5,1,5.31,5.31,0,0,0,8.1,4.9,5.31,5.31,0,0,0,12,6.5,5.46,5.46,0,0,0,6.5,12Z\"/>\n",
              "  </svg>\n",
              "    </button>\n",
              "    <script>\n",
              "      (() => {\n",
              "      const buttonEl =\n",
              "        document.querySelector('#id_ec270f63-97a4-447f-b38e-080c750dded6 button.colab-df-generate');\n",
              "      buttonEl.style.display =\n",
              "        google.colab.kernel.accessAllowed ? 'block' : 'none';\n",
              "\n",
              "      buttonEl.onclick = () => {\n",
              "        google.colab.notebook.generateWithVariable('high_ratio_df');\n",
              "      }\n",
              "      })();\n",
              "    </script>\n",
              "  </div>\n",
              "\n",
              "    </div>\n",
              "  </div>\n"
            ],
            "application/vnd.google.colaboratory.intrinsic+json": {
              "type": "dataframe",
              "variable_name": "high_ratio_df",
              "repr_error": "0"
            }
          },
          "metadata": {},
          "execution_count": 50
        }
      ]
    },
    {
      "cell_type": "code",
      "source": [
        "# the result performing an operation on two column is a new series\n",
        "covid_df.new_cases / covid_df.new_tests"
      ],
      "metadata": {
        "colab": {
          "base_uri": "https://localhost:8080/"
        },
        "id": "V_omZTlwfnll",
        "outputId": "e908a9bb-c329-4795-afd3-c0c184bc1a77"
      },
      "execution_count": null,
      "outputs": [
        {
          "output_type": "execute_result",
          "data": {
            "text/plain": [
              "0           NaN\n",
              "1           NaN\n",
              "2           NaN\n",
              "3           NaN\n",
              "4           NaN\n",
              "         ...   \n",
              "243    0.026970\n",
              "244    0.032055\n",
              "245    0.018311\n",
              "246         NaN\n",
              "247         NaN\n",
              "Length: 248, dtype: float64"
            ]
          },
          "metadata": {},
          "execution_count": 51
        }
      ]
    },
    {
      "cell_type": "code",
      "source": [
        "# We can use this series to add a new column to the data frame.\n",
        "covid_df['positive_rate'] = covid_df.new_cases / covid_df.new_tests\n",
        "covid_df"
      ],
      "metadata": {
        "colab": {
          "base_uri": "https://localhost:8080/",
          "height": 423
        },
        "id": "fq_IVdXzf7gm",
        "outputId": "b7be8d3c-feae-4cc9-9a11-722f8ddba8e1"
      },
      "execution_count": null,
      "outputs": [
        {
          "output_type": "execute_result",
          "data": {
            "text/plain": [
              "           date  new_cases  new_deaths  new_tests  positive_rate\n",
              "0    2019-12-31        0.0         0.0        NaN            NaN\n",
              "1    2020-01-01        0.0         0.0        NaN            NaN\n",
              "2    2020-01-02        0.0         0.0        NaN            NaN\n",
              "3    2020-01-03        0.0         0.0        NaN            NaN\n",
              "4    2020-01-04        0.0         0.0        NaN            NaN\n",
              "..          ...        ...         ...        ...            ...\n",
              "243  2020-08-30     1444.0         1.0    53541.0       0.026970\n",
              "244  2020-08-31     1365.0         4.0    42583.0       0.032055\n",
              "245  2020-09-01      996.0         6.0    54395.0       0.018311\n",
              "246  2020-09-02      975.0         8.0        NaN            NaN\n",
              "247  2020-09-03     1326.0         6.0        NaN            NaN\n",
              "\n",
              "[248 rows x 5 columns]"
            ],
            "text/html": [
              "\n",
              "  <div id=\"df-1713d1a2-07c8-44ac-9b78-8e0299b29a44\" class=\"colab-df-container\">\n",
              "    <div>\n",
              "<style scoped>\n",
              "    .dataframe tbody tr th:only-of-type {\n",
              "        vertical-align: middle;\n",
              "    }\n",
              "\n",
              "    .dataframe tbody tr th {\n",
              "        vertical-align: top;\n",
              "    }\n",
              "\n",
              "    .dataframe thead th {\n",
              "        text-align: right;\n",
              "    }\n",
              "</style>\n",
              "<table border=\"1\" class=\"dataframe\">\n",
              "  <thead>\n",
              "    <tr style=\"text-align: right;\">\n",
              "      <th></th>\n",
              "      <th>date</th>\n",
              "      <th>new_cases</th>\n",
              "      <th>new_deaths</th>\n",
              "      <th>new_tests</th>\n",
              "      <th>positive_rate</th>\n",
              "    </tr>\n",
              "  </thead>\n",
              "  <tbody>\n",
              "    <tr>\n",
              "      <th>0</th>\n",
              "      <td>2019-12-31</td>\n",
              "      <td>0.0</td>\n",
              "      <td>0.0</td>\n",
              "      <td>NaN</td>\n",
              "      <td>NaN</td>\n",
              "    </tr>\n",
              "    <tr>\n",
              "      <th>1</th>\n",
              "      <td>2020-01-01</td>\n",
              "      <td>0.0</td>\n",
              "      <td>0.0</td>\n",
              "      <td>NaN</td>\n",
              "      <td>NaN</td>\n",
              "    </tr>\n",
              "    <tr>\n",
              "      <th>2</th>\n",
              "      <td>2020-01-02</td>\n",
              "      <td>0.0</td>\n",
              "      <td>0.0</td>\n",
              "      <td>NaN</td>\n",
              "      <td>NaN</td>\n",
              "    </tr>\n",
              "    <tr>\n",
              "      <th>3</th>\n",
              "      <td>2020-01-03</td>\n",
              "      <td>0.0</td>\n",
              "      <td>0.0</td>\n",
              "      <td>NaN</td>\n",
              "      <td>NaN</td>\n",
              "    </tr>\n",
              "    <tr>\n",
              "      <th>4</th>\n",
              "      <td>2020-01-04</td>\n",
              "      <td>0.0</td>\n",
              "      <td>0.0</td>\n",
              "      <td>NaN</td>\n",
              "      <td>NaN</td>\n",
              "    </tr>\n",
              "    <tr>\n",
              "      <th>...</th>\n",
              "      <td>...</td>\n",
              "      <td>...</td>\n",
              "      <td>...</td>\n",
              "      <td>...</td>\n",
              "      <td>...</td>\n",
              "    </tr>\n",
              "    <tr>\n",
              "      <th>243</th>\n",
              "      <td>2020-08-30</td>\n",
              "      <td>1444.0</td>\n",
              "      <td>1.0</td>\n",
              "      <td>53541.0</td>\n",
              "      <td>0.026970</td>\n",
              "    </tr>\n",
              "    <tr>\n",
              "      <th>244</th>\n",
              "      <td>2020-08-31</td>\n",
              "      <td>1365.0</td>\n",
              "      <td>4.0</td>\n",
              "      <td>42583.0</td>\n",
              "      <td>0.032055</td>\n",
              "    </tr>\n",
              "    <tr>\n",
              "      <th>245</th>\n",
              "      <td>2020-09-01</td>\n",
              "      <td>996.0</td>\n",
              "      <td>6.0</td>\n",
              "      <td>54395.0</td>\n",
              "      <td>0.018311</td>\n",
              "    </tr>\n",
              "    <tr>\n",
              "      <th>246</th>\n",
              "      <td>2020-09-02</td>\n",
              "      <td>975.0</td>\n",
              "      <td>8.0</td>\n",
              "      <td>NaN</td>\n",
              "      <td>NaN</td>\n",
              "    </tr>\n",
              "    <tr>\n",
              "      <th>247</th>\n",
              "      <td>2020-09-03</td>\n",
              "      <td>1326.0</td>\n",
              "      <td>6.0</td>\n",
              "      <td>NaN</td>\n",
              "      <td>NaN</td>\n",
              "    </tr>\n",
              "  </tbody>\n",
              "</table>\n",
              "<p>248 rows × 5 columns</p>\n",
              "</div>\n",
              "    <div class=\"colab-df-buttons\">\n",
              "\n",
              "  <div class=\"colab-df-container\">\n",
              "    <button class=\"colab-df-convert\" onclick=\"convertToInteractive('df-1713d1a2-07c8-44ac-9b78-8e0299b29a44')\"\n",
              "            title=\"Convert this dataframe to an interactive table.\"\n",
              "            style=\"display:none;\">\n",
              "\n",
              "  <svg xmlns=\"http://www.w3.org/2000/svg\" height=\"24px\" viewBox=\"0 -960 960 960\">\n",
              "    <path d=\"M120-120v-720h720v720H120Zm60-500h600v-160H180v160Zm220 220h160v-160H400v160Zm0 220h160v-160H400v160ZM180-400h160v-160H180v160Zm440 0h160v-160H620v160ZM180-180h160v-160H180v160Zm440 0h160v-160H620v160Z\"/>\n",
              "  </svg>\n",
              "    </button>\n",
              "\n",
              "  <style>\n",
              "    .colab-df-container {\n",
              "      display:flex;\n",
              "      gap: 12px;\n",
              "    }\n",
              "\n",
              "    .colab-df-convert {\n",
              "      background-color: #E8F0FE;\n",
              "      border: none;\n",
              "      border-radius: 50%;\n",
              "      cursor: pointer;\n",
              "      display: none;\n",
              "      fill: #1967D2;\n",
              "      height: 32px;\n",
              "      padding: 0 0 0 0;\n",
              "      width: 32px;\n",
              "    }\n",
              "\n",
              "    .colab-df-convert:hover {\n",
              "      background-color: #E2EBFA;\n",
              "      box-shadow: 0px 1px 2px rgba(60, 64, 67, 0.3), 0px 1px 3px 1px rgba(60, 64, 67, 0.15);\n",
              "      fill: #174EA6;\n",
              "    }\n",
              "\n",
              "    .colab-df-buttons div {\n",
              "      margin-bottom: 4px;\n",
              "    }\n",
              "\n",
              "    [theme=dark] .colab-df-convert {\n",
              "      background-color: #3B4455;\n",
              "      fill: #D2E3FC;\n",
              "    }\n",
              "\n",
              "    [theme=dark] .colab-df-convert:hover {\n",
              "      background-color: #434B5C;\n",
              "      box-shadow: 0px 1px 3px 1px rgba(0, 0, 0, 0.15);\n",
              "      filter: drop-shadow(0px 1px 2px rgba(0, 0, 0, 0.3));\n",
              "      fill: #FFFFFF;\n",
              "    }\n",
              "  </style>\n",
              "\n",
              "    <script>\n",
              "      const buttonEl =\n",
              "        document.querySelector('#df-1713d1a2-07c8-44ac-9b78-8e0299b29a44 button.colab-df-convert');\n",
              "      buttonEl.style.display =\n",
              "        google.colab.kernel.accessAllowed ? 'block' : 'none';\n",
              "\n",
              "      async function convertToInteractive(key) {\n",
              "        const element = document.querySelector('#df-1713d1a2-07c8-44ac-9b78-8e0299b29a44');\n",
              "        const dataTable =\n",
              "          await google.colab.kernel.invokeFunction('convertToInteractive',\n",
              "                                                    [key], {});\n",
              "        if (!dataTable) return;\n",
              "\n",
              "        const docLinkHtml = 'Like what you see? Visit the ' +\n",
              "          '<a target=\"_blank\" href=https://colab.research.google.com/notebooks/data_table.ipynb>data table notebook</a>'\n",
              "          + ' to learn more about interactive tables.';\n",
              "        element.innerHTML = '';\n",
              "        dataTable['output_type'] = 'display_data';\n",
              "        await google.colab.output.renderOutput(dataTable, element);\n",
              "        const docLink = document.createElement('div');\n",
              "        docLink.innerHTML = docLinkHtml;\n",
              "        element.appendChild(docLink);\n",
              "      }\n",
              "    </script>\n",
              "  </div>\n",
              "\n",
              "\n",
              "<div id=\"df-6534292c-2957-4459-9e2d-07a5275341a1\">\n",
              "  <button class=\"colab-df-quickchart\" onclick=\"quickchart('df-6534292c-2957-4459-9e2d-07a5275341a1')\"\n",
              "            title=\"Suggest charts\"\n",
              "            style=\"display:none;\">\n",
              "\n",
              "<svg xmlns=\"http://www.w3.org/2000/svg\" height=\"24px\"viewBox=\"0 0 24 24\"\n",
              "     width=\"24px\">\n",
              "    <g>\n",
              "        <path d=\"M19 3H5c-1.1 0-2 .9-2 2v14c0 1.1.9 2 2 2h14c1.1 0 2-.9 2-2V5c0-1.1-.9-2-2-2zM9 17H7v-7h2v7zm4 0h-2V7h2v10zm4 0h-2v-4h2v4z\"/>\n",
              "    </g>\n",
              "</svg>\n",
              "  </button>\n",
              "\n",
              "<style>\n",
              "  .colab-df-quickchart {\n",
              "      --bg-color: #E8F0FE;\n",
              "      --fill-color: #1967D2;\n",
              "      --hover-bg-color: #E2EBFA;\n",
              "      --hover-fill-color: #174EA6;\n",
              "      --disabled-fill-color: #AAA;\n",
              "      --disabled-bg-color: #DDD;\n",
              "  }\n",
              "\n",
              "  [theme=dark] .colab-df-quickchart {\n",
              "      --bg-color: #3B4455;\n",
              "      --fill-color: #D2E3FC;\n",
              "      --hover-bg-color: #434B5C;\n",
              "      --hover-fill-color: #FFFFFF;\n",
              "      --disabled-bg-color: #3B4455;\n",
              "      --disabled-fill-color: #666;\n",
              "  }\n",
              "\n",
              "  .colab-df-quickchart {\n",
              "    background-color: var(--bg-color);\n",
              "    border: none;\n",
              "    border-radius: 50%;\n",
              "    cursor: pointer;\n",
              "    display: none;\n",
              "    fill: var(--fill-color);\n",
              "    height: 32px;\n",
              "    padding: 0;\n",
              "    width: 32px;\n",
              "  }\n",
              "\n",
              "  .colab-df-quickchart:hover {\n",
              "    background-color: var(--hover-bg-color);\n",
              "    box-shadow: 0 1px 2px rgba(60, 64, 67, 0.3), 0 1px 3px 1px rgba(60, 64, 67, 0.15);\n",
              "    fill: var(--button-hover-fill-color);\n",
              "  }\n",
              "\n",
              "  .colab-df-quickchart-complete:disabled,\n",
              "  .colab-df-quickchart-complete:disabled:hover {\n",
              "    background-color: var(--disabled-bg-color);\n",
              "    fill: var(--disabled-fill-color);\n",
              "    box-shadow: none;\n",
              "  }\n",
              "\n",
              "  .colab-df-spinner {\n",
              "    border: 2px solid var(--fill-color);\n",
              "    border-color: transparent;\n",
              "    border-bottom-color: var(--fill-color);\n",
              "    animation:\n",
              "      spin 1s steps(1) infinite;\n",
              "  }\n",
              "\n",
              "  @keyframes spin {\n",
              "    0% {\n",
              "      border-color: transparent;\n",
              "      border-bottom-color: var(--fill-color);\n",
              "      border-left-color: var(--fill-color);\n",
              "    }\n",
              "    20% {\n",
              "      border-color: transparent;\n",
              "      border-left-color: var(--fill-color);\n",
              "      border-top-color: var(--fill-color);\n",
              "    }\n",
              "    30% {\n",
              "      border-color: transparent;\n",
              "      border-left-color: var(--fill-color);\n",
              "      border-top-color: var(--fill-color);\n",
              "      border-right-color: var(--fill-color);\n",
              "    }\n",
              "    40% {\n",
              "      border-color: transparent;\n",
              "      border-right-color: var(--fill-color);\n",
              "      border-top-color: var(--fill-color);\n",
              "    }\n",
              "    60% {\n",
              "      border-color: transparent;\n",
              "      border-right-color: var(--fill-color);\n",
              "    }\n",
              "    80% {\n",
              "      border-color: transparent;\n",
              "      border-right-color: var(--fill-color);\n",
              "      border-bottom-color: var(--fill-color);\n",
              "    }\n",
              "    90% {\n",
              "      border-color: transparent;\n",
              "      border-bottom-color: var(--fill-color);\n",
              "    }\n",
              "  }\n",
              "</style>\n",
              "\n",
              "  <script>\n",
              "    async function quickchart(key) {\n",
              "      const quickchartButtonEl =\n",
              "        document.querySelector('#' + key + ' button');\n",
              "      quickchartButtonEl.disabled = true;  // To prevent multiple clicks.\n",
              "      quickchartButtonEl.classList.add('colab-df-spinner');\n",
              "      try {\n",
              "        const charts = await google.colab.kernel.invokeFunction(\n",
              "            'suggestCharts', [key], {});\n",
              "      } catch (error) {\n",
              "        console.error('Error during call to suggestCharts:', error);\n",
              "      }\n",
              "      quickchartButtonEl.classList.remove('colab-df-spinner');\n",
              "      quickchartButtonEl.classList.add('colab-df-quickchart-complete');\n",
              "    }\n",
              "    (() => {\n",
              "      let quickchartButtonEl =\n",
              "        document.querySelector('#df-6534292c-2957-4459-9e2d-07a5275341a1 button');\n",
              "      quickchartButtonEl.style.display =\n",
              "        google.colab.kernel.accessAllowed ? 'block' : 'none';\n",
              "    })();\n",
              "  </script>\n",
              "</div>\n",
              "\n",
              "  <div id=\"id_342c43d9-1838-4616-b2c4-69ede9cbf569\">\n",
              "    <style>\n",
              "      .colab-df-generate {\n",
              "        background-color: #E8F0FE;\n",
              "        border: none;\n",
              "        border-radius: 50%;\n",
              "        cursor: pointer;\n",
              "        display: none;\n",
              "        fill: #1967D2;\n",
              "        height: 32px;\n",
              "        padding: 0 0 0 0;\n",
              "        width: 32px;\n",
              "      }\n",
              "\n",
              "      .colab-df-generate:hover {\n",
              "        background-color: #E2EBFA;\n",
              "        box-shadow: 0px 1px 2px rgba(60, 64, 67, 0.3), 0px 1px 3px 1px rgba(60, 64, 67, 0.15);\n",
              "        fill: #174EA6;\n",
              "      }\n",
              "\n",
              "      [theme=dark] .colab-df-generate {\n",
              "        background-color: #3B4455;\n",
              "        fill: #D2E3FC;\n",
              "      }\n",
              "\n",
              "      [theme=dark] .colab-df-generate:hover {\n",
              "        background-color: #434B5C;\n",
              "        box-shadow: 0px 1px 3px 1px rgba(0, 0, 0, 0.15);\n",
              "        filter: drop-shadow(0px 1px 2px rgba(0, 0, 0, 0.3));\n",
              "        fill: #FFFFFF;\n",
              "      }\n",
              "    </style>\n",
              "    <button class=\"colab-df-generate\" onclick=\"generateWithVariable('covid_df')\"\n",
              "            title=\"Generate code using this dataframe.\"\n",
              "            style=\"display:none;\">\n",
              "\n",
              "  <svg xmlns=\"http://www.w3.org/2000/svg\" height=\"24px\"viewBox=\"0 0 24 24\"\n",
              "       width=\"24px\">\n",
              "    <path d=\"M7,19H8.4L18.45,9,17,7.55,7,17.6ZM5,21V16.75L18.45,3.32a2,2,0,0,1,2.83,0l1.4,1.43a1.91,1.91,0,0,1,.58,1.4,1.91,1.91,0,0,1-.58,1.4L9.25,21ZM18.45,9,17,7.55Zm-12,3A5.31,5.31,0,0,0,4.9,8.1,5.31,5.31,0,0,0,1,6.5,5.31,5.31,0,0,0,4.9,4.9,5.31,5.31,0,0,0,6.5,1,5.31,5.31,0,0,0,8.1,4.9,5.31,5.31,0,0,0,12,6.5,5.46,5.46,0,0,0,6.5,12Z\"/>\n",
              "  </svg>\n",
              "    </button>\n",
              "    <script>\n",
              "      (() => {\n",
              "      const buttonEl =\n",
              "        document.querySelector('#id_342c43d9-1838-4616-b2c4-69ede9cbf569 button.colab-df-generate');\n",
              "      buttonEl.style.display =\n",
              "        google.colab.kernel.accessAllowed ? 'block' : 'none';\n",
              "\n",
              "      buttonEl.onclick = () => {\n",
              "        google.colab.notebook.generateWithVariable('covid_df');\n",
              "      }\n",
              "      })();\n",
              "    </script>\n",
              "  </div>\n",
              "\n",
              "    </div>\n",
              "  </div>\n"
            ],
            "application/vnd.google.colaboratory.intrinsic+json": {
              "type": "dataframe",
              "variable_name": "covid_df",
              "summary": "{\n  \"name\": \"covid_df\",\n  \"rows\": 248,\n  \"fields\": [\n    {\n      \"column\": \"date\",\n      \"properties\": {\n        \"dtype\": \"object\",\n        \"num_unique_values\": 248,\n        \"samples\": [\n          \"2020-02-02\",\n          \"2020-01-06\",\n          \"2020-06-30\"\n        ],\n        \"semantic_type\": \"\",\n        \"description\": \"\"\n      }\n    },\n    {\n      \"column\": \"new_cases\",\n      \"properties\": {\n        \"dtype\": \"number\",\n        \"std\": 1554.5080021940491,\n        \"min\": -148.0,\n        \"max\": 6557.0,\n        \"num_unique_values\": 188,\n        \"samples\": [\n          1460.0,\n          159.0,\n          1492.0\n        ],\n        \"semantic_type\": \"\",\n        \"description\": \"\"\n      }\n    },\n    {\n      \"column\": \"new_deaths\",\n      \"properties\": {\n        \"dtype\": \"number\",\n        \"std\": 227.10553833402594,\n        \"min\": -31.0,\n        \"max\": 971.0,\n        \"num_unique_values\": 129,\n        \"samples\": [\n          534.0,\n          527.0,\n          173.0\n        ],\n        \"semantic_type\": \"\",\n        \"description\": \"\"\n      }\n    },\n    {\n      \"column\": \"new_tests\",\n      \"properties\": {\n        \"dtype\": \"number\",\n        \"std\": 11622.209756510283,\n        \"min\": 7841.0,\n        \"max\": 95273.0,\n        \"num_unique_values\": 135,\n        \"samples\": [\n          19374.0,\n          28331.0,\n          13467.0\n        ],\n        \"semantic_type\": \"\",\n        \"description\": \"\"\n      }\n    },\n    {\n      \"column\": \"positive_rate\",\n      \"properties\": {\n        \"dtype\": \"number\",\n        \"std\": 0.037393379691494415,\n        \"min\": -0.0049539748953974895,\n        \"max\": 0.3885983930621094,\n        \"num_unique_values\": 135,\n        \"samples\": [\n          0.01311035408279137,\n          0.010447919240408034,\n          0.017672829880448503\n        ],\n        \"semantic_type\": \"\",\n        \"description\": \"\"\n      }\n    }\n  ]\n}"
            }
          },
          "metadata": {},
          "execution_count": 52
        }
      ]
    },
    {
      "cell_type": "markdown",
      "source": [
        "### Sorting rows using column values\n",
        "\n",
        "The rows can also be sorted by a specific column using `.sort_values`. Let's sort to identify the days with the highest number of cases, then chain it with the `head` method to list just the first ten results."
      ],
      "metadata": {
        "id": "2J86KdU9gI2x"
      }
    },
    {
      "cell_type": "code",
      "source": [
        "covid_df.sort_values('new_cases', ascending=False).head(10) # you can't use descending = true cz it is by defination. use asccending = true"
      ],
      "metadata": {
        "colab": {
          "base_uri": "https://localhost:8080/",
          "height": 363
        },
        "id": "urIQz1C9gJy_",
        "outputId": "817c0663-9fc7-43ed-ecdc-cd76eb468b62"
      },
      "execution_count": null,
      "outputs": [
        {
          "output_type": "execute_result",
          "data": {
            "text/plain": [
              "          date  new_cases  new_deaths  new_tests  positive_rate\n",
              "82  2020-03-22     6557.0       795.0        NaN            NaN\n",
              "87  2020-03-27     6153.0       660.0        NaN            NaN\n",
              "81  2020-03-21     5986.0       625.0        NaN            NaN\n",
              "89  2020-03-29     5974.0       887.0        NaN            NaN\n",
              "88  2020-03-28     5959.0       971.0        NaN            NaN\n",
              "83  2020-03-23     5560.0       649.0        NaN            NaN\n",
              "80  2020-03-20     5322.0       429.0        NaN            NaN\n",
              "85  2020-03-25     5249.0       743.0        NaN            NaN\n",
              "90  2020-03-30     5217.0       758.0        NaN            NaN\n",
              "86  2020-03-26     5210.0       685.0        NaN            NaN"
            ],
            "text/html": [
              "\n",
              "  <div id=\"df-8a61940a-2594-4d73-900e-739d3c74deac\" class=\"colab-df-container\">\n",
              "    <div>\n",
              "<style scoped>\n",
              "    .dataframe tbody tr th:only-of-type {\n",
              "        vertical-align: middle;\n",
              "    }\n",
              "\n",
              "    .dataframe tbody tr th {\n",
              "        vertical-align: top;\n",
              "    }\n",
              "\n",
              "    .dataframe thead th {\n",
              "        text-align: right;\n",
              "    }\n",
              "</style>\n",
              "<table border=\"1\" class=\"dataframe\">\n",
              "  <thead>\n",
              "    <tr style=\"text-align: right;\">\n",
              "      <th></th>\n",
              "      <th>date</th>\n",
              "      <th>new_cases</th>\n",
              "      <th>new_deaths</th>\n",
              "      <th>new_tests</th>\n",
              "      <th>positive_rate</th>\n",
              "    </tr>\n",
              "  </thead>\n",
              "  <tbody>\n",
              "    <tr>\n",
              "      <th>82</th>\n",
              "      <td>2020-03-22</td>\n",
              "      <td>6557.0</td>\n",
              "      <td>795.0</td>\n",
              "      <td>NaN</td>\n",
              "      <td>NaN</td>\n",
              "    </tr>\n",
              "    <tr>\n",
              "      <th>87</th>\n",
              "      <td>2020-03-27</td>\n",
              "      <td>6153.0</td>\n",
              "      <td>660.0</td>\n",
              "      <td>NaN</td>\n",
              "      <td>NaN</td>\n",
              "    </tr>\n",
              "    <tr>\n",
              "      <th>81</th>\n",
              "      <td>2020-03-21</td>\n",
              "      <td>5986.0</td>\n",
              "      <td>625.0</td>\n",
              "      <td>NaN</td>\n",
              "      <td>NaN</td>\n",
              "    </tr>\n",
              "    <tr>\n",
              "      <th>89</th>\n",
              "      <td>2020-03-29</td>\n",
              "      <td>5974.0</td>\n",
              "      <td>887.0</td>\n",
              "      <td>NaN</td>\n",
              "      <td>NaN</td>\n",
              "    </tr>\n",
              "    <tr>\n",
              "      <th>88</th>\n",
              "      <td>2020-03-28</td>\n",
              "      <td>5959.0</td>\n",
              "      <td>971.0</td>\n",
              "      <td>NaN</td>\n",
              "      <td>NaN</td>\n",
              "    </tr>\n",
              "    <tr>\n",
              "      <th>83</th>\n",
              "      <td>2020-03-23</td>\n",
              "      <td>5560.0</td>\n",
              "      <td>649.0</td>\n",
              "      <td>NaN</td>\n",
              "      <td>NaN</td>\n",
              "    </tr>\n",
              "    <tr>\n",
              "      <th>80</th>\n",
              "      <td>2020-03-20</td>\n",
              "      <td>5322.0</td>\n",
              "      <td>429.0</td>\n",
              "      <td>NaN</td>\n",
              "      <td>NaN</td>\n",
              "    </tr>\n",
              "    <tr>\n",
              "      <th>85</th>\n",
              "      <td>2020-03-25</td>\n",
              "      <td>5249.0</td>\n",
              "      <td>743.0</td>\n",
              "      <td>NaN</td>\n",
              "      <td>NaN</td>\n",
              "    </tr>\n",
              "    <tr>\n",
              "      <th>90</th>\n",
              "      <td>2020-03-30</td>\n",
              "      <td>5217.0</td>\n",
              "      <td>758.0</td>\n",
              "      <td>NaN</td>\n",
              "      <td>NaN</td>\n",
              "    </tr>\n",
              "    <tr>\n",
              "      <th>86</th>\n",
              "      <td>2020-03-26</td>\n",
              "      <td>5210.0</td>\n",
              "      <td>685.0</td>\n",
              "      <td>NaN</td>\n",
              "      <td>NaN</td>\n",
              "    </tr>\n",
              "  </tbody>\n",
              "</table>\n",
              "</div>\n",
              "    <div class=\"colab-df-buttons\">\n",
              "\n",
              "  <div class=\"colab-df-container\">\n",
              "    <button class=\"colab-df-convert\" onclick=\"convertToInteractive('df-8a61940a-2594-4d73-900e-739d3c74deac')\"\n",
              "            title=\"Convert this dataframe to an interactive table.\"\n",
              "            style=\"display:none;\">\n",
              "\n",
              "  <svg xmlns=\"http://www.w3.org/2000/svg\" height=\"24px\" viewBox=\"0 -960 960 960\">\n",
              "    <path d=\"M120-120v-720h720v720H120Zm60-500h600v-160H180v160Zm220 220h160v-160H400v160Zm0 220h160v-160H400v160ZM180-400h160v-160H180v160Zm440 0h160v-160H620v160ZM180-180h160v-160H180v160Zm440 0h160v-160H620v160Z\"/>\n",
              "  </svg>\n",
              "    </button>\n",
              "\n",
              "  <style>\n",
              "    .colab-df-container {\n",
              "      display:flex;\n",
              "      gap: 12px;\n",
              "    }\n",
              "\n",
              "    .colab-df-convert {\n",
              "      background-color: #E8F0FE;\n",
              "      border: none;\n",
              "      border-radius: 50%;\n",
              "      cursor: pointer;\n",
              "      display: none;\n",
              "      fill: #1967D2;\n",
              "      height: 32px;\n",
              "      padding: 0 0 0 0;\n",
              "      width: 32px;\n",
              "    }\n",
              "\n",
              "    .colab-df-convert:hover {\n",
              "      background-color: #E2EBFA;\n",
              "      box-shadow: 0px 1px 2px rgba(60, 64, 67, 0.3), 0px 1px 3px 1px rgba(60, 64, 67, 0.15);\n",
              "      fill: #174EA6;\n",
              "    }\n",
              "\n",
              "    .colab-df-buttons div {\n",
              "      margin-bottom: 4px;\n",
              "    }\n",
              "\n",
              "    [theme=dark] .colab-df-convert {\n",
              "      background-color: #3B4455;\n",
              "      fill: #D2E3FC;\n",
              "    }\n",
              "\n",
              "    [theme=dark] .colab-df-convert:hover {\n",
              "      background-color: #434B5C;\n",
              "      box-shadow: 0px 1px 3px 1px rgba(0, 0, 0, 0.15);\n",
              "      filter: drop-shadow(0px 1px 2px rgba(0, 0, 0, 0.3));\n",
              "      fill: #FFFFFF;\n",
              "    }\n",
              "  </style>\n",
              "\n",
              "    <script>\n",
              "      const buttonEl =\n",
              "        document.querySelector('#df-8a61940a-2594-4d73-900e-739d3c74deac button.colab-df-convert');\n",
              "      buttonEl.style.display =\n",
              "        google.colab.kernel.accessAllowed ? 'block' : 'none';\n",
              "\n",
              "      async function convertToInteractive(key) {\n",
              "        const element = document.querySelector('#df-8a61940a-2594-4d73-900e-739d3c74deac');\n",
              "        const dataTable =\n",
              "          await google.colab.kernel.invokeFunction('convertToInteractive',\n",
              "                                                    [key], {});\n",
              "        if (!dataTable) return;\n",
              "\n",
              "        const docLinkHtml = 'Like what you see? Visit the ' +\n",
              "          '<a target=\"_blank\" href=https://colab.research.google.com/notebooks/data_table.ipynb>data table notebook</a>'\n",
              "          + ' to learn more about interactive tables.';\n",
              "        element.innerHTML = '';\n",
              "        dataTable['output_type'] = 'display_data';\n",
              "        await google.colab.output.renderOutput(dataTable, element);\n",
              "        const docLink = document.createElement('div');\n",
              "        docLink.innerHTML = docLinkHtml;\n",
              "        element.appendChild(docLink);\n",
              "      }\n",
              "    </script>\n",
              "  </div>\n",
              "\n",
              "\n",
              "<div id=\"df-920d9a72-7162-4022-b855-cf41947a9e4c\">\n",
              "  <button class=\"colab-df-quickchart\" onclick=\"quickchart('df-920d9a72-7162-4022-b855-cf41947a9e4c')\"\n",
              "            title=\"Suggest charts\"\n",
              "            style=\"display:none;\">\n",
              "\n",
              "<svg xmlns=\"http://www.w3.org/2000/svg\" height=\"24px\"viewBox=\"0 0 24 24\"\n",
              "     width=\"24px\">\n",
              "    <g>\n",
              "        <path d=\"M19 3H5c-1.1 0-2 .9-2 2v14c0 1.1.9 2 2 2h14c1.1 0 2-.9 2-2V5c0-1.1-.9-2-2-2zM9 17H7v-7h2v7zm4 0h-2V7h2v10zm4 0h-2v-4h2v4z\"/>\n",
              "    </g>\n",
              "</svg>\n",
              "  </button>\n",
              "\n",
              "<style>\n",
              "  .colab-df-quickchart {\n",
              "      --bg-color: #E8F0FE;\n",
              "      --fill-color: #1967D2;\n",
              "      --hover-bg-color: #E2EBFA;\n",
              "      --hover-fill-color: #174EA6;\n",
              "      --disabled-fill-color: #AAA;\n",
              "      --disabled-bg-color: #DDD;\n",
              "  }\n",
              "\n",
              "  [theme=dark] .colab-df-quickchart {\n",
              "      --bg-color: #3B4455;\n",
              "      --fill-color: #D2E3FC;\n",
              "      --hover-bg-color: #434B5C;\n",
              "      --hover-fill-color: #FFFFFF;\n",
              "      --disabled-bg-color: #3B4455;\n",
              "      --disabled-fill-color: #666;\n",
              "  }\n",
              "\n",
              "  .colab-df-quickchart {\n",
              "    background-color: var(--bg-color);\n",
              "    border: none;\n",
              "    border-radius: 50%;\n",
              "    cursor: pointer;\n",
              "    display: none;\n",
              "    fill: var(--fill-color);\n",
              "    height: 32px;\n",
              "    padding: 0;\n",
              "    width: 32px;\n",
              "  }\n",
              "\n",
              "  .colab-df-quickchart:hover {\n",
              "    background-color: var(--hover-bg-color);\n",
              "    box-shadow: 0 1px 2px rgba(60, 64, 67, 0.3), 0 1px 3px 1px rgba(60, 64, 67, 0.15);\n",
              "    fill: var(--button-hover-fill-color);\n",
              "  }\n",
              "\n",
              "  .colab-df-quickchart-complete:disabled,\n",
              "  .colab-df-quickchart-complete:disabled:hover {\n",
              "    background-color: var(--disabled-bg-color);\n",
              "    fill: var(--disabled-fill-color);\n",
              "    box-shadow: none;\n",
              "  }\n",
              "\n",
              "  .colab-df-spinner {\n",
              "    border: 2px solid var(--fill-color);\n",
              "    border-color: transparent;\n",
              "    border-bottom-color: var(--fill-color);\n",
              "    animation:\n",
              "      spin 1s steps(1) infinite;\n",
              "  }\n",
              "\n",
              "  @keyframes spin {\n",
              "    0% {\n",
              "      border-color: transparent;\n",
              "      border-bottom-color: var(--fill-color);\n",
              "      border-left-color: var(--fill-color);\n",
              "    }\n",
              "    20% {\n",
              "      border-color: transparent;\n",
              "      border-left-color: var(--fill-color);\n",
              "      border-top-color: var(--fill-color);\n",
              "    }\n",
              "    30% {\n",
              "      border-color: transparent;\n",
              "      border-left-color: var(--fill-color);\n",
              "      border-top-color: var(--fill-color);\n",
              "      border-right-color: var(--fill-color);\n",
              "    }\n",
              "    40% {\n",
              "      border-color: transparent;\n",
              "      border-right-color: var(--fill-color);\n",
              "      border-top-color: var(--fill-color);\n",
              "    }\n",
              "    60% {\n",
              "      border-color: transparent;\n",
              "      border-right-color: var(--fill-color);\n",
              "    }\n",
              "    80% {\n",
              "      border-color: transparent;\n",
              "      border-right-color: var(--fill-color);\n",
              "      border-bottom-color: var(--fill-color);\n",
              "    }\n",
              "    90% {\n",
              "      border-color: transparent;\n",
              "      border-bottom-color: var(--fill-color);\n",
              "    }\n",
              "  }\n",
              "</style>\n",
              "\n",
              "  <script>\n",
              "    async function quickchart(key) {\n",
              "      const quickchartButtonEl =\n",
              "        document.querySelector('#' + key + ' button');\n",
              "      quickchartButtonEl.disabled = true;  // To prevent multiple clicks.\n",
              "      quickchartButtonEl.classList.add('colab-df-spinner');\n",
              "      try {\n",
              "        const charts = await google.colab.kernel.invokeFunction(\n",
              "            'suggestCharts', [key], {});\n",
              "      } catch (error) {\n",
              "        console.error('Error during call to suggestCharts:', error);\n",
              "      }\n",
              "      quickchartButtonEl.classList.remove('colab-df-spinner');\n",
              "      quickchartButtonEl.classList.add('colab-df-quickchart-complete');\n",
              "    }\n",
              "    (() => {\n",
              "      let quickchartButtonEl =\n",
              "        document.querySelector('#df-920d9a72-7162-4022-b855-cf41947a9e4c button');\n",
              "      quickchartButtonEl.style.display =\n",
              "        google.colab.kernel.accessAllowed ? 'block' : 'none';\n",
              "    })();\n",
              "  </script>\n",
              "</div>\n",
              "\n",
              "    </div>\n",
              "  </div>\n"
            ],
            "application/vnd.google.colaboratory.intrinsic+json": {
              "type": "dataframe",
              "repr_error": "0"
            }
          },
          "metadata": {},
          "execution_count": 53
        }
      ]
    },
    {
      "cell_type": "code",
      "source": [
        "covid_df.sort_values('new_cases').head(10) # ascending = true is by default, thats why didn't use"
      ],
      "metadata": {
        "colab": {
          "base_uri": "https://localhost:8080/",
          "height": 363
        },
        "id": "JjVTDzblgehR",
        "outputId": "b7bf8485-de16-48d9-b88a-0d57edff7dcd"
      },
      "execution_count": null,
      "outputs": [
        {
          "output_type": "execute_result",
          "data": {
            "text/plain": [
              "           date  new_cases  new_deaths  new_tests  positive_rate\n",
              "172  2020-06-20     -148.0        47.0    29875.0      -0.004954\n",
              "0    2019-12-31        0.0         0.0        NaN            NaN\n",
              "29   2020-01-29        0.0         0.0        NaN            NaN\n",
              "30   2020-01-30        0.0         0.0        NaN            NaN\n",
              "32   2020-02-01        0.0         0.0        NaN            NaN\n",
              "33   2020-02-02        0.0         0.0        NaN            NaN\n",
              "34   2020-02-03        0.0         0.0        NaN            NaN\n",
              "36   2020-02-05        0.0         0.0        NaN            NaN\n",
              "37   2020-02-06        0.0         0.0        NaN            NaN\n",
              "38   2020-02-07        0.0         0.0        NaN            NaN"
            ],
            "text/html": [
              "\n",
              "  <div id=\"df-61f15a4f-9ece-4e36-bfcb-e6f017906893\" class=\"colab-df-container\">\n",
              "    <div>\n",
              "<style scoped>\n",
              "    .dataframe tbody tr th:only-of-type {\n",
              "        vertical-align: middle;\n",
              "    }\n",
              "\n",
              "    .dataframe tbody tr th {\n",
              "        vertical-align: top;\n",
              "    }\n",
              "\n",
              "    .dataframe thead th {\n",
              "        text-align: right;\n",
              "    }\n",
              "</style>\n",
              "<table border=\"1\" class=\"dataframe\">\n",
              "  <thead>\n",
              "    <tr style=\"text-align: right;\">\n",
              "      <th></th>\n",
              "      <th>date</th>\n",
              "      <th>new_cases</th>\n",
              "      <th>new_deaths</th>\n",
              "      <th>new_tests</th>\n",
              "      <th>positive_rate</th>\n",
              "    </tr>\n",
              "  </thead>\n",
              "  <tbody>\n",
              "    <tr>\n",
              "      <th>172</th>\n",
              "      <td>2020-06-20</td>\n",
              "      <td>-148.0</td>\n",
              "      <td>47.0</td>\n",
              "      <td>29875.0</td>\n",
              "      <td>-0.004954</td>\n",
              "    </tr>\n",
              "    <tr>\n",
              "      <th>0</th>\n",
              "      <td>2019-12-31</td>\n",
              "      <td>0.0</td>\n",
              "      <td>0.0</td>\n",
              "      <td>NaN</td>\n",
              "      <td>NaN</td>\n",
              "    </tr>\n",
              "    <tr>\n",
              "      <th>29</th>\n",
              "      <td>2020-01-29</td>\n",
              "      <td>0.0</td>\n",
              "      <td>0.0</td>\n",
              "      <td>NaN</td>\n",
              "      <td>NaN</td>\n",
              "    </tr>\n",
              "    <tr>\n",
              "      <th>30</th>\n",
              "      <td>2020-01-30</td>\n",
              "      <td>0.0</td>\n",
              "      <td>0.0</td>\n",
              "      <td>NaN</td>\n",
              "      <td>NaN</td>\n",
              "    </tr>\n",
              "    <tr>\n",
              "      <th>32</th>\n",
              "      <td>2020-02-01</td>\n",
              "      <td>0.0</td>\n",
              "      <td>0.0</td>\n",
              "      <td>NaN</td>\n",
              "      <td>NaN</td>\n",
              "    </tr>\n",
              "    <tr>\n",
              "      <th>33</th>\n",
              "      <td>2020-02-02</td>\n",
              "      <td>0.0</td>\n",
              "      <td>0.0</td>\n",
              "      <td>NaN</td>\n",
              "      <td>NaN</td>\n",
              "    </tr>\n",
              "    <tr>\n",
              "      <th>34</th>\n",
              "      <td>2020-02-03</td>\n",
              "      <td>0.0</td>\n",
              "      <td>0.0</td>\n",
              "      <td>NaN</td>\n",
              "      <td>NaN</td>\n",
              "    </tr>\n",
              "    <tr>\n",
              "      <th>36</th>\n",
              "      <td>2020-02-05</td>\n",
              "      <td>0.0</td>\n",
              "      <td>0.0</td>\n",
              "      <td>NaN</td>\n",
              "      <td>NaN</td>\n",
              "    </tr>\n",
              "    <tr>\n",
              "      <th>37</th>\n",
              "      <td>2020-02-06</td>\n",
              "      <td>0.0</td>\n",
              "      <td>0.0</td>\n",
              "      <td>NaN</td>\n",
              "      <td>NaN</td>\n",
              "    </tr>\n",
              "    <tr>\n",
              "      <th>38</th>\n",
              "      <td>2020-02-07</td>\n",
              "      <td>0.0</td>\n",
              "      <td>0.0</td>\n",
              "      <td>NaN</td>\n",
              "      <td>NaN</td>\n",
              "    </tr>\n",
              "  </tbody>\n",
              "</table>\n",
              "</div>\n",
              "    <div class=\"colab-df-buttons\">\n",
              "\n",
              "  <div class=\"colab-df-container\">\n",
              "    <button class=\"colab-df-convert\" onclick=\"convertToInteractive('df-61f15a4f-9ece-4e36-bfcb-e6f017906893')\"\n",
              "            title=\"Convert this dataframe to an interactive table.\"\n",
              "            style=\"display:none;\">\n",
              "\n",
              "  <svg xmlns=\"http://www.w3.org/2000/svg\" height=\"24px\" viewBox=\"0 -960 960 960\">\n",
              "    <path d=\"M120-120v-720h720v720H120Zm60-500h600v-160H180v160Zm220 220h160v-160H400v160Zm0 220h160v-160H400v160ZM180-400h160v-160H180v160Zm440 0h160v-160H620v160ZM180-180h160v-160H180v160Zm440 0h160v-160H620v160Z\"/>\n",
              "  </svg>\n",
              "    </button>\n",
              "\n",
              "  <style>\n",
              "    .colab-df-container {\n",
              "      display:flex;\n",
              "      gap: 12px;\n",
              "    }\n",
              "\n",
              "    .colab-df-convert {\n",
              "      background-color: #E8F0FE;\n",
              "      border: none;\n",
              "      border-radius: 50%;\n",
              "      cursor: pointer;\n",
              "      display: none;\n",
              "      fill: #1967D2;\n",
              "      height: 32px;\n",
              "      padding: 0 0 0 0;\n",
              "      width: 32px;\n",
              "    }\n",
              "\n",
              "    .colab-df-convert:hover {\n",
              "      background-color: #E2EBFA;\n",
              "      box-shadow: 0px 1px 2px rgba(60, 64, 67, 0.3), 0px 1px 3px 1px rgba(60, 64, 67, 0.15);\n",
              "      fill: #174EA6;\n",
              "    }\n",
              "\n",
              "    .colab-df-buttons div {\n",
              "      margin-bottom: 4px;\n",
              "    }\n",
              "\n",
              "    [theme=dark] .colab-df-convert {\n",
              "      background-color: #3B4455;\n",
              "      fill: #D2E3FC;\n",
              "    }\n",
              "\n",
              "    [theme=dark] .colab-df-convert:hover {\n",
              "      background-color: #434B5C;\n",
              "      box-shadow: 0px 1px 3px 1px rgba(0, 0, 0, 0.15);\n",
              "      filter: drop-shadow(0px 1px 2px rgba(0, 0, 0, 0.3));\n",
              "      fill: #FFFFFF;\n",
              "    }\n",
              "  </style>\n",
              "\n",
              "    <script>\n",
              "      const buttonEl =\n",
              "        document.querySelector('#df-61f15a4f-9ece-4e36-bfcb-e6f017906893 button.colab-df-convert');\n",
              "      buttonEl.style.display =\n",
              "        google.colab.kernel.accessAllowed ? 'block' : 'none';\n",
              "\n",
              "      async function convertToInteractive(key) {\n",
              "        const element = document.querySelector('#df-61f15a4f-9ece-4e36-bfcb-e6f017906893');\n",
              "        const dataTable =\n",
              "          await google.colab.kernel.invokeFunction('convertToInteractive',\n",
              "                                                    [key], {});\n",
              "        if (!dataTable) return;\n",
              "\n",
              "        const docLinkHtml = 'Like what you see? Visit the ' +\n",
              "          '<a target=\"_blank\" href=https://colab.research.google.com/notebooks/data_table.ipynb>data table notebook</a>'\n",
              "          + ' to learn more about interactive tables.';\n",
              "        element.innerHTML = '';\n",
              "        dataTable['output_type'] = 'display_data';\n",
              "        await google.colab.output.renderOutput(dataTable, element);\n",
              "        const docLink = document.createElement('div');\n",
              "        docLink.innerHTML = docLinkHtml;\n",
              "        element.appendChild(docLink);\n",
              "      }\n",
              "    </script>\n",
              "  </div>\n",
              "\n",
              "\n",
              "<div id=\"df-3a975a80-7066-4ace-9b17-50fda7a7a30c\">\n",
              "  <button class=\"colab-df-quickchart\" onclick=\"quickchart('df-3a975a80-7066-4ace-9b17-50fda7a7a30c')\"\n",
              "            title=\"Suggest charts\"\n",
              "            style=\"display:none;\">\n",
              "\n",
              "<svg xmlns=\"http://www.w3.org/2000/svg\" height=\"24px\"viewBox=\"0 0 24 24\"\n",
              "     width=\"24px\">\n",
              "    <g>\n",
              "        <path d=\"M19 3H5c-1.1 0-2 .9-2 2v14c0 1.1.9 2 2 2h14c1.1 0 2-.9 2-2V5c0-1.1-.9-2-2-2zM9 17H7v-7h2v7zm4 0h-2V7h2v10zm4 0h-2v-4h2v4z\"/>\n",
              "    </g>\n",
              "</svg>\n",
              "  </button>\n",
              "\n",
              "<style>\n",
              "  .colab-df-quickchart {\n",
              "      --bg-color: #E8F0FE;\n",
              "      --fill-color: #1967D2;\n",
              "      --hover-bg-color: #E2EBFA;\n",
              "      --hover-fill-color: #174EA6;\n",
              "      --disabled-fill-color: #AAA;\n",
              "      --disabled-bg-color: #DDD;\n",
              "  }\n",
              "\n",
              "  [theme=dark] .colab-df-quickchart {\n",
              "      --bg-color: #3B4455;\n",
              "      --fill-color: #D2E3FC;\n",
              "      --hover-bg-color: #434B5C;\n",
              "      --hover-fill-color: #FFFFFF;\n",
              "      --disabled-bg-color: #3B4455;\n",
              "      --disabled-fill-color: #666;\n",
              "  }\n",
              "\n",
              "  .colab-df-quickchart {\n",
              "    background-color: var(--bg-color);\n",
              "    border: none;\n",
              "    border-radius: 50%;\n",
              "    cursor: pointer;\n",
              "    display: none;\n",
              "    fill: var(--fill-color);\n",
              "    height: 32px;\n",
              "    padding: 0;\n",
              "    width: 32px;\n",
              "  }\n",
              "\n",
              "  .colab-df-quickchart:hover {\n",
              "    background-color: var(--hover-bg-color);\n",
              "    box-shadow: 0 1px 2px rgba(60, 64, 67, 0.3), 0 1px 3px 1px rgba(60, 64, 67, 0.15);\n",
              "    fill: var(--button-hover-fill-color);\n",
              "  }\n",
              "\n",
              "  .colab-df-quickchart-complete:disabled,\n",
              "  .colab-df-quickchart-complete:disabled:hover {\n",
              "    background-color: var(--disabled-bg-color);\n",
              "    fill: var(--disabled-fill-color);\n",
              "    box-shadow: none;\n",
              "  }\n",
              "\n",
              "  .colab-df-spinner {\n",
              "    border: 2px solid var(--fill-color);\n",
              "    border-color: transparent;\n",
              "    border-bottom-color: var(--fill-color);\n",
              "    animation:\n",
              "      spin 1s steps(1) infinite;\n",
              "  }\n",
              "\n",
              "  @keyframes spin {\n",
              "    0% {\n",
              "      border-color: transparent;\n",
              "      border-bottom-color: var(--fill-color);\n",
              "      border-left-color: var(--fill-color);\n",
              "    }\n",
              "    20% {\n",
              "      border-color: transparent;\n",
              "      border-left-color: var(--fill-color);\n",
              "      border-top-color: var(--fill-color);\n",
              "    }\n",
              "    30% {\n",
              "      border-color: transparent;\n",
              "      border-left-color: var(--fill-color);\n",
              "      border-top-color: var(--fill-color);\n",
              "      border-right-color: var(--fill-color);\n",
              "    }\n",
              "    40% {\n",
              "      border-color: transparent;\n",
              "      border-right-color: var(--fill-color);\n",
              "      border-top-color: var(--fill-color);\n",
              "    }\n",
              "    60% {\n",
              "      border-color: transparent;\n",
              "      border-right-color: var(--fill-color);\n",
              "    }\n",
              "    80% {\n",
              "      border-color: transparent;\n",
              "      border-right-color: var(--fill-color);\n",
              "      border-bottom-color: var(--fill-color);\n",
              "    }\n",
              "    90% {\n",
              "      border-color: transparent;\n",
              "      border-bottom-color: var(--fill-color);\n",
              "    }\n",
              "  }\n",
              "</style>\n",
              "\n",
              "  <script>\n",
              "    async function quickchart(key) {\n",
              "      const quickchartButtonEl =\n",
              "        document.querySelector('#' + key + ' button');\n",
              "      quickchartButtonEl.disabled = true;  // To prevent multiple clicks.\n",
              "      quickchartButtonEl.classList.add('colab-df-spinner');\n",
              "      try {\n",
              "        const charts = await google.colab.kernel.invokeFunction(\n",
              "            'suggestCharts', [key], {});\n",
              "      } catch (error) {\n",
              "        console.error('Error during call to suggestCharts:', error);\n",
              "      }\n",
              "      quickchartButtonEl.classList.remove('colab-df-spinner');\n",
              "      quickchartButtonEl.classList.add('colab-df-quickchart-complete');\n",
              "    }\n",
              "    (() => {\n",
              "      let quickchartButtonEl =\n",
              "        document.querySelector('#df-3a975a80-7066-4ace-9b17-50fda7a7a30c button');\n",
              "      quickchartButtonEl.style.display =\n",
              "        google.colab.kernel.accessAllowed ? 'block' : 'none';\n",
              "    })();\n",
              "  </script>\n",
              "</div>\n",
              "\n",
              "    </div>\n",
              "  </div>\n"
            ],
            "application/vnd.google.colaboratory.intrinsic+json": {
              "type": "dataframe",
              "summary": "{\n  \"name\": \"covid_df\",\n  \"rows\": 10,\n  \"fields\": [\n    {\n      \"column\": \"date\",\n      \"properties\": {\n        \"dtype\": \"object\",\n        \"num_unique_values\": 10,\n        \"samples\": [\n          \"2020-02-06\",\n          \"2019-12-31\",\n          \"2020-02-02\"\n        ],\n        \"semantic_type\": \"\",\n        \"description\": \"\"\n      }\n    },\n    {\n      \"column\": \"new_cases\",\n      \"properties\": {\n        \"dtype\": \"number\",\n        \"std\": 46.80170937049201,\n        \"min\": -148.0,\n        \"max\": 0.0,\n        \"num_unique_values\": 2,\n        \"samples\": [\n          0.0,\n          -148.0\n        ],\n        \"semantic_type\": \"\",\n        \"description\": \"\"\n      }\n    },\n    {\n      \"column\": \"new_deaths\",\n      \"properties\": {\n        \"dtype\": \"number\",\n        \"std\": 14.862705002791381,\n        \"min\": 0.0,\n        \"max\": 47.0,\n        \"num_unique_values\": 2,\n        \"samples\": [\n          0.0,\n          47.0\n        ],\n        \"semantic_type\": \"\",\n        \"description\": \"\"\n      }\n    },\n    {\n      \"column\": \"new_tests\",\n      \"properties\": {\n        \"dtype\": \"number\",\n        \"std\": null,\n        \"min\": 29875.0,\n        \"max\": 29875.0,\n        \"num_unique_values\": 1,\n        \"samples\": [\n          29875.0\n        ],\n        \"semantic_type\": \"\",\n        \"description\": \"\"\n      }\n    },\n    {\n      \"column\": \"positive_rate\",\n      \"properties\": {\n        \"dtype\": \"number\",\n        \"std\": null,\n        \"min\": -0.0049539748953974895,\n        \"max\": -0.0049539748953974895,\n        \"num_unique_values\": 1,\n        \"samples\": [\n          -0.0049539748953974895\n        ],\n        \"semantic_type\": \"\",\n        \"description\": \"\"\n      }\n    }\n  ]\n}"
            }
          },
          "metadata": {},
          "execution_count": 54
        }
      ]
    },
    {
      "cell_type": "markdown",
      "source": [
        "It seems like the count of new cases on Jun 20, 2020, was `-148`, a negative number! Not something we might have expected, but that's the nature of real-world data. It could be a data entry error, or the government may have issued a correction to account for miscounting in the past. Can you dig through news articles online and figure out why the number was negative?\n",
        "\n",
        "Let's look at some days before and after Jun 20, 2020."
      ],
      "metadata": {
        "id": "Fc1mEh6rguD5"
      }
    },
    {
      "cell_type": "code",
      "source": [
        "covid_df.loc[169:175]"
      ],
      "metadata": {
        "colab": {
          "base_uri": "https://localhost:8080/",
          "height": 269
        },
        "id": "l5a7fiLMgr9L",
        "outputId": "7406a983-aaa0-4962-d096-91aa28c17dda"
      },
      "execution_count": null,
      "outputs": [
        {
          "output_type": "execute_result",
          "data": {
            "text/plain": [
              "           date  new_cases  new_deaths  new_tests  positive_rate\n",
              "169  2020-06-17      210.0        34.0    33957.0       0.006184\n",
              "170  2020-06-18      328.0        43.0    32921.0       0.009963\n",
              "171  2020-06-19      331.0        66.0    28570.0       0.011586\n",
              "172  2020-06-20     -148.0        47.0    29875.0      -0.004954\n",
              "173  2020-06-21      264.0        49.0    24581.0       0.010740\n",
              "174  2020-06-22      224.0        24.0    16152.0       0.013868\n",
              "175  2020-06-23      221.0        23.0    23225.0       0.009516"
            ],
            "text/html": [
              "\n",
              "  <div id=\"df-8cdebdda-8415-4d2e-b9c8-7b8b21f7faeb\" class=\"colab-df-container\">\n",
              "    <div>\n",
              "<style scoped>\n",
              "    .dataframe tbody tr th:only-of-type {\n",
              "        vertical-align: middle;\n",
              "    }\n",
              "\n",
              "    .dataframe tbody tr th {\n",
              "        vertical-align: top;\n",
              "    }\n",
              "\n",
              "    .dataframe thead th {\n",
              "        text-align: right;\n",
              "    }\n",
              "</style>\n",
              "<table border=\"1\" class=\"dataframe\">\n",
              "  <thead>\n",
              "    <tr style=\"text-align: right;\">\n",
              "      <th></th>\n",
              "      <th>date</th>\n",
              "      <th>new_cases</th>\n",
              "      <th>new_deaths</th>\n",
              "      <th>new_tests</th>\n",
              "      <th>positive_rate</th>\n",
              "    </tr>\n",
              "  </thead>\n",
              "  <tbody>\n",
              "    <tr>\n",
              "      <th>169</th>\n",
              "      <td>2020-06-17</td>\n",
              "      <td>210.0</td>\n",
              "      <td>34.0</td>\n",
              "      <td>33957.0</td>\n",
              "      <td>0.006184</td>\n",
              "    </tr>\n",
              "    <tr>\n",
              "      <th>170</th>\n",
              "      <td>2020-06-18</td>\n",
              "      <td>328.0</td>\n",
              "      <td>43.0</td>\n",
              "      <td>32921.0</td>\n",
              "      <td>0.009963</td>\n",
              "    </tr>\n",
              "    <tr>\n",
              "      <th>171</th>\n",
              "      <td>2020-06-19</td>\n",
              "      <td>331.0</td>\n",
              "      <td>66.0</td>\n",
              "      <td>28570.0</td>\n",
              "      <td>0.011586</td>\n",
              "    </tr>\n",
              "    <tr>\n",
              "      <th>172</th>\n",
              "      <td>2020-06-20</td>\n",
              "      <td>-148.0</td>\n",
              "      <td>47.0</td>\n",
              "      <td>29875.0</td>\n",
              "      <td>-0.004954</td>\n",
              "    </tr>\n",
              "    <tr>\n",
              "      <th>173</th>\n",
              "      <td>2020-06-21</td>\n",
              "      <td>264.0</td>\n",
              "      <td>49.0</td>\n",
              "      <td>24581.0</td>\n",
              "      <td>0.010740</td>\n",
              "    </tr>\n",
              "    <tr>\n",
              "      <th>174</th>\n",
              "      <td>2020-06-22</td>\n",
              "      <td>224.0</td>\n",
              "      <td>24.0</td>\n",
              "      <td>16152.0</td>\n",
              "      <td>0.013868</td>\n",
              "    </tr>\n",
              "    <tr>\n",
              "      <th>175</th>\n",
              "      <td>2020-06-23</td>\n",
              "      <td>221.0</td>\n",
              "      <td>23.0</td>\n",
              "      <td>23225.0</td>\n",
              "      <td>0.009516</td>\n",
              "    </tr>\n",
              "  </tbody>\n",
              "</table>\n",
              "</div>\n",
              "    <div class=\"colab-df-buttons\">\n",
              "\n",
              "  <div class=\"colab-df-container\">\n",
              "    <button class=\"colab-df-convert\" onclick=\"convertToInteractive('df-8cdebdda-8415-4d2e-b9c8-7b8b21f7faeb')\"\n",
              "            title=\"Convert this dataframe to an interactive table.\"\n",
              "            style=\"display:none;\">\n",
              "\n",
              "  <svg xmlns=\"http://www.w3.org/2000/svg\" height=\"24px\" viewBox=\"0 -960 960 960\">\n",
              "    <path d=\"M120-120v-720h720v720H120Zm60-500h600v-160H180v160Zm220 220h160v-160H400v160Zm0 220h160v-160H400v160ZM180-400h160v-160H180v160Zm440 0h160v-160H620v160ZM180-180h160v-160H180v160Zm440 0h160v-160H620v160Z\"/>\n",
              "  </svg>\n",
              "    </button>\n",
              "\n",
              "  <style>\n",
              "    .colab-df-container {\n",
              "      display:flex;\n",
              "      gap: 12px;\n",
              "    }\n",
              "\n",
              "    .colab-df-convert {\n",
              "      background-color: #E8F0FE;\n",
              "      border: none;\n",
              "      border-radius: 50%;\n",
              "      cursor: pointer;\n",
              "      display: none;\n",
              "      fill: #1967D2;\n",
              "      height: 32px;\n",
              "      padding: 0 0 0 0;\n",
              "      width: 32px;\n",
              "    }\n",
              "\n",
              "    .colab-df-convert:hover {\n",
              "      background-color: #E2EBFA;\n",
              "      box-shadow: 0px 1px 2px rgba(60, 64, 67, 0.3), 0px 1px 3px 1px rgba(60, 64, 67, 0.15);\n",
              "      fill: #174EA6;\n",
              "    }\n",
              "\n",
              "    .colab-df-buttons div {\n",
              "      margin-bottom: 4px;\n",
              "    }\n",
              "\n",
              "    [theme=dark] .colab-df-convert {\n",
              "      background-color: #3B4455;\n",
              "      fill: #D2E3FC;\n",
              "    }\n",
              "\n",
              "    [theme=dark] .colab-df-convert:hover {\n",
              "      background-color: #434B5C;\n",
              "      box-shadow: 0px 1px 3px 1px rgba(0, 0, 0, 0.15);\n",
              "      filter: drop-shadow(0px 1px 2px rgba(0, 0, 0, 0.3));\n",
              "      fill: #FFFFFF;\n",
              "    }\n",
              "  </style>\n",
              "\n",
              "    <script>\n",
              "      const buttonEl =\n",
              "        document.querySelector('#df-8cdebdda-8415-4d2e-b9c8-7b8b21f7faeb button.colab-df-convert');\n",
              "      buttonEl.style.display =\n",
              "        google.colab.kernel.accessAllowed ? 'block' : 'none';\n",
              "\n",
              "      async function convertToInteractive(key) {\n",
              "        const element = document.querySelector('#df-8cdebdda-8415-4d2e-b9c8-7b8b21f7faeb');\n",
              "        const dataTable =\n",
              "          await google.colab.kernel.invokeFunction('convertToInteractive',\n",
              "                                                    [key], {});\n",
              "        if (!dataTable) return;\n",
              "\n",
              "        const docLinkHtml = 'Like what you see? Visit the ' +\n",
              "          '<a target=\"_blank\" href=https://colab.research.google.com/notebooks/data_table.ipynb>data table notebook</a>'\n",
              "          + ' to learn more about interactive tables.';\n",
              "        element.innerHTML = '';\n",
              "        dataTable['output_type'] = 'display_data';\n",
              "        await google.colab.output.renderOutput(dataTable, element);\n",
              "        const docLink = document.createElement('div');\n",
              "        docLink.innerHTML = docLinkHtml;\n",
              "        element.appendChild(docLink);\n",
              "      }\n",
              "    </script>\n",
              "  </div>\n",
              "\n",
              "\n",
              "<div id=\"df-6fa195ae-8bc7-4b5e-a462-c5388c3d4631\">\n",
              "  <button class=\"colab-df-quickchart\" onclick=\"quickchart('df-6fa195ae-8bc7-4b5e-a462-c5388c3d4631')\"\n",
              "            title=\"Suggest charts\"\n",
              "            style=\"display:none;\">\n",
              "\n",
              "<svg xmlns=\"http://www.w3.org/2000/svg\" height=\"24px\"viewBox=\"0 0 24 24\"\n",
              "     width=\"24px\">\n",
              "    <g>\n",
              "        <path d=\"M19 3H5c-1.1 0-2 .9-2 2v14c0 1.1.9 2 2 2h14c1.1 0 2-.9 2-2V5c0-1.1-.9-2-2-2zM9 17H7v-7h2v7zm4 0h-2V7h2v10zm4 0h-2v-4h2v4z\"/>\n",
              "    </g>\n",
              "</svg>\n",
              "  </button>\n",
              "\n",
              "<style>\n",
              "  .colab-df-quickchart {\n",
              "      --bg-color: #E8F0FE;\n",
              "      --fill-color: #1967D2;\n",
              "      --hover-bg-color: #E2EBFA;\n",
              "      --hover-fill-color: #174EA6;\n",
              "      --disabled-fill-color: #AAA;\n",
              "      --disabled-bg-color: #DDD;\n",
              "  }\n",
              "\n",
              "  [theme=dark] .colab-df-quickchart {\n",
              "      --bg-color: #3B4455;\n",
              "      --fill-color: #D2E3FC;\n",
              "      --hover-bg-color: #434B5C;\n",
              "      --hover-fill-color: #FFFFFF;\n",
              "      --disabled-bg-color: #3B4455;\n",
              "      --disabled-fill-color: #666;\n",
              "  }\n",
              "\n",
              "  .colab-df-quickchart {\n",
              "    background-color: var(--bg-color);\n",
              "    border: none;\n",
              "    border-radius: 50%;\n",
              "    cursor: pointer;\n",
              "    display: none;\n",
              "    fill: var(--fill-color);\n",
              "    height: 32px;\n",
              "    padding: 0;\n",
              "    width: 32px;\n",
              "  }\n",
              "\n",
              "  .colab-df-quickchart:hover {\n",
              "    background-color: var(--hover-bg-color);\n",
              "    box-shadow: 0 1px 2px rgba(60, 64, 67, 0.3), 0 1px 3px 1px rgba(60, 64, 67, 0.15);\n",
              "    fill: var(--button-hover-fill-color);\n",
              "  }\n",
              "\n",
              "  .colab-df-quickchart-complete:disabled,\n",
              "  .colab-df-quickchart-complete:disabled:hover {\n",
              "    background-color: var(--disabled-bg-color);\n",
              "    fill: var(--disabled-fill-color);\n",
              "    box-shadow: none;\n",
              "  }\n",
              "\n",
              "  .colab-df-spinner {\n",
              "    border: 2px solid var(--fill-color);\n",
              "    border-color: transparent;\n",
              "    border-bottom-color: var(--fill-color);\n",
              "    animation:\n",
              "      spin 1s steps(1) infinite;\n",
              "  }\n",
              "\n",
              "  @keyframes spin {\n",
              "    0% {\n",
              "      border-color: transparent;\n",
              "      border-bottom-color: var(--fill-color);\n",
              "      border-left-color: var(--fill-color);\n",
              "    }\n",
              "    20% {\n",
              "      border-color: transparent;\n",
              "      border-left-color: var(--fill-color);\n",
              "      border-top-color: var(--fill-color);\n",
              "    }\n",
              "    30% {\n",
              "      border-color: transparent;\n",
              "      border-left-color: var(--fill-color);\n",
              "      border-top-color: var(--fill-color);\n",
              "      border-right-color: var(--fill-color);\n",
              "    }\n",
              "    40% {\n",
              "      border-color: transparent;\n",
              "      border-right-color: var(--fill-color);\n",
              "      border-top-color: var(--fill-color);\n",
              "    }\n",
              "    60% {\n",
              "      border-color: transparent;\n",
              "      border-right-color: var(--fill-color);\n",
              "    }\n",
              "    80% {\n",
              "      border-color: transparent;\n",
              "      border-right-color: var(--fill-color);\n",
              "      border-bottom-color: var(--fill-color);\n",
              "    }\n",
              "    90% {\n",
              "      border-color: transparent;\n",
              "      border-bottom-color: var(--fill-color);\n",
              "    }\n",
              "  }\n",
              "</style>\n",
              "\n",
              "  <script>\n",
              "    async function quickchart(key) {\n",
              "      const quickchartButtonEl =\n",
              "        document.querySelector('#' + key + ' button');\n",
              "      quickchartButtonEl.disabled = true;  // To prevent multiple clicks.\n",
              "      quickchartButtonEl.classList.add('colab-df-spinner');\n",
              "      try {\n",
              "        const charts = await google.colab.kernel.invokeFunction(\n",
              "            'suggestCharts', [key], {});\n",
              "      } catch (error) {\n",
              "        console.error('Error during call to suggestCharts:', error);\n",
              "      }\n",
              "      quickchartButtonEl.classList.remove('colab-df-spinner');\n",
              "      quickchartButtonEl.classList.add('colab-df-quickchart-complete');\n",
              "    }\n",
              "    (() => {\n",
              "      let quickchartButtonEl =\n",
              "        document.querySelector('#df-6fa195ae-8bc7-4b5e-a462-c5388c3d4631 button');\n",
              "      quickchartButtonEl.style.display =\n",
              "        google.colab.kernel.accessAllowed ? 'block' : 'none';\n",
              "    })();\n",
              "  </script>\n",
              "</div>\n",
              "\n",
              "    </div>\n",
              "  </div>\n"
            ],
            "application/vnd.google.colaboratory.intrinsic+json": {
              "type": "dataframe",
              "repr_error": "0"
            }
          },
          "metadata": {},
          "execution_count": 55
        }
      ]
    },
    {
      "cell_type": "markdown",
      "source": [
        "For now, let's assume this was indeed a data entry error. We can use one of the following approaches for dealing with the missing or faulty value:\n",
        "1. Replace it with `0`.\n",
        "2. Replace it with the average of the entire column\n",
        "3. Replace it with the average of the values on the previous & next date\n",
        "4. Discard the row entirely\n",
        "\n",
        "Which approach you pick requires some context about the data and the problem. In this case, since we are dealing with data ordered by date, we can go ahead with the third approach.\n",
        "\n",
        "You can use the `.at` method to modify a specific value within the dataframe."
      ],
      "metadata": {
        "id": "zr6S2Q6Pgzpr"
      }
    },
    {
      "cell_type": "code",
      "source": [
        "covid_df.at[172, 'new_cases'] = (covid_df.at[171, 'new_cases'] + covid_df.at[173, 'new_cases'])/2"
      ],
      "metadata": {
        "id": "InWfbI3cg0pV"
      },
      "execution_count": null,
      "outputs": []
    },
    {
      "cell_type": "markdown",
      "source": [
        "Here's a summary of the functions & methods we looked at in this section:\n",
        "\n",
        "- `covid_df.new_cases.sum()` - Computing the sum of values in a column or series\n",
        "- `covid_df[covid_df.new_cases > 1000]` - Querying a subset of rows satisfying the chosen criteria using boolean expressions\n",
        "- `df['pos_rate'] = df.new_cases/df.new_tests` - Adding new columns by combining data from existing columns\n",
        "- `covid_df.drop('positive_rate')` - Removing one or more columns from the data frame\n",
        "- `sort_values` - Sorting the rows of a data frame using column values\n",
        "- `covid_df.at[172, 'new_cases'] = ...` - Replacing a value within the data frame"
      ],
      "metadata": {
        "id": "aAMNg_a6hPQK"
      }
    },
    {
      "cell_type": "markdown",
      "source": [
        "## Working with dates\n",
        "\n",
        "While we've looked at overall numbers for the cases, tests, positive rate, etc., it would also be useful to study these numbers on a month-by-month basis. The `date` column might come in handy here, as Pandas provides many utilities for working with dates."
      ],
      "metadata": {
        "id": "R6n63qPhhcx2"
      }
    },
    {
      "cell_type": "code",
      "source": [
        "covid_df.date\n",
        "#type(covid_df.date)"
      ],
      "metadata": {
        "colab": {
          "base_uri": "https://localhost:8080/"
        },
        "id": "VhKRt_xpheYV",
        "outputId": "bcded232-d1ef-4465-dfd6-710c3fe87f29"
      },
      "execution_count": null,
      "outputs": [
        {
          "output_type": "execute_result",
          "data": {
            "text/plain": [
              "0      2019-12-31\n",
              "1      2020-01-01\n",
              "2      2020-01-02\n",
              "3      2020-01-03\n",
              "4      2020-01-04\n",
              "          ...    \n",
              "243    2020-08-30\n",
              "244    2020-08-31\n",
              "245    2020-09-01\n",
              "246    2020-09-02\n",
              "247    2020-09-03\n",
              "Name: date, Length: 248, dtype: object"
            ]
          },
          "metadata": {},
          "execution_count": 59
        }
      ]
    },
    {
      "cell_type": "markdown",
      "source": [
        "The data type of date is currently `object`, so Pandas does not know that this column is a date. We can convert it into a `datetime` column using the `pd.to_datetime` method."
      ],
      "metadata": {
        "id": "cm_q3StQieI1"
      }
    },
    {
      "cell_type": "code",
      "source": [
        "covid_df['date'] = pd.to_datetime(covid_df.date)\n",
        "covid_df['date']"
      ],
      "metadata": {
        "colab": {
          "base_uri": "https://localhost:8080/"
        },
        "id": "HrysUchIisjA",
        "outputId": "7d68358d-cc40-46d6-b2ca-f2fd062e3704"
      },
      "execution_count": null,
      "outputs": [
        {
          "output_type": "execute_result",
          "data": {
            "text/plain": [
              "0     2019-12-31\n",
              "1     2020-01-01\n",
              "2     2020-01-02\n",
              "3     2020-01-03\n",
              "4     2020-01-04\n",
              "         ...    \n",
              "243   2020-08-30\n",
              "244   2020-08-31\n",
              "245   2020-09-01\n",
              "246   2020-09-02\n",
              "247   2020-09-03\n",
              "Name: date, Length: 248, dtype: datetime64[ns]"
            ]
          },
          "metadata": {},
          "execution_count": 60
        }
      ]
    },
    {
      "cell_type": "markdown",
      "source": [
        "You can see that it now has the datatype `datetime64`. We can now extract different parts of the data into separate columns, using the `DatetimeIndex` class ([view docs](https://pandas.pydata.org/pandas-docs/version/0.23.4/generated/pandas.DatetimeIndex.html))."
      ],
      "metadata": {
        "id": "e-C8fz94izW9"
      }
    },
    {
      "cell_type": "code",
      "source": [
        "covid_df['year'] = pd.DatetimeIndex(covid_df.date).year\n",
        "covid_df['month'] = pd.DatetimeIndex(covid_df.date).month\n",
        "covid_df['day'] = pd.DatetimeIndex(covid_df.date).day\n",
        "covid_df['weekday'] = pd.DatetimeIndex(covid_df.date).weekday"
      ],
      "metadata": {
        "id": "Y9ttYFj1jGe8"
      },
      "execution_count": null,
      "outputs": []
    },
    {
      "cell_type": "code",
      "source": [
        "covid_df"
      ],
      "metadata": {
        "colab": {
          "base_uri": "https://localhost:8080/",
          "height": 423
        },
        "id": "NHo3lA40jT99",
        "outputId": "21cb2136-cb41-4cd8-85b7-c3cbecbcac75"
      },
      "execution_count": null,
      "outputs": [
        {
          "output_type": "execute_result",
          "data": {
            "text/plain": [
              "          date  new_cases  new_deaths  new_tests  positive_rate  year  month  \\\n",
              "0   2019-12-31        0.0         0.0        NaN            NaN  2019     12   \n",
              "1   2020-01-01        0.0         0.0        NaN            NaN  2020      1   \n",
              "2   2020-01-02        0.0         0.0        NaN            NaN  2020      1   \n",
              "3   2020-01-03        0.0         0.0        NaN            NaN  2020      1   \n",
              "4   2020-01-04        0.0         0.0        NaN            NaN  2020      1   \n",
              "..         ...        ...         ...        ...            ...   ...    ...   \n",
              "243 2020-08-30     1444.0         1.0    53541.0       0.026970  2020      8   \n",
              "244 2020-08-31     1365.0         4.0    42583.0       0.032055  2020      8   \n",
              "245 2020-09-01      996.0         6.0    54395.0       0.018311  2020      9   \n",
              "246 2020-09-02      975.0         8.0        NaN            NaN  2020      9   \n",
              "247 2020-09-03     1326.0         6.0        NaN            NaN  2020      9   \n",
              "\n",
              "     day  weekday  \n",
              "0     31        1  \n",
              "1      1        2  \n",
              "2      2        3  \n",
              "3      3        4  \n",
              "4      4        5  \n",
              "..   ...      ...  \n",
              "243   30        6  \n",
              "244   31        0  \n",
              "245    1        1  \n",
              "246    2        2  \n",
              "247    3        3  \n",
              "\n",
              "[248 rows x 9 columns]"
            ],
            "text/html": [
              "\n",
              "  <div id=\"df-329665d9-2d65-4405-8938-42a93e4a82d7\" class=\"colab-df-container\">\n",
              "    <div>\n",
              "<style scoped>\n",
              "    .dataframe tbody tr th:only-of-type {\n",
              "        vertical-align: middle;\n",
              "    }\n",
              "\n",
              "    .dataframe tbody tr th {\n",
              "        vertical-align: top;\n",
              "    }\n",
              "\n",
              "    .dataframe thead th {\n",
              "        text-align: right;\n",
              "    }\n",
              "</style>\n",
              "<table border=\"1\" class=\"dataframe\">\n",
              "  <thead>\n",
              "    <tr style=\"text-align: right;\">\n",
              "      <th></th>\n",
              "      <th>date</th>\n",
              "      <th>new_cases</th>\n",
              "      <th>new_deaths</th>\n",
              "      <th>new_tests</th>\n",
              "      <th>positive_rate</th>\n",
              "      <th>year</th>\n",
              "      <th>month</th>\n",
              "      <th>day</th>\n",
              "      <th>weekday</th>\n",
              "    </tr>\n",
              "  </thead>\n",
              "  <tbody>\n",
              "    <tr>\n",
              "      <th>0</th>\n",
              "      <td>2019-12-31</td>\n",
              "      <td>0.0</td>\n",
              "      <td>0.0</td>\n",
              "      <td>NaN</td>\n",
              "      <td>NaN</td>\n",
              "      <td>2019</td>\n",
              "      <td>12</td>\n",
              "      <td>31</td>\n",
              "      <td>1</td>\n",
              "    </tr>\n",
              "    <tr>\n",
              "      <th>1</th>\n",
              "      <td>2020-01-01</td>\n",
              "      <td>0.0</td>\n",
              "      <td>0.0</td>\n",
              "      <td>NaN</td>\n",
              "      <td>NaN</td>\n",
              "      <td>2020</td>\n",
              "      <td>1</td>\n",
              "      <td>1</td>\n",
              "      <td>2</td>\n",
              "    </tr>\n",
              "    <tr>\n",
              "      <th>2</th>\n",
              "      <td>2020-01-02</td>\n",
              "      <td>0.0</td>\n",
              "      <td>0.0</td>\n",
              "      <td>NaN</td>\n",
              "      <td>NaN</td>\n",
              "      <td>2020</td>\n",
              "      <td>1</td>\n",
              "      <td>2</td>\n",
              "      <td>3</td>\n",
              "    </tr>\n",
              "    <tr>\n",
              "      <th>3</th>\n",
              "      <td>2020-01-03</td>\n",
              "      <td>0.0</td>\n",
              "      <td>0.0</td>\n",
              "      <td>NaN</td>\n",
              "      <td>NaN</td>\n",
              "      <td>2020</td>\n",
              "      <td>1</td>\n",
              "      <td>3</td>\n",
              "      <td>4</td>\n",
              "    </tr>\n",
              "    <tr>\n",
              "      <th>4</th>\n",
              "      <td>2020-01-04</td>\n",
              "      <td>0.0</td>\n",
              "      <td>0.0</td>\n",
              "      <td>NaN</td>\n",
              "      <td>NaN</td>\n",
              "      <td>2020</td>\n",
              "      <td>1</td>\n",
              "      <td>4</td>\n",
              "      <td>5</td>\n",
              "    </tr>\n",
              "    <tr>\n",
              "      <th>...</th>\n",
              "      <td>...</td>\n",
              "      <td>...</td>\n",
              "      <td>...</td>\n",
              "      <td>...</td>\n",
              "      <td>...</td>\n",
              "      <td>...</td>\n",
              "      <td>...</td>\n",
              "      <td>...</td>\n",
              "      <td>...</td>\n",
              "    </tr>\n",
              "    <tr>\n",
              "      <th>243</th>\n",
              "      <td>2020-08-30</td>\n",
              "      <td>1444.0</td>\n",
              "      <td>1.0</td>\n",
              "      <td>53541.0</td>\n",
              "      <td>0.026970</td>\n",
              "      <td>2020</td>\n",
              "      <td>8</td>\n",
              "      <td>30</td>\n",
              "      <td>6</td>\n",
              "    </tr>\n",
              "    <tr>\n",
              "      <th>244</th>\n",
              "      <td>2020-08-31</td>\n",
              "      <td>1365.0</td>\n",
              "      <td>4.0</td>\n",
              "      <td>42583.0</td>\n",
              "      <td>0.032055</td>\n",
              "      <td>2020</td>\n",
              "      <td>8</td>\n",
              "      <td>31</td>\n",
              "      <td>0</td>\n",
              "    </tr>\n",
              "    <tr>\n",
              "      <th>245</th>\n",
              "      <td>2020-09-01</td>\n",
              "      <td>996.0</td>\n",
              "      <td>6.0</td>\n",
              "      <td>54395.0</td>\n",
              "      <td>0.018311</td>\n",
              "      <td>2020</td>\n",
              "      <td>9</td>\n",
              "      <td>1</td>\n",
              "      <td>1</td>\n",
              "    </tr>\n",
              "    <tr>\n",
              "      <th>246</th>\n",
              "      <td>2020-09-02</td>\n",
              "      <td>975.0</td>\n",
              "      <td>8.0</td>\n",
              "      <td>NaN</td>\n",
              "      <td>NaN</td>\n",
              "      <td>2020</td>\n",
              "      <td>9</td>\n",
              "      <td>2</td>\n",
              "      <td>2</td>\n",
              "    </tr>\n",
              "    <tr>\n",
              "      <th>247</th>\n",
              "      <td>2020-09-03</td>\n",
              "      <td>1326.0</td>\n",
              "      <td>6.0</td>\n",
              "      <td>NaN</td>\n",
              "      <td>NaN</td>\n",
              "      <td>2020</td>\n",
              "      <td>9</td>\n",
              "      <td>3</td>\n",
              "      <td>3</td>\n",
              "    </tr>\n",
              "  </tbody>\n",
              "</table>\n",
              "<p>248 rows × 9 columns</p>\n",
              "</div>\n",
              "    <div class=\"colab-df-buttons\">\n",
              "\n",
              "  <div class=\"colab-df-container\">\n",
              "    <button class=\"colab-df-convert\" onclick=\"convertToInteractive('df-329665d9-2d65-4405-8938-42a93e4a82d7')\"\n",
              "            title=\"Convert this dataframe to an interactive table.\"\n",
              "            style=\"display:none;\">\n",
              "\n",
              "  <svg xmlns=\"http://www.w3.org/2000/svg\" height=\"24px\" viewBox=\"0 -960 960 960\">\n",
              "    <path d=\"M120-120v-720h720v720H120Zm60-500h600v-160H180v160Zm220 220h160v-160H400v160Zm0 220h160v-160H400v160ZM180-400h160v-160H180v160Zm440 0h160v-160H620v160ZM180-180h160v-160H180v160Zm440 0h160v-160H620v160Z\"/>\n",
              "  </svg>\n",
              "    </button>\n",
              "\n",
              "  <style>\n",
              "    .colab-df-container {\n",
              "      display:flex;\n",
              "      gap: 12px;\n",
              "    }\n",
              "\n",
              "    .colab-df-convert {\n",
              "      background-color: #E8F0FE;\n",
              "      border: none;\n",
              "      border-radius: 50%;\n",
              "      cursor: pointer;\n",
              "      display: none;\n",
              "      fill: #1967D2;\n",
              "      height: 32px;\n",
              "      padding: 0 0 0 0;\n",
              "      width: 32px;\n",
              "    }\n",
              "\n",
              "    .colab-df-convert:hover {\n",
              "      background-color: #E2EBFA;\n",
              "      box-shadow: 0px 1px 2px rgba(60, 64, 67, 0.3), 0px 1px 3px 1px rgba(60, 64, 67, 0.15);\n",
              "      fill: #174EA6;\n",
              "    }\n",
              "\n",
              "    .colab-df-buttons div {\n",
              "      margin-bottom: 4px;\n",
              "    }\n",
              "\n",
              "    [theme=dark] .colab-df-convert {\n",
              "      background-color: #3B4455;\n",
              "      fill: #D2E3FC;\n",
              "    }\n",
              "\n",
              "    [theme=dark] .colab-df-convert:hover {\n",
              "      background-color: #434B5C;\n",
              "      box-shadow: 0px 1px 3px 1px rgba(0, 0, 0, 0.15);\n",
              "      filter: drop-shadow(0px 1px 2px rgba(0, 0, 0, 0.3));\n",
              "      fill: #FFFFFF;\n",
              "    }\n",
              "  </style>\n",
              "\n",
              "    <script>\n",
              "      const buttonEl =\n",
              "        document.querySelector('#df-329665d9-2d65-4405-8938-42a93e4a82d7 button.colab-df-convert');\n",
              "      buttonEl.style.display =\n",
              "        google.colab.kernel.accessAllowed ? 'block' : 'none';\n",
              "\n",
              "      async function convertToInteractive(key) {\n",
              "        const element = document.querySelector('#df-329665d9-2d65-4405-8938-42a93e4a82d7');\n",
              "        const dataTable =\n",
              "          await google.colab.kernel.invokeFunction('convertToInteractive',\n",
              "                                                    [key], {});\n",
              "        if (!dataTable) return;\n",
              "\n",
              "        const docLinkHtml = 'Like what you see? Visit the ' +\n",
              "          '<a target=\"_blank\" href=https://colab.research.google.com/notebooks/data_table.ipynb>data table notebook</a>'\n",
              "          + ' to learn more about interactive tables.';\n",
              "        element.innerHTML = '';\n",
              "        dataTable['output_type'] = 'display_data';\n",
              "        await google.colab.output.renderOutput(dataTable, element);\n",
              "        const docLink = document.createElement('div');\n",
              "        docLink.innerHTML = docLinkHtml;\n",
              "        element.appendChild(docLink);\n",
              "      }\n",
              "    </script>\n",
              "  </div>\n",
              "\n",
              "\n",
              "<div id=\"df-b18ba7e6-1eac-4c9f-ab32-daf73b4e4e75\">\n",
              "  <button class=\"colab-df-quickchart\" onclick=\"quickchart('df-b18ba7e6-1eac-4c9f-ab32-daf73b4e4e75')\"\n",
              "            title=\"Suggest charts\"\n",
              "            style=\"display:none;\">\n",
              "\n",
              "<svg xmlns=\"http://www.w3.org/2000/svg\" height=\"24px\"viewBox=\"0 0 24 24\"\n",
              "     width=\"24px\">\n",
              "    <g>\n",
              "        <path d=\"M19 3H5c-1.1 0-2 .9-2 2v14c0 1.1.9 2 2 2h14c1.1 0 2-.9 2-2V5c0-1.1-.9-2-2-2zM9 17H7v-7h2v7zm4 0h-2V7h2v10zm4 0h-2v-4h2v4z\"/>\n",
              "    </g>\n",
              "</svg>\n",
              "  </button>\n",
              "\n",
              "<style>\n",
              "  .colab-df-quickchart {\n",
              "      --bg-color: #E8F0FE;\n",
              "      --fill-color: #1967D2;\n",
              "      --hover-bg-color: #E2EBFA;\n",
              "      --hover-fill-color: #174EA6;\n",
              "      --disabled-fill-color: #AAA;\n",
              "      --disabled-bg-color: #DDD;\n",
              "  }\n",
              "\n",
              "  [theme=dark] .colab-df-quickchart {\n",
              "      --bg-color: #3B4455;\n",
              "      --fill-color: #D2E3FC;\n",
              "      --hover-bg-color: #434B5C;\n",
              "      --hover-fill-color: #FFFFFF;\n",
              "      --disabled-bg-color: #3B4455;\n",
              "      --disabled-fill-color: #666;\n",
              "  }\n",
              "\n",
              "  .colab-df-quickchart {\n",
              "    background-color: var(--bg-color);\n",
              "    border: none;\n",
              "    border-radius: 50%;\n",
              "    cursor: pointer;\n",
              "    display: none;\n",
              "    fill: var(--fill-color);\n",
              "    height: 32px;\n",
              "    padding: 0;\n",
              "    width: 32px;\n",
              "  }\n",
              "\n",
              "  .colab-df-quickchart:hover {\n",
              "    background-color: var(--hover-bg-color);\n",
              "    box-shadow: 0 1px 2px rgba(60, 64, 67, 0.3), 0 1px 3px 1px rgba(60, 64, 67, 0.15);\n",
              "    fill: var(--button-hover-fill-color);\n",
              "  }\n",
              "\n",
              "  .colab-df-quickchart-complete:disabled,\n",
              "  .colab-df-quickchart-complete:disabled:hover {\n",
              "    background-color: var(--disabled-bg-color);\n",
              "    fill: var(--disabled-fill-color);\n",
              "    box-shadow: none;\n",
              "  }\n",
              "\n",
              "  .colab-df-spinner {\n",
              "    border: 2px solid var(--fill-color);\n",
              "    border-color: transparent;\n",
              "    border-bottom-color: var(--fill-color);\n",
              "    animation:\n",
              "      spin 1s steps(1) infinite;\n",
              "  }\n",
              "\n",
              "  @keyframes spin {\n",
              "    0% {\n",
              "      border-color: transparent;\n",
              "      border-bottom-color: var(--fill-color);\n",
              "      border-left-color: var(--fill-color);\n",
              "    }\n",
              "    20% {\n",
              "      border-color: transparent;\n",
              "      border-left-color: var(--fill-color);\n",
              "      border-top-color: var(--fill-color);\n",
              "    }\n",
              "    30% {\n",
              "      border-color: transparent;\n",
              "      border-left-color: var(--fill-color);\n",
              "      border-top-color: var(--fill-color);\n",
              "      border-right-color: var(--fill-color);\n",
              "    }\n",
              "    40% {\n",
              "      border-color: transparent;\n",
              "      border-right-color: var(--fill-color);\n",
              "      border-top-color: var(--fill-color);\n",
              "    }\n",
              "    60% {\n",
              "      border-color: transparent;\n",
              "      border-right-color: var(--fill-color);\n",
              "    }\n",
              "    80% {\n",
              "      border-color: transparent;\n",
              "      border-right-color: var(--fill-color);\n",
              "      border-bottom-color: var(--fill-color);\n",
              "    }\n",
              "    90% {\n",
              "      border-color: transparent;\n",
              "      border-bottom-color: var(--fill-color);\n",
              "    }\n",
              "  }\n",
              "</style>\n",
              "\n",
              "  <script>\n",
              "    async function quickchart(key) {\n",
              "      const quickchartButtonEl =\n",
              "        document.querySelector('#' + key + ' button');\n",
              "      quickchartButtonEl.disabled = true;  // To prevent multiple clicks.\n",
              "      quickchartButtonEl.classList.add('colab-df-spinner');\n",
              "      try {\n",
              "        const charts = await google.colab.kernel.invokeFunction(\n",
              "            'suggestCharts', [key], {});\n",
              "      } catch (error) {\n",
              "        console.error('Error during call to suggestCharts:', error);\n",
              "      }\n",
              "      quickchartButtonEl.classList.remove('colab-df-spinner');\n",
              "      quickchartButtonEl.classList.add('colab-df-quickchart-complete');\n",
              "    }\n",
              "    (() => {\n",
              "      let quickchartButtonEl =\n",
              "        document.querySelector('#df-b18ba7e6-1eac-4c9f-ab32-daf73b4e4e75 button');\n",
              "      quickchartButtonEl.style.display =\n",
              "        google.colab.kernel.accessAllowed ? 'block' : 'none';\n",
              "    })();\n",
              "  </script>\n",
              "</div>\n",
              "\n",
              "  <div id=\"id_b044fa6b-f4ad-4bc1-b0bb-bcc86c67fc71\">\n",
              "    <style>\n",
              "      .colab-df-generate {\n",
              "        background-color: #E8F0FE;\n",
              "        border: none;\n",
              "        border-radius: 50%;\n",
              "        cursor: pointer;\n",
              "        display: none;\n",
              "        fill: #1967D2;\n",
              "        height: 32px;\n",
              "        padding: 0 0 0 0;\n",
              "        width: 32px;\n",
              "      }\n",
              "\n",
              "      .colab-df-generate:hover {\n",
              "        background-color: #E2EBFA;\n",
              "        box-shadow: 0px 1px 2px rgba(60, 64, 67, 0.3), 0px 1px 3px 1px rgba(60, 64, 67, 0.15);\n",
              "        fill: #174EA6;\n",
              "      }\n",
              "\n",
              "      [theme=dark] .colab-df-generate {\n",
              "        background-color: #3B4455;\n",
              "        fill: #D2E3FC;\n",
              "      }\n",
              "\n",
              "      [theme=dark] .colab-df-generate:hover {\n",
              "        background-color: #434B5C;\n",
              "        box-shadow: 0px 1px 3px 1px rgba(0, 0, 0, 0.15);\n",
              "        filter: drop-shadow(0px 1px 2px rgba(0, 0, 0, 0.3));\n",
              "        fill: #FFFFFF;\n",
              "      }\n",
              "    </style>\n",
              "    <button class=\"colab-df-generate\" onclick=\"generateWithVariable('covid_df')\"\n",
              "            title=\"Generate code using this dataframe.\"\n",
              "            style=\"display:none;\">\n",
              "\n",
              "  <svg xmlns=\"http://www.w3.org/2000/svg\" height=\"24px\"viewBox=\"0 0 24 24\"\n",
              "       width=\"24px\">\n",
              "    <path d=\"M7,19H8.4L18.45,9,17,7.55,7,17.6ZM5,21V16.75L18.45,3.32a2,2,0,0,1,2.83,0l1.4,1.43a1.91,1.91,0,0,1,.58,1.4,1.91,1.91,0,0,1-.58,1.4L9.25,21ZM18.45,9,17,7.55Zm-12,3A5.31,5.31,0,0,0,4.9,8.1,5.31,5.31,0,0,0,1,6.5,5.31,5.31,0,0,0,4.9,4.9,5.31,5.31,0,0,0,6.5,1,5.31,5.31,0,0,0,8.1,4.9,5.31,5.31,0,0,0,12,6.5,5.46,5.46,0,0,0,6.5,12Z\"/>\n",
              "  </svg>\n",
              "    </button>\n",
              "    <script>\n",
              "      (() => {\n",
              "      const buttonEl =\n",
              "        document.querySelector('#id_b044fa6b-f4ad-4bc1-b0bb-bcc86c67fc71 button.colab-df-generate');\n",
              "      buttonEl.style.display =\n",
              "        google.colab.kernel.accessAllowed ? 'block' : 'none';\n",
              "\n",
              "      buttonEl.onclick = () => {\n",
              "        google.colab.notebook.generateWithVariable('covid_df');\n",
              "      }\n",
              "      })();\n",
              "    </script>\n",
              "  </div>\n",
              "\n",
              "    </div>\n",
              "  </div>\n"
            ],
            "application/vnd.google.colaboratory.intrinsic+json": {
              "type": "dataframe",
              "variable_name": "covid_df",
              "summary": "{\n  \"name\": \"covid_df\",\n  \"rows\": 248,\n  \"fields\": [\n    {\n      \"column\": \"date\",\n      \"properties\": {\n        \"dtype\": \"date\",\n        \"min\": \"2019-12-31 00:00:00\",\n        \"max\": \"2020-09-03 00:00:00\",\n        \"num_unique_values\": 248,\n        \"samples\": [\n          \"2020-02-02 00:00:00\",\n          \"2020-01-06 00:00:00\",\n          \"2020-06-30 00:00:00\"\n        ],\n        \"semantic_type\": \"\",\n        \"description\": \"\"\n      }\n    },\n    {\n      \"column\": \"new_cases\",\n      \"properties\": {\n        \"dtype\": \"number\",\n        \"std\": 1553.3229568895174,\n        \"min\": 0.0,\n        \"max\": 6557.0,\n        \"num_unique_values\": 188,\n        \"samples\": [\n          1460.0,\n          159.0,\n          1492.0\n        ],\n        \"semantic_type\": \"\",\n        \"description\": \"\"\n      }\n    },\n    {\n      \"column\": \"new_deaths\",\n      \"properties\": {\n        \"dtype\": \"number\",\n        \"std\": 227.10553833402594,\n        \"min\": -31.0,\n        \"max\": 971.0,\n        \"num_unique_values\": 129,\n        \"samples\": [\n          534.0,\n          527.0,\n          173.0\n        ],\n        \"semantic_type\": \"\",\n        \"description\": \"\"\n      }\n    },\n    {\n      \"column\": \"new_tests\",\n      \"properties\": {\n        \"dtype\": \"number\",\n        \"std\": 11622.209756510283,\n        \"min\": 7841.0,\n        \"max\": 95273.0,\n        \"num_unique_values\": 135,\n        \"samples\": [\n          19374.0,\n          28331.0,\n          13467.0\n        ],\n        \"semantic_type\": \"\",\n        \"description\": \"\"\n      }\n    },\n    {\n      \"column\": \"positive_rate\",\n      \"properties\": {\n        \"dtype\": \"number\",\n        \"std\": 0.037393379691494415,\n        \"min\": -0.0049539748953974895,\n        \"max\": 0.3885983930621094,\n        \"num_unique_values\": 135,\n        \"samples\": [\n          0.01311035408279137,\n          0.010447919240408034,\n          0.017672829880448503\n        ],\n        \"semantic_type\": \"\",\n        \"description\": \"\"\n      }\n    },\n    {\n      \"column\": \"year\",\n      \"properties\": {\n        \"dtype\": \"int32\",\n        \"num_unique_values\": 2,\n        \"samples\": [\n          2020,\n          2019\n        ],\n        \"semantic_type\": \"\",\n        \"description\": \"\"\n      }\n    },\n    {\n      \"column\": \"month\",\n      \"properties\": {\n        \"dtype\": \"int32\",\n        \"num_unique_values\": 10,\n        \"samples\": [\n          8,\n          1\n        ],\n        \"semantic_type\": \"\",\n        \"description\": \"\"\n      }\n    },\n    {\n      \"column\": \"day\",\n      \"properties\": {\n        \"dtype\": \"int32\",\n        \"num_unique_values\": 31,\n        \"samples\": [\n          27,\n          15\n        ],\n        \"semantic_type\": \"\",\n        \"description\": \"\"\n      }\n    },\n    {\n      \"column\": \"weekday\",\n      \"properties\": {\n        \"dtype\": \"int32\",\n        \"num_unique_values\": 7,\n        \"samples\": [\n          1,\n          2\n        ],\n        \"semantic_type\": \"\",\n        \"description\": \"\"\n      }\n    }\n  ]\n}"
            }
          },
          "metadata": {},
          "execution_count": 62
        }
      ]
    },
    {
      "cell_type": "markdown",
      "source": [
        "# ARIMA & SARIMA || Krish Naik"
      ],
      "metadata": {
        "id": "L88BvhUCME33"
      }
    },
    {
      "cell_type": "markdown",
      "source": [
        "## Import Library and see DataSet"
      ],
      "metadata": {
        "id": "R1F8sYuTQQ5I"
      }
    },
    {
      "cell_type": "code",
      "source": [
        "import numpy as np\n",
        "import matplotlib.pyplot as plt\n",
        "import statsmodels.api as sms\n",
        "import pandas as pd\n",
        "\n",
        "%matplotlib inline"
      ],
      "metadata": {
        "id": "hBLIG4Q-MTiY"
      },
      "execution_count": null,
      "outputs": []
    },
    {
      "cell_type": "code",
      "source": [
        "df_airline=pd.read_csv('airline_passengers.csv')\n",
        "df_airline.head()"
      ],
      "metadata": {
        "colab": {
          "base_uri": "https://localhost:8080/",
          "height": 206
        },
        "id": "Ox9TaDigMsJH",
        "outputId": "e52ce83a-32c3-47c2-b1f2-a1856a5dba1c"
      },
      "execution_count": null,
      "outputs": [
        {
          "output_type": "execute_result",
          "data": {
            "text/plain": [
              "     Month  Thousands of Passengers\n",
              "0  1949-01                    112.0\n",
              "1  1949-02                    118.0\n",
              "2  1949-03                    132.0\n",
              "3  1949-04                    129.0\n",
              "4  1949-05                    121.0"
            ],
            "text/html": [
              "\n",
              "  <div id=\"df-f4d88752-0a30-4f12-b11e-80d313f20e8e\" class=\"colab-df-container\">\n",
              "    <div>\n",
              "<style scoped>\n",
              "    .dataframe tbody tr th:only-of-type {\n",
              "        vertical-align: middle;\n",
              "    }\n",
              "\n",
              "    .dataframe tbody tr th {\n",
              "        vertical-align: top;\n",
              "    }\n",
              "\n",
              "    .dataframe thead th {\n",
              "        text-align: right;\n",
              "    }\n",
              "</style>\n",
              "<table border=\"1\" class=\"dataframe\">\n",
              "  <thead>\n",
              "    <tr style=\"text-align: right;\">\n",
              "      <th></th>\n",
              "      <th>Month</th>\n",
              "      <th>Thousands of Passengers</th>\n",
              "    </tr>\n",
              "  </thead>\n",
              "  <tbody>\n",
              "    <tr>\n",
              "      <th>0</th>\n",
              "      <td>1949-01</td>\n",
              "      <td>112.0</td>\n",
              "    </tr>\n",
              "    <tr>\n",
              "      <th>1</th>\n",
              "      <td>1949-02</td>\n",
              "      <td>118.0</td>\n",
              "    </tr>\n",
              "    <tr>\n",
              "      <th>2</th>\n",
              "      <td>1949-03</td>\n",
              "      <td>132.0</td>\n",
              "    </tr>\n",
              "    <tr>\n",
              "      <th>3</th>\n",
              "      <td>1949-04</td>\n",
              "      <td>129.0</td>\n",
              "    </tr>\n",
              "    <tr>\n",
              "      <th>4</th>\n",
              "      <td>1949-05</td>\n",
              "      <td>121.0</td>\n",
              "    </tr>\n",
              "  </tbody>\n",
              "</table>\n",
              "</div>\n",
              "    <div class=\"colab-df-buttons\">\n",
              "\n",
              "  <div class=\"colab-df-container\">\n",
              "    <button class=\"colab-df-convert\" onclick=\"convertToInteractive('df-f4d88752-0a30-4f12-b11e-80d313f20e8e')\"\n",
              "            title=\"Convert this dataframe to an interactive table.\"\n",
              "            style=\"display:none;\">\n",
              "\n",
              "  <svg xmlns=\"http://www.w3.org/2000/svg\" height=\"24px\" viewBox=\"0 -960 960 960\">\n",
              "    <path d=\"M120-120v-720h720v720H120Zm60-500h600v-160H180v160Zm220 220h160v-160H400v160Zm0 220h160v-160H400v160ZM180-400h160v-160H180v160Zm440 0h160v-160H620v160ZM180-180h160v-160H180v160Zm440 0h160v-160H620v160Z\"/>\n",
              "  </svg>\n",
              "    </button>\n",
              "\n",
              "  <style>\n",
              "    .colab-df-container {\n",
              "      display:flex;\n",
              "      gap: 12px;\n",
              "    }\n",
              "\n",
              "    .colab-df-convert {\n",
              "      background-color: #E8F0FE;\n",
              "      border: none;\n",
              "      border-radius: 50%;\n",
              "      cursor: pointer;\n",
              "      display: none;\n",
              "      fill: #1967D2;\n",
              "      height: 32px;\n",
              "      padding: 0 0 0 0;\n",
              "      width: 32px;\n",
              "    }\n",
              "\n",
              "    .colab-df-convert:hover {\n",
              "      background-color: #E2EBFA;\n",
              "      box-shadow: 0px 1px 2px rgba(60, 64, 67, 0.3), 0px 1px 3px 1px rgba(60, 64, 67, 0.15);\n",
              "      fill: #174EA6;\n",
              "    }\n",
              "\n",
              "    .colab-df-buttons div {\n",
              "      margin-bottom: 4px;\n",
              "    }\n",
              "\n",
              "    [theme=dark] .colab-df-convert {\n",
              "      background-color: #3B4455;\n",
              "      fill: #D2E3FC;\n",
              "    }\n",
              "\n",
              "    [theme=dark] .colab-df-convert:hover {\n",
              "      background-color: #434B5C;\n",
              "      box-shadow: 0px 1px 3px 1px rgba(0, 0, 0, 0.15);\n",
              "      filter: drop-shadow(0px 1px 2px rgba(0, 0, 0, 0.3));\n",
              "      fill: #FFFFFF;\n",
              "    }\n",
              "  </style>\n",
              "\n",
              "    <script>\n",
              "      const buttonEl =\n",
              "        document.querySelector('#df-f4d88752-0a30-4f12-b11e-80d313f20e8e button.colab-df-convert');\n",
              "      buttonEl.style.display =\n",
              "        google.colab.kernel.accessAllowed ? 'block' : 'none';\n",
              "\n",
              "      async function convertToInteractive(key) {\n",
              "        const element = document.querySelector('#df-f4d88752-0a30-4f12-b11e-80d313f20e8e');\n",
              "        const dataTable =\n",
              "          await google.colab.kernel.invokeFunction('convertToInteractive',\n",
              "                                                    [key], {});\n",
              "        if (!dataTable) return;\n",
              "\n",
              "        const docLinkHtml = 'Like what you see? Visit the ' +\n",
              "          '<a target=\"_blank\" href=https://colab.research.google.com/notebooks/data_table.ipynb>data table notebook</a>'\n",
              "          + ' to learn more about interactive tables.';\n",
              "        element.innerHTML = '';\n",
              "        dataTable['output_type'] = 'display_data';\n",
              "        await google.colab.output.renderOutput(dataTable, element);\n",
              "        const docLink = document.createElement('div');\n",
              "        docLink.innerHTML = docLinkHtml;\n",
              "        element.appendChild(docLink);\n",
              "      }\n",
              "    </script>\n",
              "  </div>\n",
              "\n",
              "\n",
              "<div id=\"df-cf374560-3e5a-4de5-b8d5-cd74de8f2ab7\">\n",
              "  <button class=\"colab-df-quickchart\" onclick=\"quickchart('df-cf374560-3e5a-4de5-b8d5-cd74de8f2ab7')\"\n",
              "            title=\"Suggest charts\"\n",
              "            style=\"display:none;\">\n",
              "\n",
              "<svg xmlns=\"http://www.w3.org/2000/svg\" height=\"24px\"viewBox=\"0 0 24 24\"\n",
              "     width=\"24px\">\n",
              "    <g>\n",
              "        <path d=\"M19 3H5c-1.1 0-2 .9-2 2v14c0 1.1.9 2 2 2h14c1.1 0 2-.9 2-2V5c0-1.1-.9-2-2-2zM9 17H7v-7h2v7zm4 0h-2V7h2v10zm4 0h-2v-4h2v4z\"/>\n",
              "    </g>\n",
              "</svg>\n",
              "  </button>\n",
              "\n",
              "<style>\n",
              "  .colab-df-quickchart {\n",
              "      --bg-color: #E8F0FE;\n",
              "      --fill-color: #1967D2;\n",
              "      --hover-bg-color: #E2EBFA;\n",
              "      --hover-fill-color: #174EA6;\n",
              "      --disabled-fill-color: #AAA;\n",
              "      --disabled-bg-color: #DDD;\n",
              "  }\n",
              "\n",
              "  [theme=dark] .colab-df-quickchart {\n",
              "      --bg-color: #3B4455;\n",
              "      --fill-color: #D2E3FC;\n",
              "      --hover-bg-color: #434B5C;\n",
              "      --hover-fill-color: #FFFFFF;\n",
              "      --disabled-bg-color: #3B4455;\n",
              "      --disabled-fill-color: #666;\n",
              "  }\n",
              "\n",
              "  .colab-df-quickchart {\n",
              "    background-color: var(--bg-color);\n",
              "    border: none;\n",
              "    border-radius: 50%;\n",
              "    cursor: pointer;\n",
              "    display: none;\n",
              "    fill: var(--fill-color);\n",
              "    height: 32px;\n",
              "    padding: 0;\n",
              "    width: 32px;\n",
              "  }\n",
              "\n",
              "  .colab-df-quickchart:hover {\n",
              "    background-color: var(--hover-bg-color);\n",
              "    box-shadow: 0 1px 2px rgba(60, 64, 67, 0.3), 0 1px 3px 1px rgba(60, 64, 67, 0.15);\n",
              "    fill: var(--button-hover-fill-color);\n",
              "  }\n",
              "\n",
              "  .colab-df-quickchart-complete:disabled,\n",
              "  .colab-df-quickchart-complete:disabled:hover {\n",
              "    background-color: var(--disabled-bg-color);\n",
              "    fill: var(--disabled-fill-color);\n",
              "    box-shadow: none;\n",
              "  }\n",
              "\n",
              "  .colab-df-spinner {\n",
              "    border: 2px solid var(--fill-color);\n",
              "    border-color: transparent;\n",
              "    border-bottom-color: var(--fill-color);\n",
              "    animation:\n",
              "      spin 1s steps(1) infinite;\n",
              "  }\n",
              "\n",
              "  @keyframes spin {\n",
              "    0% {\n",
              "      border-color: transparent;\n",
              "      border-bottom-color: var(--fill-color);\n",
              "      border-left-color: var(--fill-color);\n",
              "    }\n",
              "    20% {\n",
              "      border-color: transparent;\n",
              "      border-left-color: var(--fill-color);\n",
              "      border-top-color: var(--fill-color);\n",
              "    }\n",
              "    30% {\n",
              "      border-color: transparent;\n",
              "      border-left-color: var(--fill-color);\n",
              "      border-top-color: var(--fill-color);\n",
              "      border-right-color: var(--fill-color);\n",
              "    }\n",
              "    40% {\n",
              "      border-color: transparent;\n",
              "      border-right-color: var(--fill-color);\n",
              "      border-top-color: var(--fill-color);\n",
              "    }\n",
              "    60% {\n",
              "      border-color: transparent;\n",
              "      border-right-color: var(--fill-color);\n",
              "    }\n",
              "    80% {\n",
              "      border-color: transparent;\n",
              "      border-right-color: var(--fill-color);\n",
              "      border-bottom-color: var(--fill-color);\n",
              "    }\n",
              "    90% {\n",
              "      border-color: transparent;\n",
              "      border-bottom-color: var(--fill-color);\n",
              "    }\n",
              "  }\n",
              "</style>\n",
              "\n",
              "  <script>\n",
              "    async function quickchart(key) {\n",
              "      const quickchartButtonEl =\n",
              "        document.querySelector('#' + key + ' button');\n",
              "      quickchartButtonEl.disabled = true;  // To prevent multiple clicks.\n",
              "      quickchartButtonEl.classList.add('colab-df-spinner');\n",
              "      try {\n",
              "        const charts = await google.colab.kernel.invokeFunction(\n",
              "            'suggestCharts', [key], {});\n",
              "      } catch (error) {\n",
              "        console.error('Error during call to suggestCharts:', error);\n",
              "      }\n",
              "      quickchartButtonEl.classList.remove('colab-df-spinner');\n",
              "      quickchartButtonEl.classList.add('colab-df-quickchart-complete');\n",
              "    }\n",
              "    (() => {\n",
              "      let quickchartButtonEl =\n",
              "        document.querySelector('#df-cf374560-3e5a-4de5-b8d5-cd74de8f2ab7 button');\n",
              "      quickchartButtonEl.style.display =\n",
              "        google.colab.kernel.accessAllowed ? 'block' : 'none';\n",
              "    })();\n",
              "  </script>\n",
              "</div>\n",
              "\n",
              "    </div>\n",
              "  </div>\n"
            ],
            "application/vnd.google.colaboratory.intrinsic+json": {
              "type": "dataframe",
              "variable_name": "df_airline",
              "summary": "{\n  \"name\": \"df_airline\",\n  \"rows\": 145,\n  \"fields\": [\n    {\n      \"column\": \"Month\",\n      \"properties\": {\n        \"dtype\": \"string\",\n        \"num_unique_values\": 145,\n        \"samples\": [\n          \"1954-10\",\n          \"1960-09\",\n          \"1951-04\"\n        ],\n        \"semantic_type\": \"\",\n        \"description\": \"\"\n      }\n    },\n    {\n      \"column\": \"Thousands of Passengers\",\n      \"properties\": {\n        \"dtype\": \"number\",\n        \"std\": 119.96631694294321,\n        \"min\": 104.0,\n        \"max\": 622.0,\n        \"num_unique_values\": 118,\n        \"samples\": [\n          293.0,\n          340.0,\n          121.0\n        ],\n        \"semantic_type\": \"\",\n        \"description\": \"\"\n      }\n    }\n  ]\n}"
            }
          },
          "metadata": {},
          "execution_count": 20
        }
      ]
    },
    {
      "cell_type": "code",
      "source": [
        "df_airline.isnull().sum()"
      ],
      "metadata": {
        "colab": {
          "base_uri": "https://localhost:8080/",
          "height": 147
        },
        "id": "Pa32DiTlNBSx",
        "outputId": "14edaa9a-c737-42fe-ec20-a835f799c10a"
      },
      "execution_count": null,
      "outputs": [
        {
          "output_type": "execute_result",
          "data": {
            "text/plain": [
              "Month                      0\n",
              "Thousands of Passengers    1\n",
              "dtype: int64"
            ],
            "text/html": [
              "<div>\n",
              "<style scoped>\n",
              "    .dataframe tbody tr th:only-of-type {\n",
              "        vertical-align: middle;\n",
              "    }\n",
              "\n",
              "    .dataframe tbody tr th {\n",
              "        vertical-align: top;\n",
              "    }\n",
              "\n",
              "    .dataframe thead th {\n",
              "        text-align: right;\n",
              "    }\n",
              "</style>\n",
              "<table border=\"1\" class=\"dataframe\">\n",
              "  <thead>\n",
              "    <tr style=\"text-align: right;\">\n",
              "      <th></th>\n",
              "      <th>0</th>\n",
              "    </tr>\n",
              "  </thead>\n",
              "  <tbody>\n",
              "    <tr>\n",
              "      <th>Month</th>\n",
              "      <td>0</td>\n",
              "    </tr>\n",
              "    <tr>\n",
              "      <th>Thousands of Passengers</th>\n",
              "      <td>1</td>\n",
              "    </tr>\n",
              "  </tbody>\n",
              "</table>\n",
              "</div><br><label><b>dtype:</b> int64</label>"
            ]
          },
          "metadata": {},
          "execution_count": 21
        }
      ]
    },
    {
      "cell_type": "code",
      "source": [
        "df_airline.tail()"
      ],
      "metadata": {
        "colab": {
          "base_uri": "https://localhost:8080/",
          "height": 206
        },
        "id": "RNg614m3NHYF",
        "outputId": "52a5ae8f-9f26-42a4-dcd8-3b6230a6978f"
      },
      "execution_count": null,
      "outputs": [
        {
          "output_type": "execute_result",
          "data": {
            "text/plain": [
              "                                                 Month  \\\n",
              "140                                            1960-09   \n",
              "141                                            1960-10   \n",
              "142                                            1960-11   \n",
              "143                                            1960-12   \n",
              "144  International airline passengers: monthly tota...   \n",
              "\n",
              "     Thousands of Passengers  \n",
              "140                    508.0  \n",
              "141                    461.0  \n",
              "142                    390.0  \n",
              "143                    432.0  \n",
              "144                      NaN  "
            ],
            "text/html": [
              "\n",
              "  <div id=\"df-f0b59252-f532-48a2-8385-65d1855f0b16\" class=\"colab-df-container\">\n",
              "    <div>\n",
              "<style scoped>\n",
              "    .dataframe tbody tr th:only-of-type {\n",
              "        vertical-align: middle;\n",
              "    }\n",
              "\n",
              "    .dataframe tbody tr th {\n",
              "        vertical-align: top;\n",
              "    }\n",
              "\n",
              "    .dataframe thead th {\n",
              "        text-align: right;\n",
              "    }\n",
              "</style>\n",
              "<table border=\"1\" class=\"dataframe\">\n",
              "  <thead>\n",
              "    <tr style=\"text-align: right;\">\n",
              "      <th></th>\n",
              "      <th>Month</th>\n",
              "      <th>Thousands of Passengers</th>\n",
              "    </tr>\n",
              "  </thead>\n",
              "  <tbody>\n",
              "    <tr>\n",
              "      <th>140</th>\n",
              "      <td>1960-09</td>\n",
              "      <td>508.0</td>\n",
              "    </tr>\n",
              "    <tr>\n",
              "      <th>141</th>\n",
              "      <td>1960-10</td>\n",
              "      <td>461.0</td>\n",
              "    </tr>\n",
              "    <tr>\n",
              "      <th>142</th>\n",
              "      <td>1960-11</td>\n",
              "      <td>390.0</td>\n",
              "    </tr>\n",
              "    <tr>\n",
              "      <th>143</th>\n",
              "      <td>1960-12</td>\n",
              "      <td>432.0</td>\n",
              "    </tr>\n",
              "    <tr>\n",
              "      <th>144</th>\n",
              "      <td>International airline passengers: monthly tota...</td>\n",
              "      <td>NaN</td>\n",
              "    </tr>\n",
              "  </tbody>\n",
              "</table>\n",
              "</div>\n",
              "    <div class=\"colab-df-buttons\">\n",
              "\n",
              "  <div class=\"colab-df-container\">\n",
              "    <button class=\"colab-df-convert\" onclick=\"convertToInteractive('df-f0b59252-f532-48a2-8385-65d1855f0b16')\"\n",
              "            title=\"Convert this dataframe to an interactive table.\"\n",
              "            style=\"display:none;\">\n",
              "\n",
              "  <svg xmlns=\"http://www.w3.org/2000/svg\" height=\"24px\" viewBox=\"0 -960 960 960\">\n",
              "    <path d=\"M120-120v-720h720v720H120Zm60-500h600v-160H180v160Zm220 220h160v-160H400v160Zm0 220h160v-160H400v160ZM180-400h160v-160H180v160Zm440 0h160v-160H620v160ZM180-180h160v-160H180v160Zm440 0h160v-160H620v160Z\"/>\n",
              "  </svg>\n",
              "    </button>\n",
              "\n",
              "  <style>\n",
              "    .colab-df-container {\n",
              "      display:flex;\n",
              "      gap: 12px;\n",
              "    }\n",
              "\n",
              "    .colab-df-convert {\n",
              "      background-color: #E8F0FE;\n",
              "      border: none;\n",
              "      border-radius: 50%;\n",
              "      cursor: pointer;\n",
              "      display: none;\n",
              "      fill: #1967D2;\n",
              "      height: 32px;\n",
              "      padding: 0 0 0 0;\n",
              "      width: 32px;\n",
              "    }\n",
              "\n",
              "    .colab-df-convert:hover {\n",
              "      background-color: #E2EBFA;\n",
              "      box-shadow: 0px 1px 2px rgba(60, 64, 67, 0.3), 0px 1px 3px 1px rgba(60, 64, 67, 0.15);\n",
              "      fill: #174EA6;\n",
              "    }\n",
              "\n",
              "    .colab-df-buttons div {\n",
              "      margin-bottom: 4px;\n",
              "    }\n",
              "\n",
              "    [theme=dark] .colab-df-convert {\n",
              "      background-color: #3B4455;\n",
              "      fill: #D2E3FC;\n",
              "    }\n",
              "\n",
              "    [theme=dark] .colab-df-convert:hover {\n",
              "      background-color: #434B5C;\n",
              "      box-shadow: 0px 1px 3px 1px rgba(0, 0, 0, 0.15);\n",
              "      filter: drop-shadow(0px 1px 2px rgba(0, 0, 0, 0.3));\n",
              "      fill: #FFFFFF;\n",
              "    }\n",
              "  </style>\n",
              "\n",
              "    <script>\n",
              "      const buttonEl =\n",
              "        document.querySelector('#df-f0b59252-f532-48a2-8385-65d1855f0b16 button.colab-df-convert');\n",
              "      buttonEl.style.display =\n",
              "        google.colab.kernel.accessAllowed ? 'block' : 'none';\n",
              "\n",
              "      async function convertToInteractive(key) {\n",
              "        const element = document.querySelector('#df-f0b59252-f532-48a2-8385-65d1855f0b16');\n",
              "        const dataTable =\n",
              "          await google.colab.kernel.invokeFunction('convertToInteractive',\n",
              "                                                    [key], {});\n",
              "        if (!dataTable) return;\n",
              "\n",
              "        const docLinkHtml = 'Like what you see? Visit the ' +\n",
              "          '<a target=\"_blank\" href=https://colab.research.google.com/notebooks/data_table.ipynb>data table notebook</a>'\n",
              "          + ' to learn more about interactive tables.';\n",
              "        element.innerHTML = '';\n",
              "        dataTable['output_type'] = 'display_data';\n",
              "        await google.colab.output.renderOutput(dataTable, element);\n",
              "        const docLink = document.createElement('div');\n",
              "        docLink.innerHTML = docLinkHtml;\n",
              "        element.appendChild(docLink);\n",
              "      }\n",
              "    </script>\n",
              "  </div>\n",
              "\n",
              "\n",
              "<div id=\"df-6ec5a1fd-5779-4c58-a8b9-4c8bca593fb3\">\n",
              "  <button class=\"colab-df-quickchart\" onclick=\"quickchart('df-6ec5a1fd-5779-4c58-a8b9-4c8bca593fb3')\"\n",
              "            title=\"Suggest charts\"\n",
              "            style=\"display:none;\">\n",
              "\n",
              "<svg xmlns=\"http://www.w3.org/2000/svg\" height=\"24px\"viewBox=\"0 0 24 24\"\n",
              "     width=\"24px\">\n",
              "    <g>\n",
              "        <path d=\"M19 3H5c-1.1 0-2 .9-2 2v14c0 1.1.9 2 2 2h14c1.1 0 2-.9 2-2V5c0-1.1-.9-2-2-2zM9 17H7v-7h2v7zm4 0h-2V7h2v10zm4 0h-2v-4h2v4z\"/>\n",
              "    </g>\n",
              "</svg>\n",
              "  </button>\n",
              "\n",
              "<style>\n",
              "  .colab-df-quickchart {\n",
              "      --bg-color: #E8F0FE;\n",
              "      --fill-color: #1967D2;\n",
              "      --hover-bg-color: #E2EBFA;\n",
              "      --hover-fill-color: #174EA6;\n",
              "      --disabled-fill-color: #AAA;\n",
              "      --disabled-bg-color: #DDD;\n",
              "  }\n",
              "\n",
              "  [theme=dark] .colab-df-quickchart {\n",
              "      --bg-color: #3B4455;\n",
              "      --fill-color: #D2E3FC;\n",
              "      --hover-bg-color: #434B5C;\n",
              "      --hover-fill-color: #FFFFFF;\n",
              "      --disabled-bg-color: #3B4455;\n",
              "      --disabled-fill-color: #666;\n",
              "  }\n",
              "\n",
              "  .colab-df-quickchart {\n",
              "    background-color: var(--bg-color);\n",
              "    border: none;\n",
              "    border-radius: 50%;\n",
              "    cursor: pointer;\n",
              "    display: none;\n",
              "    fill: var(--fill-color);\n",
              "    height: 32px;\n",
              "    padding: 0;\n",
              "    width: 32px;\n",
              "  }\n",
              "\n",
              "  .colab-df-quickchart:hover {\n",
              "    background-color: var(--hover-bg-color);\n",
              "    box-shadow: 0 1px 2px rgba(60, 64, 67, 0.3), 0 1px 3px 1px rgba(60, 64, 67, 0.15);\n",
              "    fill: var(--button-hover-fill-color);\n",
              "  }\n",
              "\n",
              "  .colab-df-quickchart-complete:disabled,\n",
              "  .colab-df-quickchart-complete:disabled:hover {\n",
              "    background-color: var(--disabled-bg-color);\n",
              "    fill: var(--disabled-fill-color);\n",
              "    box-shadow: none;\n",
              "  }\n",
              "\n",
              "  .colab-df-spinner {\n",
              "    border: 2px solid var(--fill-color);\n",
              "    border-color: transparent;\n",
              "    border-bottom-color: var(--fill-color);\n",
              "    animation:\n",
              "      spin 1s steps(1) infinite;\n",
              "  }\n",
              "\n",
              "  @keyframes spin {\n",
              "    0% {\n",
              "      border-color: transparent;\n",
              "      border-bottom-color: var(--fill-color);\n",
              "      border-left-color: var(--fill-color);\n",
              "    }\n",
              "    20% {\n",
              "      border-color: transparent;\n",
              "      border-left-color: var(--fill-color);\n",
              "      border-top-color: var(--fill-color);\n",
              "    }\n",
              "    30% {\n",
              "      border-color: transparent;\n",
              "      border-left-color: var(--fill-color);\n",
              "      border-top-color: var(--fill-color);\n",
              "      border-right-color: var(--fill-color);\n",
              "    }\n",
              "    40% {\n",
              "      border-color: transparent;\n",
              "      border-right-color: var(--fill-color);\n",
              "      border-top-color: var(--fill-color);\n",
              "    }\n",
              "    60% {\n",
              "      border-color: transparent;\n",
              "      border-right-color: var(--fill-color);\n",
              "    }\n",
              "    80% {\n",
              "      border-color: transparent;\n",
              "      border-right-color: var(--fill-color);\n",
              "      border-bottom-color: var(--fill-color);\n",
              "    }\n",
              "    90% {\n",
              "      border-color: transparent;\n",
              "      border-bottom-color: var(--fill-color);\n",
              "    }\n",
              "  }\n",
              "</style>\n",
              "\n",
              "  <script>\n",
              "    async function quickchart(key) {\n",
              "      const quickchartButtonEl =\n",
              "        document.querySelector('#' + key + ' button');\n",
              "      quickchartButtonEl.disabled = true;  // To prevent multiple clicks.\n",
              "      quickchartButtonEl.classList.add('colab-df-spinner');\n",
              "      try {\n",
              "        const charts = await google.colab.kernel.invokeFunction(\n",
              "            'suggestCharts', [key], {});\n",
              "      } catch (error) {\n",
              "        console.error('Error during call to suggestCharts:', error);\n",
              "      }\n",
              "      quickchartButtonEl.classList.remove('colab-df-spinner');\n",
              "      quickchartButtonEl.classList.add('colab-df-quickchart-complete');\n",
              "    }\n",
              "    (() => {\n",
              "      let quickchartButtonEl =\n",
              "        document.querySelector('#df-6ec5a1fd-5779-4c58-a8b9-4c8bca593fb3 button');\n",
              "      quickchartButtonEl.style.display =\n",
              "        google.colab.kernel.accessAllowed ? 'block' : 'none';\n",
              "    })();\n",
              "  </script>\n",
              "</div>\n",
              "\n",
              "    </div>\n",
              "  </div>\n"
            ],
            "application/vnd.google.colaboratory.intrinsic+json": {
              "type": "dataframe",
              "summary": "{\n  \"name\": \"df_airline\",\n  \"rows\": 5,\n  \"fields\": [\n    {\n      \"column\": \"Month\",\n      \"properties\": {\n        \"dtype\": \"string\",\n        \"num_unique_values\": 5,\n        \"samples\": [\n          \"1960-10\",\n          \"International airline passengers: monthly totals in thousands. Jan 49 ? Dec 60\",\n          \"1960-11\"\n        ],\n        \"semantic_type\": \"\",\n        \"description\": \"\"\n      }\n    },\n    {\n      \"column\": \"Thousands of Passengers\",\n      \"properties\": {\n        \"dtype\": \"number\",\n        \"std\": 49.6277811983033,\n        \"min\": 390.0,\n        \"max\": 508.0,\n        \"num_unique_values\": 4,\n        \"samples\": [\n          461.0,\n          432.0,\n          508.0\n        ],\n        \"semantic_type\": \"\",\n        \"description\": \"\"\n      }\n    }\n  ]\n}"
            }
          },
          "metadata": {},
          "execution_count": 5
        }
      ]
    },
    {
      "cell_type": "code",
      "source": [
        "df_airline.dropna(axis=0,inplace=True)"
      ],
      "metadata": {
        "id": "AXUU8CtUNNR9"
      },
      "execution_count": null,
      "outputs": []
    },
    {
      "cell_type": "markdown",
      "source": [
        "1. dropna(axis=0):\n",
        "\n",
        "- axis=0 indicates that rows containing NaN values will be removed.\n",
        "\n",
        "- If you wanted to remove columns with NaN values instead, you would use axis=1.\n",
        "\n",
        "2. inplace=True:\n",
        "\n",
        "- Makes the change directly to the df_airline DataFrame without needing to assign the result back to it.\n",
        "\n",
        "- If inplace=False (default), the operation would return a new DataFrame with the NaN rows removed, leaving the original DataFrame unchanged."
      ],
      "metadata": {
        "id": "NZvnmdxBNrPE"
      }
    },
    {
      "cell_type": "code",
      "source": [
        "df_airline.isnull().sum()"
      ],
      "metadata": {
        "colab": {
          "base_uri": "https://localhost:8080/",
          "height": 147
        },
        "id": "CjCNi8luNU_5",
        "outputId": "2bee34b8-dd0a-49ae-e5b7-81b3aea62198"
      },
      "execution_count": null,
      "outputs": [
        {
          "output_type": "execute_result",
          "data": {
            "text/plain": [
              "Month                      0\n",
              "Thousands of Passengers    0\n",
              "dtype: int64"
            ],
            "text/html": [
              "<div>\n",
              "<style scoped>\n",
              "    .dataframe tbody tr th:only-of-type {\n",
              "        vertical-align: middle;\n",
              "    }\n",
              "\n",
              "    .dataframe tbody tr th {\n",
              "        vertical-align: top;\n",
              "    }\n",
              "\n",
              "    .dataframe thead th {\n",
              "        text-align: right;\n",
              "    }\n",
              "</style>\n",
              "<table border=\"1\" class=\"dataframe\">\n",
              "  <thead>\n",
              "    <tr style=\"text-align: right;\">\n",
              "      <th></th>\n",
              "      <th>0</th>\n",
              "    </tr>\n",
              "  </thead>\n",
              "  <tbody>\n",
              "    <tr>\n",
              "      <th>Month</th>\n",
              "      <td>0</td>\n",
              "    </tr>\n",
              "    <tr>\n",
              "      <th>Thousands of Passengers</th>\n",
              "      <td>0</td>\n",
              "    </tr>\n",
              "  </tbody>\n",
              "</table>\n",
              "</div><br><label><b>dtype:</b> int64</label>"
            ]
          },
          "metadata": {},
          "execution_count": 23
        }
      ]
    },
    {
      "cell_type": "code",
      "source": [
        "df_airline.info()"
      ],
      "metadata": {
        "colab": {
          "base_uri": "https://localhost:8080/"
        },
        "id": "tAI1ww23OBMO",
        "outputId": "c07585c7-a74f-4f0a-b8ae-4abf8045cd96"
      },
      "execution_count": null,
      "outputs": [
        {
          "output_type": "stream",
          "name": "stdout",
          "text": [
            "<class 'pandas.core.frame.DataFrame'>\n",
            "Index: 144 entries, 0 to 143\n",
            "Data columns (total 2 columns):\n",
            " #   Column                   Non-Null Count  Dtype  \n",
            "---  ------                   --------------  -----  \n",
            " 0   Month                    144 non-null    object \n",
            " 1   Thousands of Passengers  144 non-null    float64\n",
            "dtypes: float64(1), object(1)\n",
            "memory usage: 3.4+ KB\n"
          ]
        }
      ]
    },
    {
      "cell_type": "code",
      "source": [
        "df_airline['Month']=pd.to_datetime(df_airline['Month'])"
      ],
      "metadata": {
        "id": "jlENwlnuOGOD"
      },
      "execution_count": null,
      "outputs": []
    },
    {
      "cell_type": "code",
      "source": [
        "df_airline.info()"
      ],
      "metadata": {
        "colab": {
          "base_uri": "https://localhost:8080/"
        },
        "id": "VNZdViEvOZgz",
        "outputId": "4c88ee23-c63d-46b3-a248-9ee2456a66bb"
      },
      "execution_count": null,
      "outputs": [
        {
          "output_type": "stream",
          "name": "stdout",
          "text": [
            "<class 'pandas.core.frame.DataFrame'>\n",
            "Index: 144 entries, 0 to 143\n",
            "Data columns (total 2 columns):\n",
            " #   Column                   Non-Null Count  Dtype         \n",
            "---  ------                   --------------  -----         \n",
            " 0   Month                    144 non-null    datetime64[ns]\n",
            " 1   Thousands of Passengers  144 non-null    float64       \n",
            "dtypes: datetime64[ns](1), float64(1)\n",
            "memory usage: 3.4 KB\n"
          ]
        }
      ]
    },
    {
      "cell_type": "code",
      "source": [
        "df_airline.head()"
      ],
      "metadata": {
        "colab": {
          "base_uri": "https://localhost:8080/",
          "height": 206
        },
        "id": "gTwmGSDZObeh",
        "outputId": "73d28572-e471-47ee-ca46-ffa1912c3665"
      },
      "execution_count": null,
      "outputs": [
        {
          "output_type": "execute_result",
          "data": {
            "text/plain": [
              "       Month  Thousands of Passengers\n",
              "0 1949-01-01                    112.0\n",
              "1 1949-02-01                    118.0\n",
              "2 1949-03-01                    132.0\n",
              "3 1949-04-01                    129.0\n",
              "4 1949-05-01                    121.0"
            ],
            "text/html": [
              "\n",
              "  <div id=\"df-98b2bedc-8fdc-4601-8880-04d82548c148\" class=\"colab-df-container\">\n",
              "    <div>\n",
              "<style scoped>\n",
              "    .dataframe tbody tr th:only-of-type {\n",
              "        vertical-align: middle;\n",
              "    }\n",
              "\n",
              "    .dataframe tbody tr th {\n",
              "        vertical-align: top;\n",
              "    }\n",
              "\n",
              "    .dataframe thead th {\n",
              "        text-align: right;\n",
              "    }\n",
              "</style>\n",
              "<table border=\"1\" class=\"dataframe\">\n",
              "  <thead>\n",
              "    <tr style=\"text-align: right;\">\n",
              "      <th></th>\n",
              "      <th>Month</th>\n",
              "      <th>Thousands of Passengers</th>\n",
              "    </tr>\n",
              "  </thead>\n",
              "  <tbody>\n",
              "    <tr>\n",
              "      <th>0</th>\n",
              "      <td>1949-01-01</td>\n",
              "      <td>112.0</td>\n",
              "    </tr>\n",
              "    <tr>\n",
              "      <th>1</th>\n",
              "      <td>1949-02-01</td>\n",
              "      <td>118.0</td>\n",
              "    </tr>\n",
              "    <tr>\n",
              "      <th>2</th>\n",
              "      <td>1949-03-01</td>\n",
              "      <td>132.0</td>\n",
              "    </tr>\n",
              "    <tr>\n",
              "      <th>3</th>\n",
              "      <td>1949-04-01</td>\n",
              "      <td>129.0</td>\n",
              "    </tr>\n",
              "    <tr>\n",
              "      <th>4</th>\n",
              "      <td>1949-05-01</td>\n",
              "      <td>121.0</td>\n",
              "    </tr>\n",
              "  </tbody>\n",
              "</table>\n",
              "</div>\n",
              "    <div class=\"colab-df-buttons\">\n",
              "\n",
              "  <div class=\"colab-df-container\">\n",
              "    <button class=\"colab-df-convert\" onclick=\"convertToInteractive('df-98b2bedc-8fdc-4601-8880-04d82548c148')\"\n",
              "            title=\"Convert this dataframe to an interactive table.\"\n",
              "            style=\"display:none;\">\n",
              "\n",
              "  <svg xmlns=\"http://www.w3.org/2000/svg\" height=\"24px\" viewBox=\"0 -960 960 960\">\n",
              "    <path d=\"M120-120v-720h720v720H120Zm60-500h600v-160H180v160Zm220 220h160v-160H400v160Zm0 220h160v-160H400v160ZM180-400h160v-160H180v160Zm440 0h160v-160H620v160ZM180-180h160v-160H180v160Zm440 0h160v-160H620v160Z\"/>\n",
              "  </svg>\n",
              "    </button>\n",
              "\n",
              "  <style>\n",
              "    .colab-df-container {\n",
              "      display:flex;\n",
              "      gap: 12px;\n",
              "    }\n",
              "\n",
              "    .colab-df-convert {\n",
              "      background-color: #E8F0FE;\n",
              "      border: none;\n",
              "      border-radius: 50%;\n",
              "      cursor: pointer;\n",
              "      display: none;\n",
              "      fill: #1967D2;\n",
              "      height: 32px;\n",
              "      padding: 0 0 0 0;\n",
              "      width: 32px;\n",
              "    }\n",
              "\n",
              "    .colab-df-convert:hover {\n",
              "      background-color: #E2EBFA;\n",
              "      box-shadow: 0px 1px 2px rgba(60, 64, 67, 0.3), 0px 1px 3px 1px rgba(60, 64, 67, 0.15);\n",
              "      fill: #174EA6;\n",
              "    }\n",
              "\n",
              "    .colab-df-buttons div {\n",
              "      margin-bottom: 4px;\n",
              "    }\n",
              "\n",
              "    [theme=dark] .colab-df-convert {\n",
              "      background-color: #3B4455;\n",
              "      fill: #D2E3FC;\n",
              "    }\n",
              "\n",
              "    [theme=dark] .colab-df-convert:hover {\n",
              "      background-color: #434B5C;\n",
              "      box-shadow: 0px 1px 3px 1px rgba(0, 0, 0, 0.15);\n",
              "      filter: drop-shadow(0px 1px 2px rgba(0, 0, 0, 0.3));\n",
              "      fill: #FFFFFF;\n",
              "    }\n",
              "  </style>\n",
              "\n",
              "    <script>\n",
              "      const buttonEl =\n",
              "        document.querySelector('#df-98b2bedc-8fdc-4601-8880-04d82548c148 button.colab-df-convert');\n",
              "      buttonEl.style.display =\n",
              "        google.colab.kernel.accessAllowed ? 'block' : 'none';\n",
              "\n",
              "      async function convertToInteractive(key) {\n",
              "        const element = document.querySelector('#df-98b2bedc-8fdc-4601-8880-04d82548c148');\n",
              "        const dataTable =\n",
              "          await google.colab.kernel.invokeFunction('convertToInteractive',\n",
              "                                                    [key], {});\n",
              "        if (!dataTable) return;\n",
              "\n",
              "        const docLinkHtml = 'Like what you see? Visit the ' +\n",
              "          '<a target=\"_blank\" href=https://colab.research.google.com/notebooks/data_table.ipynb>data table notebook</a>'\n",
              "          + ' to learn more about interactive tables.';\n",
              "        element.innerHTML = '';\n",
              "        dataTable['output_type'] = 'display_data';\n",
              "        await google.colab.output.renderOutput(dataTable, element);\n",
              "        const docLink = document.createElement('div');\n",
              "        docLink.innerHTML = docLinkHtml;\n",
              "        element.appendChild(docLink);\n",
              "      }\n",
              "    </script>\n",
              "  </div>\n",
              "\n",
              "\n",
              "<div id=\"df-efadbff0-f5a4-488b-a41e-523ccf6c42cd\">\n",
              "  <button class=\"colab-df-quickchart\" onclick=\"quickchart('df-efadbff0-f5a4-488b-a41e-523ccf6c42cd')\"\n",
              "            title=\"Suggest charts\"\n",
              "            style=\"display:none;\">\n",
              "\n",
              "<svg xmlns=\"http://www.w3.org/2000/svg\" height=\"24px\"viewBox=\"0 0 24 24\"\n",
              "     width=\"24px\">\n",
              "    <g>\n",
              "        <path d=\"M19 3H5c-1.1 0-2 .9-2 2v14c0 1.1.9 2 2 2h14c1.1 0 2-.9 2-2V5c0-1.1-.9-2-2-2zM9 17H7v-7h2v7zm4 0h-2V7h2v10zm4 0h-2v-4h2v4z\"/>\n",
              "    </g>\n",
              "</svg>\n",
              "  </button>\n",
              "\n",
              "<style>\n",
              "  .colab-df-quickchart {\n",
              "      --bg-color: #E8F0FE;\n",
              "      --fill-color: #1967D2;\n",
              "      --hover-bg-color: #E2EBFA;\n",
              "      --hover-fill-color: #174EA6;\n",
              "      --disabled-fill-color: #AAA;\n",
              "      --disabled-bg-color: #DDD;\n",
              "  }\n",
              "\n",
              "  [theme=dark] .colab-df-quickchart {\n",
              "      --bg-color: #3B4455;\n",
              "      --fill-color: #D2E3FC;\n",
              "      --hover-bg-color: #434B5C;\n",
              "      --hover-fill-color: #FFFFFF;\n",
              "      --disabled-bg-color: #3B4455;\n",
              "      --disabled-fill-color: #666;\n",
              "  }\n",
              "\n",
              "  .colab-df-quickchart {\n",
              "    background-color: var(--bg-color);\n",
              "    border: none;\n",
              "    border-radius: 50%;\n",
              "    cursor: pointer;\n",
              "    display: none;\n",
              "    fill: var(--fill-color);\n",
              "    height: 32px;\n",
              "    padding: 0;\n",
              "    width: 32px;\n",
              "  }\n",
              "\n",
              "  .colab-df-quickchart:hover {\n",
              "    background-color: var(--hover-bg-color);\n",
              "    box-shadow: 0 1px 2px rgba(60, 64, 67, 0.3), 0 1px 3px 1px rgba(60, 64, 67, 0.15);\n",
              "    fill: var(--button-hover-fill-color);\n",
              "  }\n",
              "\n",
              "  .colab-df-quickchart-complete:disabled,\n",
              "  .colab-df-quickchart-complete:disabled:hover {\n",
              "    background-color: var(--disabled-bg-color);\n",
              "    fill: var(--disabled-fill-color);\n",
              "    box-shadow: none;\n",
              "  }\n",
              "\n",
              "  .colab-df-spinner {\n",
              "    border: 2px solid var(--fill-color);\n",
              "    border-color: transparent;\n",
              "    border-bottom-color: var(--fill-color);\n",
              "    animation:\n",
              "      spin 1s steps(1) infinite;\n",
              "  }\n",
              "\n",
              "  @keyframes spin {\n",
              "    0% {\n",
              "      border-color: transparent;\n",
              "      border-bottom-color: var(--fill-color);\n",
              "      border-left-color: var(--fill-color);\n",
              "    }\n",
              "    20% {\n",
              "      border-color: transparent;\n",
              "      border-left-color: var(--fill-color);\n",
              "      border-top-color: var(--fill-color);\n",
              "    }\n",
              "    30% {\n",
              "      border-color: transparent;\n",
              "      border-left-color: var(--fill-color);\n",
              "      border-top-color: var(--fill-color);\n",
              "      border-right-color: var(--fill-color);\n",
              "    }\n",
              "    40% {\n",
              "      border-color: transparent;\n",
              "      border-right-color: var(--fill-color);\n",
              "      border-top-color: var(--fill-color);\n",
              "    }\n",
              "    60% {\n",
              "      border-color: transparent;\n",
              "      border-right-color: var(--fill-color);\n",
              "    }\n",
              "    80% {\n",
              "      border-color: transparent;\n",
              "      border-right-color: var(--fill-color);\n",
              "      border-bottom-color: var(--fill-color);\n",
              "    }\n",
              "    90% {\n",
              "      border-color: transparent;\n",
              "      border-bottom-color: var(--fill-color);\n",
              "    }\n",
              "  }\n",
              "</style>\n",
              "\n",
              "  <script>\n",
              "    async function quickchart(key) {\n",
              "      const quickchartButtonEl =\n",
              "        document.querySelector('#' + key + ' button');\n",
              "      quickchartButtonEl.disabled = true;  // To prevent multiple clicks.\n",
              "      quickchartButtonEl.classList.add('colab-df-spinner');\n",
              "      try {\n",
              "        const charts = await google.colab.kernel.invokeFunction(\n",
              "            'suggestCharts', [key], {});\n",
              "      } catch (error) {\n",
              "        console.error('Error during call to suggestCharts:', error);\n",
              "      }\n",
              "      quickchartButtonEl.classList.remove('colab-df-spinner');\n",
              "      quickchartButtonEl.classList.add('colab-df-quickchart-complete');\n",
              "    }\n",
              "    (() => {\n",
              "      let quickchartButtonEl =\n",
              "        document.querySelector('#df-efadbff0-f5a4-488b-a41e-523ccf6c42cd button');\n",
              "      quickchartButtonEl.style.display =\n",
              "        google.colab.kernel.accessAllowed ? 'block' : 'none';\n",
              "    })();\n",
              "  </script>\n",
              "</div>\n",
              "\n",
              "    </div>\n",
              "  </div>\n"
            ],
            "application/vnd.google.colaboratory.intrinsic+json": {
              "type": "dataframe",
              "variable_name": "df_airline",
              "summary": "{\n  \"name\": \"df_airline\",\n  \"rows\": 144,\n  \"fields\": [\n    {\n      \"column\": \"Month\",\n      \"properties\": {\n        \"dtype\": \"date\",\n        \"min\": \"1949-01-01 00:00:00\",\n        \"max\": \"1960-12-01 00:00:00\",\n        \"num_unique_values\": 144,\n        \"samples\": [\n          \"1958-10-01 00:00:00\",\n          \"1950-08-01 00:00:00\",\n          \"1955-11-01 00:00:00\"\n        ],\n        \"semantic_type\": \"\",\n        \"description\": \"\"\n      }\n    },\n    {\n      \"column\": \"Thousands of Passengers\",\n      \"properties\": {\n        \"dtype\": \"number\",\n        \"std\": 119.96631694294321,\n        \"min\": 104.0,\n        \"max\": 622.0,\n        \"num_unique_values\": 118,\n        \"samples\": [\n          293.0,\n          340.0,\n          121.0\n        ],\n        \"semantic_type\": \"\",\n        \"description\": \"\"\n      }\n    }\n  ]\n}"
            }
          },
          "metadata": {},
          "execution_count": 27
        }
      ]
    },
    {
      "cell_type": "markdown",
      "source": [
        "1. set_index('Month'):\n",
        "\n",
        "- This specifies that the column 'Month' should become the new index of the DataFrame.\n",
        "- An index is used to label the rows of the DataFrame, making data easier to query and analyze.\n",
        "2. WHy this Change\n",
        "- When working with time series data, setting a time-related column (e.g., 'Month') as the index makes it easier to perform operations like resampling, slicing, and aggregating data over time.\n",
        "- Queries like df_airline.loc['2020-01-01'] become more intuitive and faster because 'Month' is the index.\n",
        "\n",
        "\n",
        "![image.png](data:image/png;base64,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)"
      ],
      "metadata": {
        "id": "exnjedCXO68m"
      }
    },
    {
      "cell_type": "code",
      "source": [
        "df_airline.set_index('Month',inplace=True)"
      ],
      "metadata": {
        "id": "foVkqpNzOeUb"
      },
      "execution_count": null,
      "outputs": []
    },
    {
      "cell_type": "code",
      "source": [
        "df_airline.head()"
      ],
      "metadata": {
        "colab": {
          "base_uri": "https://localhost:8080/",
          "height": 237
        },
        "id": "fB5P1NTaP0YZ",
        "outputId": "ea2ae276-9486-42b9-aa24-2166376e21f0"
      },
      "execution_count": null,
      "outputs": [
        {
          "output_type": "execute_result",
          "data": {
            "text/plain": [
              "            Thousands of Passengers\n",
              "Month                              \n",
              "1949-01-01                    112.0\n",
              "1949-02-01                    118.0\n",
              "1949-03-01                    132.0\n",
              "1949-04-01                    129.0\n",
              "1949-05-01                    121.0"
            ],
            "text/html": [
              "\n",
              "  <div id=\"df-1a46aa72-bcfe-4b76-a84a-c7790f6beff9\" class=\"colab-df-container\">\n",
              "    <div>\n",
              "<style scoped>\n",
              "    .dataframe tbody tr th:only-of-type {\n",
              "        vertical-align: middle;\n",
              "    }\n",
              "\n",
              "    .dataframe tbody tr th {\n",
              "        vertical-align: top;\n",
              "    }\n",
              "\n",
              "    .dataframe thead th {\n",
              "        text-align: right;\n",
              "    }\n",
              "</style>\n",
              "<table border=\"1\" class=\"dataframe\">\n",
              "  <thead>\n",
              "    <tr style=\"text-align: right;\">\n",
              "      <th></th>\n",
              "      <th>Thousands of Passengers</th>\n",
              "    </tr>\n",
              "    <tr>\n",
              "      <th>Month</th>\n",
              "      <th></th>\n",
              "    </tr>\n",
              "  </thead>\n",
              "  <tbody>\n",
              "    <tr>\n",
              "      <th>1949-01-01</th>\n",
              "      <td>112.0</td>\n",
              "    </tr>\n",
              "    <tr>\n",
              "      <th>1949-02-01</th>\n",
              "      <td>118.0</td>\n",
              "    </tr>\n",
              "    <tr>\n",
              "      <th>1949-03-01</th>\n",
              "      <td>132.0</td>\n",
              "    </tr>\n",
              "    <tr>\n",
              "      <th>1949-04-01</th>\n",
              "      <td>129.0</td>\n",
              "    </tr>\n",
              "    <tr>\n",
              "      <th>1949-05-01</th>\n",
              "      <td>121.0</td>\n",
              "    </tr>\n",
              "  </tbody>\n",
              "</table>\n",
              "</div>\n",
              "    <div class=\"colab-df-buttons\">\n",
              "\n",
              "  <div class=\"colab-df-container\">\n",
              "    <button class=\"colab-df-convert\" onclick=\"convertToInteractive('df-1a46aa72-bcfe-4b76-a84a-c7790f6beff9')\"\n",
              "            title=\"Convert this dataframe to an interactive table.\"\n",
              "            style=\"display:none;\">\n",
              "\n",
              "  <svg xmlns=\"http://www.w3.org/2000/svg\" height=\"24px\" viewBox=\"0 -960 960 960\">\n",
              "    <path d=\"M120-120v-720h720v720H120Zm60-500h600v-160H180v160Zm220 220h160v-160H400v160Zm0 220h160v-160H400v160ZM180-400h160v-160H180v160Zm440 0h160v-160H620v160ZM180-180h160v-160H180v160Zm440 0h160v-160H620v160Z\"/>\n",
              "  </svg>\n",
              "    </button>\n",
              "\n",
              "  <style>\n",
              "    .colab-df-container {\n",
              "      display:flex;\n",
              "      gap: 12px;\n",
              "    }\n",
              "\n",
              "    .colab-df-convert {\n",
              "      background-color: #E8F0FE;\n",
              "      border: none;\n",
              "      border-radius: 50%;\n",
              "      cursor: pointer;\n",
              "      display: none;\n",
              "      fill: #1967D2;\n",
              "      height: 32px;\n",
              "      padding: 0 0 0 0;\n",
              "      width: 32px;\n",
              "    }\n",
              "\n",
              "    .colab-df-convert:hover {\n",
              "      background-color: #E2EBFA;\n",
              "      box-shadow: 0px 1px 2px rgba(60, 64, 67, 0.3), 0px 1px 3px 1px rgba(60, 64, 67, 0.15);\n",
              "      fill: #174EA6;\n",
              "    }\n",
              "\n",
              "    .colab-df-buttons div {\n",
              "      margin-bottom: 4px;\n",
              "    }\n",
              "\n",
              "    [theme=dark] .colab-df-convert {\n",
              "      background-color: #3B4455;\n",
              "      fill: #D2E3FC;\n",
              "    }\n",
              "\n",
              "    [theme=dark] .colab-df-convert:hover {\n",
              "      background-color: #434B5C;\n",
              "      box-shadow: 0px 1px 3px 1px rgba(0, 0, 0, 0.15);\n",
              "      filter: drop-shadow(0px 1px 2px rgba(0, 0, 0, 0.3));\n",
              "      fill: #FFFFFF;\n",
              "    }\n",
              "  </style>\n",
              "\n",
              "    <script>\n",
              "      const buttonEl =\n",
              "        document.querySelector('#df-1a46aa72-bcfe-4b76-a84a-c7790f6beff9 button.colab-df-convert');\n",
              "      buttonEl.style.display =\n",
              "        google.colab.kernel.accessAllowed ? 'block' : 'none';\n",
              "\n",
              "      async function convertToInteractive(key) {\n",
              "        const element = document.querySelector('#df-1a46aa72-bcfe-4b76-a84a-c7790f6beff9');\n",
              "        const dataTable =\n",
              "          await google.colab.kernel.invokeFunction('convertToInteractive',\n",
              "                                                    [key], {});\n",
              "        if (!dataTable) return;\n",
              "\n",
              "        const docLinkHtml = 'Like what you see? Visit the ' +\n",
              "          '<a target=\"_blank\" href=https://colab.research.google.com/notebooks/data_table.ipynb>data table notebook</a>'\n",
              "          + ' to learn more about interactive tables.';\n",
              "        element.innerHTML = '';\n",
              "        dataTable['output_type'] = 'display_data';\n",
              "        await google.colab.output.renderOutput(dataTable, element);\n",
              "        const docLink = document.createElement('div');\n",
              "        docLink.innerHTML = docLinkHtml;\n",
              "        element.appendChild(docLink);\n",
              "      }\n",
              "    </script>\n",
              "  </div>\n",
              "\n",
              "\n",
              "<div id=\"df-ccb67b45-fef1-4400-ab25-11eec4e7c746\">\n",
              "  <button class=\"colab-df-quickchart\" onclick=\"quickchart('df-ccb67b45-fef1-4400-ab25-11eec4e7c746')\"\n",
              "            title=\"Suggest charts\"\n",
              "            style=\"display:none;\">\n",
              "\n",
              "<svg xmlns=\"http://www.w3.org/2000/svg\" height=\"24px\"viewBox=\"0 0 24 24\"\n",
              "     width=\"24px\">\n",
              "    <g>\n",
              "        <path d=\"M19 3H5c-1.1 0-2 .9-2 2v14c0 1.1.9 2 2 2h14c1.1 0 2-.9 2-2V5c0-1.1-.9-2-2-2zM9 17H7v-7h2v7zm4 0h-2V7h2v10zm4 0h-2v-4h2v4z\"/>\n",
              "    </g>\n",
              "</svg>\n",
              "  </button>\n",
              "\n",
              "<style>\n",
              "  .colab-df-quickchart {\n",
              "      --bg-color: #E8F0FE;\n",
              "      --fill-color: #1967D2;\n",
              "      --hover-bg-color: #E2EBFA;\n",
              "      --hover-fill-color: #174EA6;\n",
              "      --disabled-fill-color: #AAA;\n",
              "      --disabled-bg-color: #DDD;\n",
              "  }\n",
              "\n",
              "  [theme=dark] .colab-df-quickchart {\n",
              "      --bg-color: #3B4455;\n",
              "      --fill-color: #D2E3FC;\n",
              "      --hover-bg-color: #434B5C;\n",
              "      --hover-fill-color: #FFFFFF;\n",
              "      --disabled-bg-color: #3B4455;\n",
              "      --disabled-fill-color: #666;\n",
              "  }\n",
              "\n",
              "  .colab-df-quickchart {\n",
              "    background-color: var(--bg-color);\n",
              "    border: none;\n",
              "    border-radius: 50%;\n",
              "    cursor: pointer;\n",
              "    display: none;\n",
              "    fill: var(--fill-color);\n",
              "    height: 32px;\n",
              "    padding: 0;\n",
              "    width: 32px;\n",
              "  }\n",
              "\n",
              "  .colab-df-quickchart:hover {\n",
              "    background-color: var(--hover-bg-color);\n",
              "    box-shadow: 0 1px 2px rgba(60, 64, 67, 0.3), 0 1px 3px 1px rgba(60, 64, 67, 0.15);\n",
              "    fill: var(--button-hover-fill-color);\n",
              "  }\n",
              "\n",
              "  .colab-df-quickchart-complete:disabled,\n",
              "  .colab-df-quickchart-complete:disabled:hover {\n",
              "    background-color: var(--disabled-bg-color);\n",
              "    fill: var(--disabled-fill-color);\n",
              "    box-shadow: none;\n",
              "  }\n",
              "\n",
              "  .colab-df-spinner {\n",
              "    border: 2px solid var(--fill-color);\n",
              "    border-color: transparent;\n",
              "    border-bottom-color: var(--fill-color);\n",
              "    animation:\n",
              "      spin 1s steps(1) infinite;\n",
              "  }\n",
              "\n",
              "  @keyframes spin {\n",
              "    0% {\n",
              "      border-color: transparent;\n",
              "      border-bottom-color: var(--fill-color);\n",
              "      border-left-color: var(--fill-color);\n",
              "    }\n",
              "    20% {\n",
              "      border-color: transparent;\n",
              "      border-left-color: var(--fill-color);\n",
              "      border-top-color: var(--fill-color);\n",
              "    }\n",
              "    30% {\n",
              "      border-color: transparent;\n",
              "      border-left-color: var(--fill-color);\n",
              "      border-top-color: var(--fill-color);\n",
              "      border-right-color: var(--fill-color);\n",
              "    }\n",
              "    40% {\n",
              "      border-color: transparent;\n",
              "      border-right-color: var(--fill-color);\n",
              "      border-top-color: var(--fill-color);\n",
              "    }\n",
              "    60% {\n",
              "      border-color: transparent;\n",
              "      border-right-color: var(--fill-color);\n",
              "    }\n",
              "    80% {\n",
              "      border-color: transparent;\n",
              "      border-right-color: var(--fill-color);\n",
              "      border-bottom-color: var(--fill-color);\n",
              "    }\n",
              "    90% {\n",
              "      border-color: transparent;\n",
              "      border-bottom-color: var(--fill-color);\n",
              "    }\n",
              "  }\n",
              "</style>\n",
              "\n",
              "  <script>\n",
              "    async function quickchart(key) {\n",
              "      const quickchartButtonEl =\n",
              "        document.querySelector('#' + key + ' button');\n",
              "      quickchartButtonEl.disabled = true;  // To prevent multiple clicks.\n",
              "      quickchartButtonEl.classList.add('colab-df-spinner');\n",
              "      try {\n",
              "        const charts = await google.colab.kernel.invokeFunction(\n",
              "            'suggestCharts', [key], {});\n",
              "      } catch (error) {\n",
              "        console.error('Error during call to suggestCharts:', error);\n",
              "      }\n",
              "      quickchartButtonEl.classList.remove('colab-df-spinner');\n",
              "      quickchartButtonEl.classList.add('colab-df-quickchart-complete');\n",
              "    }\n",
              "    (() => {\n",
              "      let quickchartButtonEl =\n",
              "        document.querySelector('#df-ccb67b45-fef1-4400-ab25-11eec4e7c746 button');\n",
              "      quickchartButtonEl.style.display =\n",
              "        google.colab.kernel.accessAllowed ? 'block' : 'none';\n",
              "    })();\n",
              "  </script>\n",
              "</div>\n",
              "\n",
              "    </div>\n",
              "  </div>\n"
            ],
            "application/vnd.google.colaboratory.intrinsic+json": {
              "type": "dataframe",
              "variable_name": "df_airline",
              "summary": "{\n  \"name\": \"df_airline\",\n  \"rows\": 144,\n  \"fields\": [\n    {\n      \"column\": \"Month\",\n      \"properties\": {\n        \"dtype\": \"date\",\n        \"min\": \"1949-01-01 00:00:00\",\n        \"max\": \"1960-12-01 00:00:00\",\n        \"num_unique_values\": 144,\n        \"samples\": [\n          \"1958-10-01 00:00:00\",\n          \"1950-08-01 00:00:00\",\n          \"1955-11-01 00:00:00\"\n        ],\n        \"semantic_type\": \"\",\n        \"description\": \"\"\n      }\n    },\n    {\n      \"column\": \"Thousands of Passengers\",\n      \"properties\": {\n        \"dtype\": \"number\",\n        \"std\": 119.96631694294321,\n        \"min\": 104.0,\n        \"max\": 622.0,\n        \"num_unique_values\": 118,\n        \"samples\": [\n          293.0,\n          340.0,\n          121.0\n        ],\n        \"semantic_type\": \"\",\n        \"description\": \"\"\n      }\n    }\n  ]\n}"
            }
          },
          "metadata": {},
          "execution_count": 29
        }
      ]
    },
    {
      "cell_type": "code",
      "source": [
        "df_airline.plot()"
      ],
      "metadata": {
        "colab": {
          "base_uri": "https://localhost:8080/",
          "height": 467
        },
        "id": "BoqxIz7yP2zw",
        "outputId": "aa0f500e-b2ff-4d8f-adf5-25da02bccc85"
      },
      "execution_count": null,
      "outputs": [
        {
          "output_type": "execute_result",
          "data": {
            "text/plain": [
              "<Axes: xlabel='Month'>"
            ]
          },
          "metadata": {},
          "execution_count": 30
        },
        {
          "output_type": "display_data",
          "data": {
            "text/plain": [
              "<Figure size 640x480 with 1 Axes>"
            ],
            "image/png": "[encoded data removed]"
          },
          "metadata": {}
        }
      ]
    }
  ],
  "metadata": {
    "kernelspec": {
      "display_name": "Python 3",
      "name": "python3"
    },
    "language_info": {
      "codemirror_mode": {
        "name": "ipython",
        "version": 3
      },
      "file_extension": ".py",
      "mimetype": "text/x-python",
      "name": "python",
      "nbconvert_exporter": "python",
      "pygments_lexer": "ipython3",
      "version": "3.9.7"
    },
    "colab": {
      "provenance": [],
      "gpuType": "T4",
      "toc_visible": true,
      "include_colab_link": true
    },
    "accelerator": "GPU"
  },
  "nbformat": 4,
  "nbformat_minor": 0
}