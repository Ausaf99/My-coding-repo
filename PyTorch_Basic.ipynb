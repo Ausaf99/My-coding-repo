{
  "cells": [
    {
      "cell_type": "markdown",
      "source": [
        "# PyTorch Crash Course\n",
        "\n",
        "#### Overview:\n",
        "\n",
        "1. Tensor Basics\n",
        "  - Create, Operations, NumPy, GPU Support\n",
        "2. Autograd\n",
        "  - Linear regression example\n",
        "3. Training Loop with: Model, Loss & Optimizer\n",
        "  - A typical PyTorch training pipeline\n",
        "4. Neural Network\n",
        "  - Also: GPU, Datasets, DataLoader, Transforms & Evaluation\n",
        "5. Convolutional Neural Network\n",
        "  - Also: Save/Load model"
      ],
      "metadata": {
        "id": "4ckXXzPzyhk3"
      }
    },
    {
      "cell_type": "markdown",
      "source": [
        "Created by [AssemblyAI](https://www.assemblyai.com)\n",
        "\n",
        "Watch the video:\n",
        "\n",
        " [![Alt text](https://img.youtube.com/vi/OIenNRt2bjg/hqdefault.jpg)](https://youtu.be/mYUyaKmvu6Y)"
      ],
      "metadata": {
        "id": "szuBO8JQyqDu"
      }
    },
    {
      "cell_type": "markdown",
      "source": [
        "## 1. Tensors\n",
        "\n",
        "Everything in PyTorch is based on Tensor operations. A Tensor is a multi-dimensional matrix containing elements of a single data type:\n"
      ],
      "metadata": {
        "id": "yLhTvYvxyudm"
      }
    },
    {
      "cell_type": "code",
      "source": [
        "import torch\n",
        "\n",
        "# torch.empty(size): uninitiallized\n",
        "x = torch.empty(1) # scalar\n",
        "print(\"empty(1):\", x, \"\\n\")\n",
        "x = torch.empty(3) # vector\n",
        "print(\"empty(3):\",x,\"\\n\")\n",
        "x = torch.empty(2, 3) # matrix\n",
        "print(\"empty(2,3):\",x, \"\\n\")\n",
        "x = torch.empty(2, 2, 3) # tensor, 3 dimensions\n",
        "#x = torch.empty(2,2,2,3) # tensor, 4 dimensions\n",
        "print(\"empty(2, 2, 3):\",x, \"\\n\")\n",
        "\n",
        "# torch.rand(size): random numbers [0, 1]\n",
        "x = torch.rand(5, 3)\n",
        "print(\"rand(5,3):\", x,\"\\n\")\n",
        "\n",
        "# torch.zeros(size), fill with 0\n",
        "# torch.ones(size), fill with 1\n",
        "x = torch.zeros(5, 3)\n",
        "print(\"zeros(5,3):\", x)"
      ],
      "metadata": {
        "colab": {
          "base_uri": "https://localhost:8080/"
        },
        "id": "v3Lc0a0MyvtH",
        "outputId": "834062f8-26fe-47e6-a48a-854ec3fee196"
      },
      "execution_count": null,
      "outputs": [
        {
          "output_type": "stream",
          "name": "stdout",
          "text": [
            "empty(1): tensor([3.3631e-44]) \n",
            "\n",
            "empty(3): tensor([4.5300e-26, 3.0979e-41, 3.7614e-14]) \n",
            "\n",
            "empty(2,3): tensor([[3.8702e+29, 3.0983e-41, 3.8709e+29],\n",
            "        [3.0983e-41, 0.0000e+00, 0.0000e+00]]) \n",
            "\n",
            "empty(2, 2, 3): tensor([[[1.8626e+27, 3.0983e-41, 3.8697e+29],\n",
            "         [3.0983e-41, 4.0357e-43, 0.0000e+00]],\n",
            "\n",
            "        [[1.5835e-43, 0.0000e+00, 3.8709e+29],\n",
            "         [3.0983e-41, 3.7804e+35, 4.5625e-41]]]) \n",
            "\n",
            "rand(5,3): tensor([[0.9555, 0.8833, 0.5758],\n",
            "        [0.7426, 0.9859, 0.1000],\n",
            "        [0.1440, 0.4261, 0.2612],\n",
            "        [0.1387, 0.9501, 0.7602],\n",
            "        [0.2124, 0.9570, 0.2540]]) \n",
            "\n",
            "zeros(5,3): tensor([[0., 0., 0.],\n",
            "        [0., 0., 0.],\n",
            "        [0., 0., 0.],\n",
            "        [0., 0., 0.],\n",
            "        [0., 0., 0.]])\n"
          ]
        }
      ]
    },
    {
      "cell_type": "code",
      "source": [
        "# check size\n",
        "print(\"size\", x.size())  # x.size(0)\n",
        "print(\"shape\", x.shape)  # x.shape[0]"
      ],
      "metadata": {
        "colab": {
          "base_uri": "https://localhost:8080/"
        },
        "id": "0Ql_pNU512x6",
        "outputId": "21c5e067-b6ba-4ffb-cd71-366726333f1e"
      },
      "execution_count": null,
      "outputs": [
        {
          "output_type": "stream",
          "name": "stdout",
          "text": [
            "size torch.Size([5, 3])\n",
            "shape torch.Size([5, 3])\n"
          ]
        }
      ]
    },
    {
      "cell_type": "code",
      "source": [
        "# check data type\n",
        "print(x.dtype)\n",
        "\n",
        "# specify types, float32 default\n",
        "x = torch.zeros(5, 3, dtype=torch.float16)\n",
        "print(x)\n",
        "\n",
        "# check type\n",
        "print(x.dtype)"
      ],
      "metadata": {
        "colab": {
          "base_uri": "https://localhost:8080/"
        },
        "id": "yJsvLugI1_iM",
        "outputId": "ffd1ef16-61f2-410d-cdba-dc7e211d5f6c"
      },
      "execution_count": null,
      "outputs": [
        {
          "output_type": "stream",
          "name": "stdout",
          "text": [
            "torch.float32\n",
            "tensor([[0., 0., 0.],\n",
            "        [0., 0., 0.],\n",
            "        [0., 0., 0.],\n",
            "        [0., 0., 0.],\n",
            "        [0., 0., 0.]], dtype=torch.float16)\n",
            "torch.float16\n"
          ]
        }
      ]
    },
    {
      "cell_type": "code",
      "source": [
        "# construct from data\n",
        "x = torch.tensor([5.5, 3])\n",
        "print(x, x.dtype)"
      ],
      "metadata": {
        "colab": {
          "base_uri": "https://localhost:8080/"
        },
        "id": "gWTft_RUMynf",
        "outputId": "1702f5e3-e632-4165-8202-74758714b526"
      },
      "execution_count": null,
      "outputs": [
        {
          "output_type": "stream",
          "name": "stdout",
          "text": [
            "tensor([5.5000, 3.0000]) torch.float32\n"
          ]
        }
      ]
    },
    {
      "cell_type": "code",
      "source": [
        "# requires_grad argument\n",
        "# This will tell pytorch that it will need to calculate the gradients for this tensor\n",
        "# later in your optimization steps\n",
        "# i.e. this is a variable in your model that you want to optimize\n",
        "x = torch.tensor([5.5, 3], requires_grad=True)\n",
        "print(x)"
      ],
      "metadata": {
        "colab": {
          "base_uri": "https://localhost:8080/"
        },
        "id": "BD-updqXNFQr",
        "outputId": "40c14607-4fe7-4d10-e921-9d3f16759ac5"
      },
      "execution_count": null,
      "outputs": [
        {
          "output_type": "stream",
          "name": "stdout",
          "text": [
            "tensor([5.5000, 3.0000], requires_grad=True)\n"
          ]
        }
      ]
    },
    {
      "cell_type": "markdown",
      "source": [
        "#### Operations with Tensors"
      ],
      "metadata": {
        "id": "WyvDncHdOEKz"
      }
    },
    {
      "cell_type": "code",
      "source": [
        "# Operations\n",
        "x = torch.ones(2, 2)\n",
        "y = torch.rand(2, 2)\n",
        "\n",
        "# elementwise addition\n",
        "z = x + y\n",
        "# torch.add(x,y)\n",
        "\n",
        "# in place addition, everythin with a trailing underscore is an inplace operation\n",
        "# i.e. it will modify the variable\n",
        "# y.add_(x)\n",
        "\n",
        "print(x)\n",
        "print(y)\n",
        "print(z)"
      ],
      "metadata": {
        "colab": {
          "base_uri": "https://localhost:8080/"
        },
        "id": "liMHllhTOGo_",
        "outputId": "f0704d6b-1156-4bc0-9843-329f642277b6"
      },
      "execution_count": null,
      "outputs": [
        {
          "output_type": "stream",
          "name": "stdout",
          "text": [
            "tensor([[1., 1.],\n",
            "        [1., 1.]])\n",
            "tensor([[0.7644, 0.0808],\n",
            "        [0.7845, 0.3720]])\n",
            "tensor([[1.7644, 1.0808],\n",
            "        [1.7845, 1.3720]])\n"
          ]
        }
      ]
    },
    {
      "cell_type": "code",
      "source": [
        "# subtraction\n",
        "z = x - y\n",
        "z = torch.sub(x, y)\n",
        "\n",
        "# multiplication\n",
        "z = x * y\n",
        "z = torch.mul(x,y)\n",
        "\n",
        "# division\n",
        "z = x / y\n",
        "z = torch.div(x,y)"
      ],
      "metadata": {
        "id": "gbosHVoDOQB_"
      },
      "execution_count": null,
      "outputs": []
    },
    {
      "cell_type": "code",
      "source": [
        "# Slicing\n",
        "x = torch.rand(5,3)\n",
        "print(x)\n",
        "print(\"x[:, 0]\", x[:, 0]) # all rows, column 0\n",
        "print(\"x[1, :]\", x[1, :]) # row 1, all columns\n",
        "print(\"x[1, 1]\", x[1,1]) # element at 1, 1\n",
        "\n",
        "# Get the actual value if only 1 element in your tensor\n",
        "print(\"x[1,1].item()\", x[1,1].item())"
      ],
      "metadata": {
        "colab": {
          "base_uri": "https://localhost:8080/"
        },
        "id": "ARwx_-hnOYy4",
        "outputId": "48c3e0b1-8a73-49a8-bc90-229e0cea1b53"
      },
      "execution_count": null,
      "outputs": [
        {
          "output_type": "stream",
          "name": "stdout",
          "text": [
            "tensor([[0.7047, 0.2369, 0.7886],\n",
            "        [0.9491, 0.2097, 0.8007],\n",
            "        [0.2831, 0.6038, 0.0603],\n",
            "        [0.9562, 0.0871, 0.5953],\n",
            "        [0.8356, 0.6364, 0.6272]])\n",
            "x[:, 0] tensor([0.7047, 0.9491, 0.2831, 0.9562, 0.8356])\n",
            "x[1, :] tensor([0.9491, 0.2097, 0.8007])\n",
            "x[1, 1] tensor(0.2097)\n",
            "x[1,1].item() 0.20971983671188354\n"
          ]
        }
      ]
    },
    {
      "cell_type": "code",
      "source": [
        "# Reshape with torch.view()\n",
        "x = torch.randn(4, 4)\n",
        "\n",
        "'''Reshapes x into a 1D tensor y with 16 elements. The view(16) command flattens\n",
        "the 4x4 tensor into a single dimension with 16 elements.\n",
        "'''\n",
        "y = x.view(16)\n",
        "\n",
        "'''Reshapes x into a 2D tensor z with 2 rows and 8 columns. The -1 tells PyTorch\n",
        "to automatically infer the size of this dimension based on the other dimensions.\n",
        "Here, since x has 16 elements in total, and one dimension is specified as 8, the\n",
        "other dimension must be 2 (because 2 * 8 = 16).\n",
        "'''\n",
        "z = x.view(-1, 8)  # the size -1 is inferred from other dimensions\n",
        "# if -1 it pytorch will automatically determine the necessary size\n",
        "print(x.size(), y.size(), z.size())"
      ],
      "metadata": {
        "colab": {
          "base_uri": "https://localhost:8080/"
        },
        "id": "1E3nt4H5Omtd",
        "outputId": "50e802f3-f93c-4520-93b1-484fcf622eb4"
      },
      "execution_count": null,
      "outputs": [
        {
          "output_type": "stream",
          "name": "stdout",
          "text": [
            "torch.Size([4, 4]) torch.Size([16]) torch.Size([2, 8])\n"
          ]
        }
      ]
    },
    {
      "cell_type": "markdown",
      "source": [
        "#### NumPy\n",
        "\n",
        "Converting a Torch Tensor to a NumPy array and vice versa is very easy"
      ],
      "metadata": {
        "id": "DgAKGSGnP392"
      }
    },
    {
      "cell_type": "code",
      "source": [
        "a = torch.ones(5)\n",
        "print(a)\n",
        "\n",
        "# torch to numpy with .numpy()\n",
        "b = a.numpy()\n",
        "print(b)\n",
        "print(type(b))"
      ],
      "metadata": {
        "colab": {
          "base_uri": "https://localhost:8080/"
        },
        "id": "ohmlvdZvP6PT",
        "outputId": "3c7867cc-4524-454c-8c5b-109ba6748699"
      },
      "execution_count": null,
      "outputs": [
        {
          "output_type": "stream",
          "name": "stdout",
          "text": [
            "tensor([1., 1., 1., 1., 1.])\n",
            "[1. 1. 1. 1. 1.]\n",
            "<class 'numpy.ndarray'>\n"
          ]
        }
      ]
    },
    {
      "cell_type": "code",
      "source": [
        "'''Careful: If the Tensor is on the CPU (not the GPU),\n",
        "both objects will share the same memory location, so changing onewill also\n",
        "change the other\n",
        "'''\n",
        "a.add_(1)\n",
        "print(a)\n",
        "print(b)"
      ],
      "metadata": {
        "colab": {
          "base_uri": "https://localhost:8080/"
        },
        "id": "RFpUPWN_SRk8",
        "outputId": "4d4427a0-3d05-4d1f-a7a9-4380662968c1"
      },
      "execution_count": null,
      "outputs": [
        {
          "output_type": "stream",
          "name": "stdout",
          "text": [
            "tensor([2., 2., 2., 2., 2.])\n",
            "[2. 2. 2. 2. 2.]\n"
          ]
        }
      ]
    },
    {
      "cell_type": "code",
      "source": [
        "# numpy to torch with .from_numpy(x), or torch.tensor() to copy it\n",
        "import numpy as np\n",
        "a = np.ones(5)\n",
        "b = torch.from_numpy(a)\n",
        "c = torch.tensor(a)\n",
        "print(a)\n",
        "print(b)\n",
        "print(c)\n",
        "\n",
        "# again be careful when modifying\n",
        "a += 1\n",
        "print(a)\n",
        "print(b)\n",
        "print(c)\n",
        "'''torch.from_numpy() creates a tensor that shares memory with the original NumPy array. Changes to one will reflect in the other.\n",
        "torch.tensor() creates a new tensor that is independent of the original NumPy array, meaning changes to one do not affect the other.\n",
        "'''"
      ],
      "metadata": {
        "colab": {
          "base_uri": "https://localhost:8080/",
          "height": 163
        },
        "id": "ieQQHHlPTPgV",
        "outputId": "c6c022b3-76a2-4e33-dee1-203568303935"
      },
      "execution_count": null,
      "outputs": [
        {
          "output_type": "stream",
          "name": "stdout",
          "text": [
            "[1. 1. 1. 1. 1.]\n",
            "tensor([1., 1., 1., 1., 1.], dtype=torch.float64)\n",
            "tensor([1., 1., 1., 1., 1.], dtype=torch.float64)\n",
            "[2. 2. 2. 2. 2.]\n",
            "tensor([2., 2., 2., 2., 2.], dtype=torch.float64)\n",
            "tensor([1., 1., 1., 1., 1.], dtype=torch.float64)\n"
          ]
        },
        {
          "output_type": "execute_result",
          "data": {
            "text/plain": [
              "'torch.from_numpy() creates a tensor that shares memory with the original NumPy array. Changes to one will reflect in the other.\\ntorch.tensor() creates a new tensor that is independent of the original NumPy array, meaning changes to one do not affect the other.\\n'"
            ],
            "application/vnd.google.colaboratory.intrinsic+json": {
              "type": "string"
            }
          },
          "metadata": {},
          "execution_count": 12
        }
      ]
    },
    {
      "cell_type": "markdown",
      "source": [
        "#### GPU Support\n",
        "\n",
        "By default all tensors are created on the CPU. But we can also move them to the GPU (if it's available ), or create them directly on the GPU. This is important when working with neural networks, especially for training models on GPUs, which are much faster for certain types of computations."
      ],
      "metadata": {
        "id": "gBTKIlfBUAWW"
      }
    },
    {
      "cell_type": "code",
      "source": [
        "'''\n",
        "torch.cuda.is_available(): This checks if a CUDA-capable GPU is available.\n",
        "If a GPU is available, device will be set to 'cuda'. Otherwise, it will default\n",
        "to 'cpu'.\n",
        "'''\n",
        "device = torch.device('cuda' if torch.cuda.is_available() else 'cpu')\n",
        "\n",
        "x = torch.rand(2,2).to(device)  # move tensors to GPU device\n",
        "#x = x.to(\"cpu\")\n",
        "#x = x.to(\"cuda\")\n",
        "\n",
        "x = torch.rand(2,2, device=device)  # or directy create them on GPU"
      ],
      "metadata": {
        "id": "wOKrxgc-UCb-"
      },
      "execution_count": null,
      "outputs": []
    },
    {
      "cell_type": "markdown",
      "source": [
        "## 2. Autograd\n",
        "\n",
        "The autograd package provides automatic differentiation for all operations on Tensors. Generally speaking, *torch.autograd* is an engine for computing the vector-Jacobian product. It computes partial derivates while applying the chain rule.\n",
        "\n",
        "Set `requires_grad = True`:"
      ],
      "metadata": {
        "id": "nhyhMTPMZmwp"
      }
    },
    {
      "cell_type": "code",
      "source": [
        "import torch\n",
        "\n",
        "# requires_grad = True -> tracks all operations on the tensor.\n",
        "x = torch.randn(3, requires_grad=True)\n",
        "y = x + 2\n",
        "\n",
        "# y was created as a result of an operation, so it has a grad_fn attribute.\n",
        "# grad_fn: references a Function that has created the Tensor\n",
        "print(x) # created by the user -> grad_fn is None\n",
        "print(y)\n",
        "print(y.grad_fn)"
      ],
      "metadata": {
        "id": "JmutzOeAZpCM",
        "outputId": "637c0d85-8f5f-4b40-9120-c5fd31f1f40b",
        "colab": {
          "base_uri": "https://localhost:8080/"
        }
      },
      "execution_count": null,
      "outputs": [
        {
          "output_type": "stream",
          "name": "stdout",
          "text": [
            "tensor([ 1.3250, -1.6768, -1.2402], requires_grad=True)\n",
            "tensor([3.3250, 0.3232, 0.7598], grad_fn=<AddBackward0>)\n",
            "<AddBackward0 object at 0x7c7d2a04fd60>\n"
          ]
        }
      ]
    },
    {
      "cell_type": "code",
      "source": [
        "# Do more operations on y\n",
        "z = y * y * 3\n",
        "print(z)\n",
        "z = z.mean()\n",
        "print(z)"
      ],
      "metadata": {
        "colab": {
          "base_uri": "https://localhost:8080/"
        },
        "id": "qMMLKzZgki8o",
        "outputId": "189d5f3f-fec2-40b5-bb2c-919d76701d7e"
      },
      "execution_count": null,
      "outputs": [
        {
          "output_type": "stream",
          "name": "stdout",
          "text": [
            "tensor([33.1662,  0.3133,  1.7318], grad_fn=<MulBackward0>)\n",
            "tensor(11.7371, grad_fn=<MeanBackward0>)\n"
          ]
        }
      ]
    },
    {
      "cell_type": "code",
      "source": [
        "# Let's compute the gradients with backpropagation\n",
        "# When we finish our computation we can call .backward() and have all the gradients computed automatically.\n",
        "# The gradient for this tensor will be accumulated into .grad attribute.\n",
        "# It is the partial derivate of the function w.r.t. the tensor\n",
        "\n",
        "print(x.grad)\n",
        "z.backward()\n",
        "print(x.grad) # dz/dx\n",
        "\n",
        "# !!! Careful!!! backward() accumulates the gradient for this tensor into .grad attribute.\n",
        "# !!! We need to be careful during optimization !!! optimizer.zero_grad()"
      ],
      "metadata": {
        "colab": {
          "base_uri": "https://localhost:8080/"
        },
        "id": "g8f_VRvTknHZ",
        "outputId": "5123f78a-2353-4c63-f099-750fe642c6db"
      },
      "execution_count": null,
      "outputs": [
        {
          "output_type": "stream",
          "name": "stdout",
          "text": [
            "None\n",
            "tensor([6.6499, 0.6463, 1.5195])\n"
          ]
        }
      ]
    },
    {
      "cell_type": "code",
      "source": [
        "import torch\n",
        "x = torch.randn(3, requires_grad=True)\n",
        "y = x + 2\n",
        "\n",
        "z = y * y * 3\n",
        "z = z.mean()\n",
        "\n",
        "print(x.grad)\n",
        "z.backward()\n",
        "print(x.grad)"
      ],
      "metadata": {
        "colab": {
          "base_uri": "https://localhost:8080/"
        },
        "id": "Rrl0sJa5ueC0",
        "outputId": "0b3b9045-4907-4b09-82ee-1ac8e99c0305"
      },
      "execution_count": null,
      "outputs": [
        {
          "output_type": "stream",
          "name": "stdout",
          "text": [
            "None\n",
            "tensor([2.6932, 3.3025, 0.1415])\n"
          ]
        }
      ]
    },
    {
      "cell_type": "markdown",
      "source": [
        "##Autograd more tutorial"
      ],
      "metadata": {
        "id": "o8VPHqV6KXq9"
      }
    },
    {
      "cell_type": "code",
      "source": [
        "import torch\n",
        "weights = torch.ones(4, requires_grad = True)\n",
        "print (weights)"
      ],
      "metadata": {
        "colab": {
          "base_uri": "https://localhost:8080/"
        },
        "id": "n33UmbJpKiXH",
        "outputId": "f049e262-b591-4af5-cf8b-e8f298f0f127"
      },
      "execution_count": null,
      "outputs": [
        {
          "output_type": "stream",
          "name": "stdout",
          "text": [
            "tensor([1., 1., 1., 1.], requires_grad=True)\n"
          ]
        }
      ]
    },
    {
      "cell_type": "code",
      "source": [
        "import torch\n",
        "weights = torch.ones(4, requires_grad = True)\n",
        "print (weights)\n",
        "for a in range(1):\n",
        "  model_output = (weights*3).sum()\n",
        "  print (model_output)\n",
        "\n",
        "  model_output.backward()\n",
        "  print(weights.grad)"
      ],
      "metadata": {
        "colab": {
          "base_uri": "https://localhost:8080/"
        },
        "id": "oIa0lNiYSdcS",
        "outputId": "59613136-d942-41f0-b5bd-c91fe0934603"
      },
      "execution_count": null,
      "outputs": [
        {
          "output_type": "stream",
          "name": "stdout",
          "text": [
            "tensor([1., 1., 1., 1.], requires_grad=True)\n",
            "tensor(12., grad_fn=<SumBackward0>)\n",
            "tensor([3., 3., 3., 3.])\n"
          ]
        }
      ]
    },
    {
      "cell_type": "markdown",
      "source": [
        "### Stop a tensor from tracking history:\n",
        "For example during the training loop when we want to update our weights, or after training during evaluation. These operations should not be part of the gradient computation. To prevent this, we can use:\n",
        "\n",
        "- `x.requires_grad_(False)`\n",
        "- `x.detach()`\n",
        "- wrap in `with torch.no_grad():`"
      ],
      "metadata": {
        "id": "2l62BvgyLypU"
      }
    },
    {
      "cell_type": "code",
      "source": [
        "# .requires_grad_(...) changes an existing flag in-place.\n",
        "a = torch.randn(2, 2)\n",
        "b = (a * a).sum()\n",
        "print(a.requires_grad)\n",
        "print(b.grad_fn)\n",
        "\n",
        "a.requires_grad_(True)\n",
        "b = (a * a).sum()\n",
        "print(a.requires_grad)\n",
        "print(b.grad_fn)"
      ],
      "metadata": {
        "colab": {
          "base_uri": "https://localhost:8080/"
        },
        "id": "sFReYKgeL3Ga",
        "outputId": "621df098-d992-4172-96e5-8a421f7fc48b"
      },
      "execution_count": null,
      "outputs": [
        {
          "output_type": "stream",
          "name": "stdout",
          "text": [
            "False\n",
            "None\n",
            "True\n",
            "<SumBackward0 object at 0x7b4bf582ae90>\n"
          ]
        }
      ]
    },
    {
      "cell_type": "code",
      "source": [
        "# .detach(): get a new Tensor with the same content but no gradient computation:\n",
        "a = torch.randn(2, 2, requires_grad=True)\n",
        "b = a.detach()\n",
        "print(a.requires_grad)\n",
        "print(b.requires_grad)"
      ],
      "metadata": {
        "colab": {
          "base_uri": "https://localhost:8080/"
        },
        "id": "Wi1TihEaM5v7",
        "outputId": "8b953a74-f88e-48b6-cef2-22414b424467"
      },
      "execution_count": null,
      "outputs": [
        {
          "output_type": "stream",
          "name": "stdout",
          "text": [
            "True\n",
            "False\n"
          ]
        }
      ]
    },
    {
      "cell_type": "code",
      "source": [
        "# wrap in 'with torch.no_grad():'\n",
        "a = torch.randn(2, 2, requires_grad=True)\n",
        "print(a.requires_grad)\n",
        "with torch.no_grad():\n",
        "    b = a ** 2\n",
        "    print(b.requires_grad)"
      ],
      "metadata": {
        "colab": {
          "base_uri": "https://localhost:8080/"
        },
        "id": "ZNNt69nmM_Ix",
        "outputId": "a3c73049-ffe5-46bb-dc28-a061fb9979db"
      },
      "execution_count": null,
      "outputs": [
        {
          "output_type": "stream",
          "name": "stdout",
          "text": [
            "True\n",
            "False\n"
          ]
        }
      ]
    },
    {
      "cell_type": "markdown",
      "source": [
        "## Gradient Descent Autograd\n",
        "Linear Regression example:\n",
        "\n",
        "$f(x) = w * x + b$\n",
        "\n",
        "here : `f(x) = 2 * x`"
      ],
      "metadata": {
        "id": "NgX3SwkhNClS"
      }
    },
    {
      "cell_type": "code",
      "source": [
        "import torch\n",
        "\n",
        "# Linear regression\n",
        "# f = w * x  + b\n",
        "# here : f = 2 * x\n",
        "\n",
        "X = torch.tensor([1, 2, 3, 4, 5, 6, 7, 8], dtype=torch.float32)\n",
        "Y = torch.tensor([2, 4, 6, 8, 10, 12, 14, 16], dtype=torch.float32)\n",
        "\n",
        "w = torch.tensor(0.0, dtype=torch.float32, requires_grad=True)\n",
        "\n",
        "# model output\n",
        "def forward(x):\n",
        "    return w * x\n",
        "\n",
        "# loss = MSE\n",
        "def loss(y, y_pred):\n",
        "    return ((y_pred - y)**2).mean()\n",
        "\n",
        "X_test = 5.0\n",
        "\n",
        "print(f'Prediction before training: f({X_test}) = {forward(X_test).item():.3f}')"
      ],
      "metadata": {
        "colab": {
          "base_uri": "https://localhost:8080/"
        },
        "id": "Ifo9MM7eNDNA",
        "outputId": "b423ea7a-3b18-4550-c71e-317a8fa698a1"
      },
      "execution_count": null,
      "outputs": [
        {
          "output_type": "stream",
          "name": "stdout",
          "text": [
            "Prediction before training: f(5.0) = 0.000\n"
          ]
        }
      ]
    },
    {
      "cell_type": "code",
      "source": [
        "# Training\n",
        "learning_rate = 0.01\n",
        "n_epochs = 100\n",
        "\n",
        "for epoch in range(n_epochs):\n",
        "    # predict = forward pass\n",
        "    y_pred = forward(X)\n",
        "\n",
        "    # loss\n",
        "    l = loss(Y, y_pred)\n",
        "\n",
        "    # calculate gradients = backward pass\n",
        "    l.backward()\n",
        "\n",
        "    # update weights\n",
        "    #w.data = w.data - learning_rate * w.grad\n",
        "    with torch.no_grad(): # Bcz we don't want to track this calculation\n",
        "      w -= learning_rate * w.grad\n",
        "\n",
        "    # zero the gradients after updating\n",
        "    w.grad.zero_() # Bcz it needs to empty the gradients before next iteration. else it will accumulate\n",
        "\n",
        "    if (epoch+1) % 10 == 0:\n",
        "        print(f'epoch {epoch+1}: w = {w.item():.3f}, loss = {l.item():.3f}')\n",
        "\n",
        "print(f'Prediction after training: f({X_test}) = {forward(X_test).item():.3f}')"
      ],
      "metadata": {
        "colab": {
          "base_uri": "https://localhost:8080/"
        },
        "id": "JmYXQ_GZSWV7",
        "outputId": "ffc8c367-00a8-46ac-b998-82e31c616185"
      },
      "execution_count": null,
      "outputs": [
        {
          "output_type": "stream",
          "name": "stdout",
          "text": [
            "epoch 10: w = 1.998, loss = 0.000\n",
            "epoch 20: w = 2.000, loss = 0.000\n",
            "epoch 30: w = 2.000, loss = 0.000\n",
            "epoch 40: w = 2.000, loss = 0.000\n",
            "epoch 50: w = 2.000, loss = 0.000\n",
            "epoch 60: w = 2.000, loss = 0.000\n",
            "epoch 70: w = 2.000, loss = 0.000\n",
            "epoch 80: w = 2.000, loss = 0.000\n",
            "epoch 90: w = 2.000, loss = 0.000\n",
            "epoch 100: w = 2.000, loss = 0.000\n",
            "Prediction after training: f(5.0) = 10.000\n"
          ]
        }
      ]
    },
    {
      "cell_type": "markdown",
      "source": [
        "## 3. Model, Loss & Optimizer\n",
        "\n",
        "A typical PyTorch pipeline looks like this:\n",
        "\n",
        "1. Design model (input, output, forward pass with different layers)\n",
        "2. Construct loss and optimizer\n",
        "3. Training loop:\n",
        "  - Forward = compute prediction and loss\n",
        "  - Backward = compute gradients\n",
        "  - Update weights"
      ],
      "metadata": {
        "id": "nJiuUD2oWP2H"
      }
    },
    {
      "cell_type": "code",
      "source": [
        "import torch\n",
        "import torch.nn as nn\n",
        "\n",
        "# Linear regression\n",
        "# f = w * x\n",
        "# here : f = 2 * x\n",
        "\n",
        "# 0) Training samples, watch the shape!\n",
        "X = torch.tensor([[1], [2], [3], [4], [5], [6], [7], [8]], dtype=torch.float32)\n",
        "Y = torch.tensor([[2], [4], [6], [8], [10], [12], [14], [16]], dtype=torch.float32)\n",
        "\n",
        "n_samples, n_features = X.shape\n",
        "print(f'n_samples = {n_samples}, n_features = {n_features}')\n",
        "\n",
        "# 0) create a test sample\n",
        "X_test = torch.tensor([5], dtype=torch.float32)"
      ],
      "metadata": {
        "colab": {
          "base_uri": "https://localhost:8080/"
        },
        "id": "VxNVFfzeWS5f",
        "outputId": "fc2ae72a-a557-4b1f-b574-3e63858ad41f"
      },
      "execution_count": null,
      "outputs": [
        {
          "output_type": "stream",
          "name": "stdout",
          "text": [
            "n_samples = 8, n_features = 1\n"
          ]
        }
      ]
    },
    {
      "cell_type": "code",
      "source": [
        "# 1) Design Model, the model has to implement the forward pass!\n",
        "\n",
        "# Here we could simply use a built-in model from PyTorch\n",
        "# model = nn.Linear(input_size, output_size)\n",
        "\n",
        "class LinearRegression(nn.Module):\n",
        "    def __init__(self, input_dim, output_dim):\n",
        "        super(LinearRegression, self).__init__()\n",
        "        # define different layers\n",
        "        self.lin = nn.Linear(input_dim, output_dim)         '''in the init function we usually defile the layers\n",
        "                                                               and in the forward pass we implement the layers'''\n",
        "    def forward(self, x):\n",
        "        return self.lin(x)\n",
        "\n",
        "\n",
        "input_size, output_size = n_features, n_features\n",
        "\n",
        "model = LinearRegression(input_size, output_size)\n",
        "\n",
        "print(f'Prediction before training: f({X_test.item()}) = {model(X_test).item():.3f}')\n",
        "\n",
        "# 2) Define loss and optimizer\n",
        "learning_rate = 0.01\n",
        "n_epochs = 100\n",
        "\n",
        "loss = nn.MSELoss()\n",
        "optimizer = torch.optim.SGD(model.parameters(), lr=learning_rate)\n",
        "\n",
        "# 3) Training loop\n",
        "for epoch in range(n_epochs):\n",
        "    # predict = forward pass with our model\n",
        "    y_predicted = model(X)\n",
        "\n",
        "    # loss\n",
        "    l = loss(Y, y_predicted)\n",
        "\n",
        "    # calculate gradients = backward pass\n",
        "    l.backward()\n",
        "\n",
        "    # update weights\n",
        "    optimizer.step()\n",
        "\n",
        "    # zero the gradients after updating\n",
        "    optimizer.zero_grad()\n",
        "\n",
        "    if (epoch+1) % 10 == 0:\n",
        "        w, b = model.parameters() # unpack parameters\n",
        "        print('epoch ', epoch+1, ': w = ', w[0][0].item(), ' loss = ', l.item())\n",
        "\n",
        "print(f'Prediction after training: f({X_test.item()}) = {model(X_test).item():.3f}')"
      ],
      "metadata": {
        "colab": {
          "base_uri": "https://localhost:8080/"
        },
        "id": "ThZYzi6u51GO",
        "outputId": "a32fe7be-dd68-4601-a786-ec11279d5f5d"
      },
      "execution_count": null,
      "outputs": [
        {
          "output_type": "stream",
          "name": "stdout",
          "text": [
            "Prediction before training: f(5.0) = 2.953\n",
            "epoch  10 : w =  1.8603134155273438  loss =  0.12667028605937958\n",
            "epoch  20 : w =  1.8665486574172974  loss =  0.1168612539768219\n",
            "epoch  30 : w =  1.8717821836471558  loss =  0.10787571966648102\n",
            "epoch  40 : w =  1.876810073852539  loss =  0.09958120435476303\n",
            "epoch  50 : w =  1.8816407918930054  loss =  0.09192441403865814\n",
            "epoch  60 : w =  1.8862820863723755  loss =  0.08485632389783859\n",
            "epoch  70 : w =  1.8907414674758911  loss =  0.0783318355679512\n",
            "epoch  80 : w =  1.8950258493423462  loss =  0.0723089724779129\n",
            "epoch  90 : w =  1.8991422653198242  loss =  0.06674908846616745\n",
            "epoch  100 : w =  1.9030972719192505  loss =  0.061616718769073486\n",
            "Prediction after training: f(5.0) = 10.060\n"
          ]
        }
      ]
    }
  ],
  "metadata": {
    "accelerator": "GPU",
    "colab": {
      "gpuType": "T4",
      "toc_visible": true,
      "provenance": []
    },
    "kernelspec": {
      "display_name": "Python 3",
      "name": "python3"
    },
    "language_info": {
      "name": "python"
    }
  },
  "nbformat": 4,
  "nbformat_minor": 0
}