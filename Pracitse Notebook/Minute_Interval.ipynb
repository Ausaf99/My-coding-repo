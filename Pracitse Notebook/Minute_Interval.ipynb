{
  "nbformat": 4,
  "nbformat_minor": 0,
  "metadata": {
    "colab": {
      "provenance": []
    },
    "kernelspec": {
      "name": "python3",
      "display_name": "Python 3"
    },
    "language_info": {
      "name": "python"
    }
  },
  "cells": [
    {
      "cell_type": "markdown",
      "source": [
        "## Run for single category_id"
      ],
      "metadata": {
        "id": "NUqHwJydCyqa"
      }
    },
    {
      "cell_type": "code",
      "source": [
        "import pandas as pd\n",
        "\n",
        "# Assuming your data is in a CSV file named 'traffic_data.csv'\n",
        "df = pd.read_csv('20-09-24.csv')\n",
        "\n",
        "# Filter the data based on time range and category ID\n",
        "start_time = '06:00:00:000'\n",
        "end_time = '06:01:00:000'\n",
        "category_id = 10\n",
        "\n",
        "filtered_df = df[(df['time'] >= start_time) & (df['time'] <= end_time) & (df['category_id'] == category_id)]\n",
        "\n",
        "# Count the number of rows in the filtered DataFrame\n",
        "count = len(filtered_df)\n",
        "\n",
        "print(\"Number of category 10 vehicles between\", start_time, \"and\", end_time, \":\", count)"
      ],
      "metadata": {
        "colab": {
          "base_uri": "https://localhost:8080/"
        },
        "id": "r-lez5MLxbZl",
        "outputId": "b46cfadc-36e9-4661-b95e-998f05ebb553"
      },
      "execution_count": null,
      "outputs": [
        {
          "output_type": "stream",
          "name": "stdout",
          "text": [
            "Number of category 10 vehicles between 06:00:00:000 and 06:01:00:000 : 3\n"
          ]
        }
      ]
    },
    {
      "cell_type": "markdown",
      "source": [
        "## chatgpt trial 2"
      ],
      "metadata": {
        "id": "Jty04-WgDELQ"
      }
    },
    {
      "cell_type": "code",
      "source": [
        "import pandas as pd\n",
        "\n",
        "# Assuming your data is in a CSV file named '20-09-24.csv'\n",
        "df = pd.read_csv('21-09_24.csv')\n",
        "\n",
        "# Convert timestamp to datetime including milliseconds\n",
        "# Update format to correctly interpret milliseconds\n",
        "df['time'] = pd.to_datetime(df['time'], format='%H:%M:%S:%f')\n",
        "\n",
        "# Create a new column for minute intervals\n",
        "df['minute'] = df['time'].dt.strftime('%H:%M')\n",
        "\n",
        "# Group by minute and category_id, then count\n",
        "result = df.groupby(['minute', 'category_id']).size().reset_index(name='count')\n",
        "#print(result)\n",
        "# Fill in missing minutes and category IDs\n",
        "# Generate all minute intervals\n",
        "start_time = pd.to_datetime('06:00:00.000', format='%H:%M:%S.%f')  # Correct format\n",
        "end_time = pd.to_datetime('11:29:59.999', format='%H:%M:%S.%f')  # Correct format\n",
        "all_minutes = pd.date_range(start=start_time, end=end_time, freq='T').strftime('%H:%M')\n",
        "\n",
        "# Generate all categories\n",
        "categories = [1, 2, 3, 4, 5, 6, 7, 8, 9, 10, 11, 12, 13, 14, 15, 16]\n",
        "\n",
        "# Create a complete DataFrame of all combinations\n",
        "complete_index = pd.MultiIndex.from_product([all_minutes, categories], names=['minute', 'category_id'])\n",
        "#print(complete_index)\n",
        "result = result.set_index(['minute', 'category_id']).reindex(complete_index, fill_value=0).reset_index()\n",
        "\n",
        "# Rename columns for clarity\n",
        "result.columns = ['minute', 'category_id', 'count']\n",
        "\n",
        "# Display the result\n",
        "#print(result)\n",
        "\n",
        "# Optional: Save the result to a CSV file\n",
        "#result.to_csv('minute_category_counts.csv', index=False)\n"
      ],
      "metadata": {
        "colab": {
          "base_uri": "https://localhost:8080/"
        },
        "id": "LSR141cTDHxa",
        "outputId": "ff7b2a88-a7cf-43dd-bc84-919e5e77e745"
      },
      "execution_count": null,
      "outputs": [
        {
          "output_type": "stream",
          "name": "stderr",
          "text": [
            "<ipython-input-1-ddd97bd7c500>:20: FutureWarning: 'T' is deprecated and will be removed in a future version, please use 'min' instead.\n",
            "  all_minutes = pd.date_range(start=start_time, end=end_time, freq='T').strftime('%H:%M')\n"
          ]
        }
      ]
    },
    {
      "cell_type": "code",
      "source": [
        "import pandas as pd\n",
        "\n",
        "# Load your CSV file\n",
        "df = result\n",
        "\n",
        "# Pivot the table to have one column per category\n",
        "pivoted_df = df.pivot(index='minute', columns='category_id', values='count')\n",
        "\n",
        "# Rename columns to match desired format (e.g., 'c1', 'c2', ..., 'c15', 'None')\n",
        "pivoted_df.columns = [f'c{int(col)}' if col != 'None' else 'None' for col in pivoted_df.columns]\n",
        "\n",
        "# Reset the index to make 'minute' a column again\n",
        "pivoted_df.reset_index(inplace=True)\n",
        "\n",
        "# Fill NaN values with 0 (optional, if there are any missing values)\n",
        "pivoted_df.fillna(0, inplace=True)\n",
        "\n",
        "# Save the result to a new CSV file\n",
        "pivoted_df.to_csv('minute_category_pivoted.csv', index=False)\n",
        "\n",
        "# Display the result\n",
        "print(pivoted_df)\n"
      ],
      "metadata": {
        "colab": {
          "base_uri": "https://localhost:8080/"
        },
        "id": "D84Bf1dkFxSN",
        "outputId": "ee46b220-94f7-4c46-d53a-4c16a681ee94"
      },
      "execution_count": null,
      "outputs": [
        {
          "output_type": "stream",
          "name": "stdout",
          "text": [
            "    minute  c1  c2  c3  c4  c5  c6  c7  c8  c9  c10  c11  c12  c13  c14  c15  \\\n",
            "0    06:00   0   0   7   1   0   4   1   0   3    5    7    1    0    0    0   \n",
            "1    06:01   0   0   0   5   1   4   9   2   3    6    4    0    0    0    1   \n",
            "2    06:02   0   1   3   3   4   5   5   0   4    2    8    0    0    0    1   \n",
            "3    06:03   0   1   0   2   0   3   4   0   3    0    7    1    0    0    0   \n",
            "4    06:04   0   0   2   2   1   4   4   0   2    1    3    1    0    0    0   \n",
            "..     ...  ..  ..  ..  ..  ..  ..  ..  ..  ..  ...  ...  ...  ...  ...  ...   \n",
            "325  11:25   0   1   7   7  10   5   7   4   4    7    9    1    0    0    0   \n",
            "326  11:26   0   0   4  12   5  14  16   5  15    8    8    2    0    0    4   \n",
            "327  11:27   0   2   3   3   7  13   7   4  20    4   14    1    0    0    1   \n",
            "328  11:28   0   1   8  12   7   5  11   4  17    2    8    0    0    0    0   \n",
            "329  11:29   0   0   6   9   5   7   6   4   7    6    8    0    0    0    2   \n",
            "\n",
            "     c16  \n",
            "0      0  \n",
            "1      0  \n",
            "2      0  \n",
            "3      0  \n",
            "4      0  \n",
            "..   ...  \n",
            "325    0  \n",
            "326    0  \n",
            "327    0  \n",
            "328    0  \n",
            "329    0  \n",
            "\n",
            "[330 rows x 17 columns]\n"
          ]
        }
      ]
    },
    {
      "cell_type": "markdown",
      "source": [
        "## modification"
      ],
      "metadata": {
        "id": "ploAkwC09Ywo"
      }
    },
    {
      "cell_type": "code",
      "source": [
        "import pandas as pd\n",
        "\n",
        "# Assuming your data is in a CSV file named '20-09-24.csv'\n",
        "df = pd.read_csv('21-09_24.csv')\n",
        "\n",
        "\n",
        "# Convert timestamp to datetime including milliseconds\n",
        "# Update format to correctly interpret milliseconds\n",
        "df['time'] = pd.to_datetime(df['time'], format='%H:%M:%S:%f')\n",
        "\n",
        "# Create a new column for minute intervals\n",
        "df['minute'] = df['time'].dt.strftime('%H:%M')\n",
        "\n",
        "# Group by minute and category_id, then count\n",
        "result = df.groupby(['minute', 'category_id']).size().reset_index(name='count')\n",
        "#print(result)\n",
        "# Fill in missing minutes and category IDs\n",
        "# Generate all minute intervals\n",
        "start_time = pd.to_datetime('06:30:00.000', format='%H:%M:%S.%f')  # Correct format\n",
        "end_time = pd.to_datetime('11:59:00.000', format='%H:%M:%S.%f')  # Correct format\n",
        "all_minutes = pd.date_range(start=start_time, end=end_time, freq='T').strftime('%H:%M')\n",
        "\n",
        "# Generate all categories\n",
        "categories = [1, 2, 3, 4, 5, 6, 7, 8, 9, 10, 11, 12, 13, 14, 15, 16]\n",
        "\n",
        "# Create a complete DataFrame of all combinations\n",
        "complete_index = pd.MultiIndex.from_product([all_minutes, categories], names=['minute', 'category_id'])\n",
        "#print(complete_index)\n",
        "result = result.set_index(['minute', 'category_id']).reindex(complete_index, fill_value=0).reset_index()\n",
        "\n",
        "# Rename columns for clarity\n",
        "result.columns = ['minute', 'category_id', 'count']\n",
        "\n",
        "# Display the result\n",
        "#print(result)\n",
        "\n",
        "# Optional: Save the result to a CSV file\n",
        "#result.to_csv('minute_category_counts.csv', index=False)\n"
      ],
      "metadata": {
        "colab": {
          "base_uri": "https://localhost:8080/"
        },
        "id": "V8YaWFXG9X14",
        "outputId": "53e6f54f-2e17-4f00-b6c6-7249537bf3be"
      },
      "execution_count": null,
      "outputs": [
        {
          "output_type": "stream",
          "name": "stderr",
          "text": [
            "<ipython-input-2-f97c9383ff31>:21: FutureWarning: 'T' is deprecated and will be removed in a future version, please use 'min' instead.\n",
            "  all_minutes = pd.date_range(start=start_time, end=end_time, freq='T').strftime('%H:%M')\n"
          ]
        }
      ]
    },
    {
      "cell_type": "code",
      "source": [
        "import pandas as pd\n",
        "\n",
        "# Load your CSV file\n",
        "df = result\n",
        "\n",
        "# Pivot the table to have one column per category\n",
        "pivoted_df = df.pivot(index='minute', columns='category_id', values='count')\n",
        "\n",
        "# Rename columns to match desired format (e.g., 'c1', 'c2', ..., 'c15', 'None')\n",
        "pivoted_df.columns = [f'c{int(col)}' if col != 'None' else 'None' for col in pivoted_df.columns]\n",
        "\n",
        "# Reset the index to make 'minute' a column again\n",
        "pivoted_df.reset_index(inplace=True)\n",
        "\n",
        "# Fill NaN values with 0 (optional, if there are any missing values)\n",
        "pivoted_df.fillna(0, inplace=True)\n",
        "\n",
        "# Save the result to a new CSV file\n",
        "pivoted_df.to_csv('minute_category_pivoted.csv', index=False)\n",
        "\n",
        "# Display the result\n",
        "#print(pivoted_df)"
      ],
      "metadata": {
        "id": "0d2AeXti9yPH"
      },
      "execution_count": null,
      "outputs": []
    },
    {
      "cell_type": "code",
      "source": [
        "import pandas as pd\n",
        "\n",
        "# Load your existing DataFrame\n",
        "df = pd.read_csv('minute_category_pivoted.csv')\n",
        "\n",
        "# Create a new column with the interval format\n",
        "df['minute'] = pd.to_datetime(df['minute'], format='%H:%M')\n",
        "df['interval'] = df['minute'].dt.strftime('%H:%M:%S') + '-' + (df['minute'] + pd.Timedelta(minutes=1)).dt.strftime('%H:%M:%S')\n",
        "\n",
        "# Drop the old 'minute' column and rename 'interval' to 'minute' if desired\n",
        "df.drop(columns=['minute'], inplace=True)\n",
        "df.rename(columns={'interval': 'minute'}, inplace=True)\n",
        "\n",
        "# Save the updated DataFrame to a new CSV\n",
        "df.to_csv('29minute_category_with_intervals.csv', index=False)\n",
        "\n",
        "# Display the updated DataFrame\n",
        "print(df)\n"
      ],
      "metadata": {
        "id": "nsUYPIt6JMkh",
        "outputId": "147263fd-3d23-4367-e7b6-6078d6d9ac8f",
        "colab": {
          "base_uri": "https://localhost:8080/"
        }
      },
      "execution_count": null,
      "outputs": [
        {
          "output_type": "stream",
          "name": "stdout",
          "text": [
            "     c1  c2  c3  c4  c5  c6  c7  c8  c9  c10  c11  c12  c13  c14  c15  c16  \\\n",
            "0     0   0   7   1   0   4   1   0   3    5    7    1    0    0    0    0   \n",
            "1     0   0   0   5   1   4   9   2   3    6    4    0    0    0    1    0   \n",
            "2     0   1   3   3   4   5   5   0   4    2    8    0    0    0    1    0   \n",
            "3     0   1   0   2   0   3   4   0   3    0    7    1    0    0    0    0   \n",
            "4     0   0   2   2   1   4   4   0   2    1    3    1    0    0    0    0   \n",
            "..   ..  ..  ..  ..  ..  ..  ..  ..  ..  ...  ...  ...  ...  ...  ...  ...   \n",
            "325   0   1   4   5   6   3   5   3   2    2    5    0    0    0    0    0   \n",
            "326   0   0   3   6   3   7   8   4   7    7    5    1    0    0    1    0   \n",
            "327   0   1   2   3   3   5   4   3  14    1   10    1    0    0    0    0   \n",
            "328   0   1   4   8   3   2   8   3   8    1    1    0    0    0    0    0   \n",
            "329   0   0   5   4   4   3   2   3   3    2    5    0    0    0    1    0   \n",
            "\n",
            "                minute  \n",
            "0    06:30:00-06:31:00  \n",
            "1    06:31:00-06:32:00  \n",
            "2    06:32:00-06:33:00  \n",
            "3    06:33:00-06:34:00  \n",
            "4    06:34:00-06:35:00  \n",
            "..                 ...  \n",
            "325  11:55:00-11:56:00  \n",
            "326  11:56:00-11:57:00  \n",
            "327  11:57:00-11:58:00  \n",
            "328  11:58:00-11:59:00  \n",
            "329  11:59:00-12:00:00  \n",
            "\n",
            "[330 rows x 17 columns]\n"
          ]
        }
      ]
    },
    {
      "cell_type": "markdown",
      "source": [
        "## TIme sorted"
      ],
      "metadata": {
        "id": "fFZE-UxfAKcr"
      }
    },
    {
      "cell_type": "code",
      "source": [
        "import pandas as pd\n",
        "df = pd.read_csv('19-09-24.csv')\n",
        "df"
      ],
      "metadata": {
        "colab": {
          "base_uri": "https://localhost:8080/",
          "height": 423
        },
        "id": "5S3IXxTCAi7S",
        "outputId": "6828d595-2fb4-404f-b74a-60d04862b00f"
      },
      "execution_count": null,
      "outputs": [
        {
          "output_type": "execute_result",
          "data": {
            "text/plain": [
              "            date          time camera_no  track_id direction  hour  \\\n",
              "0      9/19/2024  07:00:05:040      Cam1         1      DOWN    71   \n",
              "1      9/19/2024  07:00:05:600      Cam1        15      DOWN    71   \n",
              "2      9/19/2024  07:00:06:760      Cam1         6      DOWN    71   \n",
              "3      9/19/2024  07:00:07:360      Cam1        12      DOWN    71   \n",
              "4      9/19/2024  07:00:11:040      Cam1         8      DOWN    71   \n",
              "...          ...           ...       ...       ...       ...   ...   \n",
              "12499  9/19/2024  11:29:58:880      Cam1     13174        UP   113   \n",
              "12500  9/19/2024  11:30:00:080      Cam1     13169        UP   113   \n",
              "12501  9/19/2024  11:30:00:480      Cam1     13148      DOWN   113   \n",
              "12502  9/19/2024  11:30:01:440      Cam1     13176      DOWN   113   \n",
              "12503  9/19/2024  11:30:01:760      Cam1     13185      DOWN   113   \n",
              "\n",
              "       category_id  \n",
              "0              6.0  \n",
              "1             10.0  \n",
              "2              7.0  \n",
              "3             11.0  \n",
              "4              9.0  \n",
              "...            ...  \n",
              "12499          4.0  \n",
              "12500          9.0  \n",
              "12501         15.0  \n",
              "12502          7.0  \n",
              "12503         11.0  \n",
              "\n",
              "[12504 rows x 7 columns]"
            ],
            "text/html": [
              "\n",
              "  <div id=\"df-d46b99d1-411a-48c8-84e7-085fa779e723\" class=\"colab-df-container\">\n",
              "    <div>\n",
              "<style scoped>\n",
              "    .dataframe tbody tr th:only-of-type {\n",
              "        vertical-align: middle;\n",
              "    }\n",
              "\n",
              "    .dataframe tbody tr th {\n",
              "        vertical-align: top;\n",
              "    }\n",
              "\n",
              "    .dataframe thead th {\n",
              "        text-align: right;\n",
              "    }\n",
              "</style>\n",
              "<table border=\"1\" class=\"dataframe\">\n",
              "  <thead>\n",
              "    <tr style=\"text-align: right;\">\n",
              "      <th></th>\n",
              "      <th>date</th>\n",
              "      <th>time</th>\n",
              "      <th>camera_no</th>\n",
              "      <th>track_id</th>\n",
              "      <th>direction</th>\n",
              "      <th>hour</th>\n",
              "      <th>category_id</th>\n",
              "    </tr>\n",
              "  </thead>\n",
              "  <tbody>\n",
              "    <tr>\n",
              "      <th>0</th>\n",
              "      <td>9/19/2024</td>\n",
              "      <td>07:00:05:040</td>\n",
              "      <td>Cam1</td>\n",
              "      <td>1</td>\n",
              "      <td>DOWN</td>\n",
              "      <td>71</td>\n",
              "      <td>6.0</td>\n",
              "    </tr>\n",
              "    <tr>\n",
              "      <th>1</th>\n",
              "      <td>9/19/2024</td>\n",
              "      <td>07:00:05:600</td>\n",
              "      <td>Cam1</td>\n",
              "      <td>15</td>\n",
              "      <td>DOWN</td>\n",
              "      <td>71</td>\n",
              "      <td>10.0</td>\n",
              "    </tr>\n",
              "    <tr>\n",
              "      <th>2</th>\n",
              "      <td>9/19/2024</td>\n",
              "      <td>07:00:06:760</td>\n",
              "      <td>Cam1</td>\n",
              "      <td>6</td>\n",
              "      <td>DOWN</td>\n",
              "      <td>71</td>\n",
              "      <td>7.0</td>\n",
              "    </tr>\n",
              "    <tr>\n",
              "      <th>3</th>\n",
              "      <td>9/19/2024</td>\n",
              "      <td>07:00:07:360</td>\n",
              "      <td>Cam1</td>\n",
              "      <td>12</td>\n",
              "      <td>DOWN</td>\n",
              "      <td>71</td>\n",
              "      <td>11.0</td>\n",
              "    </tr>\n",
              "    <tr>\n",
              "      <th>4</th>\n",
              "      <td>9/19/2024</td>\n",
              "      <td>07:00:11:040</td>\n",
              "      <td>Cam1</td>\n",
              "      <td>8</td>\n",
              "      <td>DOWN</td>\n",
              "      <td>71</td>\n",
              "      <td>9.0</td>\n",
              "    </tr>\n",
              "    <tr>\n",
              "      <th>...</th>\n",
              "      <td>...</td>\n",
              "      <td>...</td>\n",
              "      <td>...</td>\n",
              "      <td>...</td>\n",
              "      <td>...</td>\n",
              "      <td>...</td>\n",
              "      <td>...</td>\n",
              "    </tr>\n",
              "    <tr>\n",
              "      <th>12499</th>\n",
              "      <td>9/19/2024</td>\n",
              "      <td>11:29:58:880</td>\n",
              "      <td>Cam1</td>\n",
              "      <td>13174</td>\n",
              "      <td>UP</td>\n",
              "      <td>113</td>\n",
              "      <td>4.0</td>\n",
              "    </tr>\n",
              "    <tr>\n",
              "      <th>12500</th>\n",
              "      <td>9/19/2024</td>\n",
              "      <td>11:30:00:080</td>\n",
              "      <td>Cam1</td>\n",
              "      <td>13169</td>\n",
              "      <td>UP</td>\n",
              "      <td>113</td>\n",
              "      <td>9.0</td>\n",
              "    </tr>\n",
              "    <tr>\n",
              "      <th>12501</th>\n",
              "      <td>9/19/2024</td>\n",
              "      <td>11:30:00:480</td>\n",
              "      <td>Cam1</td>\n",
              "      <td>13148</td>\n",
              "      <td>DOWN</td>\n",
              "      <td>113</td>\n",
              "      <td>15.0</td>\n",
              "    </tr>\n",
              "    <tr>\n",
              "      <th>12502</th>\n",
              "      <td>9/19/2024</td>\n",
              "      <td>11:30:01:440</td>\n",
              "      <td>Cam1</td>\n",
              "      <td>13176</td>\n",
              "      <td>DOWN</td>\n",
              "      <td>113</td>\n",
              "      <td>7.0</td>\n",
              "    </tr>\n",
              "    <tr>\n",
              "      <th>12503</th>\n",
              "      <td>9/19/2024</td>\n",
              "      <td>11:30:01:760</td>\n",
              "      <td>Cam1</td>\n",
              "      <td>13185</td>\n",
              "      <td>DOWN</td>\n",
              "      <td>113</td>\n",
              "      <td>11.0</td>\n",
              "    </tr>\n",
              "  </tbody>\n",
              "</table>\n",
              "<p>12504 rows × 7 columns</p>\n",
              "</div>\n",
              "    <div class=\"colab-df-buttons\">\n",
              "\n",
              "  <div class=\"colab-df-container\">\n",
              "    <button class=\"colab-df-convert\" onclick=\"convertToInteractive('df-d46b99d1-411a-48c8-84e7-085fa779e723')\"\n",
              "            title=\"Convert this dataframe to an interactive table.\"\n",
              "            style=\"display:none;\">\n",
              "\n",
              "  <svg xmlns=\"http://www.w3.org/2000/svg\" height=\"24px\" viewBox=\"0 -960 960 960\">\n",
              "    <path d=\"M120-120v-720h720v720H120Zm60-500h600v-160H180v160Zm220 220h160v-160H400v160Zm0 220h160v-160H400v160ZM180-400h160v-160H180v160Zm440 0h160v-160H620v160ZM180-180h160v-160H180v160Zm440 0h160v-160H620v160Z\"/>\n",
              "  </svg>\n",
              "    </button>\n",
              "\n",
              "  <style>\n",
              "    .colab-df-container {\n",
              "      display:flex;\n",
              "      gap: 12px;\n",
              "    }\n",
              "\n",
              "    .colab-df-convert {\n",
              "      background-color: #E8F0FE;\n",
              "      border: none;\n",
              "      border-radius: 50%;\n",
              "      cursor: pointer;\n",
              "      display: none;\n",
              "      fill: #1967D2;\n",
              "      height: 32px;\n",
              "      padding: 0 0 0 0;\n",
              "      width: 32px;\n",
              "    }\n",
              "\n",
              "    .colab-df-convert:hover {\n",
              "      background-color: #E2EBFA;\n",
              "      box-shadow: 0px 1px 2px rgba(60, 64, 67, 0.3), 0px 1px 3px 1px rgba(60, 64, 67, 0.15);\n",
              "      fill: #174EA6;\n",
              "    }\n",
              "\n",
              "    .colab-df-buttons div {\n",
              "      margin-bottom: 4px;\n",
              "    }\n",
              "\n",
              "    [theme=dark] .colab-df-convert {\n",
              "      background-color: #3B4455;\n",
              "      fill: #D2E3FC;\n",
              "    }\n",
              "\n",
              "    [theme=dark] .colab-df-convert:hover {\n",
              "      background-color: #434B5C;\n",
              "      box-shadow: 0px 1px 3px 1px rgba(0, 0, 0, 0.15);\n",
              "      filter: drop-shadow(0px 1px 2px rgba(0, 0, 0, 0.3));\n",
              "      fill: #FFFFFF;\n",
              "    }\n",
              "  </style>\n",
              "\n",
              "    <script>\n",
              "      const buttonEl =\n",
              "        document.querySelector('#df-d46b99d1-411a-48c8-84e7-085fa779e723 button.colab-df-convert');\n",
              "      buttonEl.style.display =\n",
              "        google.colab.kernel.accessAllowed ? 'block' : 'none';\n",
              "\n",
              "      async function convertToInteractive(key) {\n",
              "        const element = document.querySelector('#df-d46b99d1-411a-48c8-84e7-085fa779e723');\n",
              "        const dataTable =\n",
              "          await google.colab.kernel.invokeFunction('convertToInteractive',\n",
              "                                                    [key], {});\n",
              "        if (!dataTable) return;\n",
              "\n",
              "        const docLinkHtml = 'Like what you see? Visit the ' +\n",
              "          '<a target=\"_blank\" href=https://colab.research.google.com/notebooks/data_table.ipynb>data table notebook</a>'\n",
              "          + ' to learn more about interactive tables.';\n",
              "        element.innerHTML = '';\n",
              "        dataTable['output_type'] = 'display_data';\n",
              "        await google.colab.output.renderOutput(dataTable, element);\n",
              "        const docLink = document.createElement('div');\n",
              "        docLink.innerHTML = docLinkHtml;\n",
              "        element.appendChild(docLink);\n",
              "      }\n",
              "    </script>\n",
              "  </div>\n",
              "\n",
              "\n",
              "<div id=\"df-4b1b0986-98ac-458a-82d3-f780deac76de\">\n",
              "  <button class=\"colab-df-quickchart\" onclick=\"quickchart('df-4b1b0986-98ac-458a-82d3-f780deac76de')\"\n",
              "            title=\"Suggest charts\"\n",
              "            style=\"display:none;\">\n",
              "\n",
              "<svg xmlns=\"http://www.w3.org/2000/svg\" height=\"24px\"viewBox=\"0 0 24 24\"\n",
              "     width=\"24px\">\n",
              "    <g>\n",
              "        <path d=\"M19 3H5c-1.1 0-2 .9-2 2v14c0 1.1.9 2 2 2h14c1.1 0 2-.9 2-2V5c0-1.1-.9-2-2-2zM9 17H7v-7h2v7zm4 0h-2V7h2v10zm4 0h-2v-4h2v4z\"/>\n",
              "    </g>\n",
              "</svg>\n",
              "  </button>\n",
              "\n",
              "<style>\n",
              "  .colab-df-quickchart {\n",
              "      --bg-color: #E8F0FE;\n",
              "      --fill-color: #1967D2;\n",
              "      --hover-bg-color: #E2EBFA;\n",
              "      --hover-fill-color: #174EA6;\n",
              "      --disabled-fill-color: #AAA;\n",
              "      --disabled-bg-color: #DDD;\n",
              "  }\n",
              "\n",
              "  [theme=dark] .colab-df-quickchart {\n",
              "      --bg-color: #3B4455;\n",
              "      --fill-color: #D2E3FC;\n",
              "      --hover-bg-color: #434B5C;\n",
              "      --hover-fill-color: #FFFFFF;\n",
              "      --disabled-bg-color: #3B4455;\n",
              "      --disabled-fill-color: #666;\n",
              "  }\n",
              "\n",
              "  .colab-df-quickchart {\n",
              "    background-color: var(--bg-color);\n",
              "    border: none;\n",
              "    border-radius: 50%;\n",
              "    cursor: pointer;\n",
              "    display: none;\n",
              "    fill: var(--fill-color);\n",
              "    height: 32px;\n",
              "    padding: 0;\n",
              "    width: 32px;\n",
              "  }\n",
              "\n",
              "  .colab-df-quickchart:hover {\n",
              "    background-color: var(--hover-bg-color);\n",
              "    box-shadow: 0 1px 2px rgba(60, 64, 67, 0.3), 0 1px 3px 1px rgba(60, 64, 67, 0.15);\n",
              "    fill: var(--button-hover-fill-color);\n",
              "  }\n",
              "\n",
              "  .colab-df-quickchart-complete:disabled,\n",
              "  .colab-df-quickchart-complete:disabled:hover {\n",
              "    background-color: var(--disabled-bg-color);\n",
              "    fill: var(--disabled-fill-color);\n",
              "    box-shadow: none;\n",
              "  }\n",
              "\n",
              "  .colab-df-spinner {\n",
              "    border: 2px solid var(--fill-color);\n",
              "    border-color: transparent;\n",
              "    border-bottom-color: var(--fill-color);\n",
              "    animation:\n",
              "      spin 1s steps(1) infinite;\n",
              "  }\n",
              "\n",
              "  @keyframes spin {\n",
              "    0% {\n",
              "      border-color: transparent;\n",
              "      border-bottom-color: var(--fill-color);\n",
              "      border-left-color: var(--fill-color);\n",
              "    }\n",
              "    20% {\n",
              "      border-color: transparent;\n",
              "      border-left-color: var(--fill-color);\n",
              "      border-top-color: var(--fill-color);\n",
              "    }\n",
              "    30% {\n",
              "      border-color: transparent;\n",
              "      border-left-color: var(--fill-color);\n",
              "      border-top-color: var(--fill-color);\n",
              "      border-right-color: var(--fill-color);\n",
              "    }\n",
              "    40% {\n",
              "      border-color: transparent;\n",
              "      border-right-color: var(--fill-color);\n",
              "      border-top-color: var(--fill-color);\n",
              "    }\n",
              "    60% {\n",
              "      border-color: transparent;\n",
              "      border-right-color: var(--fill-color);\n",
              "    }\n",
              "    80% {\n",
              "      border-color: transparent;\n",
              "      border-right-color: var(--fill-color);\n",
              "      border-bottom-color: var(--fill-color);\n",
              "    }\n",
              "    90% {\n",
              "      border-color: transparent;\n",
              "      border-bottom-color: var(--fill-color);\n",
              "    }\n",
              "  }\n",
              "</style>\n",
              "\n",
              "  <script>\n",
              "    async function quickchart(key) {\n",
              "      const quickchartButtonEl =\n",
              "        document.querySelector('#' + key + ' button');\n",
              "      quickchartButtonEl.disabled = true;  // To prevent multiple clicks.\n",
              "      quickchartButtonEl.classList.add('colab-df-spinner');\n",
              "      try {\n",
              "        const charts = await google.colab.kernel.invokeFunction(\n",
              "            'suggestCharts', [key], {});\n",
              "      } catch (error) {\n",
              "        console.error('Error during call to suggestCharts:', error);\n",
              "      }\n",
              "      quickchartButtonEl.classList.remove('colab-df-spinner');\n",
              "      quickchartButtonEl.classList.add('colab-df-quickchart-complete');\n",
              "    }\n",
              "    (() => {\n",
              "      let quickchartButtonEl =\n",
              "        document.querySelector('#df-4b1b0986-98ac-458a-82d3-f780deac76de button');\n",
              "      quickchartButtonEl.style.display =\n",
              "        google.colab.kernel.accessAllowed ? 'block' : 'none';\n",
              "    })();\n",
              "  </script>\n",
              "</div>\n",
              "\n",
              "  <div id=\"id_4575c4a0-b513-4b17-82ef-fb8145ef441f\">\n",
              "    <style>\n",
              "      .colab-df-generate {\n",
              "        background-color: #E8F0FE;\n",
              "        border: none;\n",
              "        border-radius: 50%;\n",
              "        cursor: pointer;\n",
              "        display: none;\n",
              "        fill: #1967D2;\n",
              "        height: 32px;\n",
              "        padding: 0 0 0 0;\n",
              "        width: 32px;\n",
              "      }\n",
              "\n",
              "      .colab-df-generate:hover {\n",
              "        background-color: #E2EBFA;\n",
              "        box-shadow: 0px 1px 2px rgba(60, 64, 67, 0.3), 0px 1px 3px 1px rgba(60, 64, 67, 0.15);\n",
              "        fill: #174EA6;\n",
              "      }\n",
              "\n",
              "      [theme=dark] .colab-df-generate {\n",
              "        background-color: #3B4455;\n",
              "        fill: #D2E3FC;\n",
              "      }\n",
              "\n",
              "      [theme=dark] .colab-df-generate:hover {\n",
              "        background-color: #434B5C;\n",
              "        box-shadow: 0px 1px 3px 1px rgba(0, 0, 0, 0.15);\n",
              "        filter: drop-shadow(0px 1px 2px rgba(0, 0, 0, 0.3));\n",
              "        fill: #FFFFFF;\n",
              "      }\n",
              "    </style>\n",
              "    <button class=\"colab-df-generate\" onclick=\"generateWithVariable('df')\"\n",
              "            title=\"Generate code using this dataframe.\"\n",
              "            style=\"display:none;\">\n",
              "\n",
              "  <svg xmlns=\"http://www.w3.org/2000/svg\" height=\"24px\"viewBox=\"0 0 24 24\"\n",
              "       width=\"24px\">\n",
              "    <path d=\"M7,19H8.4L18.45,9,17,7.55,7,17.6ZM5,21V16.75L18.45,3.32a2,2,0,0,1,2.83,0l1.4,1.43a1.91,1.91,0,0,1,.58,1.4,1.91,1.91,0,0,1-.58,1.4L9.25,21ZM18.45,9,17,7.55Zm-12,3A5.31,5.31,0,0,0,4.9,8.1,5.31,5.31,0,0,0,1,6.5,5.31,5.31,0,0,0,4.9,4.9,5.31,5.31,0,0,0,6.5,1,5.31,5.31,0,0,0,8.1,4.9,5.31,5.31,0,0,0,12,6.5,5.46,5.46,0,0,0,6.5,12Z\"/>\n",
              "  </svg>\n",
              "    </button>\n",
              "    <script>\n",
              "      (() => {\n",
              "      const buttonEl =\n",
              "        document.querySelector('#id_4575c4a0-b513-4b17-82ef-fb8145ef441f button.colab-df-generate');\n",
              "      buttonEl.style.display =\n",
              "        google.colab.kernel.accessAllowed ? 'block' : 'none';\n",
              "\n",
              "      buttonEl.onclick = () => {\n",
              "        google.colab.notebook.generateWithVariable('df');\n",
              "      }\n",
              "      })();\n",
              "    </script>\n",
              "  </div>\n",
              "\n",
              "    </div>\n",
              "  </div>\n"
            ],
            "application/vnd.google.colaboratory.intrinsic+json": {
              "type": "dataframe",
              "variable_name": "df",
              "summary": "{\n  \"name\": \"df\",\n  \"rows\": 12504,\n  \"fields\": [\n    {\n      \"column\": \"date\",\n      \"properties\": {\n        \"dtype\": \"object\",\n        \"num_unique_values\": 1,\n        \"samples\": [\n          \"9/19/2024\"\n        ],\n        \"semantic_type\": \"\",\n        \"description\": \"\"\n      }\n    },\n    {\n      \"column\": \"time\",\n      \"properties\": {\n        \"dtype\": \"string\",\n        \"num_unique_values\": 12025,\n        \"samples\": [\n          \"08:22:57:640\"\n        ],\n        \"semantic_type\": \"\",\n        \"description\": \"\"\n      }\n    },\n    {\n      \"column\": \"camera_no\",\n      \"properties\": {\n        \"dtype\": \"category\",\n        \"num_unique_values\": 1,\n        \"samples\": [\n          \"Cam1\"\n        ],\n        \"semantic_type\": \"\",\n        \"description\": \"\"\n      }\n    },\n    {\n      \"column\": \"track_id\",\n      \"properties\": {\n        \"dtype\": \"number\",\n        \"std\": 4047,\n        \"min\": 0,\n        \"max\": 18702,\n        \"num_unique_values\": 8506,\n        \"samples\": [\n          5048\n        ],\n        \"semantic_type\": \"\",\n        \"description\": \"\"\n      }\n    },\n    {\n      \"column\": \"direction\",\n      \"properties\": {\n        \"dtype\": \"category\",\n        \"num_unique_values\": 2,\n        \"samples\": [\n          \"UP\"\n        ],\n        \"semantic_type\": \"\",\n        \"description\": \"\"\n      }\n    },\n    {\n      \"column\": \"hour\",\n      \"properties\": {\n        \"dtype\": \"number\",\n        \"std\": 14,\n        \"min\": 71,\n        \"max\": 113,\n        \"num_unique_values\": 10,\n        \"samples\": [\n          111\n        ],\n        \"semantic_type\": \"\",\n        \"description\": \"\"\n      }\n    },\n    {\n      \"column\": \"category_id\",\n      \"properties\": {\n        \"dtype\": \"number\",\n        \"std\": 3.0715964000246654,\n        \"min\": 1.0,\n        \"max\": 15.0,\n        \"num_unique_values\": 15,\n        \"samples\": [\n          13.0\n        ],\n        \"semantic_type\": \"\",\n        \"description\": \"\"\n      }\n    }\n  ]\n}"
            }
          },
          "metadata": {},
          "execution_count": 48
        }
      ]
    },
    {
      "cell_type": "code",
      "source": [
        "problem_cols = (df['hour'] % 10 == 3)\n",
        "df['time'][problem_cols] = (df['time'][problem_cols].str.split(\":\").str[0]\n",
        "                            + \":\" + (df['time'][problem_cols].str.split(\":\").str[1].astype(int) + 30).astype(str)\n",
        "                            + \":\" + df['time'][problem_cols].str.split(\":\").str[2]\n",
        "                            + \":\" + df['time'][problem_cols].str.split(\":\").str[3])\n",
        "df.to_csv('time_sorted.csv', index=False)"
      ],
      "metadata": {
        "colab": {
          "base_uri": "https://localhost:8080/"
        },
        "id": "cgxUVdOqHbry",
        "outputId": "4eef4562-ed47-4cae-f052-50a4789a0fe1"
      },
      "execution_count": null,
      "outputs": [
        {
          "output_type": "stream",
          "name": "stderr",
          "text": [
            "<ipython-input-49-ce69d52dee76>:2: FutureWarning: ChainedAssignmentError: behaviour will change in pandas 3.0!\n",
            "You are setting values through chained assignment. Currently this works in certain cases, but when using Copy-on-Write (which will become the default behaviour in pandas 3.0) this will never work to update the original DataFrame or Series, because the intermediate object on which we are setting values will behave as a copy.\n",
            "A typical example is when you are setting values in a column of a DataFrame, like:\n",
            "\n",
            "df[\"col\"][row_indexer] = value\n",
            "\n",
            "Use `df.loc[row_indexer, \"col\"] = values` instead, to perform the assignment in a single step and ensure this keeps updating the original `df`.\n",
            "\n",
            "See the caveats in the documentation: https://pandas.pydata.org/pandas-docs/stable/user_guide/indexing.html#returning-a-view-versus-a-copy\n",
            "\n",
            "  df['time'][problem_cols] = (df['time'][problem_cols].str.split(\":\").str[0]\n",
            "<ipython-input-49-ce69d52dee76>:2: SettingWithCopyWarning: \n",
            "A value is trying to be set on a copy of a slice from a DataFrame\n",
            "\n",
            "See the caveats in the documentation: https://pandas.pydata.org/pandas-docs/stable/user_guide/indexing.html#returning-a-view-versus-a-copy\n",
            "  df['time'][problem_cols] = (df['time'][problem_cols].str.split(\":\").str[0]\n"
          ]
        }
      ]
    },
    {
      "cell_type": "markdown",
      "source": [
        "## 5 minute interval trial -1"
      ],
      "metadata": {
        "id": "5CqHJzcqe631"
      }
    },
    {
      "cell_type": "code",
      "source": [
        "import pandas as pd\n",
        "\n",
        "# Load the dataset\n",
        "data = pd.read_csv('21-09_24.csv')\n",
        "\n",
        "# Convert the 'time' column to a proper datetime format\n",
        "# Combine 'date' and 'time' for accurate datetime conversion\n",
        "# Assuming the 'time' column format is 'hour:second:millisecond'\n",
        "data['datetime'] = pd.to_datetime(data['date'] + ' ' + data['time'], format='%m/%d/%Y %H:%M:%S:%f')\n",
        "\n",
        "# Set datetime as the index for easier resampling\n",
        "data.set_index('datetime', inplace=True)\n",
        "\n",
        "# Group data into 5-minute intervals\n",
        "five_minute_intervals = data.groupby([pd.Grouper(freq='5T'), 'category_id']).size().reset_index(name='total_vehicles')\n",
        "\n",
        "# Rename the columns for clarity\n",
        "five_minute_intervals.rename(columns={'datetime': 'time_interval', 'category_id': 'vehicle_category', 'total_vehicles': 'count'}, inplace=True)\n",
        "\n",
        "# Save the result to a CSV file or display it\n",
        "five_minute_intervals.to_csv('five_minute_vehicle_counts.csv', index=False)\n",
        "\n",
        "print(five_minute_intervals.head())\n"
      ],
      "metadata": {
        "colab": {
          "base_uri": "https://localhost:8080/"
        },
        "id": "NCuN24MQe_Xd",
        "outputId": "fec8c19f-2272-4e34-fbc5-3a230141de66"
      },
      "execution_count": null,
      "outputs": [
        {
          "output_type": "stream",
          "name": "stdout",
          "text": [
            "        time_interval  vehicle_category  count\n",
            "0 2024-09-21 06:30:00               2.0      2\n",
            "1 2024-09-21 06:30:00               3.0     12\n",
            "2 2024-09-21 06:30:00               4.0     13\n",
            "3 2024-09-21 06:30:00               5.0      6\n",
            "4 2024-09-21 06:30:00               6.0     20\n"
          ]
        },
        {
          "output_type": "stream",
          "name": "stderr",
          "text": [
            "<ipython-input-1-05cc196b18f1>:15: FutureWarning: 'T' is deprecated and will be removed in a future version, please use 'min' instead.\n",
            "  five_minute_intervals = data.groupby([pd.Grouper(freq='5T'), 'category_id']).size().reset_index(name='total_vehicles')\n"
          ]
        }
      ]
    },
    {
      "cell_type": "markdown",
      "source": [
        "## 5 minute interval trial -2"
      ],
      "metadata": {
        "id": "24-ECFlzgdpX"
      }
    },
    {
      "cell_type": "code",
      "source": [
        "import pandas as pd\n",
        "\n",
        "# Load the dataset\n",
        "data = pd.read_csv('21-09_24.csv')\n",
        "\n",
        "# Convert the 'time' column to a proper datetime format\n",
        "# Combine 'date' and 'time' for accurate datetime conversion\n",
        "# Assuming the 'time' column format is 'hour:second:millisecond'\n",
        "data['datetime'] = pd.to_datetime(data['date'] + ' ' + data['time'], format='%m/%d/%Y %H:%M:%S:%f')\n",
        "\n",
        "# Set datetime as the index for easier resampling\n",
        "data.set_index('datetime', inplace=True)\n",
        "\n",
        "# Group data into 5-minute intervals and pivot table for category counts\n",
        "five_minute_intervals = data.groupby([pd.Grouper(freq='5T'), 'category_id']).size().unstack(fill_value=0)\n",
        "\n",
        "# Rename the index for clarity\n",
        "five_minute_intervals.index = five_minute_intervals.index.strftime('%H:%M:%S - %H:%M:%S')\n",
        "\n",
        "# Save the result to a CSV file or display it\n",
        "five_minute_intervals.to_csv('five_minute_vehicle_counts_pivoted.csv')\n",
        "\n",
        "print(five_minute_intervals.head())"
      ],
      "metadata": {
        "colab": {
          "base_uri": "https://localhost:8080/"
        },
        "id": "1Q6FRBoqggYb",
        "outputId": "879c0a81-f00c-494e-b045-ec28d983d925"
      },
      "execution_count": null,
      "outputs": [
        {
          "output_type": "stream",
          "name": "stdout",
          "text": [
            "category_id          1.0   2.0   3.0   4.0   5.0   6.0   7.0   8.0   9.0   \\\n",
            "datetime                                                                    \n",
            "06:30:00 - 06:30:00     0     2    12    13     6    20    23     2    15   \n",
            "06:35:00 - 06:35:00     0     5    16    11     9    26    15     1    24   \n",
            "06:40:00 - 06:40:00     3     3    32    11    16    23    31     6    37   \n",
            "06:45:00 - 06:45:00     0     0    11    16    11    23    24     5    27   \n",
            "06:50:00 - 06:50:00     0     1    18    17    11    33    22     2    34   \n",
            "\n",
            "category_id          10.0  11.0  12.0  13.0  14.0  15.0  \n",
            "datetime                                                 \n",
            "06:30:00 - 06:30:00    14    29     3     0     0     2  \n",
            "06:35:00 - 06:35:00    25    32     0     1     0     3  \n",
            "06:40:00 - 06:40:00    17    22     2     0     1     5  \n",
            "06:45:00 - 06:45:00    21    19     0     0     1     6  \n",
            "06:50:00 - 06:50:00    18    29     1     0     3    10  \n"
          ]
        },
        {
          "output_type": "stream",
          "name": "stderr",
          "text": [
            "<ipython-input-2-605c09526fa8>:15: FutureWarning: 'T' is deprecated and will be removed in a future version, please use 'min' instead.\n",
            "  five_minute_intervals = data.groupby([pd.Grouper(freq='5T'), 'category_id']).size().unstack(fill_value=0)\n"
          ]
        }
      ]
    },
    {
      "cell_type": "markdown",
      "source": [
        "## 5 minute interval trial -3"
      ],
      "metadata": {
        "id": "fjA58TIPkcEr"
      }
    },
    {
      "cell_type": "code",
      "source": [
        "import pandas as pd\n",
        "\n",
        "# Load the dataset\n",
        "data = pd.read_csv('21-09_24.csv')\n",
        "\n",
        "# Convert the 'time' column to a proper datetime format\n",
        "# Combine 'date' and 'time' for accurate datetime conversion\n",
        "# Assuming the 'time' column format is 'hour:second:millisecond'\n",
        "data['datetime'] = pd.to_datetime(data['date'] + ' ' + data['time'], format='%m/%d/%Y %H:%M:%S:%f')\n",
        "\n",
        "# Set datetime as the index for easier resampling\n",
        "data.set_index('datetime', inplace=True)\n",
        "\n",
        "# Group data into 5-minute intervals and pivot table for category counts\n",
        "five_minute_intervals = data.groupby([pd.Grouper(freq='5T'), 'category_id']).size().unstack(fill_value=0)\n",
        "\n",
        "# Format the index to display the time intervals in the desired format\n",
        "formatted_intervals = [f\"{interval.strftime('%H:%M')} - {(interval + pd.Timedelta(minutes=5)).strftime('%H:%M')}\" for interval in five_minute_intervals.index]\n",
        "five_minute_intervals.index = formatted_intervals\n",
        "\n",
        "# Save the result to a CSV file or display it\n",
        "five_minute_intervals.to_csv('five_minute_vehicle_counts_pivoted.csv')\n",
        "\n",
        "print(five_minute_intervals.head())"
      ],
      "metadata": {
        "colab": {
          "base_uri": "https://localhost:8080/"
        },
        "id": "VQ1GPHBikcv6",
        "outputId": "2ab17362-6d22-4c36-a181-aca47f710b1f"
      },
      "execution_count": null,
      "outputs": [
        {
          "output_type": "stream",
          "name": "stdout",
          "text": [
            "category_id    1.0   2.0   3.0   4.0   5.0   6.0   7.0   8.0   9.0   10.0  \\\n",
            "06:30 - 06:35     0     2    12    13     6    20    23     2    15    14   \n",
            "06:35 - 06:40     0     5    16    11     9    26    15     1    24    25   \n",
            "06:40 - 06:45     3     3    32    11    16    23    31     6    37    17   \n",
            "06:45 - 06:50     0     0    11    16    11    23    24     5    27    21   \n",
            "06:50 - 06:55     0     1    18    17    11    33    22     2    34    18   \n",
            "\n",
            "category_id    11.0  12.0  13.0  14.0  15.0  \n",
            "06:30 - 06:35    29     3     0     0     2  \n",
            "06:35 - 06:40    32     0     1     0     3  \n",
            "06:40 - 06:45    22     2     0     1     5  \n",
            "06:45 - 06:50    19     0     0     1     6  \n",
            "06:50 - 06:55    29     1     0     3    10  \n"
          ]
        },
        {
          "output_type": "stream",
          "name": "stderr",
          "text": [
            "<ipython-input-3-6b3e9ab976b5>:15: FutureWarning: 'T' is deprecated and will be removed in a future version, please use 'min' instead.\n",
            "  five_minute_intervals = data.groupby([pd.Grouper(freq='5T'), 'category_id']).size().unstack(fill_value=0)\n"
          ]
        }
      ]
    },
    {
      "cell_type": "markdown",
      "source": [
        "## 5 minute interval trial  4"
      ],
      "metadata": {
        "id": "sV_idPPqliRp"
      }
    },
    {
      "cell_type": "code",
      "source": [
        "import pandas as pd\n",
        "\n",
        "# Load the dataset\n",
        "data = pd.read_csv('19-09-24.csv')\n",
        "\n",
        "# Convert the 'time' column to a proper datetime format\n",
        "# Combine 'date' and 'time' for accurate datetime conversion\n",
        "# Assuming the 'time' column format is 'hour:second:millisecond'\n",
        "data['datetime'] = pd.to_datetime(data['date'] + ' ' + data['time'], format='%m/%d/%Y %H:%M:%S:%f')\n",
        "\n",
        "# Set datetime as the index for easier resampling\n",
        "data.set_index('datetime', inplace=True)\n",
        "\n",
        "# Group data into 5-minute intervals and pivot table for category counts\n",
        "five_minute_intervals = data.groupby([pd.Grouper(freq='5T'), 'category_id']).size().unstack(fill_value=0)\n",
        "\n",
        "# Format the index to display the time intervals in the desired format\n",
        "formatted_intervals = [f\"{interval.strftime('%H:%M')} - {(interval + pd.Timedelta(minutes=5)).strftime('%H:%M')}\" for interval in five_minute_intervals.index]\n",
        "five_minute_intervals.index = formatted_intervals\n",
        "\n",
        "# Add a new column 'Total' which is the summation of all category columns\n",
        "five_minute_intervals['Total'] = five_minute_intervals.sum(axis=1)\n",
        "\n",
        "# Save the result to a CSV file or display it\n",
        "five_minute_intervals.to_csv('19five_minute_vehicle_counts_pivoted.csv')\n",
        "\n",
        "print(five_minute_intervals.head())\n"
      ],
      "metadata": {
        "colab": {
          "base_uri": "https://localhost:8080/"
        },
        "id": "VdXclm9ilkoW",
        "outputId": "e318425f-9e8c-4921-d895-994f1c75ba15"
      },
      "execution_count": null,
      "outputs": [
        {
          "output_type": "stream",
          "name": "stdout",
          "text": [
            "category_id    1.0  2.0  3.0  4.0  5.0  6.0  7.0  8.0  9.0  10.0  11.0  12.0  \\\n",
            "07:00 - 07:05    0    3   18   14   12   19   18    6   28    26    44     1   \n",
            "07:05 - 07:10    0    0   11   13   10   18   24    5   21    24    37     5   \n",
            "07:10 - 07:15    1    2   25   18   12   26   21    4   22    22    33     3   \n",
            "07:15 - 07:20    0    3    5   15    8   17   25    3   39    18    45     2   \n",
            "07:20 - 07:25    0    4    9   23   32   28   18    3   35    12    45     1   \n",
            "\n",
            "category_id    13.0  14.0  15.0  Total  \n",
            "07:00 - 07:05     2     2     2    195  \n",
            "07:05 - 07:10     1     5     4    178  \n",
            "07:10 - 07:15     3     5     5    202  \n",
            "07:15 - 07:20     0     6     5    191  \n",
            "07:20 - 07:25     0     4     3    217  \n"
          ]
        },
        {
          "output_type": "stream",
          "name": "stderr",
          "text": [
            "<ipython-input-1-cdc0488e9cda>:15: FutureWarning: 'T' is deprecated and will be removed in a future version, please use 'min' instead.\n",
            "  five_minute_intervals = data.groupby([pd.Grouper(freq='5T'), 'category_id']).size().unstack(fill_value=0)\n"
          ]
        }
      ]
    },
    {
      "cell_type": "markdown",
      "source": [
        "# 12pm to 5 pm per minute interval\n",
        "\n",
        "> Add blockquote\n",
        "\n"
      ],
      "metadata": {
        "id": "ivPMg2H0UE1_"
      }
    },
    {
      "cell_type": "code",
      "source": [
        "import csv\n",
        "from datetime import datetime, timedelta\n",
        "\n",
        "# Define the start and end times\n",
        "start_time = datetime.strptime(\"12:00:00\", \"%H:%M:%S\")\n",
        "end_time = datetime.strptime(\"17:00:00\", \"%H:%M:%S\")\n",
        "\n",
        "# Generate the time intervals\n",
        "interval = timedelta(minutes=1)\n",
        "time_intervals = []\n",
        "current_time = start_time\n",
        "while current_time < end_time:\n",
        "    next_time = current_time + interval\n",
        "    time_intervals.append(f\"{current_time.strftime('%H:%M:%S')} - {next_time.strftime('%H:%M:%S')}\")\n",
        "    current_time = next_time\n",
        "\n",
        "# Write to a CSV file\n",
        "output_file = \"time_intervals.csv\"\n",
        "with open(output_file, mode=\"w\", newline=\"\") as file:\n",
        "    writer = csv.writer(file)\n",
        "    writer.writerow([\"Time Interval\"])\n",
        "    for interval in time_intervals:\n",
        "        writer.writerow([interval])\n",
        "\n",
        "print(f\"CSV file '{output_file}' created successfully with time intervals.\")\n"
      ],
      "metadata": {
        "colab": {
          "base_uri": "https://localhost:8080/"
        },
        "id": "nfuVH1wFUJ4Y",
        "outputId": "7d1b4a98-b7d9-4669-a1e3-747c0c5a3919"
      },
      "execution_count": null,
      "outputs": [
        {
          "output_type": "stream",
          "name": "stdout",
          "text": [
            "CSV file 'time_intervals.csv' created successfully with time intervals.\n"
          ]
        }
      ]
    },
    {
      "cell_type": "markdown",
      "source": [
        "# 12pm to 5 pm per 5 minutes interval\n"
      ],
      "metadata": {
        "id": "PuYfqu1NJAuj"
      }
    },
    {
      "cell_type": "code",
      "source": [
        "import csv\n",
        "from datetime import datetime, timedelta\n",
        "\n",
        "# Define the start and end times\n",
        "start_time = datetime.strptime(\"12:00\", \"%H:%M\")\n",
        "end_time = datetime.strptime(\"17:00\", \"%H:%M\")\n",
        "\n",
        "# Open a CSV file to write the intervals\n",
        "with open(\"time_intervals.csv\", \"w\", newline=\"\") as csvfile:\n",
        "    csvwriter = csv.writer(csvfile)\n",
        "    csvwriter.writerow([\"Start-End Interval\"])\n",
        "\n",
        "    # Generate 5-minute intervals\n",
        "    while start_time < end_time:\n",
        "        interval_start = start_time\n",
        "        interval_end = start_time + timedelta(minutes=5)\n",
        "        csvwriter.writerow([f\"{interval_start.strftime('%H:%M')} - {interval_end.strftime('%H:%M')}\"])\n",
        "        start_time = interval_end\n",
        "\n",
        "print(\"CSV file 'time_intervals.csv' has been generated successfully.\")\n"
      ],
      "metadata": {
        "id": "ZFDaP53VJvyK",
        "outputId": "93b93b7f-c69e-41e0-88db-b9666c077c27",
        "colab": {
          "base_uri": "https://localhost:8080/"
        }
      },
      "execution_count": null,
      "outputs": [
        {
          "output_type": "stream",
          "name": "stdout",
          "text": [
            "CSV file 'time_intervals.csv' has been generated successfully.\n"
          ]
        }
      ]
    }
  ]
}