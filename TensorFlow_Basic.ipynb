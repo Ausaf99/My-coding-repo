{
  "cells": [
    {
      "cell_type": "markdown",
      "source": [
        "# TensorFlow Tutorial  \n",
        "https://www.youtube.com/watch?v=HPjBY1H-U4U&list=PLhhyoLH6IjfxVOdVC1P1L5z5azs0XjMsb&index=2"
      ],
      "metadata": {
        "id": "P8EpFZpvPvgr"
      }
    },
    {
      "cell_type": "markdown",
      "source": [
        "Tensor is a multi-dimentional array that has the ability to run on gpu. From mathematical perspective Tensor is a generalization of scalar vector and matrix. for example; a vector is a one dimentional Tensor and matrix is a two dimentional Tensor"
      ],
      "metadata": {
        "id": "Z8DJBBUbPw7C"
      }
    },
    {
      "cell_type": "code",
      "source": [
        "import os\n",
        "os.environ['TF_CPP_MIN_LOG_LEVEL'] = '2'\n",
        "import tensorflow as tf"
      ],
      "metadata": {
        "id": "-STMzdPsP22d"
      },
      "execution_count": null,
      "outputs": []
    },
    {
      "cell_type": "markdown",
      "source": [
        "## Initialization of Tensors"
      ],
      "metadata": {
        "id": "J2nOyWxnQyLF"
      }
    },
    {
      "cell_type": "code",
      "source": [
        "x=tf.constant(4)\n",
        "print(x)\n",
        "\n",
        "#we can also specify the shape\n",
        "x=tf.constant(4, shape=(1,1))\n",
        "print(f\"\\nshape of (1,1) is \\n\",x)\n",
        "\n",
        "x=tf.constant(4, shape=(1,2))\n",
        "print(f\"\\nshape of (1,2) is \\n\", x)\n",
        "\n",
        "x=tf.constant(4, shape=(2,1))\n",
        "print(f\"\\nshape of (2,1) is \\n\", x)\n",
        "\n",
        "# we can also specify dtype\n",
        "x=tf.constant(4, shape=(1,2), dtype=tf.float32)\n",
        "print(f\"\\nshape of (1,2) and dtype of float32 is \\n\", x)\n",
        "\n",
        "x=tf.constant([[1,2,3],[4,5,6]])\n",
        "print(f\"\\n\",x)\n",
        "\n",
        "x=tf.random.normal((3,3), mean=0,stddev=1)\n",
        "print(f\"\\n normal distribution with mean and standard deviation\\n\", x)\n",
        "\n",
        "x=tf.range(start=1, limit=50, delta=5)\n",
        "print(f\"\\n\",x)\n",
        "\n"
      ],
      "metadata": {
        "colab": {
          "base_uri": "https://localhost:8080/"
        },
        "id": "knV6q4xBQz-l",
        "outputId": "09798f20-c1e8-4c19-b384-047f5460ae5c"
      },
      "execution_count": null,
      "outputs": [
        {
          "output_type": "stream",
          "name": "stdout",
          "text": [
            "tf.Tensor(4, shape=(), dtype=int32)\n",
            "\n",
            "shape of (1,1) is \n",
            " tf.Tensor([[4]], shape=(1, 1), dtype=int32)\n",
            "\n",
            "shape of (1,2) is \n",
            " tf.Tensor([[4 4]], shape=(1, 2), dtype=int32)\n",
            "\n",
            "shape of (2,1) is \n",
            " tf.Tensor(\n",
            "[[4]\n",
            " [4]], shape=(2, 1), dtype=int32)\n",
            "\n",
            "shape of (1,2) and dtype of float32 is \n",
            " tf.Tensor([[4. 4.]], shape=(1, 2), dtype=float32)\n",
            "\n",
            " tf.Tensor(\n",
            "[[1 2 3]\n",
            " [4 5 6]], shape=(2, 3), dtype=int32)\n",
            "\n",
            " normal distribution with mean and standard deviation\n",
            " tf.Tensor(\n",
            "[[ 0.28107783  1.5313665  -0.07678747]\n",
            " [-0.52961093  0.9669891  -2.0312605 ]\n",
            " [-0.39125445 -1.1514721  -0.41348538]], shape=(3, 3), dtype=float32)\n",
            "\n",
            " tf.Tensor([ 1  6 11 16 21 26 31 36 41 46], shape=(10,), dtype=int32)\n"
          ]
        }
      ]
    },
    {
      "cell_type": "markdown",
      "source": [
        "## Mathematical Operation"
      ],
      "metadata": {
        "id": "oqyUNGyjTQPV"
      }
    },
    {
      "cell_type": "code",
      "source": [
        "x=tf.constant([1,2,3])\n",
        "y=tf.constant([4,5,6])\n",
        "z=tf.add(x,y) #same as z=x+y, this will also work\n",
        "print(z)\n",
        "\n",
        "x=tf.random.normal((2,3))\n",
        "y=tf.random.normal((3,4))\n",
        "\n",
        "z=tf.matmul(x,y) #matrix multiplication\n",
        "print(f\"\\n\",z)\n",
        "z=x@y #matrix multiplication\n"
      ],
      "metadata": {
        "colab": {
          "base_uri": "https://localhost:8080/"
        },
        "id": "kZKd1vINTRkr",
        "outputId": "23ab958f-507b-42f8-b240-bb29e40c4b57"
      },
      "execution_count": null,
      "outputs": [
        {
          "output_type": "stream",
          "name": "stdout",
          "text": [
            "tf.Tensor([5 7 9], shape=(3,), dtype=int32)\n",
            "\n",
            " tf.Tensor(\n",
            "[[-0.70304227  1.503948   -1.5575938  -1.7628423 ]\n",
            " [-0.18627337 -0.7646644  -0.79268235 -0.14368856]], shape=(2, 4), dtype=float32)\n"
          ]
        }
      ]
    },
    {
      "cell_type": "markdown",
      "source": [
        "## Reshaping"
      ],
      "metadata": {
        "id": "pGyOeOmjTWvc"
      }
    },
    {
      "cell_type": "code",
      "source": [
        "x=tf.range(9)\n",
        "print(f\"\\n\",x)\n",
        "\n",
        "x=tf.reshape(x, (3,3))\n",
        "print(f\"\\n\",x)"
      ],
      "metadata": {
        "colab": {
          "base_uri": "https://localhost:8080/"
        },
        "id": "obqilBhKTYY0",
        "outputId": "93f12d89-225d-4493-c391-4e8b78cabc82"
      },
      "execution_count": null,
      "outputs": [
        {
          "output_type": "stream",
          "name": "stdout",
          "text": [
            "\n",
            " tf.Tensor([0 1 2 3 4 5 6 7 8], shape=(9,), dtype=int32)\n",
            "\n",
            " tf.Tensor(\n",
            "[[0 1 2]\n",
            " [3 4 5]\n",
            " [6 7 8]], shape=(3, 3), dtype=int32)\n"
          ]
        }
      ]
    },
    {
      "cell_type": "markdown",
      "source": [
        "## Neural Network with sequentional and funtional API"
      ],
      "metadata": {
        "id": "Adi7N3A7UDGx"
      }
    },
    {
      "cell_type": "markdown",
      "source": [
        "* keras : Keras is a high-level API for building and training deep learning models, and it is integrated into TensorFlow. It was originally developed as an independent library but has been incorporated into TensorFlow since version 2.0. It provides a high-level, user-friendly API that makes it easy to build and train models with just a few lines of code."
      ],
      "metadata": {
        "id": "WE5GQSv9UEyX"
      }
    },
    {
      "cell_type": "code",
      "source": [
        "import os\n",
        "\n",
        "os.environ[\"TF_CPP_MIN_LOG_LEVEL\"] = \"2\"\n",
        "import tensorflow as tf\n",
        "from tensorflow import keras\n",
        "from tensorflow.keras import layers\n",
        "from tensorflow.keras.datasets import mnist #import dataset"
      ],
      "metadata": {
        "id": "a0hhxf6zUWT0"
      },
      "execution_count": null,
      "outputs": []
    },
    {
      "cell_type": "code",
      "source": [
        "(x_train, y_train), (x_test, y_test) = mnist.load_data()\n",
        "print(x_train.shape)\n",
        "#print(x_train)\n",
        "print(y_train.shape)\n",
        "print(x_test.shape)\n",
        "print(y_test.shape)\n",
        "\n",
        "# we need to flaten them so that we have one column\n",
        "'''\n",
        "-1 indicates keep whatever the value is in the dimention\n",
        "we want data as float\n",
        "these are going to be numpy array cz these are automatically done by tensorflow\n",
        "'''\n",
        "x_train = x_train.reshape(-1, 28 * 28).astype(\"float32\") / 255.0\n",
        "x_test = x_test.reshape(-1, 28 * 28).astype(\"float32\") / 255.0\n",
        "print(f\"after flaten the list is like\\n\", x_train)\n",
        "print(f\"\\nafter flaten the shape is like\\n\", x_train.shape)\n",
        "\n"
      ],
      "metadata": {
        "colab": {
          "base_uri": "https://localhost:8080/"
        },
        "id": "txi2MmtJUbvY",
        "outputId": "ff82c565-4c59-422f-cd70-c49a58496d16"
      },
      "execution_count": null,
      "outputs": [
        {
          "output_type": "stream",
          "name": "stdout",
          "text": [
            "Downloading data from https://storage.googleapis.com/tensorflow/tf-keras-datasets/mnist.npz\n",
            "11490434/11490434 [==============================] - 0s 0us/step\n",
            "(60000, 28, 28)\n",
            "(60000,)\n",
            "(10000, 28, 28)\n",
            "(10000,)\n",
            "after flaten the list is like\n",
            " [[0. 0. 0. ... 0. 0. 0.]\n",
            " [0. 0. 0. ... 0. 0. 0.]\n",
            " [0. 0. 0. ... 0. 0. 0.]\n",
            " ...\n",
            " [0. 0. 0. ... 0. 0. 0.]\n",
            " [0. 0. 0. ... 0. 0. 0.]\n",
            " [0. 0. 0. ... 0. 0. 0.]]\n",
            "\n",
            "after flaten the shape is like\n",
            " (60000, 784)\n"
          ]
        }
      ]
    },
    {
      "cell_type": "code",
      "source": [
        "# Sequential API (Very convenient, not very flexible)\n",
        "\n",
        "model = keras.Sequential(\n",
        "    [\n",
        "        keras.Input(shape=(28 * 28)),\n",
        "        layers.Dense(512, activation=\"relu\"),\n",
        "        layers.Dense(256, activation=\"relu\"),\n",
        "        layers.Dense(10),\n",
        "    ]\n",
        ")"
      ],
      "metadata": {
        "id": "g0RBY5QrZkiL"
      },
      "execution_count": null,
      "outputs": []
    },
    {
      "cell_type": "code",
      "source": [
        "model = keras.Sequential()\n",
        "model.add(keras.Input(shape=(784)))\n",
        "model.add(layers.Dense(512, activation=\"relu\"))\n",
        "model.add(layers.Dense(256, activation=\"relu\", name=\"my_layer\"))\n",
        "model.add(layers.Dense(10))\n"
      ],
      "metadata": {
        "id": "8JmqsHbWW1_a"
      },
      "execution_count": null,
      "outputs": []
    },
    {
      "cell_type": "code",
      "source": [
        "model.compile(\n",
        "    loss=keras.losses.SparseCategoricalCrossentropy(from_logits=False),\n",
        "    optimizer=keras.optimizers.Adam(lr=0.001),\n",
        "    metrics=[\"accuracy\"],)\n",
        "\n",
        "model.fit(x_train, y_train, batch_size=32, epochs=5, verbose=2)\n",
        "model.evaluate(x_test, y_test, batch_size=32, verbose=2)"
      ],
      "metadata": {
        "colab": {
          "base_uri": "https://localhost:8080/"
        },
        "id": "9vL8UW7BbC1-",
        "outputId": "6bfbd0ea-fa83-456c-8db1-db0bed4ad45a"
      },
      "execution_count": null,
      "outputs": [
        {
          "output_type": "stream",
          "name": "stderr",
          "text": [
            "WARNING:absl:`lr` is deprecated in Keras optimizer, please use `learning_rate` or use the legacy optimizer, e.g.,tf.keras.optimizers.legacy.Adam.\n"
          ]
        },
        {
          "output_type": "stream",
          "name": "stdout",
          "text": [
            "Epoch 1/5\n",
            "1875/1875 - 17s - loss: 2.3061 - accuracy: 0.2411 - 17s/epoch - 9ms/step\n",
            "Epoch 2/5\n",
            "1875/1875 - 17s - loss: 2.3025 - accuracy: 0.1946 - 17s/epoch - 9ms/step\n",
            "Epoch 3/5\n",
            "1875/1875 - 16s - loss: 2.3025 - accuracy: 0.1936 - 16s/epoch - 8ms/step\n",
            "Epoch 4/5\n",
            "1875/1875 - 17s - loss: 2.3025 - accuracy: 0.1933 - 17s/epoch - 9ms/step\n",
            "Epoch 5/5\n",
            "1875/1875 - 16s - loss: 2.3025 - accuracy: 0.1927 - 16s/epoch - 9ms/step\n",
            "313/313 - 1s - loss: 2.3026 - accuracy: 0.1887 - 1s/epoch - 3ms/step\n"
          ]
        },
        {
          "output_type": "execute_result",
          "data": {
            "text/plain": [
              "[2.30259108543396, 0.18870000541210175]"
            ]
          },
          "metadata": {},
          "execution_count": 4
        }
      ]
    }
  ],
  "metadata": {
    "kernelspec": {
      "display_name": "Python 3",
      "name": "python3"
    },
    "language_info": {
      "codemirror_mode": {
        "name": "ipython",
        "version": 3
      },
      "file_extension": ".py",
      "mimetype": "text/x-python",
      "name": "python",
      "nbconvert_exporter": "python",
      "pygments_lexer": "ipython3",
      "version": "3.9.7"
    },
    "colab": {
      "provenance": [],
      "gpuType": "T4",
      "toc_visible": true
    },
    "accelerator": "GPU"
  },
  "nbformat": 4,
  "nbformat_minor": 0
}